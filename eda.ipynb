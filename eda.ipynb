{
 "cells": [
  {
   "cell_type": "markdown",
   "metadata": {},
   "source": [
    "# EDA"
   ]
  },
  {
   "cell_type": "code",
   "execution_count": 1,
   "metadata": {},
   "outputs": [],
   "source": [
    "import json\n",
    "\n",
    "import numpy as np\n",
    "import pandas as pd\n",
    "\n",
    "from tqdm.notebook import tqdm\n",
    "from difflib import SequenceMatcher\n",
    "from IPython.display import HTML\n",
    "\n",
    "pd.set_option('display.max_columns', None)\n",
    "\n",
    "codenet_root = 'datasets/codenetpy/'"
   ]
  },
  {
   "cell_type": "code",
   "execution_count": 2,
   "metadata": {},
   "outputs": [
    {
     "data": {
      "text/html": [
       "<div>\n",
       "<style scoped>\n",
       "    .dataframe tbody tr th:only-of-type {\n",
       "        vertical-align: middle;\n",
       "    }\n",
       "\n",
       "    .dataframe tbody tr th {\n",
       "        vertical-align: top;\n",
       "    }\n",
       "\n",
       "    .dataframe thead th {\n",
       "        text-align: right;\n",
       "    }\n",
       "</style>\n",
       "<table border=\"1\" class=\"dataframe\">\n",
       "  <thead>\n",
       "    <tr style=\"text-align: right;\">\n",
       "      <th></th>\n",
       "      <th>original_src</th>\n",
       "      <th>changed_src</th>\n",
       "      <th>problem_id</th>\n",
       "      <th>original_id</th>\n",
       "      <th>changed_id</th>\n",
       "      <th>language</th>\n",
       "      <th>filename_ext</th>\n",
       "      <th>original_status</th>\n",
       "      <th>returncode</th>\n",
       "      <th>error_class</th>\n",
       "      <th>error_class_extra</th>\n",
       "      <th>error</th>\n",
       "      <th>output</th>\n",
       "    </tr>\n",
       "  </thead>\n",
       "  <tbody>\n",
       "    <tr>\n",
       "      <th>0</th>\n",
       "      <td>l=[]\\nwhile True:\\n    try:\\n        l.append(...</td>\n",
       "      <td>l=[]\\nwhile True:\\n    try:\\n        l.append(...</td>\n",
       "      <td>p00001</td>\n",
       "      <td>s196059089</td>\n",
       "      <td>s508355022</td>\n",
       "      <td>Python</td>\n",
       "      <td>py</td>\n",
       "      <td>Runtime Error</td>\n",
       "      <td>1</td>\n",
       "      <td>SyntaxError</td>\n",
       "      <td>SyntaxError: Missing parentheses in call to 'p...</td>\n",
       "      <td>File \"/home/alex/Documents/research/bug-dete...</td>\n",
       "      <td></td>\n",
       "    </tr>\n",
       "    <tr>\n",
       "      <th>1</th>\n",
       "      <td>data = []\\nfor i in range(0,10):\\n    data.app...</td>\n",
       "      <td>data = []\\nfor i in range(0,10):\\n    data.app...</td>\n",
       "      <td>p00001</td>\n",
       "      <td>s840313913</td>\n",
       "      <td>s627573591</td>\n",
       "      <td>Python</td>\n",
       "      <td>py</td>\n",
       "      <td>WA: Presentation Error</td>\n",
       "      <td>0</td>\n",
       "      <td>0</td>\n",
       "      <td></td>\n",
       "      <td></td>\n",
       "      <td>\\n3776\\n2848\\n2840\\n</td>\n",
       "    </tr>\n",
       "    <tr>\n",
       "      <th>2</th>\n",
       "      <td>first = 0;\\nsecond = 0;\\nthird = 0;\\nfor var i...</td>\n",
       "      <td>first = 0;\\nsecond = 0;\\nthird = 0;\\nfor var i...</td>\n",
       "      <td>p00001</td>\n",
       "      <td>s973623080</td>\n",
       "      <td>s521689663</td>\n",
       "      <td>Python</td>\n",
       "      <td>py</td>\n",
       "      <td>Runtime Error</td>\n",
       "      <td>1</td>\n",
       "      <td>TypeError</td>\n",
       "      <td>TypeError: '&gt;' not supported between instances...</td>\n",
       "      <td>Traceback (most recent call last):\\n  File \"/h...</td>\n",
       "      <td></td>\n",
       "    </tr>\n",
       "    <tr>\n",
       "      <th>3</th>\n",
       "      <td>for i in range(10):\\n    s.append(int(input())...</td>\n",
       "      <td>s=[]\\nfor i in range(10):\\n    s.append(int(in...</td>\n",
       "      <td>p00001</td>\n",
       "      <td>s393051088</td>\n",
       "      <td>s459982723</td>\n",
       "      <td>Python</td>\n",
       "      <td>py</td>\n",
       "      <td>Runtime Error</td>\n",
       "      <td>1</td>\n",
       "      <td>NameError</td>\n",
       "      <td>NameError: name 's' is not defined</td>\n",
       "      <td>Traceback (most recent call last):\\n  File \"/h...</td>\n",
       "      <td></td>\n",
       "    </tr>\n",
       "    <tr>\n",
       "      <th>4</th>\n",
       "      <td># -*- coding: utf-8 -*-\\n\\nimport sys\\n\\ndef t...</td>\n",
       "      <td># -*- coding: utf-8 -*-\\n\\nimport sys\\n\\ndef t...</td>\n",
       "      <td>p00001</td>\n",
       "      <td>s803831828</td>\n",
       "      <td>s403126268</td>\n",
       "      <td>Python</td>\n",
       "      <td>py</td>\n",
       "      <td>Runtime Error</td>\n",
       "      <td>1</td>\n",
       "      <td>NameError</td>\n",
       "      <td>NameError: name 'argv' is not defined</td>\n",
       "      <td>Traceback (most recent call last):\\n  File \"/h...</td>\n",
       "      <td></td>\n",
       "    </tr>\n",
       "    <tr>\n",
       "      <th>...</th>\n",
       "      <td>...</td>\n",
       "      <td>...</td>\n",
       "      <td>...</td>\n",
       "      <td>...</td>\n",
       "      <td>...</td>\n",
       "      <td>...</td>\n",
       "      <td>...</td>\n",
       "      <td>...</td>\n",
       "      <td>...</td>\n",
       "      <td>...</td>\n",
       "      <td>...</td>\n",
       "      <td>...</td>\n",
       "      <td>...</td>\n",
       "    </tr>\n",
       "    <tr>\n",
       "      <th>54571</th>\n",
       "      <td>N = int(input())\\nL = list(map(int, input().sp...</td>\n",
       "      <td>N = int(input())\\nL = list(map(int, input().sp...</td>\n",
       "      <td>p04047</td>\n",
       "      <td>s420396881</td>\n",
       "      <td>s036877571</td>\n",
       "      <td>Python</td>\n",
       "      <td>py</td>\n",
       "      <td>Runtime Error</td>\n",
       "      <td>1</td>\n",
       "      <td>IndexError</td>\n",
       "      <td>IndexError: list index out of range</td>\n",
       "      <td>Traceback (most recent call last):\\n  File \"/h...</td>\n",
       "      <td></td>\n",
       "    </tr>\n",
       "    <tr>\n",
       "      <th>54572</th>\n",
       "      <td>\\nnum = int(input())\\nli = int(input().split()...</td>\n",
       "      <td>n = int(input())\\nli = [int(x) for x in input(...</td>\n",
       "      <td>p04047</td>\n",
       "      <td>s838662080</td>\n",
       "      <td>s028090472</td>\n",
       "      <td>Python</td>\n",
       "      <td>py</td>\n",
       "      <td>Runtime Error</td>\n",
       "      <td>1</td>\n",
       "      <td>TypeError</td>\n",
       "      <td>TypeError: int() argument must be a string, a ...</td>\n",
       "      <td>Traceback (most recent call last):\\n  File \"/h...</td>\n",
       "      <td></td>\n",
       "    </tr>\n",
       "    <tr>\n",
       "      <th>54573</th>\n",
       "      <td>from collections import Counter\\n \\nn = int(in...</td>\n",
       "      <td>n = int(input())\\n \\narr = list(map(int, input...</td>\n",
       "      <td>p04047</td>\n",
       "      <td>s112597968</td>\n",
       "      <td>s888016571</td>\n",
       "      <td>Python</td>\n",
       "      <td>py</td>\n",
       "      <td>Runtime Error</td>\n",
       "      <td>1</td>\n",
       "      <td>TypeError</td>\n",
       "      <td>TypeError: unsupported operand type(s) for +=:...</td>\n",
       "      <td>Traceback (most recent call last):\\n  File \"/h...</td>\n",
       "      <td></td>\n",
       "    </tr>\n",
       "    <tr>\n",
       "      <th>54574</th>\n",
       "      <td>N,X = input().split()\\nN,X = int(N), int(X)\\na...</td>\n",
       "      <td>N,X = input().split()\\nN,X = int(N), int(X)\\na...</td>\n",
       "      <td>p04048</td>\n",
       "      <td>s311100241</td>\n",
       "      <td>s323769427</td>\n",
       "      <td>Python</td>\n",
       "      <td>py</td>\n",
       "      <td>Runtime Error</td>\n",
       "      <td>1</td>\n",
       "      <td>TabError</td>\n",
       "      <td>TabError: inconsistent use of tabs and spaces ...</td>\n",
       "      <td>File \"/home/alex/Documents/research/bug-dete...</td>\n",
       "      <td></td>\n",
       "    </tr>\n",
       "    <tr>\n",
       "      <th>54575</th>\n",
       "      <td>import math\\nn, x = map(int, input().split())\\...</td>\n",
       "      <td>import math\\nn, x = map(int, input().split())\\...</td>\n",
       "      <td>p04048</td>\n",
       "      <td>s297220978</td>\n",
       "      <td>s109261748</td>\n",
       "      <td>Python</td>\n",
       "      <td>py</td>\n",
       "      <td>Runtime Error</td>\n",
       "      <td>1</td>\n",
       "      <td>NameError</td>\n",
       "      <td>NameError: name 'gcd' is not defined</td>\n",
       "      <td>Traceback (most recent call last):\\n  File \"/h...</td>\n",
       "      <td></td>\n",
       "    </tr>\n",
       "  </tbody>\n",
       "</table>\n",
       "<p>54576 rows × 13 columns</p>\n",
       "</div>"
      ],
      "text/plain": [
       "                                            original_src  \\\n",
       "0      l=[]\\nwhile True:\\n    try:\\n        l.append(...   \n",
       "1      data = []\\nfor i in range(0,10):\\n    data.app...   \n",
       "2      first = 0;\\nsecond = 0;\\nthird = 0;\\nfor var i...   \n",
       "3      for i in range(10):\\n    s.append(int(input())...   \n",
       "4      # -*- coding: utf-8 -*-\\n\\nimport sys\\n\\ndef t...   \n",
       "...                                                  ...   \n",
       "54571  N = int(input())\\nL = list(map(int, input().sp...   \n",
       "54572  \\nnum = int(input())\\nli = int(input().split()...   \n",
       "54573  from collections import Counter\\n \\nn = int(in...   \n",
       "54574  N,X = input().split()\\nN,X = int(N), int(X)\\na...   \n",
       "54575  import math\\nn, x = map(int, input().split())\\...   \n",
       "\n",
       "                                             changed_src problem_id  \\\n",
       "0      l=[]\\nwhile True:\\n    try:\\n        l.append(...     p00001   \n",
       "1      data = []\\nfor i in range(0,10):\\n    data.app...     p00001   \n",
       "2      first = 0;\\nsecond = 0;\\nthird = 0;\\nfor var i...     p00001   \n",
       "3      s=[]\\nfor i in range(10):\\n    s.append(int(in...     p00001   \n",
       "4      # -*- coding: utf-8 -*-\\n\\nimport sys\\n\\ndef t...     p00001   \n",
       "...                                                  ...        ...   \n",
       "54571  N = int(input())\\nL = list(map(int, input().sp...     p04047   \n",
       "54572  n = int(input())\\nli = [int(x) for x in input(...     p04047   \n",
       "54573  n = int(input())\\n \\narr = list(map(int, input...     p04047   \n",
       "54574  N,X = input().split()\\nN,X = int(N), int(X)\\na...     p04048   \n",
       "54575  import math\\nn, x = map(int, input().split())\\...     p04048   \n",
       "\n",
       "      original_id  changed_id language filename_ext         original_status  \\\n",
       "0      s196059089  s508355022   Python           py           Runtime Error   \n",
       "1      s840313913  s627573591   Python           py  WA: Presentation Error   \n",
       "2      s973623080  s521689663   Python           py           Runtime Error   \n",
       "3      s393051088  s459982723   Python           py           Runtime Error   \n",
       "4      s803831828  s403126268   Python           py           Runtime Error   \n",
       "...           ...         ...      ...          ...                     ...   \n",
       "54571  s420396881  s036877571   Python           py           Runtime Error   \n",
       "54572  s838662080  s028090472   Python           py           Runtime Error   \n",
       "54573  s112597968  s888016571   Python           py           Runtime Error   \n",
       "54574  s311100241  s323769427   Python           py           Runtime Error   \n",
       "54575  s297220978  s109261748   Python           py           Runtime Error   \n",
       "\n",
       "       returncode  error_class  \\\n",
       "0               1  SyntaxError   \n",
       "1               0            0   \n",
       "2               1    TypeError   \n",
       "3               1    NameError   \n",
       "4               1    NameError   \n",
       "...           ...          ...   \n",
       "54571           1   IndexError   \n",
       "54572           1    TypeError   \n",
       "54573           1    TypeError   \n",
       "54574           1     TabError   \n",
       "54575           1    NameError   \n",
       "\n",
       "                                       error_class_extra  \\\n",
       "0      SyntaxError: Missing parentheses in call to 'p...   \n",
       "1                                                          \n",
       "2      TypeError: '>' not supported between instances...   \n",
       "3                     NameError: name 's' is not defined   \n",
       "4                  NameError: name 'argv' is not defined   \n",
       "...                                                  ...   \n",
       "54571                IndexError: list index out of range   \n",
       "54572  TypeError: int() argument must be a string, a ...   \n",
       "54573  TypeError: unsupported operand type(s) for +=:...   \n",
       "54574  TabError: inconsistent use of tabs and spaces ...   \n",
       "54575               NameError: name 'gcd' is not defined   \n",
       "\n",
       "                                                   error                output  \n",
       "0        File \"/home/alex/Documents/research/bug-dete...                        \n",
       "1                                                         \\n3776\\n2848\\n2840\\n  \n",
       "2      Traceback (most recent call last):\\n  File \"/h...                        \n",
       "3      Traceback (most recent call last):\\n  File \"/h...                        \n",
       "4      Traceback (most recent call last):\\n  File \"/h...                        \n",
       "...                                                  ...                   ...  \n",
       "54571  Traceback (most recent call last):\\n  File \"/h...                        \n",
       "54572  Traceback (most recent call last):\\n  File \"/h...                        \n",
       "54573  Traceback (most recent call last):\\n  File \"/h...                        \n",
       "54574    File \"/home/alex/Documents/research/bug-dete...                        \n",
       "54575  Traceback (most recent call last):\\n  File \"/h...                        \n",
       "\n",
       "[54576 rows x 13 columns]"
      ]
     },
     "metadata": {},
     "output_type": "display_data"
    },
    {
     "name": "stdout",
     "output_type": "stream",
     "text": [
      "<class 'pandas.core.frame.DataFrame'>\n",
      "RangeIndex: 54576 entries, 0 to 54575\n",
      "Data columns (total 13 columns):\n",
      " #   Column             Non-Null Count  Dtype \n",
      "---  ------             --------------  ----- \n",
      " 0   original_src       54576 non-null  object\n",
      " 1   changed_src        54576 non-null  object\n",
      " 2   problem_id         54576 non-null  object\n",
      " 3   original_id        54576 non-null  object\n",
      " 4   changed_id         54576 non-null  object\n",
      " 5   language           54576 non-null  object\n",
      " 6   filename_ext       54576 non-null  object\n",
      " 7   original_status    54576 non-null  object\n",
      " 8   returncode         54576 non-null  int64 \n",
      " 9   error_class        54576 non-null  object\n",
      " 10  error_class_extra  54576 non-null  object\n",
      " 11  error              54576 non-null  object\n",
      " 12  output             54576 non-null  object\n",
      "dtypes: int64(1), object(12)\n",
      "memory usage: 5.4+ MB\n"
     ]
    },
    {
     "data": {
      "text/plain": [
       "None"
      ]
     },
     "metadata": {},
     "output_type": "display_data"
    }
   ],
   "source": [
    "with open(codenet_root + 'codenetpy_train.json', 'r') as f:\n",
    "    data = json.load(f)[\"data\"]\n",
    "    \n",
    "with open(codenet_root + 'codenetpy_test.json', 'r') as f:\n",
    "    test_data = json.load(f)[\"data\"]\n",
    "    \n",
    "\n",
    "train_df = pd.DataFrame(data)\n",
    "test_df = pd.DataFrame(test_data)\n",
    "\n",
    "codenetpy_df = pd.DataFrame(data + test_data)\n",
    "\n",
    "display(codenetpy_df)\n",
    "display(codenetpy_df.info())"
   ]
  },
  {
   "cell_type": "code",
   "execution_count": 3,
   "metadata": {},
   "outputs": [
    {
     "data": {
      "text/html": [
       "<div>\n",
       "<style scoped>\n",
       "    .dataframe tbody tr th:only-of-type {\n",
       "        vertical-align: middle;\n",
       "    }\n",
       "\n",
       "    .dataframe tbody tr th {\n",
       "        vertical-align: top;\n",
       "    }\n",
       "\n",
       "    .dataframe thead th {\n",
       "        text-align: right;\n",
       "    }\n",
       "</style>\n",
       "<table border=\"1\" class=\"dataframe\">\n",
       "  <thead>\n",
       "    <tr style=\"text-align: right;\">\n",
       "      <th></th>\n",
       "      <th>original_src</th>\n",
       "      <th>changed_src</th>\n",
       "      <th>problem_id</th>\n",
       "      <th>original_id</th>\n",
       "      <th>changed_id</th>\n",
       "      <th>language</th>\n",
       "      <th>filename_ext</th>\n",
       "      <th>original_status</th>\n",
       "      <th>returncode</th>\n",
       "      <th>error_class</th>\n",
       "      <th>error_class_extra</th>\n",
       "      <th>error</th>\n",
       "      <th>output</th>\n",
       "    </tr>\n",
       "  </thead>\n",
       "  <tbody>\n",
       "    <tr>\n",
       "      <th>0</th>\n",
       "      <td>l=[]\\nwhile True:\\n    try:\\n        l.append(...</td>\n",
       "      <td>l=[]\\nwhile True:\\n    try:\\n        l.append(...</td>\n",
       "      <td>p00001</td>\n",
       "      <td>s196059089</td>\n",
       "      <td>s508355022</td>\n",
       "      <td>Python</td>\n",
       "      <td>py</td>\n",
       "      <td>Runtime Error</td>\n",
       "      <td>1</td>\n",
       "      <td>SyntaxError</td>\n",
       "      <td>SyntaxError: Missing parentheses in call to 'p...</td>\n",
       "      <td>File \"/home/alex/Documents/research/bug-dete...</td>\n",
       "      <td></td>\n",
       "    </tr>\n",
       "    <tr>\n",
       "      <th>1</th>\n",
       "      <td>data = []\\nfor i in range(0,10):\\n    data.app...</td>\n",
       "      <td>data = []\\nfor i in range(0,10):\\n    data.app...</td>\n",
       "      <td>p00001</td>\n",
       "      <td>s840313913</td>\n",
       "      <td>s627573591</td>\n",
       "      <td>Python</td>\n",
       "      <td>py</td>\n",
       "      <td>WA: Presentation Error</td>\n",
       "      <td>0</td>\n",
       "      <td>0</td>\n",
       "      <td></td>\n",
       "      <td></td>\n",
       "      <td>\\n3776\\n2848\\n2840\\n</td>\n",
       "    </tr>\n",
       "    <tr>\n",
       "      <th>2</th>\n",
       "      <td>first = 0;\\nsecond = 0;\\nthird = 0;\\nfor var i...</td>\n",
       "      <td>first = 0;\\nsecond = 0;\\nthird = 0;\\nfor var i...</td>\n",
       "      <td>p00001</td>\n",
       "      <td>s973623080</td>\n",
       "      <td>s521689663</td>\n",
       "      <td>Python</td>\n",
       "      <td>py</td>\n",
       "      <td>Runtime Error</td>\n",
       "      <td>1</td>\n",
       "      <td>TypeError</td>\n",
       "      <td>TypeError: '&gt;' not supported between instances...</td>\n",
       "      <td>Traceback (most recent call last):\\n  File \"/h...</td>\n",
       "      <td></td>\n",
       "    </tr>\n",
       "    <tr>\n",
       "      <th>3</th>\n",
       "      <td>for i in range(10):\\n    s.append(int(input())...</td>\n",
       "      <td>s=[]\\nfor i in range(10):\\n    s.append(int(in...</td>\n",
       "      <td>p00001</td>\n",
       "      <td>s393051088</td>\n",
       "      <td>s459982723</td>\n",
       "      <td>Python</td>\n",
       "      <td>py</td>\n",
       "      <td>Runtime Error</td>\n",
       "      <td>1</td>\n",
       "      <td>NameError</td>\n",
       "      <td>NameError: name 's' is not defined</td>\n",
       "      <td>Traceback (most recent call last):\\n  File \"/h...</td>\n",
       "      <td></td>\n",
       "    </tr>\n",
       "    <tr>\n",
       "      <th>4</th>\n",
       "      <td># -*- coding: utf-8 -*-\\n\\nimport sys\\n\\ndef t...</td>\n",
       "      <td># -*- coding: utf-8 -*-\\n\\nimport sys\\n\\ndef t...</td>\n",
       "      <td>p00001</td>\n",
       "      <td>s803831828</td>\n",
       "      <td>s403126268</td>\n",
       "      <td>Python</td>\n",
       "      <td>py</td>\n",
       "      <td>Runtime Error</td>\n",
       "      <td>1</td>\n",
       "      <td>NameError</td>\n",
       "      <td>NameError: name 'argv' is not defined</td>\n",
       "      <td>Traceback (most recent call last):\\n  File \"/h...</td>\n",
       "      <td></td>\n",
       "    </tr>\n",
       "    <tr>\n",
       "      <th>...</th>\n",
       "      <td>...</td>\n",
       "      <td>...</td>\n",
       "      <td>...</td>\n",
       "      <td>...</td>\n",
       "      <td>...</td>\n",
       "      <td>...</td>\n",
       "      <td>...</td>\n",
       "      <td>...</td>\n",
       "      <td>...</td>\n",
       "      <td>...</td>\n",
       "      <td>...</td>\n",
       "      <td>...</td>\n",
       "      <td>...</td>\n",
       "    </tr>\n",
       "    <tr>\n",
       "      <th>43660</th>\n",
       "      <td>N,K=map(int, input().split())\\nA=list(map(int,...</td>\n",
       "      <td>N,K=map(int, input().split())\\nA=list(map(int,...</td>\n",
       "      <td>p02774</td>\n",
       "      <td>s732996182</td>\n",
       "      <td>s476631654</td>\n",
       "      <td>Python</td>\n",
       "      <td>py</td>\n",
       "      <td>Time Limit Exceeded</td>\n",
       "      <td>0</td>\n",
       "      <td>0</td>\n",
       "      <td></td>\n",
       "      <td></td>\n",
       "      <td>-6\\n</td>\n",
       "    </tr>\n",
       "    <tr>\n",
       "      <th>43661</th>\n",
       "      <td>def bis(K, A, B, t):\\n    # K 番目に小さい &lt;=&gt; x 未満の...</td>\n",
       "      <td>def numba_compile(numba_config):\\n    import o...</td>\n",
       "      <td>p02774</td>\n",
       "      <td>s392891130</td>\n",
       "      <td>s550555341</td>\n",
       "      <td>Python</td>\n",
       "      <td>py</td>\n",
       "      <td>Time Limit Exceeded</td>\n",
       "      <td>0</td>\n",
       "      <td>0</td>\n",
       "      <td></td>\n",
       "      <td></td>\n",
       "      <td>-6\\n</td>\n",
       "    </tr>\n",
       "    <tr>\n",
       "      <th>43662</th>\n",
       "      <td>from numpy import *\\nN,K = map(int,input().spl...</td>\n",
       "      <td>from numpy import *\\nN,K = map(int,input().spl...</td>\n",
       "      <td>p02774</td>\n",
       "      <td>s720148043</td>\n",
       "      <td>s464552681</td>\n",
       "      <td>Python</td>\n",
       "      <td>py</td>\n",
       "      <td>Runtime Error</td>\n",
       "      <td>0</td>\n",
       "      <td>0</td>\n",
       "      <td></td>\n",
       "      <td></td>\n",
       "      <td>-6\\n</td>\n",
       "    </tr>\n",
       "    <tr>\n",
       "      <th>43663</th>\n",
       "      <td>import numpy as np\\nfrom numba import njit\\n\\n...</td>\n",
       "      <td>import numpy as np\\nfrom numba import njit\\n\\n...</td>\n",
       "      <td>p02774</td>\n",
       "      <td>s212037880</td>\n",
       "      <td>s384189994</td>\n",
       "      <td>Python</td>\n",
       "      <td>py</td>\n",
       "      <td>Runtime Error</td>\n",
       "      <td>1</td>\n",
       "      <td>ModuleNotFoundError</td>\n",
       "      <td>ModuleNotFoundError: No module named 'numba'</td>\n",
       "      <td>Traceback (most recent call last):\\n  File \"/h...</td>\n",
       "      <td></td>\n",
       "    </tr>\n",
       "    <tr>\n",
       "      <th>43664</th>\n",
       "      <td>import sys\\nimport numpy as np\\n\\n\\n\\ndef main...</td>\n",
       "      <td>import sys\\nimport numpy as np\\n\\n\\n\\ndef main...</td>\n",
       "      <td>p02775</td>\n",
       "      <td>s603747383</td>\n",
       "      <td>s920924967</td>\n",
       "      <td>Python</td>\n",
       "      <td>py</td>\n",
       "      <td>Runtime Error</td>\n",
       "      <td>1</td>\n",
       "      <td>ModuleNotFoundError</td>\n",
       "      <td>ModuleNotFoundError: No module named 'my_module'</td>\n",
       "      <td>Traceback (most recent call last):\\n  File \"/h...</td>\n",
       "      <td></td>\n",
       "    </tr>\n",
       "  </tbody>\n",
       "</table>\n",
       "<p>43665 rows × 13 columns</p>\n",
       "</div>"
      ],
      "text/plain": [
       "                                            original_src  \\\n",
       "0      l=[]\\nwhile True:\\n    try:\\n        l.append(...   \n",
       "1      data = []\\nfor i in range(0,10):\\n    data.app...   \n",
       "2      first = 0;\\nsecond = 0;\\nthird = 0;\\nfor var i...   \n",
       "3      for i in range(10):\\n    s.append(int(input())...   \n",
       "4      # -*- coding: utf-8 -*-\\n\\nimport sys\\n\\ndef t...   \n",
       "...                                                  ...   \n",
       "43660  N,K=map(int, input().split())\\nA=list(map(int,...   \n",
       "43661  def bis(K, A, B, t):\\n    # K 番目に小さい <=> x 未満の...   \n",
       "43662  from numpy import *\\nN,K = map(int,input().spl...   \n",
       "43663  import numpy as np\\nfrom numba import njit\\n\\n...   \n",
       "43664  import sys\\nimport numpy as np\\n\\n\\n\\ndef main...   \n",
       "\n",
       "                                             changed_src problem_id  \\\n",
       "0      l=[]\\nwhile True:\\n    try:\\n        l.append(...     p00001   \n",
       "1      data = []\\nfor i in range(0,10):\\n    data.app...     p00001   \n",
       "2      first = 0;\\nsecond = 0;\\nthird = 0;\\nfor var i...     p00001   \n",
       "3      s=[]\\nfor i in range(10):\\n    s.append(int(in...     p00001   \n",
       "4      # -*- coding: utf-8 -*-\\n\\nimport sys\\n\\ndef t...     p00001   \n",
       "...                                                  ...        ...   \n",
       "43660  N,K=map(int, input().split())\\nA=list(map(int,...     p02774   \n",
       "43661  def numba_compile(numba_config):\\n    import o...     p02774   \n",
       "43662  from numpy import *\\nN,K = map(int,input().spl...     p02774   \n",
       "43663  import numpy as np\\nfrom numba import njit\\n\\n...     p02774   \n",
       "43664  import sys\\nimport numpy as np\\n\\n\\n\\ndef main...     p02775   \n",
       "\n",
       "      original_id  changed_id language filename_ext         original_status  \\\n",
       "0      s196059089  s508355022   Python           py           Runtime Error   \n",
       "1      s840313913  s627573591   Python           py  WA: Presentation Error   \n",
       "2      s973623080  s521689663   Python           py           Runtime Error   \n",
       "3      s393051088  s459982723   Python           py           Runtime Error   \n",
       "4      s803831828  s403126268   Python           py           Runtime Error   \n",
       "...           ...         ...      ...          ...                     ...   \n",
       "43660  s732996182  s476631654   Python           py     Time Limit Exceeded   \n",
       "43661  s392891130  s550555341   Python           py     Time Limit Exceeded   \n",
       "43662  s720148043  s464552681   Python           py           Runtime Error   \n",
       "43663  s212037880  s384189994   Python           py           Runtime Error   \n",
       "43664  s603747383  s920924967   Python           py           Runtime Error   \n",
       "\n",
       "       returncode          error_class  \\\n",
       "0               1          SyntaxError   \n",
       "1               0                    0   \n",
       "2               1            TypeError   \n",
       "3               1            NameError   \n",
       "4               1            NameError   \n",
       "...           ...                  ...   \n",
       "43660           0                    0   \n",
       "43661           0                    0   \n",
       "43662           0                    0   \n",
       "43663           1  ModuleNotFoundError   \n",
       "43664           1  ModuleNotFoundError   \n",
       "\n",
       "                                       error_class_extra  \\\n",
       "0      SyntaxError: Missing parentheses in call to 'p...   \n",
       "1                                                          \n",
       "2      TypeError: '>' not supported between instances...   \n",
       "3                     NameError: name 's' is not defined   \n",
       "4                  NameError: name 'argv' is not defined   \n",
       "...                                                  ...   \n",
       "43660                                                      \n",
       "43661                                                      \n",
       "43662                                                      \n",
       "43663       ModuleNotFoundError: No module named 'numba'   \n",
       "43664   ModuleNotFoundError: No module named 'my_module'   \n",
       "\n",
       "                                                   error                output  \n",
       "0        File \"/home/alex/Documents/research/bug-dete...                        \n",
       "1                                                         \\n3776\\n2848\\n2840\\n  \n",
       "2      Traceback (most recent call last):\\n  File \"/h...                        \n",
       "3      Traceback (most recent call last):\\n  File \"/h...                        \n",
       "4      Traceback (most recent call last):\\n  File \"/h...                        \n",
       "...                                                  ...                   ...  \n",
       "43660                                                                     -6\\n  \n",
       "43661                                                                     -6\\n  \n",
       "43662                                                                     -6\\n  \n",
       "43663  Traceback (most recent call last):\\n  File \"/h...                        \n",
       "43664  Traceback (most recent call last):\\n  File \"/h...                        \n",
       "\n",
       "[43665 rows x 13 columns]"
      ]
     },
     "execution_count": 3,
     "metadata": {},
     "output_type": "execute_result"
    }
   ],
   "source": [
    "train_df"
   ]
  },
  {
   "cell_type": "code",
   "execution_count": 4,
   "metadata": {},
   "outputs": [
    {
     "data": {
      "text/html": [
       "<div>\n",
       "<style scoped>\n",
       "    .dataframe tbody tr th:only-of-type {\n",
       "        vertical-align: middle;\n",
       "    }\n",
       "\n",
       "    .dataframe tbody tr th {\n",
       "        vertical-align: top;\n",
       "    }\n",
       "\n",
       "    .dataframe thead th {\n",
       "        text-align: right;\n",
       "    }\n",
       "</style>\n",
       "<table border=\"1\" class=\"dataframe\">\n",
       "  <thead>\n",
       "    <tr style=\"text-align: right;\">\n",
       "      <th></th>\n",
       "      <th>original_src</th>\n",
       "      <th>changed_src</th>\n",
       "      <th>problem_id</th>\n",
       "      <th>original_id</th>\n",
       "      <th>changed_id</th>\n",
       "      <th>language</th>\n",
       "      <th>filename_ext</th>\n",
       "      <th>original_status</th>\n",
       "      <th>returncode</th>\n",
       "      <th>error_class</th>\n",
       "      <th>error_class_extra</th>\n",
       "      <th>error</th>\n",
       "      <th>output</th>\n",
       "    </tr>\n",
       "  </thead>\n",
       "  <tbody>\n",
       "    <tr>\n",
       "      <th>0</th>\n",
       "      <td>n = input()[::-1]\\ndp = [[0, 0] for i in range...</td>\n",
       "      <td>n = input()[::-1]\\ndp = [[0, 0] for i in range...</td>\n",
       "      <td>p02775</td>\n",
       "      <td>s756042102</td>\n",
       "      <td>s504568034</td>\n",
       "      <td>Python</td>\n",
       "      <td>py</td>\n",
       "      <td>Runtime Error</td>\n",
       "      <td>0</td>\n",
       "      <td>0</td>\n",
       "      <td></td>\n",
       "      <td></td>\n",
       "      <td>8\\n</td>\n",
       "    </tr>\n",
       "    <tr>\n",
       "      <th>1</th>\n",
       "      <td>s,t=input().split()\\na,b=map(int,input().split...</td>\n",
       "      <td>s,t=input().split()\\na,b=map(int,input().split...</td>\n",
       "      <td>p02777</td>\n",
       "      <td>s656012100</td>\n",
       "      <td>s321794177</td>\n",
       "      <td>Python</td>\n",
       "      <td>py</td>\n",
       "      <td>Runtime Error</td>\n",
       "      <td>1</td>\n",
       "      <td>SyntaxError</td>\n",
       "      <td>SyntaxError: invalid syntax</td>\n",
       "      <td>File \"/home/alex/Documents/research/bug-dete...</td>\n",
       "      <td></td>\n",
       "    </tr>\n",
       "    <tr>\n",
       "      <th>2</th>\n",
       "      <td>S,T = input().split()\\nA,B = int(input().split...</td>\n",
       "      <td>S,T = input().split()\\nA,B = map(int,input().s...</td>\n",
       "      <td>p02777</td>\n",
       "      <td>s221552735</td>\n",
       "      <td>s406950594</td>\n",
       "      <td>Python</td>\n",
       "      <td>py</td>\n",
       "      <td>Runtime Error</td>\n",
       "      <td>1</td>\n",
       "      <td>TypeError</td>\n",
       "      <td>TypeError: int() argument must be a string, a ...</td>\n",
       "      <td>Traceback (most recent call last):\\n  File \"/h...</td>\n",
       "      <td></td>\n",
       "    </tr>\n",
       "    <tr>\n",
       "      <th>3</th>\n",
       "      <td>S,T=map(input().split())\\nA,B=map(int,input()....</td>\n",
       "      <td>S,T=map(str,input().split())\\nA,B=map(int,inpu...</td>\n",
       "      <td>p02777</td>\n",
       "      <td>s852594157</td>\n",
       "      <td>s086339148</td>\n",
       "      <td>Python</td>\n",
       "      <td>py</td>\n",
       "      <td>Runtime Error</td>\n",
       "      <td>1</td>\n",
       "      <td>TypeError</td>\n",
       "      <td>TypeError: map() must have at least two argume...</td>\n",
       "      <td>Traceback (most recent call last):\\n  File \"/h...</td>\n",
       "      <td></td>\n",
       "    </tr>\n",
       "    <tr>\n",
       "      <th>4</th>\n",
       "      <td>S, T = input().split()\\nA, B = input().split()...</td>\n",
       "      <td>S, T = input().split()\\nA, B = map(int, input(...</td>\n",
       "      <td>p02777</td>\n",
       "      <td>s104441064</td>\n",
       "      <td>s821249435</td>\n",
       "      <td>Python</td>\n",
       "      <td>py</td>\n",
       "      <td>Runtime Error</td>\n",
       "      <td>1</td>\n",
       "      <td>TypeError</td>\n",
       "      <td>TypeError: unsupported operand type(s) for -: ...</td>\n",
       "      <td>Traceback (most recent call last):\\n  File \"/h...</td>\n",
       "      <td></td>\n",
       "    </tr>\n",
       "    <tr>\n",
       "      <th>...</th>\n",
       "      <td>...</td>\n",
       "      <td>...</td>\n",
       "      <td>...</td>\n",
       "      <td>...</td>\n",
       "      <td>...</td>\n",
       "      <td>...</td>\n",
       "      <td>...</td>\n",
       "      <td>...</td>\n",
       "      <td>...</td>\n",
       "      <td>...</td>\n",
       "      <td>...</td>\n",
       "      <td>...</td>\n",
       "      <td>...</td>\n",
       "    </tr>\n",
       "    <tr>\n",
       "      <th>10906</th>\n",
       "      <td>N = int(input())\\nL = list(map(int, input().sp...</td>\n",
       "      <td>N = int(input())\\nL = list(map(int, input().sp...</td>\n",
       "      <td>p04047</td>\n",
       "      <td>s420396881</td>\n",
       "      <td>s036877571</td>\n",
       "      <td>Python</td>\n",
       "      <td>py</td>\n",
       "      <td>Runtime Error</td>\n",
       "      <td>1</td>\n",
       "      <td>IndexError</td>\n",
       "      <td>IndexError: list index out of range</td>\n",
       "      <td>Traceback (most recent call last):\\n  File \"/h...</td>\n",
       "      <td></td>\n",
       "    </tr>\n",
       "    <tr>\n",
       "      <th>10907</th>\n",
       "      <td>\\nnum = int(input())\\nli = int(input().split()...</td>\n",
       "      <td>n = int(input())\\nli = [int(x) for x in input(...</td>\n",
       "      <td>p04047</td>\n",
       "      <td>s838662080</td>\n",
       "      <td>s028090472</td>\n",
       "      <td>Python</td>\n",
       "      <td>py</td>\n",
       "      <td>Runtime Error</td>\n",
       "      <td>1</td>\n",
       "      <td>TypeError</td>\n",
       "      <td>TypeError: int() argument must be a string, a ...</td>\n",
       "      <td>Traceback (most recent call last):\\n  File \"/h...</td>\n",
       "      <td></td>\n",
       "    </tr>\n",
       "    <tr>\n",
       "      <th>10908</th>\n",
       "      <td>from collections import Counter\\n \\nn = int(in...</td>\n",
       "      <td>n = int(input())\\n \\narr = list(map(int, input...</td>\n",
       "      <td>p04047</td>\n",
       "      <td>s112597968</td>\n",
       "      <td>s888016571</td>\n",
       "      <td>Python</td>\n",
       "      <td>py</td>\n",
       "      <td>Runtime Error</td>\n",
       "      <td>1</td>\n",
       "      <td>TypeError</td>\n",
       "      <td>TypeError: unsupported operand type(s) for +=:...</td>\n",
       "      <td>Traceback (most recent call last):\\n  File \"/h...</td>\n",
       "      <td></td>\n",
       "    </tr>\n",
       "    <tr>\n",
       "      <th>10909</th>\n",
       "      <td>N,X = input().split()\\nN,X = int(N), int(X)\\na...</td>\n",
       "      <td>N,X = input().split()\\nN,X = int(N), int(X)\\na...</td>\n",
       "      <td>p04048</td>\n",
       "      <td>s311100241</td>\n",
       "      <td>s323769427</td>\n",
       "      <td>Python</td>\n",
       "      <td>py</td>\n",
       "      <td>Runtime Error</td>\n",
       "      <td>1</td>\n",
       "      <td>TabError</td>\n",
       "      <td>TabError: inconsistent use of tabs and spaces ...</td>\n",
       "      <td>File \"/home/alex/Documents/research/bug-dete...</td>\n",
       "      <td></td>\n",
       "    </tr>\n",
       "    <tr>\n",
       "      <th>10910</th>\n",
       "      <td>import math\\nn, x = map(int, input().split())\\...</td>\n",
       "      <td>import math\\nn, x = map(int, input().split())\\...</td>\n",
       "      <td>p04048</td>\n",
       "      <td>s297220978</td>\n",
       "      <td>s109261748</td>\n",
       "      <td>Python</td>\n",
       "      <td>py</td>\n",
       "      <td>Runtime Error</td>\n",
       "      <td>1</td>\n",
       "      <td>NameError</td>\n",
       "      <td>NameError: name 'gcd' is not defined</td>\n",
       "      <td>Traceback (most recent call last):\\n  File \"/h...</td>\n",
       "      <td></td>\n",
       "    </tr>\n",
       "  </tbody>\n",
       "</table>\n",
       "<p>10911 rows × 13 columns</p>\n",
       "</div>"
      ],
      "text/plain": [
       "                                            original_src  \\\n",
       "0      n = input()[::-1]\\ndp = [[0, 0] for i in range...   \n",
       "1      s,t=input().split()\\na,b=map(int,input().split...   \n",
       "2      S,T = input().split()\\nA,B = int(input().split...   \n",
       "3      S,T=map(input().split())\\nA,B=map(int,input()....   \n",
       "4      S, T = input().split()\\nA, B = input().split()...   \n",
       "...                                                  ...   \n",
       "10906  N = int(input())\\nL = list(map(int, input().sp...   \n",
       "10907  \\nnum = int(input())\\nli = int(input().split()...   \n",
       "10908  from collections import Counter\\n \\nn = int(in...   \n",
       "10909  N,X = input().split()\\nN,X = int(N), int(X)\\na...   \n",
       "10910  import math\\nn, x = map(int, input().split())\\...   \n",
       "\n",
       "                                             changed_src problem_id  \\\n",
       "0      n = input()[::-1]\\ndp = [[0, 0] for i in range...     p02775   \n",
       "1      s,t=input().split()\\na,b=map(int,input().split...     p02777   \n",
       "2      S,T = input().split()\\nA,B = map(int,input().s...     p02777   \n",
       "3      S,T=map(str,input().split())\\nA,B=map(int,inpu...     p02777   \n",
       "4      S, T = input().split()\\nA, B = map(int, input(...     p02777   \n",
       "...                                                  ...        ...   \n",
       "10906  N = int(input())\\nL = list(map(int, input().sp...     p04047   \n",
       "10907  n = int(input())\\nli = [int(x) for x in input(...     p04047   \n",
       "10908  n = int(input())\\n \\narr = list(map(int, input...     p04047   \n",
       "10909  N,X = input().split()\\nN,X = int(N), int(X)\\na...     p04048   \n",
       "10910  import math\\nn, x = map(int, input().split())\\...     p04048   \n",
       "\n",
       "      original_id  changed_id language filename_ext original_status  \\\n",
       "0      s756042102  s504568034   Python           py   Runtime Error   \n",
       "1      s656012100  s321794177   Python           py   Runtime Error   \n",
       "2      s221552735  s406950594   Python           py   Runtime Error   \n",
       "3      s852594157  s086339148   Python           py   Runtime Error   \n",
       "4      s104441064  s821249435   Python           py   Runtime Error   \n",
       "...           ...         ...      ...          ...             ...   \n",
       "10906  s420396881  s036877571   Python           py   Runtime Error   \n",
       "10907  s838662080  s028090472   Python           py   Runtime Error   \n",
       "10908  s112597968  s888016571   Python           py   Runtime Error   \n",
       "10909  s311100241  s323769427   Python           py   Runtime Error   \n",
       "10910  s297220978  s109261748   Python           py   Runtime Error   \n",
       "\n",
       "       returncode  error_class  \\\n",
       "0               0            0   \n",
       "1               1  SyntaxError   \n",
       "2               1    TypeError   \n",
       "3               1    TypeError   \n",
       "4               1    TypeError   \n",
       "...           ...          ...   \n",
       "10906           1   IndexError   \n",
       "10907           1    TypeError   \n",
       "10908           1    TypeError   \n",
       "10909           1     TabError   \n",
       "10910           1    NameError   \n",
       "\n",
       "                                       error_class_extra  \\\n",
       "0                                                          \n",
       "1                            SyntaxError: invalid syntax   \n",
       "2      TypeError: int() argument must be a string, a ...   \n",
       "3      TypeError: map() must have at least two argume...   \n",
       "4      TypeError: unsupported operand type(s) for -: ...   \n",
       "...                                                  ...   \n",
       "10906                IndexError: list index out of range   \n",
       "10907  TypeError: int() argument must be a string, a ...   \n",
       "10908  TypeError: unsupported operand type(s) for +=:...   \n",
       "10909  TabError: inconsistent use of tabs and spaces ...   \n",
       "10910               NameError: name 'gcd' is not defined   \n",
       "\n",
       "                                                   error output  \n",
       "0                                                           8\\n  \n",
       "1        File \"/home/alex/Documents/research/bug-dete...         \n",
       "2      Traceback (most recent call last):\\n  File \"/h...         \n",
       "3      Traceback (most recent call last):\\n  File \"/h...         \n",
       "4      Traceback (most recent call last):\\n  File \"/h...         \n",
       "...                                                  ...    ...  \n",
       "10906  Traceback (most recent call last):\\n  File \"/h...         \n",
       "10907  Traceback (most recent call last):\\n  File \"/h...         \n",
       "10908  Traceback (most recent call last):\\n  File \"/h...         \n",
       "10909    File \"/home/alex/Documents/research/bug-dete...         \n",
       "10910  Traceback (most recent call last):\\n  File \"/h...         \n",
       "\n",
       "[10911 rows x 13 columns]"
      ]
     },
     "execution_count": 4,
     "metadata": {},
     "output_type": "execute_result"
    }
   ],
   "source": [
    "test_df"
   ]
  },
  {
   "cell_type": "code",
   "execution_count": 5,
   "metadata": {},
   "outputs": [
    {
     "data": {
      "text/plain": [
       "0                            28406\n",
       "SyntaxError                   8678\n",
       "NameError                     5262\n",
       "TypeError                     4200\n",
       "ValueError                    2444\n",
       "IndentationError              1079\n",
       "IndexError                     999\n",
       "AttributeError                 913\n",
       "EOFError                       851\n",
       "TLEError                       525\n",
       "ModuleNotFoundError            355\n",
       "TabError                       265\n",
       "ImportError                    131\n",
       "ZeroDivisionError               79\n",
       "KeyError                        66\n",
       "SyntaxWarning                   62\n",
       "FileNotFoundError               62\n",
       "UnboundLocalError               61\n",
       "1                               58\n",
       "DeprecationWarning              35\n",
       "RecursionError                  13\n",
       "OverflowError                   12\n",
       "RuntimeError                     6\n",
       "-11                              5\n",
       "2                                3\n",
       "OSError                          3\n",
       "SparseEfficiencyWarning          1\n",
       "255                              1\n",
       "VisibleDeprecationWarning        1\n",
       "Name: error_class, dtype: int64"
      ]
     },
     "execution_count": 5,
     "metadata": {},
     "output_type": "execute_result"
    }
   ],
   "source": [
    "codenetpy_df['error_class'].value_counts()"
   ]
  },
  {
   "cell_type": "code",
   "execution_count": 6,
   "metadata": {},
   "outputs": [
    {
     "data": {
      "text/plain": [
       " 0      28455\n",
       " 1      25587\n",
       "-9        525\n",
       "-11         5\n",
       " 2          3\n",
       " 255        1\n",
       "Name: returncode, dtype: int64"
      ]
     },
     "execution_count": 6,
     "metadata": {},
     "output_type": "execute_result"
    }
   ],
   "source": [
    "codenetpy_df['returncode'].value_counts()"
   ]
  },
  {
   "cell_type": "code",
   "execution_count": 7,
   "metadata": {},
   "outputs": [
    {
     "data": {
      "text/plain": [
       "DeprecationWarning         30\n",
       "SyntaxWarning              18\n",
       "SparseEfficiencyWarning     1\n",
       "Name: error_class, dtype: int64"
      ]
     },
     "execution_count": 7,
     "metadata": {},
     "output_type": "execute_result"
    }
   ],
   "source": [
    "# There are cases where the return code is 0 but the error_class is a Warning\n",
    "\n",
    "codenetpy_df[(codenetpy_df['returncode'] == 0) & (codenetpy_df['error_class'] != '0')]['error_class'].value_counts()"
   ]
  },
  {
   "cell_type": "code",
   "execution_count": 8,
   "metadata": {},
   "outputs": [
    {
     "data": {
      "text/plain": [
       "Time Limit Exceeded       17252\n",
       "Runtime Error              9590\n",
       "WA: Presentation Error     1485\n",
       "Memory Limit Exceeded        73\n",
       "Output Limit Exceeded         5\n",
       "Judge Not Available           1\n",
       "Name: original_status, dtype: int64"
      ]
     },
     "execution_count": 8,
     "metadata": {},
     "output_type": "execute_result"
    }
   ],
   "source": [
    "# Most of the '0' error_class buggy submissions are TLE errors, which means they are inefficient implementations\n",
    "\n",
    "codenetpy_df[codenetpy_df['error_class'] == '0']['original_status'].value_counts()"
   ]
  },
  {
   "cell_type": "code",
   "execution_count": 9,
   "metadata": {},
   "outputs": [
    {
     "data": {
      "text/html": [
       "<h1>Example 0</h1>"
      ],
      "text/plain": [
       "<IPython.core.display.HTML object>"
      ]
     },
     "metadata": {},
     "output_type": "display_data"
    },
    {
     "data": {
      "text/html": [
       "<h2>The source code that is buggy:\n",
       "</h2>"
      ],
      "text/plain": [
       "<IPython.core.display.HTML object>"
      ]
     },
     "metadata": {},
     "output_type": "display_data"
    },
    {
     "data": {
      "text/html": [
       "<pre><span style=\"color:black;\">l</span><span style=\"color:black;\">=</span><span style=\"color:black;\">[</span><span style=\"color:black;\">]</span><span style=\"color:lightgrey;\">↵\n",
       "</span><span style=\"color:black;\">w</span><span style=\"color:black;\">h</span><span style=\"color:black;\">i</span><span style=\"color:black;\">l</span><span style=\"color:black;\">e</span><span style=\"color:lightgrey;\">•</span><span style=\"color:black;\">T</span><span style=\"color:black;\">r</span><span style=\"color:black;\">u</span><span style=\"color:black;\">e</span><span style=\"color:black;\">:</span><span style=\"color:lightgrey;\">↵\n",
       "</span><span style=\"color:lightgrey;\">•</span><span style=\"color:lightgrey;\">•</span><span style=\"color:lightgrey;\">•</span><span style=\"color:lightgrey;\">•</span><span style=\"color:black;\">t</span><span style=\"color:black;\">r</span><span style=\"color:black;\">y</span><span style=\"color:black;\">:</span><span style=\"color:lightgrey;\">↵\n",
       "</span><span style=\"color:lightgrey;\">•</span><span style=\"color:lightgrey;\">•</span><span style=\"color:lightgrey;\">•</span><span style=\"color:lightgrey;\">•</span><span style=\"color:lightgrey;\">•</span><span style=\"color:lightgrey;\">•</span><span style=\"color:lightgrey;\">•</span><span style=\"color:lightgrey;\">•</span><span style=\"color:black;\">l</span><span style=\"color:black;\">.</span><span style=\"color:black;\">a</span><span style=\"color:black;\">p</span><span style=\"color:black;\">p</span><span style=\"color:black;\">e</span><span style=\"color:black;\">n</span><span style=\"color:black;\">d</span><span style=\"color:black;\">(</span><span style=\"color:black;\">i</span><span style=\"color:black;\">n</span><span style=\"color:black;\">p</span><span style=\"color:black;\">u</span><span style=\"color:black;\">t</span><span style=\"color:black;\">(</span><span style=\"color:black;\">)</span><span style=\"color:black;\">)</span><span style=\"color:lightgrey;\">↵\n",
       "</span><span style=\"color:lightgrey;\">•</span><span style=\"color:lightgrey;\">•</span><span style=\"color:lightgrey;\">•</span><span style=\"color:lightgrey;\">•</span><span style=\"color:black;\">e</span><span style=\"color:black;\">x</span><span style=\"color:black;\">c</span><span style=\"color:black;\">e</span><span style=\"color:black;\">p</span><span style=\"color:black;\">t</span><span style=\"color:lightgrey;\">•</span><span style=\"color:red;\">S</span><span style=\"color:red;\">y</span><span style=\"color:red;\">n</span><span style=\"color:red;\">t</span><span style=\"color:red;\">a</span><span style=\"color:red;\">x</span><span style=\"color:black;\">E</span><span style=\"color:black;\">r</span><span style=\"color:black;\">r</span><span style=\"color:black;\">o</span><span style=\"color:black;\">r</span><span style=\"color:black;\">:</span><span style=\"color:lightgrey;\">↵\n",
       "</span><span style=\"color:lightgrey;\">•</span><span style=\"color:lightgrey;\">•</span><span style=\"color:lightgrey;\">•</span><span style=\"color:lightgrey;\">•</span><span style=\"color:lightgrey;\">•</span><span style=\"color:lightgrey;\">•</span><span style=\"color:lightgrey;\">•</span><span style=\"color:lightgrey;\">•</span><span style=\"color:black;\">b</span><span style=\"color:black;\">r</span><span style=\"color:black;\">e</span><span style=\"color:black;\">a</span><span style=\"color:black;\">k</span><span style=\"color:lightgrey;\">↵\n",
       "</span><span style=\"color:black;\">l</span><span style=\"color:black;\">.</span><span style=\"color:black;\">s</span><span style=\"color:black;\">o</span><span style=\"color:black;\">r</span><span style=\"color:black;\">t</span><span style=\"color:black;\">(</span><span style=\"color:black;\">r</span><span style=\"color:black;\">e</span><span style=\"color:black;\">v</span><span style=\"color:black;\">e</span><span style=\"color:black;\">r</span><span style=\"color:black;\">s</span><span style=\"color:black;\">e</span><span style=\"color:lightgrey;\">•</span><span style=\"color:black;\">=</span><span style=\"color:lightgrey;\">•</span><span style=\"color:black;\">T</span><span style=\"color:black;\">r</span><span style=\"color:black;\">u</span><span style=\"color:black;\">e</span><span style=\"color:black;\">)</span><span style=\"color:lightgrey;\">↵\n",
       "</span><span style=\"color:black;\">f</span><span style=\"color:black;\">o</span><span style=\"color:black;\">r</span><span style=\"color:lightgrey;\">•</span><span style=\"color:black;\">i</span><span style=\"color:lightgrey;\">•</span><span style=\"color:black;\">i</span><span style=\"color:black;\">n</span><span style=\"color:lightgrey;\">•</span><span style=\"color:black;\">r</span><span style=\"color:black;\">a</span><span style=\"color:black;\">n</span><span style=\"color:black;\">g</span><span style=\"color:black;\">e</span><span style=\"color:black;\">(</span><span style=\"color:black;\">3</span><span style=\"color:black;\">)</span><span style=\"color:black;\">:</span><span style=\"color:lightgrey;\">↵\n",
       "</span><span style=\"color:lightgrey;\">•</span><span style=\"color:lightgrey;\">•</span><span style=\"color:lightgrey;\">•</span><span style=\"color:lightgrey;\">•</span><span style=\"color:black;\">p</span><span style=\"color:black;\">r</span><span style=\"color:black;\">i</span><span style=\"color:black;\">n</span><span style=\"color:black;\">t</span><span style=\"color:lightgrey;\">•</span><span style=\"color:black;\">l</span><span style=\"color:black;\">[</span><span style=\"color:black;\">i</span><span style=\"color:black;\">]</span></pre>"
      ],
      "text/plain": [
       "<IPython.core.display.HTML object>"
      ]
     },
     "metadata": {},
     "output_type": "display_data"
    },
    {
     "data": {
      "text/html": [
       "<h2>The source code that is accepted:\n",
       "</h2>"
      ],
      "text/plain": [
       "<IPython.core.display.HTML object>"
      ]
     },
     "metadata": {},
     "output_type": "display_data"
    },
    {
     "data": {
      "text/html": [
       "<pre><span style=\"color:black;\">l</span><span style=\"color:black;\">=</span><span style=\"color:black;\">[</span><span style=\"color:black;\">]</span><span style=\"color:lightgrey;\">↵\n",
       "</span><span style=\"color:black;\">w</span><span style=\"color:black;\">h</span><span style=\"color:black;\">i</span><span style=\"color:black;\">l</span><span style=\"color:black;\">e</span><span style=\"color:lightgrey;\">•</span><span style=\"color:black;\">T</span><span style=\"color:black;\">r</span><span style=\"color:black;\">u</span><span style=\"color:black;\">e</span><span style=\"color:black;\">:</span><span style=\"color:lightgrey;\">↵\n",
       "</span><span style=\"color:lightgrey;\">•</span><span style=\"color:lightgrey;\">•</span><span style=\"color:lightgrey;\">•</span><span style=\"color:lightgrey;\">•</span><span style=\"color:black;\">t</span><span style=\"color:black;\">r</span><span style=\"color:black;\">y</span><span style=\"color:black;\">:</span><span style=\"color:lightgrey;\">↵\n",
       "</span><span style=\"color:lightgrey;\">•</span><span style=\"color:lightgrey;\">•</span><span style=\"color:lightgrey;\">•</span><span style=\"color:lightgrey;\">•</span><span style=\"color:lightgrey;\">•</span><span style=\"color:lightgrey;\">•</span><span style=\"color:lightgrey;\">•</span><span style=\"color:lightgrey;\">•</span><span style=\"color:black;\">l</span><span style=\"color:black;\">.</span><span style=\"color:black;\">a</span><span style=\"color:black;\">p</span><span style=\"color:black;\">p</span><span style=\"color:black;\">e</span><span style=\"color:black;\">n</span><span style=\"color:black;\">d</span><span style=\"color:black;\">(</span><span style=\"color:black;\">i</span><span style=\"color:black;\">n</span><span style=\"color:black;\">p</span><span style=\"color:black;\">u</span><span style=\"color:black;\">t</span><span style=\"color:black;\">(</span><span style=\"color:black;\">)</span><span style=\"color:black;\">)</span><span style=\"color:lightgrey;\">↵\n",
       "</span><span style=\"color:lightgrey;\">•</span><span style=\"color:lightgrey;\">•</span><span style=\"color:lightgrey;\">•</span><span style=\"color:lightgrey;\">•</span><span style=\"color:black;\">e</span><span style=\"color:black;\">x</span><span style=\"color:black;\">c</span><span style=\"color:black;\">e</span><span style=\"color:black;\">p</span><span style=\"color:black;\">t</span><span style=\"color:lightgrey;\">•</span><span style=\"color:blue;\">E</span><span style=\"color:blue;\">O</span><span style=\"color:blue;\">F</span><span style=\"color:black;\">E</span><span style=\"color:black;\">r</span><span style=\"color:black;\">r</span><span style=\"color:black;\">o</span><span style=\"color:black;\">r</span><span style=\"color:black;\">:</span><span style=\"color:lightgrey;\">↵\n",
       "</span><span style=\"color:lightgrey;\">•</span><span style=\"color:lightgrey;\">•</span><span style=\"color:lightgrey;\">•</span><span style=\"color:lightgrey;\">•</span><span style=\"color:lightgrey;\">•</span><span style=\"color:lightgrey;\">•</span><span style=\"color:lightgrey;\">•</span><span style=\"color:lightgrey;\">•</span><span style=\"color:black;\">b</span><span style=\"color:black;\">r</span><span style=\"color:black;\">e</span><span style=\"color:black;\">a</span><span style=\"color:black;\">k</span><span style=\"color:lightgrey;\">↵\n",
       "</span><span style=\"color:black;\">l</span><span style=\"color:black;\">.</span><span style=\"color:black;\">s</span><span style=\"color:black;\">o</span><span style=\"color:black;\">r</span><span style=\"color:black;\">t</span><span style=\"color:black;\">(</span><span style=\"color:black;\">r</span><span style=\"color:black;\">e</span><span style=\"color:black;\">v</span><span style=\"color:black;\">e</span><span style=\"color:black;\">r</span><span style=\"color:black;\">s</span><span style=\"color:black;\">e</span><span style=\"color:lightgrey;\">•</span><span style=\"color:black;\">=</span><span style=\"color:lightgrey;\">•</span><span style=\"color:black;\">T</span><span style=\"color:black;\">r</span><span style=\"color:black;\">u</span><span style=\"color:black;\">e</span><span style=\"color:black;\">)</span><span style=\"color:lightgrey;\">↵\n",
       "</span><span style=\"color:black;\">f</span><span style=\"color:black;\">o</span><span style=\"color:black;\">r</span><span style=\"color:lightgrey;\">•</span><span style=\"color:black;\">i</span><span style=\"color:lightgrey;\">•</span><span style=\"color:black;\">i</span><span style=\"color:black;\">n</span><span style=\"color:lightgrey;\">•</span><span style=\"color:black;\">r</span><span style=\"color:black;\">a</span><span style=\"color:black;\">n</span><span style=\"color:black;\">g</span><span style=\"color:black;\">e</span><span style=\"color:black;\">(</span><span style=\"color:black;\">3</span><span style=\"color:black;\">)</span><span style=\"color:black;\">:</span><span style=\"color:lightgrey;\">↵\n",
       "</span><span style=\"color:lightgrey;\">•</span><span style=\"color:lightgrey;\">•</span><span style=\"color:lightgrey;\">•</span><span style=\"color:lightgrey;\">•</span><span style=\"color:black;\">p</span><span style=\"color:black;\">r</span><span style=\"color:black;\">i</span><span style=\"color:black;\">n</span><span style=\"color:black;\">t</span><span style=\"color:lightgrey;\">•</span><span style=\"color:black;\">l</span><span style=\"color:black;\">[</span><span style=\"color:black;\">i</span><span style=\"color:black;\">]</span></pre>"
      ],
      "text/plain": [
       "<IPython.core.display.HTML object>"
      ]
     },
     "metadata": {},
     "output_type": "display_data"
    },
    {
     "data": {
      "text/html": [
       "<h2>The bug that should be assigned to the original_src:\n",
       "</h2>"
      ],
      "text/plain": [
       "<IPython.core.display.HTML object>"
      ]
     },
     "metadata": {},
     "output_type": "display_data"
    },
    {
     "data": {
      "text/html": [
       "<pre>SyntaxError: Missing parentheses in call to 'print'. Did you mean print(l[i])?</pre>"
      ],
      "text/plain": [
       "<IPython.core.display.HTML object>"
      ]
     },
     "metadata": {},
     "output_type": "display_data"
    },
    {
     "data": {
      "text/html": [
       "<h1>Example 1</h1>"
      ],
      "text/plain": [
       "<IPython.core.display.HTML object>"
      ]
     },
     "metadata": {},
     "output_type": "display_data"
    },
    {
     "data": {
      "text/html": [
       "<h2>The source code that is buggy:\n",
       "</h2>"
      ],
      "text/plain": [
       "<IPython.core.display.HTML object>"
      ]
     },
     "metadata": {},
     "output_type": "display_data"
    },
    {
     "data": {
      "text/html": [
       "<pre><span style=\"color:black;\">f</span><span style=\"color:black;\">i</span><span style=\"color:black;\">r</span><span style=\"color:black;\">s</span><span style=\"color:black;\">t</span><span style=\"color:lightgrey;\">•</span><span style=\"color:black;\">=</span><span style=\"color:lightgrey;\">•</span><span style=\"color:black;\">0</span><span style=\"color:black;\">;</span><span style=\"color:lightgrey;\">↵\n",
       "</span><span style=\"color:black;\">s</span><span style=\"color:black;\">e</span><span style=\"color:black;\">c</span><span style=\"color:black;\">o</span><span style=\"color:black;\">n</span><span style=\"color:black;\">d</span><span style=\"color:lightgrey;\">•</span><span style=\"color:black;\">=</span><span style=\"color:lightgrey;\">•</span><span style=\"color:black;\">0</span><span style=\"color:black;\">;</span><span style=\"color:lightgrey;\">↵\n",
       "</span><span style=\"color:black;\">t</span><span style=\"color:black;\">h</span><span style=\"color:black;\">i</span><span style=\"color:black;\">r</span><span style=\"color:black;\">d</span><span style=\"color:lightgrey;\">•</span><span style=\"color:black;\">=</span><span style=\"color:lightgrey;\">•</span><span style=\"color:black;\">0</span><span style=\"color:black;\">;</span><span style=\"color:lightgrey;\">↵\n",
       "</span><span style=\"color:black;\">f</span><span style=\"color:black;\">o</span><span style=\"color:black;\">r</span><span style=\"color:lightgrey;\">•</span><span style=\"color:black;\">v</span><span style=\"color:black;\">a</span><span style=\"color:black;\">r</span><span style=\"color:lightgrey;\">•</span><span style=\"color:black;\">i</span><span style=\"color:black;\">n</span><span style=\"color:lightgrey;\">•</span><span style=\"color:black;\">r</span><span style=\"color:black;\">a</span><span style=\"color:black;\">n</span><span style=\"color:black;\">g</span><span style=\"color:black;\">e</span><span style=\"color:black;\">(</span><span style=\"color:black;\">0</span><span style=\"color:black;\">,</span><span style=\"color:black;\">1</span><span style=\"color:black;\">0</span><span style=\"color:black;\">)</span><span style=\"color:black;\">:</span><span style=\"color:lightgrey;\">↵\n",
       "</span><span style=\"color:black;\">\t</span><span style=\"color:black;\">N</span><span style=\"color:lightgrey;\">•</span><span style=\"color:black;\">=</span><span style=\"color:lightgrey;\">•</span><span style=\"color:black;\">i</span><span style=\"color:black;\">n</span><span style=\"color:red;\">p</span><span style=\"color:black;\">u</span><span style=\"color:black;\">t</span><span style=\"color:black;\">(</span><span style=\"color:black;\">)</span><span style=\"color:red;\">↵\n",
       "</span><span style=\"color:black;\">\t</span><span style=\"color:black;\">i</span><span style=\"color:black;\">f</span><span style=\"color:lightgrey;\">•</span><span style=\"color:black;\">(</span><span style=\"color:black;\">N</span><span style=\"color:black;\">></span><span style=\"color:black;\">f</span><span style=\"color:black;\">i</span><span style=\"color:black;\">r</span><span style=\"color:black;\">s</span><span style=\"color:black;\">t</span><span style=\"color:black;\">)</span><span style=\"color:black;\">:</span><span style=\"color:lightgrey;\">↵\n",
       "</span><span style=\"color:black;\">\t</span><span style=\"color:black;\">\t</span><span style=\"color:black;\">t</span><span style=\"color:black;\">h</span><span style=\"color:black;\">i</span><span style=\"color:black;\">r</span><span style=\"color:black;\">d</span><span style=\"color:lightgrey;\">•</span><span style=\"color:black;\">=</span><span style=\"color:lightgrey;\">•</span><span style=\"color:black;\">s</span><span style=\"color:black;\">e</span><span style=\"color:black;\">c</span><span style=\"color:black;\">o</span><span style=\"color:black;\">n</span><span style=\"color:black;\">d</span><span style=\"color:lightgrey;\">↵\n",
       "</span><span style=\"color:black;\">\t</span><span style=\"color:black;\">\t</span><span style=\"color:black;\">s</span><span style=\"color:black;\">e</span><span style=\"color:black;\">c</span><span style=\"color:black;\">o</span><span style=\"color:black;\">n</span><span style=\"color:black;\">d</span><span style=\"color:lightgrey;\">•</span><span style=\"color:black;\">=</span><span style=\"color:lightgrey;\">•</span><span style=\"color:black;\">f</span><span style=\"color:black;\">i</span><span style=\"color:black;\">r</span><span style=\"color:black;\">s</span><span style=\"color:black;\">t</span><span style=\"color:lightgrey;\">↵\n",
       "</span><span style=\"color:black;\">\t</span><span style=\"color:black;\">\t</span><span style=\"color:black;\">f</span><span style=\"color:black;\">i</span><span style=\"color:black;\">r</span><span style=\"color:black;\">s</span><span style=\"color:black;\">t</span><span style=\"color:lightgrey;\">•</span><span style=\"color:black;\">=</span><span style=\"color:lightgrey;\">•</span><span style=\"color:black;\">N</span><span style=\"color:lightgrey;\">↵\n",
       "</span><span style=\"color:black;\">\t</span><span style=\"color:black;\">e</span><span style=\"color:black;\">l</span><span style=\"color:black;\">i</span><span style=\"color:black;\">f</span><span style=\"color:lightgrey;\">•</span><span style=\"color:black;\">(</span><span style=\"color:black;\">N</span><span style=\"color:black;\">></span><span style=\"color:black;\">s</span><span style=\"color:black;\">e</span><span style=\"color:black;\">c</span><span style=\"color:black;\">o</span><span style=\"color:black;\">n</span><span style=\"color:black;\">d</span><span style=\"color:black;\">)</span><span style=\"color:black;\">:</span><span style=\"color:lightgrey;\">↵\n",
       "</span><span style=\"color:black;\">\t</span><span style=\"color:black;\">\t</span><span style=\"color:black;\">t</span><span style=\"color:black;\">h</span><span style=\"color:black;\">i</span><span style=\"color:black;\">r</span><span style=\"color:black;\">d</span><span style=\"color:lightgrey;\">•</span><span style=\"color:black;\">=</span><span style=\"color:lightgrey;\">•</span><span style=\"color:black;\">s</span><span style=\"color:black;\">e</span><span style=\"color:black;\">c</span><span style=\"color:black;\">o</span><span style=\"color:black;\">n</span><span style=\"color:black;\">d</span><span style=\"color:lightgrey;\">↵\n",
       "</span><span style=\"color:black;\">\t</span><span style=\"color:black;\">\t</span><span style=\"color:black;\">s</span><span style=\"color:black;\">e</span><span style=\"color:black;\">c</span><span style=\"color:black;\">o</span><span style=\"color:black;\">n</span><span style=\"color:black;\">d</span><span style=\"color:lightgrey;\">•</span><span style=\"color:black;\">=</span><span style=\"color:lightgrey;\">•</span><span style=\"color:black;\">N</span><span style=\"color:lightgrey;\">↵\n",
       "</span><span style=\"color:black;\">\t</span><span style=\"color:black;\">e</span><span style=\"color:black;\">l</span><span style=\"color:black;\">i</span><span style=\"color:black;\">f</span><span style=\"color:lightgrey;\">•</span><span style=\"color:black;\">(</span><span style=\"color:black;\">N</span><span style=\"color:black;\">></span><span style=\"color:black;\">t</span><span style=\"color:black;\">h</span><span style=\"color:black;\">i</span><span style=\"color:black;\">r</span><span style=\"color:black;\">d</span><span style=\"color:black;\">)</span><span style=\"color:black;\">:</span><span style=\"color:lightgrey;\">↵\n",
       "</span><span style=\"color:black;\">\t</span><span style=\"color:black;\">\t</span><span style=\"color:black;\">t</span><span style=\"color:black;\">h</span><span style=\"color:black;\">i</span><span style=\"color:black;\">r</span><span style=\"color:black;\">d</span><span style=\"color:lightgrey;\">•</span><span style=\"color:black;\">=</span><span style=\"color:lightgrey;\">•</span><span style=\"color:black;\">N</span><span style=\"color:lightgrey;\">↵\n",
       "</span><span style=\"color:black;\">p</span><span style=\"color:black;\">r</span><span style=\"color:black;\">i</span><span style=\"color:black;\">n</span><span style=\"color:black;\">t</span><span style=\"color:lightgrey;\">•</span><span style=\"color:black;\">(</span><span style=\"color:black;\">f</span><span style=\"color:black;\">i</span><span style=\"color:black;\">r</span><span style=\"color:black;\">s</span><span style=\"color:black;\">t</span><span style=\"color:black;\">)</span><span style=\"color:lightgrey;\">↵\n",
       "</span><span style=\"color:black;\">p</span><span style=\"color:black;\">r</span><span style=\"color:black;\">i</span><span style=\"color:black;\">n</span><span style=\"color:black;\">t</span><span style=\"color:lightgrey;\">•</span><span style=\"color:black;\">(</span><span style=\"color:black;\">s</span><span style=\"color:black;\">e</span><span style=\"color:black;\">c</span><span style=\"color:black;\">o</span><span style=\"color:black;\">n</span><span style=\"color:black;\">d</span><span style=\"color:black;\">)</span><span style=\"color:lightgrey;\">↵\n",
       "</span><span style=\"color:black;\">p</span><span style=\"color:black;\">r</span><span style=\"color:black;\">i</span><span style=\"color:black;\">n</span><span style=\"color:black;\">t</span><span style=\"color:lightgrey;\">•</span><span style=\"color:black;\">(</span><span style=\"color:black;\">t</span><span style=\"color:black;\">h</span><span style=\"color:black;\">i</span><span style=\"color:black;\">r</span><span style=\"color:black;\">d</span><span style=\"color:black;\">)</span><span style=\"color:lightgrey;\">↵\n",
       "</span></pre>"
      ],
      "text/plain": [
       "<IPython.core.display.HTML object>"
      ]
     },
     "metadata": {},
     "output_type": "display_data"
    },
    {
     "data": {
      "text/html": [
       "<h2>The source code that is accepted:\n",
       "</h2>"
      ],
      "text/plain": [
       "<IPython.core.display.HTML object>"
      ]
     },
     "metadata": {},
     "output_type": "display_data"
    },
    {
     "data": {
      "text/html": [
       "<pre><span style=\"color:black;\">f</span><span style=\"color:black;\">i</span><span style=\"color:black;\">r</span><span style=\"color:black;\">s</span><span style=\"color:black;\">t</span><span style=\"color:lightgrey;\">•</span><span style=\"color:black;\">=</span><span style=\"color:lightgrey;\">•</span><span style=\"color:black;\">0</span><span style=\"color:black;\">;</span><span style=\"color:lightgrey;\">↵\n",
       "</span><span style=\"color:black;\">s</span><span style=\"color:black;\">e</span><span style=\"color:black;\">c</span><span style=\"color:black;\">o</span><span style=\"color:black;\">n</span><span style=\"color:black;\">d</span><span style=\"color:lightgrey;\">•</span><span style=\"color:black;\">=</span><span style=\"color:lightgrey;\">•</span><span style=\"color:black;\">0</span><span style=\"color:black;\">;</span><span style=\"color:lightgrey;\">↵\n",
       "</span><span style=\"color:black;\">t</span><span style=\"color:black;\">h</span><span style=\"color:black;\">i</span><span style=\"color:black;\">r</span><span style=\"color:black;\">d</span><span style=\"color:lightgrey;\">•</span><span style=\"color:black;\">=</span><span style=\"color:lightgrey;\">•</span><span style=\"color:black;\">0</span><span style=\"color:black;\">;</span><span style=\"color:lightgrey;\">↵\n",
       "</span><span style=\"color:black;\">f</span><span style=\"color:black;\">o</span><span style=\"color:black;\">r</span><span style=\"color:lightgrey;\">•</span><span style=\"color:black;\">v</span><span style=\"color:black;\">a</span><span style=\"color:black;\">r</span><span style=\"color:lightgrey;\">•</span><span style=\"color:black;\">i</span><span style=\"color:black;\">n</span><span style=\"color:lightgrey;\">•</span><span style=\"color:black;\">r</span><span style=\"color:black;\">a</span><span style=\"color:black;\">n</span><span style=\"color:black;\">g</span><span style=\"color:black;\">e</span><span style=\"color:black;\">(</span><span style=\"color:black;\">0</span><span style=\"color:black;\">,</span><span style=\"color:black;\">1</span><span style=\"color:black;\">0</span><span style=\"color:black;\">)</span><span style=\"color:black;\">:</span><span style=\"color:lightgrey;\">↵\n",
       "</span><span style=\"color:black;\">\t</span><span style=\"color:black;\">N</span><span style=\"color:lightgrey;\">•</span><span style=\"color:black;\">=</span><span style=\"color:lightgrey;\">•</span><span style=\"color:black;\">i</span><span style=\"color:black;\">n</span><span style=\"color:blue;\">t</span><span style=\"color:blue;\">(</span><span style=\"color:blue;\">i</span><span style=\"color:blue;\">n</span><span style=\"color:blue;\">p</span><span style=\"color:black;\">u</span><span style=\"color:black;\">t</span><span style=\"color:black;\">(</span><span style=\"color:black;\">)</span><span style=\"color:blue;\">)</span><span style=\"color:blue;\">↵\n",
       "</span><span style=\"color:black;\">\t</span><span style=\"color:black;\">i</span><span style=\"color:black;\">f</span><span style=\"color:lightgrey;\">•</span><span style=\"color:black;\">(</span><span style=\"color:black;\">N</span><span style=\"color:black;\">></span><span style=\"color:black;\">f</span><span style=\"color:black;\">i</span><span style=\"color:black;\">r</span><span style=\"color:black;\">s</span><span style=\"color:black;\">t</span><span style=\"color:black;\">)</span><span style=\"color:black;\">:</span><span style=\"color:lightgrey;\">↵\n",
       "</span><span style=\"color:black;\">\t</span><span style=\"color:black;\">\t</span><span style=\"color:black;\">t</span><span style=\"color:black;\">h</span><span style=\"color:black;\">i</span><span style=\"color:black;\">r</span><span style=\"color:black;\">d</span><span style=\"color:lightgrey;\">•</span><span style=\"color:black;\">=</span><span style=\"color:lightgrey;\">•</span><span style=\"color:black;\">s</span><span style=\"color:black;\">e</span><span style=\"color:black;\">c</span><span style=\"color:black;\">o</span><span style=\"color:black;\">n</span><span style=\"color:black;\">d</span><span style=\"color:lightgrey;\">↵\n",
       "</span><span style=\"color:black;\">\t</span><span style=\"color:black;\">\t</span><span style=\"color:black;\">s</span><span style=\"color:black;\">e</span><span style=\"color:black;\">c</span><span style=\"color:black;\">o</span><span style=\"color:black;\">n</span><span style=\"color:black;\">d</span><span style=\"color:lightgrey;\">•</span><span style=\"color:black;\">=</span><span style=\"color:lightgrey;\">•</span><span style=\"color:black;\">f</span><span style=\"color:black;\">i</span><span style=\"color:black;\">r</span><span style=\"color:black;\">s</span><span style=\"color:black;\">t</span><span style=\"color:lightgrey;\">↵\n",
       "</span><span style=\"color:black;\">\t</span><span style=\"color:black;\">\t</span><span style=\"color:black;\">f</span><span style=\"color:black;\">i</span><span style=\"color:black;\">r</span><span style=\"color:black;\">s</span><span style=\"color:black;\">t</span><span style=\"color:lightgrey;\">•</span><span style=\"color:black;\">=</span><span style=\"color:lightgrey;\">•</span><span style=\"color:black;\">N</span><span style=\"color:lightgrey;\">↵\n",
       "</span><span style=\"color:black;\">\t</span><span style=\"color:black;\">e</span><span style=\"color:black;\">l</span><span style=\"color:black;\">i</span><span style=\"color:black;\">f</span><span style=\"color:lightgrey;\">•</span><span style=\"color:black;\">(</span><span style=\"color:black;\">N</span><span style=\"color:black;\">></span><span style=\"color:black;\">s</span><span style=\"color:black;\">e</span><span style=\"color:black;\">c</span><span style=\"color:black;\">o</span><span style=\"color:black;\">n</span><span style=\"color:black;\">d</span><span style=\"color:black;\">)</span><span style=\"color:black;\">:</span><span style=\"color:lightgrey;\">↵\n",
       "</span><span style=\"color:black;\">\t</span><span style=\"color:black;\">\t</span><span style=\"color:black;\">t</span><span style=\"color:black;\">h</span><span style=\"color:black;\">i</span><span style=\"color:black;\">r</span><span style=\"color:black;\">d</span><span style=\"color:lightgrey;\">•</span><span style=\"color:black;\">=</span><span style=\"color:lightgrey;\">•</span><span style=\"color:black;\">s</span><span style=\"color:black;\">e</span><span style=\"color:black;\">c</span><span style=\"color:black;\">o</span><span style=\"color:black;\">n</span><span style=\"color:black;\">d</span><span style=\"color:lightgrey;\">↵\n",
       "</span><span style=\"color:black;\">\t</span><span style=\"color:black;\">\t</span><span style=\"color:black;\">s</span><span style=\"color:black;\">e</span><span style=\"color:black;\">c</span><span style=\"color:black;\">o</span><span style=\"color:black;\">n</span><span style=\"color:black;\">d</span><span style=\"color:lightgrey;\">•</span><span style=\"color:black;\">=</span><span style=\"color:lightgrey;\">•</span><span style=\"color:black;\">N</span><span style=\"color:lightgrey;\">↵\n",
       "</span><span style=\"color:black;\">\t</span><span style=\"color:black;\">e</span><span style=\"color:black;\">l</span><span style=\"color:black;\">i</span><span style=\"color:black;\">f</span><span style=\"color:lightgrey;\">•</span><span style=\"color:black;\">(</span><span style=\"color:black;\">N</span><span style=\"color:black;\">></span><span style=\"color:black;\">t</span><span style=\"color:black;\">h</span><span style=\"color:black;\">i</span><span style=\"color:black;\">r</span><span style=\"color:black;\">d</span><span style=\"color:black;\">)</span><span style=\"color:black;\">:</span><span style=\"color:lightgrey;\">↵\n",
       "</span><span style=\"color:black;\">\t</span><span style=\"color:black;\">\t</span><span style=\"color:black;\">t</span><span style=\"color:black;\">h</span><span style=\"color:black;\">i</span><span style=\"color:black;\">r</span><span style=\"color:black;\">d</span><span style=\"color:lightgrey;\">•</span><span style=\"color:black;\">=</span><span style=\"color:lightgrey;\">•</span><span style=\"color:black;\">N</span><span style=\"color:lightgrey;\">↵\n",
       "</span><span style=\"color:black;\">p</span><span style=\"color:black;\">r</span><span style=\"color:black;\">i</span><span style=\"color:black;\">n</span><span style=\"color:black;\">t</span><span style=\"color:lightgrey;\">•</span><span style=\"color:black;\">(</span><span style=\"color:black;\">f</span><span style=\"color:black;\">i</span><span style=\"color:black;\">r</span><span style=\"color:black;\">s</span><span style=\"color:black;\">t</span><span style=\"color:black;\">)</span><span style=\"color:lightgrey;\">↵\n",
       "</span><span style=\"color:black;\">p</span><span style=\"color:black;\">r</span><span style=\"color:black;\">i</span><span style=\"color:black;\">n</span><span style=\"color:black;\">t</span><span style=\"color:lightgrey;\">•</span><span style=\"color:black;\">(</span><span style=\"color:black;\">s</span><span style=\"color:black;\">e</span><span style=\"color:black;\">c</span><span style=\"color:black;\">o</span><span style=\"color:black;\">n</span><span style=\"color:black;\">d</span><span style=\"color:black;\">)</span><span style=\"color:lightgrey;\">↵\n",
       "</span><span style=\"color:black;\">p</span><span style=\"color:black;\">r</span><span style=\"color:black;\">i</span><span style=\"color:black;\">n</span><span style=\"color:black;\">t</span><span style=\"color:lightgrey;\">•</span><span style=\"color:black;\">(</span><span style=\"color:black;\">t</span><span style=\"color:black;\">h</span><span style=\"color:black;\">i</span><span style=\"color:black;\">r</span><span style=\"color:black;\">d</span><span style=\"color:black;\">)</span><span style=\"color:lightgrey;\">↵\n",
       "</span></pre>"
      ],
      "text/plain": [
       "<IPython.core.display.HTML object>"
      ]
     },
     "metadata": {},
     "output_type": "display_data"
    },
    {
     "data": {
      "text/html": [
       "<h2>The bug that should be assigned to the original_src:\n",
       "</h2>"
      ],
      "text/plain": [
       "<IPython.core.display.HTML object>"
      ]
     },
     "metadata": {},
     "output_type": "display_data"
    },
    {
     "data": {
      "text/html": [
       "<pre>TypeError: '>' not supported between instances of 'str' and 'int'</pre>"
      ],
      "text/plain": [
       "<IPython.core.display.HTML object>"
      ]
     },
     "metadata": {},
     "output_type": "display_data"
    },
    {
     "data": {
      "text/html": [
       "<h1>Example 2</h1>"
      ],
      "text/plain": [
       "<IPython.core.display.HTML object>"
      ]
     },
     "metadata": {},
     "output_type": "display_data"
    },
    {
     "data": {
      "text/html": [
       "<h2>The source code that is buggy:\n",
       "</h2>"
      ],
      "text/plain": [
       "<IPython.core.display.HTML object>"
      ]
     },
     "metadata": {},
     "output_type": "display_data"
    },
    {
     "data": {
      "text/html": [
       "<pre><span style=\"color:red;\">f</span><span style=\"color:black;\">o</span><span style=\"color:black;\">r</span><span style=\"color:lightgrey;\">•</span><span style=\"color:black;\">i</span><span style=\"color:lightgrey;\">•</span><span style=\"color:black;\">i</span><span style=\"color:black;\">n</span><span style=\"color:lightgrey;\">•</span><span style=\"color:black;\">r</span><span style=\"color:black;\">a</span><span style=\"color:black;\">n</span><span style=\"color:black;\">g</span><span style=\"color:black;\">e</span><span style=\"color:black;\">(</span><span style=\"color:black;\">1</span><span style=\"color:black;\">0</span><span style=\"color:black;\">)</span><span style=\"color:black;\">:</span><span style=\"color:lightgrey;\">↵\n",
       "</span><span style=\"color:lightgrey;\">•</span><span style=\"color:lightgrey;\">•</span><span style=\"color:lightgrey;\">•</span><span style=\"color:lightgrey;\">•</span><span style=\"color:black;\">s</span><span style=\"color:black;\">.</span><span style=\"color:black;\">a</span><span style=\"color:black;\">p</span><span style=\"color:black;\">p</span><span style=\"color:black;\">e</span><span style=\"color:black;\">n</span><span style=\"color:black;\">d</span><span style=\"color:black;\">(</span><span style=\"color:black;\">i</span><span style=\"color:black;\">n</span><span style=\"color:black;\">t</span><span style=\"color:black;\">(</span><span style=\"color:black;\">i</span><span style=\"color:black;\">n</span><span style=\"color:black;\">p</span><span style=\"color:black;\">u</span><span style=\"color:black;\">t</span><span style=\"color:black;\">(</span><span style=\"color:black;\">)</span><span style=\"color:black;\">)</span><span style=\"color:black;\">)</span><span style=\"color:lightgrey;\">↵\n",
       "</span><span style=\"color:black;\">s</span><span style=\"color:black;\">.</span><span style=\"color:black;\">s</span><span style=\"color:black;\">o</span><span style=\"color:black;\">r</span><span style=\"color:black;\">t</span><span style=\"color:black;\">(</span><span style=\"color:black;\">)</span><span style=\"color:lightgrey;\">↵\n",
       "</span><span style=\"color:black;\">f</span><span style=\"color:black;\">o</span><span style=\"color:black;\">r</span><span style=\"color:lightgrey;\">•</span><span style=\"color:black;\">i</span><span style=\"color:lightgrey;\">•</span><span style=\"color:black;\">i</span><span style=\"color:black;\">n</span><span style=\"color:lightgrey;\">•</span><span style=\"color:black;\">r</span><span style=\"color:black;\">a</span><span style=\"color:black;\">n</span><span style=\"color:black;\">g</span><span style=\"color:black;\">e</span><span style=\"color:black;\">(</span><span style=\"color:black;\">3</span><span style=\"color:black;\">)</span><span style=\"color:black;\">:</span><span style=\"color:lightgrey;\">↵\n",
       "</span><span style=\"color:lightgrey;\">•</span><span style=\"color:lightgrey;\">•</span><span style=\"color:lightgrey;\">•</span><span style=\"color:lightgrey;\">•</span><span style=\"color:black;\">p</span><span style=\"color:black;\">r</span><span style=\"color:black;\">i</span><span style=\"color:black;\">n</span><span style=\"color:black;\">t</span><span style=\"color:black;\">(</span><span style=\"color:black;\">s</span><span style=\"color:black;\">[</span><span style=\"color:red;\">i</span><span style=\"color:black;\">]</span><span style=\"color:black;\">)</span></pre>"
      ],
      "text/plain": [
       "<IPython.core.display.HTML object>"
      ]
     },
     "metadata": {},
     "output_type": "display_data"
    },
    {
     "data": {
      "text/html": [
       "<h2>The source code that is accepted:\n",
       "</h2>"
      ],
      "text/plain": [
       "<IPython.core.display.HTML object>"
      ]
     },
     "metadata": {},
     "output_type": "display_data"
    },
    {
     "data": {
      "text/html": [
       "<pre><span style=\"color:blue;\">s</span><span style=\"color:blue;\">=</span><span style=\"color:blue;\">[</span><span style=\"color:blue;\">]</span><span style=\"color:blue;\">↵\n",
       "</span><span style=\"color:blue;\">f</span><span style=\"color:black;\">o</span><span style=\"color:black;\">r</span><span style=\"color:lightgrey;\">•</span><span style=\"color:black;\">i</span><span style=\"color:lightgrey;\">•</span><span style=\"color:black;\">i</span><span style=\"color:black;\">n</span><span style=\"color:lightgrey;\">•</span><span style=\"color:black;\">r</span><span style=\"color:black;\">a</span><span style=\"color:black;\">n</span><span style=\"color:black;\">g</span><span style=\"color:black;\">e</span><span style=\"color:black;\">(</span><span style=\"color:black;\">1</span><span style=\"color:black;\">0</span><span style=\"color:black;\">)</span><span style=\"color:black;\">:</span><span style=\"color:lightgrey;\">↵\n",
       "</span><span style=\"color:lightgrey;\">•</span><span style=\"color:lightgrey;\">•</span><span style=\"color:lightgrey;\">•</span><span style=\"color:lightgrey;\">•</span><span style=\"color:black;\">s</span><span style=\"color:black;\">.</span><span style=\"color:black;\">a</span><span style=\"color:black;\">p</span><span style=\"color:black;\">p</span><span style=\"color:black;\">e</span><span style=\"color:black;\">n</span><span style=\"color:black;\">d</span><span style=\"color:black;\">(</span><span style=\"color:black;\">i</span><span style=\"color:black;\">n</span><span style=\"color:black;\">t</span><span style=\"color:black;\">(</span><span style=\"color:black;\">i</span><span style=\"color:black;\">n</span><span style=\"color:black;\">p</span><span style=\"color:black;\">u</span><span style=\"color:black;\">t</span><span style=\"color:black;\">(</span><span style=\"color:black;\">)</span><span style=\"color:black;\">)</span><span style=\"color:black;\">)</span><span style=\"color:lightgrey;\">↵\n",
       "</span><span style=\"color:black;\">s</span><span style=\"color:black;\">.</span><span style=\"color:black;\">s</span><span style=\"color:black;\">o</span><span style=\"color:black;\">r</span><span style=\"color:black;\">t</span><span style=\"color:black;\">(</span><span style=\"color:black;\">)</span><span style=\"color:lightgrey;\">↵\n",
       "</span><span style=\"color:black;\">f</span><span style=\"color:black;\">o</span><span style=\"color:black;\">r</span><span style=\"color:lightgrey;\">•</span><span style=\"color:black;\">i</span><span style=\"color:lightgrey;\">•</span><span style=\"color:black;\">i</span><span style=\"color:black;\">n</span><span style=\"color:lightgrey;\">•</span><span style=\"color:black;\">r</span><span style=\"color:black;\">a</span><span style=\"color:black;\">n</span><span style=\"color:black;\">g</span><span style=\"color:black;\">e</span><span style=\"color:black;\">(</span><span style=\"color:black;\">3</span><span style=\"color:black;\">)</span><span style=\"color:black;\">:</span><span style=\"color:lightgrey;\">↵\n",
       "</span><span style=\"color:lightgrey;\">•</span><span style=\"color:lightgrey;\">•</span><span style=\"color:lightgrey;\">•</span><span style=\"color:lightgrey;\">•</span><span style=\"color:black;\">p</span><span style=\"color:black;\">r</span><span style=\"color:black;\">i</span><span style=\"color:black;\">n</span><span style=\"color:black;\">t</span><span style=\"color:black;\">(</span><span style=\"color:black;\">s</span><span style=\"color:black;\">[</span><span style=\"color:blue;\">9</span><span style=\"color:blue;\">-</span><span style=\"color:blue;\">i</span><span style=\"color:black;\">]</span><span style=\"color:black;\">)</span></pre>"
      ],
      "text/plain": [
       "<IPython.core.display.HTML object>"
      ]
     },
     "metadata": {},
     "output_type": "display_data"
    },
    {
     "data": {
      "text/html": [
       "<h2>The bug that should be assigned to the original_src:\n",
       "</h2>"
      ],
      "text/plain": [
       "<IPython.core.display.HTML object>"
      ]
     },
     "metadata": {},
     "output_type": "display_data"
    },
    {
     "data": {
      "text/html": [
       "<pre>NameError: name 's' is not defined</pre>"
      ],
      "text/plain": [
       "<IPython.core.display.HTML object>"
      ]
     },
     "metadata": {},
     "output_type": "display_data"
    },
    {
     "data": {
      "text/html": [
       "<h1>Example 3</h1>"
      ],
      "text/plain": [
       "<IPython.core.display.HTML object>"
      ]
     },
     "metadata": {},
     "output_type": "display_data"
    },
    {
     "data": {
      "text/html": [
       "<h2>The source code that is buggy:\n",
       "</h2>"
      ],
      "text/plain": [
       "<IPython.core.display.HTML object>"
      ]
     },
     "metadata": {},
     "output_type": "display_data"
    },
    {
     "data": {
      "text/html": [
       "<pre><span style=\"color:black;\">#</span><span style=\"color:lightgrey;\">•</span><span style=\"color:black;\">-</span><span style=\"color:black;\">*</span><span style=\"color:black;\">-</span><span style=\"color:lightgrey;\">•</span><span style=\"color:black;\">c</span><span style=\"color:black;\">o</span><span style=\"color:black;\">d</span><span style=\"color:black;\">i</span><span style=\"color:black;\">n</span><span style=\"color:black;\">g</span><span style=\"color:black;\">:</span><span style=\"color:lightgrey;\">•</span><span style=\"color:black;\">u</span><span style=\"color:black;\">t</span><span style=\"color:black;\">f</span><span style=\"color:black;\">-</span><span style=\"color:black;\">8</span><span style=\"color:lightgrey;\">•</span><span style=\"color:black;\">-</span><span style=\"color:black;\">*</span><span style=\"color:black;\">-</span><span style=\"color:lightgrey;\">↵\n",
       "</span><span style=\"color:lightgrey;\">↵\n",
       "</span><span style=\"color:black;\">i</span><span style=\"color:black;\">m</span><span style=\"color:black;\">p</span><span style=\"color:black;\">o</span><span style=\"color:black;\">r</span><span style=\"color:black;\">t</span><span style=\"color:lightgrey;\">•</span><span style=\"color:black;\">s</span><span style=\"color:black;\">y</span><span style=\"color:black;\">s</span><span style=\"color:lightgrey;\">↵\n",
       "</span><span style=\"color:lightgrey;\">↵\n",
       "</span><span style=\"color:black;\">d</span><span style=\"color:black;\">e</span><span style=\"color:black;\">f</span><span style=\"color:lightgrey;\">•</span><span style=\"color:black;\">t</span><span style=\"color:black;\">o</span><span style=\"color:black;\">p</span><span style=\"color:black;\">_</span><span style=\"color:black;\">k</span><span style=\"color:black;\">_</span><span style=\"color:black;\">s</span><span style=\"color:black;\">o</span><span style=\"color:black;\">r</span><span style=\"color:black;\">t</span><span style=\"color:black;\">(</span><span style=\"color:black;\">d</span><span style=\"color:black;\">a</span><span style=\"color:black;\">t</span><span style=\"color:black;\">a</span><span style=\"color:black;\">,</span><span style=\"color:lightgrey;\">•</span><span style=\"color:black;\">k</span><span style=\"color:black;\">=</span><span style=\"color:black;\">3</span><span style=\"color:black;\">,</span><span style=\"color:lightgrey;\">•</span><span style=\"color:black;\">r</span><span style=\"color:black;\">e</span><span style=\"color:black;\">v</span><span style=\"color:black;\">e</span><span style=\"color:black;\">r</span><span style=\"color:black;\">s</span><span style=\"color:black;\">e</span><span style=\"color:black;\">=</span><span style=\"color:black;\">T</span><span style=\"color:black;\">r</span><span style=\"color:black;\">u</span><span style=\"color:black;\">e</span><span style=\"color:black;\">)</span><span style=\"color:black;\">:</span><span style=\"color:lightgrey;\">↵\n",
       "</span><span style=\"color:lightgrey;\">•</span><span style=\"color:lightgrey;\">•</span><span style=\"color:lightgrey;\">•</span><span style=\"color:lightgrey;\">•</span><span style=\"color:black;\">d</span><span style=\"color:black;\">a</span><span style=\"color:black;\">t</span><span style=\"color:black;\">a</span><span style=\"color:black;\">.</span><span style=\"color:black;\">s</span><span style=\"color:black;\">o</span><span style=\"color:black;\">r</span><span style=\"color:black;\">t</span><span style=\"color:black;\">(</span><span style=\"color:black;\">r</span><span style=\"color:black;\">e</span><span style=\"color:black;\">v</span><span style=\"color:black;\">e</span><span style=\"color:black;\">r</span><span style=\"color:black;\">s</span><span style=\"color:black;\">e</span><span style=\"color:black;\">=</span><span style=\"color:black;\">T</span><span style=\"color:black;\">r</span><span style=\"color:black;\">u</span><span style=\"color:black;\">e</span><span style=\"color:black;\">)</span><span style=\"color:lightgrey;\">↵\n",
       "</span><span style=\"color:lightgrey;\">•</span><span style=\"color:lightgrey;\">•</span><span style=\"color:lightgrey;\">•</span><span style=\"color:lightgrey;\">•</span><span style=\"color:black;\">r</span><span style=\"color:black;\">e</span><span style=\"color:black;\">t</span><span style=\"color:black;\">u</span><span style=\"color:black;\">r</span><span style=\"color:black;\">n</span><span style=\"color:lightgrey;\">•</span><span style=\"color:black;\">d</span><span style=\"color:black;\">a</span><span style=\"color:black;\">t</span><span style=\"color:black;\">a</span><span style=\"color:black;\">[</span><span style=\"color:black;\">:</span><span style=\"color:black;\">k</span><span style=\"color:black;\">]</span><span style=\"color:lightgrey;\">↵\n",
       "</span><span style=\"color:lightgrey;\">↵\n",
       "</span><span style=\"color:black;\">d</span><span style=\"color:black;\">e</span><span style=\"color:black;\">f</span><span style=\"color:lightgrey;\">•</span><span style=\"color:black;\">m</span><span style=\"color:black;\">a</span><span style=\"color:black;\">i</span><span style=\"color:black;\">n</span><span style=\"color:black;\">(</span><span style=\"color:black;\">)</span><span style=\"color:black;\">:</span><span style=\"color:lightgrey;\">↵\n",
       "</span><span style=\"color:lightgrey;\">•</span><span style=\"color:lightgrey;\">•</span><span style=\"color:lightgrey;\">•</span><span style=\"color:lightgrey;\">•</span><span style=\"color:black;\">d</span><span style=\"color:black;\">a</span><span style=\"color:black;\">t</span><span style=\"color:black;\">a</span><span style=\"color:lightgrey;\">•</span><span style=\"color:black;\">=</span><span style=\"color:lightgrey;\">•</span><span style=\"color:black;\">[</span><span style=\"color:black;\">]</span><span style=\"color:lightgrey;\">↵\n",
       "</span><span style=\"color:lightgrey;\">•</span><span style=\"color:lightgrey;\">•</span><span style=\"color:lightgrey;\">•</span><span style=\"color:lightgrey;\">•</span><span style=\"color:black;\">f</span><span style=\"color:black;\">o</span><span style=\"color:black;\">r</span><span style=\"color:lightgrey;\">•</span><span style=\"color:black;\">l</span><span style=\"color:black;\">i</span><span style=\"color:black;\">n</span><span style=\"color:black;\">e</span><span style=\"color:lightgrey;\">•</span><span style=\"color:black;\">i</span><span style=\"color:black;\">n</span><span style=\"color:lightgrey;\">•</span><span style=\"color:black;\">s</span><span style=\"color:black;\">y</span><span style=\"color:black;\">s</span><span style=\"color:black;\">.</span><span style=\"color:black;\">s</span><span style=\"color:black;\">t</span><span style=\"color:black;\">d</span><span style=\"color:black;\">i</span><span style=\"color:black;\">n</span><span style=\"color:black;\">:</span><span style=\"color:lightgrey;\">↵\n",
       "</span><span style=\"color:lightgrey;\">•</span><span style=\"color:lightgrey;\">•</span><span style=\"color:lightgrey;\">•</span><span style=\"color:lightgrey;\">•</span><span style=\"color:lightgrey;\">•</span><span style=\"color:lightgrey;\">•</span><span style=\"color:lightgrey;\">•</span><span style=\"color:lightgrey;\">•</span><span style=\"color:black;\">d</span><span style=\"color:black;\">a</span><span style=\"color:black;\">t</span><span style=\"color:black;\">a</span><span style=\"color:black;\">.</span><span style=\"color:black;\">a</span><span style=\"color:black;\">p</span><span style=\"color:black;\">p</span><span style=\"color:black;\">e</span><span style=\"color:black;\">n</span><span style=\"color:black;\">d</span><span style=\"color:black;\">(</span><span style=\"color:black;\">i</span><span style=\"color:black;\">n</span><span style=\"color:black;\">t</span><span style=\"color:black;\">(</span><span style=\"color:black;\">l</span><span style=\"color:black;\">i</span><span style=\"color:black;\">n</span><span style=\"color:black;\">e</span><span style=\"color:black;\">)</span><span style=\"color:black;\">)</span><span style=\"color:lightgrey;\">↵\n",
       "</span><span style=\"color:lightgrey;\">↵\n",
       "</span><span style=\"color:lightgrey;\">•</span><span style=\"color:lightgrey;\">•</span><span style=\"color:lightgrey;\">•</span><span style=\"color:lightgrey;\">•</span><span style=\"color:red;\">d</span><span style=\"color:red;\">a</span><span style=\"color:red;\">t</span><span style=\"color:red;\">a</span><span style=\"color:red;\">•</span><span style=\"color:red;\">=</span><span style=\"color:red;\">•</span><span style=\"color:red;\">[</span><span style=\"color:red;\">i</span><span style=\"color:red;\">n</span><span style=\"color:red;\">t</span><span style=\"color:red;\">(</span><span style=\"color:red;\">v</span><span style=\"color:red;\">)</span><span style=\"color:red;\">•</span><span style=\"color:red;\">f</span><span style=\"color:red;\">o</span><span style=\"color:red;\">r</span><span style=\"color:red;\">•</span><span style=\"color:red;\">v</span><span style=\"color:red;\">•</span><span style=\"color:red;\">i</span><span style=\"color:red;\">n</span><span style=\"color:red;\">•</span><span style=\"color:red;\">a</span><span style=\"color:red;\">r</span><span style=\"color:red;\">g</span><span style=\"color:red;\">v</span><span style=\"color:red;\">[</span><span style=\"color:red;\">1</span><span style=\"color:red;\">:</span><span style=\"color:red;\">]</span><span style=\"color:red;\">]</span><span style=\"color:red;\">↵\n",
       "</span><span style=\"color:red;\">•</span><span style=\"color:red;\">•</span><span style=\"color:red;\">•</span><span style=\"color:red;\">•</span><span style=\"color:black;\">f</span><span style=\"color:black;\">o</span><span style=\"color:black;\">r</span><span style=\"color:lightgrey;\">•</span><span style=\"color:black;\">h</span><span style=\"color:lightgrey;\">•</span><span style=\"color:black;\">i</span><span style=\"color:black;\">n</span><span style=\"color:lightgrey;\">•</span><span style=\"color:black;\">t</span><span style=\"color:black;\">o</span><span style=\"color:black;\">p</span><span style=\"color:black;\">_</span><span style=\"color:black;\">k</span><span style=\"color:black;\">_</span><span style=\"color:black;\">s</span><span style=\"color:black;\">o</span><span style=\"color:black;\">r</span><span style=\"color:black;\">t</span><span style=\"color:black;\">(</span><span style=\"color:black;\">d</span><span style=\"color:black;\">a</span><span style=\"color:black;\">t</span><span style=\"color:black;\">a</span><span style=\"color:black;\">)</span><span style=\"color:black;\">:</span><span style=\"color:lightgrey;\">↵\n",
       "</span><span style=\"color:lightgrey;\">•</span><span style=\"color:lightgrey;\">•</span><span style=\"color:lightgrey;\">•</span><span style=\"color:lightgrey;\">•</span><span style=\"color:lightgrey;\">•</span><span style=\"color:lightgrey;\">•</span><span style=\"color:lightgrey;\">•</span><span style=\"color:lightgrey;\">•</span><span style=\"color:black;\">p</span><span style=\"color:black;\">r</span><span style=\"color:black;\">i</span><span style=\"color:black;\">n</span><span style=\"color:black;\">t</span><span style=\"color:black;\">(</span><span style=\"color:black;\">h</span><span style=\"color:black;\">)</span><span style=\"color:lightgrey;\">↵\n",
       "</span><span style=\"color:lightgrey;\">↵\n",
       "</span><span style=\"color:black;\">i</span><span style=\"color:black;\">f</span><span style=\"color:lightgrey;\">•</span><span style=\"color:black;\">_</span><span style=\"color:black;\">_</span><span style=\"color:black;\">n</span><span style=\"color:black;\">a</span><span style=\"color:black;\">m</span><span style=\"color:black;\">e</span><span style=\"color:black;\">_</span><span style=\"color:black;\">_</span><span style=\"color:lightgrey;\">•</span><span style=\"color:black;\">=</span><span style=\"color:black;\">=</span><span style=\"color:lightgrey;\">•</span><span style=\"color:black;\">'</span><span style=\"color:black;\">_</span><span style=\"color:black;\">_</span><span style=\"color:black;\">m</span><span style=\"color:black;\">a</span><span style=\"color:black;\">i</span><span style=\"color:black;\">n</span><span style=\"color:black;\">_</span><span style=\"color:black;\">_</span><span style=\"color:black;\">'</span><span style=\"color:black;\">:</span><span style=\"color:lightgrey;\">↵\n",
       "</span><span style=\"color:lightgrey;\">•</span><span style=\"color:lightgrey;\">•</span><span style=\"color:lightgrey;\">•</span><span style=\"color:lightgrey;\">•</span><span style=\"color:black;\">m</span><span style=\"color:black;\">a</span><span style=\"color:black;\">i</span><span style=\"color:black;\">n</span><span style=\"color:black;\">(</span><span style=\"color:black;\">)</span></pre>"
      ],
      "text/plain": [
       "<IPython.core.display.HTML object>"
      ]
     },
     "metadata": {},
     "output_type": "display_data"
    },
    {
     "data": {
      "text/html": [
       "<h2>The source code that is accepted:\n",
       "</h2>"
      ],
      "text/plain": [
       "<IPython.core.display.HTML object>"
      ]
     },
     "metadata": {},
     "output_type": "display_data"
    },
    {
     "data": {
      "text/html": [
       "<pre><span style=\"color:black;\">#</span><span style=\"color:lightgrey;\">•</span><span style=\"color:black;\">-</span><span style=\"color:black;\">*</span><span style=\"color:black;\">-</span><span style=\"color:lightgrey;\">•</span><span style=\"color:black;\">c</span><span style=\"color:black;\">o</span><span style=\"color:black;\">d</span><span style=\"color:black;\">i</span><span style=\"color:black;\">n</span><span style=\"color:black;\">g</span><span style=\"color:black;\">:</span><span style=\"color:lightgrey;\">•</span><span style=\"color:black;\">u</span><span style=\"color:black;\">t</span><span style=\"color:black;\">f</span><span style=\"color:black;\">-</span><span style=\"color:black;\">8</span><span style=\"color:lightgrey;\">•</span><span style=\"color:black;\">-</span><span style=\"color:black;\">*</span><span style=\"color:black;\">-</span><span style=\"color:lightgrey;\">↵\n",
       "</span><span style=\"color:lightgrey;\">↵\n",
       "</span><span style=\"color:black;\">i</span><span style=\"color:black;\">m</span><span style=\"color:black;\">p</span><span style=\"color:black;\">o</span><span style=\"color:black;\">r</span><span style=\"color:black;\">t</span><span style=\"color:lightgrey;\">•</span><span style=\"color:black;\">s</span><span style=\"color:black;\">y</span><span style=\"color:black;\">s</span><span style=\"color:lightgrey;\">↵\n",
       "</span><span style=\"color:lightgrey;\">↵\n",
       "</span><span style=\"color:black;\">d</span><span style=\"color:black;\">e</span><span style=\"color:black;\">f</span><span style=\"color:lightgrey;\">•</span><span style=\"color:black;\">t</span><span style=\"color:black;\">o</span><span style=\"color:black;\">p</span><span style=\"color:black;\">_</span><span style=\"color:black;\">k</span><span style=\"color:black;\">_</span><span style=\"color:black;\">s</span><span style=\"color:black;\">o</span><span style=\"color:black;\">r</span><span style=\"color:black;\">t</span><span style=\"color:black;\">(</span><span style=\"color:black;\">d</span><span style=\"color:black;\">a</span><span style=\"color:black;\">t</span><span style=\"color:black;\">a</span><span style=\"color:black;\">,</span><span style=\"color:lightgrey;\">•</span><span style=\"color:black;\">k</span><span style=\"color:black;\">=</span><span style=\"color:black;\">3</span><span style=\"color:black;\">,</span><span style=\"color:lightgrey;\">•</span><span style=\"color:black;\">r</span><span style=\"color:black;\">e</span><span style=\"color:black;\">v</span><span style=\"color:black;\">e</span><span style=\"color:black;\">r</span><span style=\"color:black;\">s</span><span style=\"color:black;\">e</span><span style=\"color:black;\">=</span><span style=\"color:black;\">T</span><span style=\"color:black;\">r</span><span style=\"color:black;\">u</span><span style=\"color:black;\">e</span><span style=\"color:black;\">)</span><span style=\"color:black;\">:</span><span style=\"color:lightgrey;\">↵\n",
       "</span><span style=\"color:lightgrey;\">•</span><span style=\"color:lightgrey;\">•</span><span style=\"color:lightgrey;\">•</span><span style=\"color:lightgrey;\">•</span><span style=\"color:black;\">d</span><span style=\"color:black;\">a</span><span style=\"color:black;\">t</span><span style=\"color:black;\">a</span><span style=\"color:black;\">.</span><span style=\"color:black;\">s</span><span style=\"color:black;\">o</span><span style=\"color:black;\">r</span><span style=\"color:black;\">t</span><span style=\"color:black;\">(</span><span style=\"color:black;\">r</span><span style=\"color:black;\">e</span><span style=\"color:black;\">v</span><span style=\"color:black;\">e</span><span style=\"color:black;\">r</span><span style=\"color:black;\">s</span><span style=\"color:black;\">e</span><span style=\"color:black;\">=</span><span style=\"color:black;\">T</span><span style=\"color:black;\">r</span><span style=\"color:black;\">u</span><span style=\"color:black;\">e</span><span style=\"color:black;\">)</span><span style=\"color:lightgrey;\">↵\n",
       "</span><span style=\"color:lightgrey;\">•</span><span style=\"color:lightgrey;\">•</span><span style=\"color:lightgrey;\">•</span><span style=\"color:lightgrey;\">•</span><span style=\"color:black;\">r</span><span style=\"color:black;\">e</span><span style=\"color:black;\">t</span><span style=\"color:black;\">u</span><span style=\"color:black;\">r</span><span style=\"color:black;\">n</span><span style=\"color:lightgrey;\">•</span><span style=\"color:black;\">d</span><span style=\"color:black;\">a</span><span style=\"color:black;\">t</span><span style=\"color:black;\">a</span><span style=\"color:black;\">[</span><span style=\"color:black;\">:</span><span style=\"color:black;\">k</span><span style=\"color:black;\">]</span><span style=\"color:lightgrey;\">↵\n",
       "</span><span style=\"color:lightgrey;\">↵\n",
       "</span><span style=\"color:black;\">d</span><span style=\"color:black;\">e</span><span style=\"color:black;\">f</span><span style=\"color:lightgrey;\">•</span><span style=\"color:black;\">m</span><span style=\"color:black;\">a</span><span style=\"color:black;\">i</span><span style=\"color:black;\">n</span><span style=\"color:black;\">(</span><span style=\"color:black;\">)</span><span style=\"color:black;\">:</span><span style=\"color:lightgrey;\">↵\n",
       "</span><span style=\"color:lightgrey;\">•</span><span style=\"color:lightgrey;\">•</span><span style=\"color:lightgrey;\">•</span><span style=\"color:lightgrey;\">•</span><span style=\"color:black;\">d</span><span style=\"color:black;\">a</span><span style=\"color:black;\">t</span><span style=\"color:black;\">a</span><span style=\"color:lightgrey;\">•</span><span style=\"color:black;\">=</span><span style=\"color:lightgrey;\">•</span><span style=\"color:black;\">[</span><span style=\"color:black;\">]</span><span style=\"color:lightgrey;\">↵\n",
       "</span><span style=\"color:lightgrey;\">•</span><span style=\"color:lightgrey;\">•</span><span style=\"color:lightgrey;\">•</span><span style=\"color:lightgrey;\">•</span><span style=\"color:black;\">f</span><span style=\"color:black;\">o</span><span style=\"color:black;\">r</span><span style=\"color:lightgrey;\">•</span><span style=\"color:black;\">l</span><span style=\"color:black;\">i</span><span style=\"color:black;\">n</span><span style=\"color:black;\">e</span><span style=\"color:lightgrey;\">•</span><span style=\"color:black;\">i</span><span style=\"color:black;\">n</span><span style=\"color:lightgrey;\">•</span><span style=\"color:black;\">s</span><span style=\"color:black;\">y</span><span style=\"color:black;\">s</span><span style=\"color:black;\">.</span><span style=\"color:black;\">s</span><span style=\"color:black;\">t</span><span style=\"color:black;\">d</span><span style=\"color:black;\">i</span><span style=\"color:black;\">n</span><span style=\"color:black;\">:</span><span style=\"color:lightgrey;\">↵\n",
       "</span><span style=\"color:lightgrey;\">•</span><span style=\"color:lightgrey;\">•</span><span style=\"color:lightgrey;\">•</span><span style=\"color:lightgrey;\">•</span><span style=\"color:lightgrey;\">•</span><span style=\"color:lightgrey;\">•</span><span style=\"color:lightgrey;\">•</span><span style=\"color:lightgrey;\">•</span><span style=\"color:black;\">d</span><span style=\"color:black;\">a</span><span style=\"color:black;\">t</span><span style=\"color:black;\">a</span><span style=\"color:black;\">.</span><span style=\"color:black;\">a</span><span style=\"color:black;\">p</span><span style=\"color:black;\">p</span><span style=\"color:black;\">e</span><span style=\"color:black;\">n</span><span style=\"color:black;\">d</span><span style=\"color:black;\">(</span><span style=\"color:black;\">i</span><span style=\"color:black;\">n</span><span style=\"color:black;\">t</span><span style=\"color:black;\">(</span><span style=\"color:black;\">l</span><span style=\"color:black;\">i</span><span style=\"color:black;\">n</span><span style=\"color:black;\">e</span><span style=\"color:black;\">)</span><span style=\"color:black;\">)</span><span style=\"color:lightgrey;\">↵\n",
       "</span><span style=\"color:lightgrey;\">↵\n",
       "</span><span style=\"color:lightgrey;\">•</span><span style=\"color:lightgrey;\">•</span><span style=\"color:lightgrey;\">•</span><span style=\"color:lightgrey;\">•</span><span style=\"color:black;\">f</span><span style=\"color:black;\">o</span><span style=\"color:black;\">r</span><span style=\"color:lightgrey;\">•</span><span style=\"color:black;\">h</span><span style=\"color:lightgrey;\">•</span><span style=\"color:black;\">i</span><span style=\"color:black;\">n</span><span style=\"color:lightgrey;\">•</span><span style=\"color:black;\">t</span><span style=\"color:black;\">o</span><span style=\"color:black;\">p</span><span style=\"color:black;\">_</span><span style=\"color:black;\">k</span><span style=\"color:black;\">_</span><span style=\"color:black;\">s</span><span style=\"color:black;\">o</span><span style=\"color:black;\">r</span><span style=\"color:black;\">t</span><span style=\"color:black;\">(</span><span style=\"color:black;\">d</span><span style=\"color:black;\">a</span><span style=\"color:black;\">t</span><span style=\"color:black;\">a</span><span style=\"color:black;\">)</span><span style=\"color:black;\">:</span><span style=\"color:lightgrey;\">↵\n",
       "</span><span style=\"color:lightgrey;\">•</span><span style=\"color:lightgrey;\">•</span><span style=\"color:lightgrey;\">•</span><span style=\"color:lightgrey;\">•</span><span style=\"color:lightgrey;\">•</span><span style=\"color:lightgrey;\">•</span><span style=\"color:lightgrey;\">•</span><span style=\"color:lightgrey;\">•</span><span style=\"color:black;\">p</span><span style=\"color:black;\">r</span><span style=\"color:black;\">i</span><span style=\"color:black;\">n</span><span style=\"color:black;\">t</span><span style=\"color:black;\">(</span><span style=\"color:black;\">h</span><span style=\"color:black;\">)</span><span style=\"color:lightgrey;\">↵\n",
       "</span><span style=\"color:lightgrey;\">↵\n",
       "</span><span style=\"color:black;\">i</span><span style=\"color:black;\">f</span><span style=\"color:lightgrey;\">•</span><span style=\"color:black;\">_</span><span style=\"color:black;\">_</span><span style=\"color:black;\">n</span><span style=\"color:black;\">a</span><span style=\"color:black;\">m</span><span style=\"color:black;\">e</span><span style=\"color:black;\">_</span><span style=\"color:black;\">_</span><span style=\"color:lightgrey;\">•</span><span style=\"color:black;\">=</span><span style=\"color:black;\">=</span><span style=\"color:lightgrey;\">•</span><span style=\"color:black;\">'</span><span style=\"color:black;\">_</span><span style=\"color:black;\">_</span><span style=\"color:black;\">m</span><span style=\"color:black;\">a</span><span style=\"color:black;\">i</span><span style=\"color:black;\">n</span><span style=\"color:black;\">_</span><span style=\"color:black;\">_</span><span style=\"color:black;\">'</span><span style=\"color:black;\">:</span><span style=\"color:lightgrey;\">↵\n",
       "</span><span style=\"color:lightgrey;\">•</span><span style=\"color:lightgrey;\">•</span><span style=\"color:lightgrey;\">•</span><span style=\"color:lightgrey;\">•</span><span style=\"color:black;\">m</span><span style=\"color:black;\">a</span><span style=\"color:black;\">i</span><span style=\"color:black;\">n</span><span style=\"color:black;\">(</span><span style=\"color:black;\">)</span></pre>"
      ],
      "text/plain": [
       "<IPython.core.display.HTML object>"
      ]
     },
     "metadata": {},
     "output_type": "display_data"
    },
    {
     "data": {
      "text/html": [
       "<h2>The bug that should be assigned to the original_src:\n",
       "</h2>"
      ],
      "text/plain": [
       "<IPython.core.display.HTML object>"
      ]
     },
     "metadata": {},
     "output_type": "display_data"
    },
    {
     "data": {
      "text/html": [
       "<pre>NameError: name 'argv' is not defined</pre>"
      ],
      "text/plain": [
       "<IPython.core.display.HTML object>"
      ]
     },
     "metadata": {},
     "output_type": "display_data"
    },
    {
     "data": {
      "text/html": [
       "<h1>Example 4</h1>"
      ],
      "text/plain": [
       "<IPython.core.display.HTML object>"
      ]
     },
     "metadata": {},
     "output_type": "display_data"
    },
    {
     "data": {
      "text/html": [
       "<h2>The source code that is buggy:\n",
       "</h2>"
      ],
      "text/plain": [
       "<IPython.core.display.HTML object>"
      ]
     },
     "metadata": {},
     "output_type": "display_data"
    },
    {
     "data": {
      "text/html": [
       "<pre><span style=\"color:black;\">h</span><span style=\"color:black;\">e</span><span style=\"color:black;\">i</span><span style=\"color:black;\">g</span><span style=\"color:black;\">h</span><span style=\"color:black;\">t</span><span style=\"color:lightgrey;\">•</span><span style=\"color:black;\">=</span><span style=\"color:lightgrey;\">•</span><span style=\"color:black;\">[</span><span style=\"color:black;\">]</span><span style=\"color:lightgrey;\">↵\n",
       "</span><span style=\"color:black;\">w</span><span style=\"color:black;\">h</span><span style=\"color:black;\">i</span><span style=\"color:black;\">l</span><span style=\"color:black;\">e</span><span style=\"color:lightgrey;\">•</span><span style=\"color:black;\">1</span><span style=\"color:black;\">:</span><span style=\"color:lightgrey;\">↵\n",
       "</span><span style=\"color:lightgrey;\">•</span><span style=\"color:lightgrey;\">•</span><span style=\"color:lightgrey;\">•</span><span style=\"color:lightgrey;\">•</span><span style=\"color:red;\">h</span><span style=\"color:red;\">•</span><span style=\"color:red;\">=</span><span style=\"color:red;\">•</span><span style=\"color:black;\">r</span><span style=\"color:red;\">a</span><span style=\"color:red;\">w</span><span style=\"color:red;\">_</span><span style=\"color:red;\">i</span><span style=\"color:red;\">n</span><span style=\"color:red;\">p</span><span style=\"color:red;\">u</span><span style=\"color:red;\">t</span><span style=\"color:red;\">(</span><span style=\"color:red;\">)</span><span style=\"color:lightgrey;\">↵\n",
       "</span><span style=\"color:lightgrey;\">•</span><span style=\"color:lightgrey;\">•</span><span style=\"color:lightgrey;\">•</span><span style=\"color:lightgrey;\">•</span><span style=\"color:red;\">i</span><span style=\"color:red;\">f</span><span style=\"color:red;\">•</span><span style=\"color:red;\">h</span><span style=\"color:red;\">•</span><span style=\"color:red;\">=</span><span style=\"color:red;\">=</span><span style=\"color:red;\">•</span><span style=\"color:red;\">'</span><span style=\"color:red;\">'</span><span style=\"color:red;\">:</span><span style=\"color:red;\">•</span><span style=\"color:red;\">b</span><span style=\"color:red;\">r</span><span style=\"color:red;\">e</span><span style=\"color:red;\">a</span><span style=\"color:red;\">k</span><span style=\"color:red;\">↵\n",
       "</span><span style=\"color:red;\">•</span><span style=\"color:red;\">•</span><span style=\"color:red;\">•</span><span style=\"color:red;\">•</span><span style=\"color:red;\">h</span><span style=\"color:red;\">•</span><span style=\"color:red;\">=</span><span style=\"color:red;\">•</span><span style=\"color:red;\">i</span><span style=\"color:red;\">n</span><span style=\"color:red;\">t</span><span style=\"color:red;\">(</span><span style=\"color:red;\">h</span><span style=\"color:red;\">)</span><span style=\"color:red;\">↵\n",
       "</span><span style=\"color:lightgrey;\">•</span><span style=\"color:lightgrey;\">•</span><span style=\"color:lightgrey;\">•</span><span style=\"color:lightgrey;\">•</span><span style=\"color:black;\">h</span><span style=\"color:black;\">e</span><span style=\"color:black;\">i</span><span style=\"color:black;\">g</span><span style=\"color:black;\">h</span><span style=\"color:black;\">t</span><span style=\"color:black;\">.</span><span style=\"color:black;\">a</span><span style=\"color:black;\">p</span><span style=\"color:black;\">p</span><span style=\"color:black;\">e</span><span style=\"color:black;\">n</span><span style=\"color:black;\">d</span><span style=\"color:black;\">(</span><span style=\"color:red;\">h</span><span style=\"color:black;\">)</span><span style=\"color:red;\">↵\n",
       "</span><span style=\"color:black;\">h</span><span style=\"color:black;\">e</span><span style=\"color:black;\">i</span><span style=\"color:black;\">g</span><span style=\"color:black;\">h</span><span style=\"color:black;\">t</span><span style=\"color:black;\">.</span><span style=\"color:black;\">s</span><span style=\"color:black;\">o</span><span style=\"color:black;\">r</span><span style=\"color:black;\">t</span><span style=\"color:black;\">(</span><span style=\"color:black;\">r</span><span style=\"color:black;\">e</span><span style=\"color:black;\">v</span><span style=\"color:black;\">e</span><span style=\"color:black;\">r</span><span style=\"color:black;\">s</span><span style=\"color:black;\">e</span><span style=\"color:black;\">=</span><span style=\"color:black;\">T</span><span style=\"color:black;\">r</span><span style=\"color:black;\">u</span><span style=\"color:black;\">e</span><span style=\"color:black;\">)</span><span style=\"color:lightgrey;\">↵\n",
       "</span><span style=\"color:black;\">f</span><span style=\"color:black;\">o</span><span style=\"color:black;\">r</span><span style=\"color:lightgrey;\">•</span><span style=\"color:black;\">i</span><span style=\"color:lightgrey;\">•</span><span style=\"color:black;\">i</span><span style=\"color:black;\">n</span><span style=\"color:lightgrey;\">•</span><span style=\"color:black;\">r</span><span style=\"color:black;\">a</span><span style=\"color:black;\">n</span><span style=\"color:black;\">g</span><span style=\"color:black;\">e</span><span style=\"color:black;\">(</span><span style=\"color:black;\">3</span><span style=\"color:black;\">)</span><span style=\"color:black;\">:</span><span style=\"color:lightgrey;\">↵\n",
       "</span><span style=\"color:lightgrey;\">•</span><span style=\"color:lightgrey;\">•</span><span style=\"color:lightgrey;\">•</span><span style=\"color:lightgrey;\">•</span><span style=\"color:black;\">p</span><span style=\"color:black;\">r</span><span style=\"color:black;\">i</span><span style=\"color:black;\">n</span><span style=\"color:black;\">t</span><span style=\"color:lightgrey;\">•</span><span style=\"color:black;\">h</span><span style=\"color:black;\">e</span><span style=\"color:black;\">i</span><span style=\"color:black;\">g</span><span style=\"color:black;\">h</span><span style=\"color:black;\">t</span><span style=\"color:black;\">[</span><span style=\"color:black;\">i</span><span style=\"color:black;\">]</span></pre>"
      ],
      "text/plain": [
       "<IPython.core.display.HTML object>"
      ]
     },
     "metadata": {},
     "output_type": "display_data"
    },
    {
     "data": {
      "text/html": [
       "<h2>The source code that is accepted:\n",
       "</h2>"
      ],
      "text/plain": [
       "<IPython.core.display.HTML object>"
      ]
     },
     "metadata": {},
     "output_type": "display_data"
    },
    {
     "data": {
      "text/html": [
       "<pre><span style=\"color:black;\">h</span><span style=\"color:black;\">e</span><span style=\"color:black;\">i</span><span style=\"color:black;\">g</span><span style=\"color:black;\">h</span><span style=\"color:black;\">t</span><span style=\"color:lightgrey;\">•</span><span style=\"color:black;\">=</span><span style=\"color:lightgrey;\">•</span><span style=\"color:black;\">[</span><span style=\"color:black;\">]</span><span style=\"color:lightgrey;\">↵\n",
       "</span><span style=\"color:black;\">w</span><span style=\"color:black;\">h</span><span style=\"color:black;\">i</span><span style=\"color:black;\">l</span><span style=\"color:black;\">e</span><span style=\"color:lightgrey;\">•</span><span style=\"color:black;\">1</span><span style=\"color:black;\">:</span><span style=\"color:lightgrey;\">↵\n",
       "</span><span style=\"color:lightgrey;\">•</span><span style=\"color:lightgrey;\">•</span><span style=\"color:lightgrey;\">•</span><span style=\"color:lightgrey;\">•</span><span style=\"color:blue;\">t</span><span style=\"color:black;\">r</span><span style=\"color:blue;\">y</span><span style=\"color:blue;\">:</span><span style=\"color:lightgrey;\">↵\n",
       "</span><span style=\"color:lightgrey;\">•</span><span style=\"color:lightgrey;\">•</span><span style=\"color:lightgrey;\">•</span><span style=\"color:lightgrey;\">•</span><span style=\"color:lightgrey;\">•</span><span style=\"color:lightgrey;\">•</span><span style=\"color:lightgrey;\">•</span><span style=\"color:lightgrey;\">•</span><span style=\"color:black;\">h</span><span style=\"color:black;\">e</span><span style=\"color:black;\">i</span><span style=\"color:black;\">g</span><span style=\"color:black;\">h</span><span style=\"color:black;\">t</span><span style=\"color:black;\">.</span><span style=\"color:black;\">a</span><span style=\"color:black;\">p</span><span style=\"color:black;\">p</span><span style=\"color:black;\">e</span><span style=\"color:black;\">n</span><span style=\"color:black;\">d</span><span style=\"color:black;\">(</span><span style=\"color:blue;\">i</span><span style=\"color:blue;\">n</span><span style=\"color:blue;\">p</span><span style=\"color:blue;\">u</span><span style=\"color:blue;\">t</span><span style=\"color:blue;\">(</span><span style=\"color:black;\">)</span><span style=\"color:blue;\">)</span><span style=\"color:blue;\">↵\n",
       "</span><span style=\"color:blue;\">•</span><span style=\"color:blue;\">•</span><span style=\"color:blue;\">•</span><span style=\"color:blue;\">•</span><span style=\"color:blue;\">e</span><span style=\"color:blue;\">x</span><span style=\"color:blue;\">c</span><span style=\"color:blue;\">e</span><span style=\"color:blue;\">p</span><span style=\"color:blue;\">t</span><span style=\"color:blue;\">•</span><span style=\"color:blue;\">E</span><span style=\"color:blue;\">O</span><span style=\"color:blue;\">F</span><span style=\"color:blue;\">E</span><span style=\"color:blue;\">r</span><span style=\"color:blue;\">r</span><span style=\"color:blue;\">o</span><span style=\"color:blue;\">r</span><span style=\"color:blue;\">:</span><span style=\"color:blue;\">↵\n",
       "</span><span style=\"color:blue;\">•</span><span style=\"color:blue;\">•</span><span style=\"color:blue;\">•</span><span style=\"color:blue;\">•</span><span style=\"color:blue;\">•</span><span style=\"color:blue;\">•</span><span style=\"color:blue;\">•</span><span style=\"color:blue;\">•</span><span style=\"color:blue;\">b</span><span style=\"color:blue;\">r</span><span style=\"color:blue;\">e</span><span style=\"color:blue;\">a</span><span style=\"color:blue;\">k</span><span style=\"color:blue;\">↵\n",
       "</span><span style=\"color:black;\">h</span><span style=\"color:black;\">e</span><span style=\"color:black;\">i</span><span style=\"color:black;\">g</span><span style=\"color:black;\">h</span><span style=\"color:black;\">t</span><span style=\"color:black;\">.</span><span style=\"color:black;\">s</span><span style=\"color:black;\">o</span><span style=\"color:black;\">r</span><span style=\"color:black;\">t</span><span style=\"color:black;\">(</span><span style=\"color:black;\">r</span><span style=\"color:black;\">e</span><span style=\"color:black;\">v</span><span style=\"color:black;\">e</span><span style=\"color:black;\">r</span><span style=\"color:black;\">s</span><span style=\"color:black;\">e</span><span style=\"color:black;\">=</span><span style=\"color:black;\">T</span><span style=\"color:black;\">r</span><span style=\"color:black;\">u</span><span style=\"color:black;\">e</span><span style=\"color:black;\">)</span><span style=\"color:lightgrey;\">↵\n",
       "</span><span style=\"color:black;\">f</span><span style=\"color:black;\">o</span><span style=\"color:black;\">r</span><span style=\"color:lightgrey;\">•</span><span style=\"color:black;\">i</span><span style=\"color:lightgrey;\">•</span><span style=\"color:black;\">i</span><span style=\"color:black;\">n</span><span style=\"color:lightgrey;\">•</span><span style=\"color:black;\">r</span><span style=\"color:black;\">a</span><span style=\"color:black;\">n</span><span style=\"color:black;\">g</span><span style=\"color:black;\">e</span><span style=\"color:black;\">(</span><span style=\"color:black;\">3</span><span style=\"color:black;\">)</span><span style=\"color:black;\">:</span><span style=\"color:lightgrey;\">↵\n",
       "</span><span style=\"color:lightgrey;\">•</span><span style=\"color:lightgrey;\">•</span><span style=\"color:lightgrey;\">•</span><span style=\"color:lightgrey;\">•</span><span style=\"color:black;\">p</span><span style=\"color:black;\">r</span><span style=\"color:black;\">i</span><span style=\"color:black;\">n</span><span style=\"color:black;\">t</span><span style=\"color:lightgrey;\">•</span><span style=\"color:black;\">h</span><span style=\"color:black;\">e</span><span style=\"color:black;\">i</span><span style=\"color:black;\">g</span><span style=\"color:black;\">h</span><span style=\"color:black;\">t</span><span style=\"color:black;\">[</span><span style=\"color:black;\">i</span><span style=\"color:black;\">]</span></pre>"
      ],
      "text/plain": [
       "<IPython.core.display.HTML object>"
      ]
     },
     "metadata": {},
     "output_type": "display_data"
    },
    {
     "data": {
      "text/html": [
       "<h2>The bug that should be assigned to the original_src:\n",
       "</h2>"
      ],
      "text/plain": [
       "<IPython.core.display.HTML object>"
      ]
     },
     "metadata": {},
     "output_type": "display_data"
    },
    {
     "data": {
      "text/html": [
       "<pre>SyntaxError: Missing parentheses in call to 'print'. Did you mean print(height[i])?</pre>"
      ],
      "text/plain": [
       "<IPython.core.display.HTML object>"
      ]
     },
     "metadata": {},
     "output_type": "display_data"
    },
    {
     "data": {
      "text/html": [
       "<h1>Example 5</h1>"
      ],
      "text/plain": [
       "<IPython.core.display.HTML object>"
      ]
     },
     "metadata": {},
     "output_type": "display_data"
    },
    {
     "data": {
      "text/html": [
       "<h2>The source code that is buggy:\n",
       "</h2>"
      ],
      "text/plain": [
       "<IPython.core.display.HTML object>"
      ]
     },
     "metadata": {},
     "output_type": "display_data"
    },
    {
     "data": {
      "text/html": [
       "<pre><span style=\"color:red;\">c</span><span style=\"color:black;\">n</span><span style=\"color:black;\">t</span><span style=\"color:lightgrey;\">•</span><span style=\"color:black;\">=</span><span style=\"color:lightgrey;\">•</span><span style=\"color:black;\">1</span><span style=\"color:black;\">0</span><span style=\"color:lightgrey;\">↵\n",
       "</span><span style=\"color:black;\">t</span><span style=\"color:black;\">o</span><span style=\"color:black;\">p</span><span style=\"color:black;\">3</span><span style=\"color:lightgrey;\">•</span><span style=\"color:black;\">=</span><span style=\"color:lightgrey;\">•</span><span style=\"color:black;\">[</span><span style=\"color:black;\">0</span><span style=\"color:black;\">,</span><span style=\"color:black;\">0</span><span style=\"color:black;\">,</span><span style=\"color:black;\">0</span><span style=\"color:black;\">]</span><span style=\"color:lightgrey;\">↵\n",
       "</span><span style=\"color:lightgrey;\">↵\n",
       "</span><span style=\"color:black;\">f</span><span style=\"color:black;\">o</span><span style=\"color:black;\">r</span><span style=\"color:lightgrey;\">•</span><span style=\"color:black;\">x</span><span style=\"color:lightgrey;\">•</span><span style=\"color:black;\">i</span><span style=\"color:black;\">n</span><span style=\"color:lightgrey;\">•</span><span style=\"color:black;\">x</span><span style=\"color:black;\">r</span><span style=\"color:black;\">a</span><span style=\"color:black;\">n</span><span style=\"color:black;\">g</span><span style=\"color:black;\">e</span><span style=\"color:black;\">(</span><span style=\"color:black;\">c</span><span style=\"color:black;\">n</span><span style=\"color:black;\">t</span><span style=\"color:black;\">)</span><span style=\"color:black;\">:</span><span style=\"color:lightgrey;\">↵\n",
       "</span><span style=\"color:lightgrey;\">•</span><span style=\"color:lightgrey;\">•</span><span style=\"color:lightgrey;\">•</span><span style=\"color:lightgrey;\">•</span><span style=\"color:black;\">n</span><span style=\"color:lightgrey;\">•</span><span style=\"color:black;\">=</span><span style=\"color:lightgrey;\">•</span><span style=\"color:black;\">i</span><span style=\"color:black;\">n</span><span style=\"color:black;\">t</span><span style=\"color:black;\">(</span><span style=\"color:lightgrey;\">•</span><span style=\"color:black;\">r</span><span style=\"color:black;\">a</span><span style=\"color:black;\">w</span><span style=\"color:black;\">_</span><span style=\"color:black;\">i</span><span style=\"color:black;\">n</span><span style=\"color:black;\">p</span><span style=\"color:black;\">u</span><span style=\"color:black;\">t</span><span style=\"color:black;\">(</span><span style=\"color:black;\">)</span><span style=\"color:lightgrey;\">•</span><span style=\"color:black;\">)</span><span style=\"color:lightgrey;\">↵\n",
       "</span><span style=\"color:lightgrey;\">↵\n",
       "</span><span style=\"color:lightgrey;\">•</span><span style=\"color:lightgrey;\">•</span><span style=\"color:lightgrey;\">•</span><span style=\"color:lightgrey;\">•</span><span style=\"color:black;\">i</span><span style=\"color:black;\">f</span><span style=\"color:lightgrey;\">•</span><span style=\"color:black;\">t</span><span style=\"color:black;\">o</span><span style=\"color:black;\">p</span><span style=\"color:black;\">3</span><span style=\"color:black;\">[</span><span style=\"color:black;\">2</span><span style=\"color:black;\">]</span><span style=\"color:lightgrey;\">•</span><span style=\"color:black;\">></span><span style=\"color:lightgrey;\">•</span><span style=\"color:black;\">n</span><span style=\"color:black;\">:</span><span style=\"color:lightgrey;\">•</span><span style=\"color:black;\">c</span><span style=\"color:black;\">o</span><span style=\"color:black;\">n</span><span style=\"color:black;\">t</span><span style=\"color:black;\">i</span><span style=\"color:black;\">n</span><span style=\"color:black;\">u</span><span style=\"color:black;\">e</span><span style=\"color:lightgrey;\">↵\n",
       "</span><span style=\"color:lightgrey;\">•</span><span style=\"color:lightgrey;\">•</span><span style=\"color:lightgrey;\">•</span><span style=\"color:lightgrey;\">•</span><span style=\"color:black;\">t</span><span style=\"color:black;\">o</span><span style=\"color:black;\">p</span><span style=\"color:black;\">3</span><span style=\"color:black;\">[</span><span style=\"color:black;\">2</span><span style=\"color:black;\">]</span><span style=\"color:lightgrey;\">•</span><span style=\"color:black;\">=</span><span style=\"color:lightgrey;\">•</span><span style=\"color:black;\">n</span><span style=\"color:lightgrey;\">↵\n",
       "</span><span style=\"color:lightgrey;\">↵\n",
       "</span><span style=\"color:lightgrey;\">•</span><span style=\"color:lightgrey;\">•</span><span style=\"color:lightgrey;\">•</span><span style=\"color:lightgrey;\">•</span><span style=\"color:black;\">i</span><span style=\"color:black;\">f</span><span style=\"color:lightgrey;\">•</span><span style=\"color:black;\">t</span><span style=\"color:black;\">o</span><span style=\"color:black;\">p</span><span style=\"color:black;\">3</span><span style=\"color:black;\">[</span><span style=\"color:black;\">1</span><span style=\"color:black;\">]</span><span style=\"color:lightgrey;\">•</span><span style=\"color:black;\">></span><span style=\"color:lightgrey;\">•</span><span style=\"color:black;\">t</span><span style=\"color:black;\">o</span><span style=\"color:black;\">p</span><span style=\"color:black;\">3</span><span style=\"color:black;\">[</span><span style=\"color:black;\">2</span><span style=\"color:black;\">]</span><span style=\"color:black;\">:</span><span style=\"color:lightgrey;\">•</span><span style=\"color:black;\">c</span><span style=\"color:black;\">o</span><span style=\"color:black;\">n</span><span style=\"color:black;\">t</span><span style=\"color:black;\">i</span><span style=\"color:black;\">n</span><span style=\"color:black;\">u</span><span style=\"color:black;\">e</span><span style=\"color:lightgrey;\">↵\n",
       "</span><span style=\"color:lightgrey;\">•</span><span style=\"color:lightgrey;\">•</span><span style=\"color:lightgrey;\">•</span><span style=\"color:lightgrey;\">•</span><span style=\"color:black;\">t</span><span style=\"color:black;\">o</span><span style=\"color:black;\">p</span><span style=\"color:black;\">3</span><span style=\"color:black;\">[</span><span style=\"color:black;\">1</span><span style=\"color:black;\">]</span><span style=\"color:black;\">,</span><span style=\"color:lightgrey;\">•</span><span style=\"color:black;\">t</span><span style=\"color:black;\">o</span><span style=\"color:black;\">p</span><span style=\"color:black;\">3</span><span style=\"color:black;\">[</span><span style=\"color:black;\">2</span><span style=\"color:black;\">]</span><span style=\"color:lightgrey;\">•</span><span style=\"color:black;\">=</span><span style=\"color:lightgrey;\">•</span><span style=\"color:black;\">t</span><span style=\"color:black;\">o</span><span style=\"color:black;\">p</span><span style=\"color:black;\">3</span><span style=\"color:black;\">[</span><span style=\"color:black;\">2</span><span style=\"color:black;\">]</span><span style=\"color:black;\">,</span><span style=\"color:lightgrey;\">•</span><span style=\"color:black;\">t</span><span style=\"color:black;\">o</span><span style=\"color:black;\">p</span><span style=\"color:black;\">3</span><span style=\"color:black;\">[</span><span style=\"color:black;\">1</span><span style=\"color:black;\">]</span><span style=\"color:lightgrey;\">↵\n",
       "</span><span style=\"color:lightgrey;\">↵\n",
       "</span><span style=\"color:lightgrey;\">•</span><span style=\"color:lightgrey;\">•</span><span style=\"color:lightgrey;\">•</span><span style=\"color:lightgrey;\">•</span><span style=\"color:black;\">i</span><span style=\"color:black;\">f</span><span style=\"color:lightgrey;\">•</span><span style=\"color:black;\">t</span><span style=\"color:black;\">o</span><span style=\"color:black;\">p</span><span style=\"color:black;\">3</span><span style=\"color:black;\">[</span><span style=\"color:black;\">0</span><span style=\"color:black;\">]</span><span style=\"color:lightgrey;\">•</span><span style=\"color:black;\">></span><span style=\"color:lightgrey;\">•</span><span style=\"color:black;\">t</span><span style=\"color:black;\">o</span><span style=\"color:black;\">p</span><span style=\"color:black;\">3</span><span style=\"color:black;\">[</span><span style=\"color:black;\">1</span><span style=\"color:black;\">]</span><span style=\"color:black;\">:</span><span style=\"color:lightgrey;\">•</span><span style=\"color:black;\">c</span><span style=\"color:black;\">o</span><span style=\"color:black;\">n</span><span style=\"color:black;\">t</span><span style=\"color:black;\">i</span><span style=\"color:black;\">n</span><span style=\"color:black;\">u</span><span style=\"color:black;\">e</span><span style=\"color:lightgrey;\">↵\n",
       "</span><span style=\"color:lightgrey;\">•</span><span style=\"color:lightgrey;\">•</span><span style=\"color:lightgrey;\">•</span><span style=\"color:lightgrey;\">•</span><span style=\"color:black;\">t</span><span style=\"color:black;\">o</span><span style=\"color:black;\">p</span><span style=\"color:black;\">3</span><span style=\"color:black;\">[</span><span style=\"color:black;\">0</span><span style=\"color:black;\">]</span><span style=\"color:black;\">,</span><span style=\"color:lightgrey;\">•</span><span style=\"color:black;\">t</span><span style=\"color:black;\">o</span><span style=\"color:black;\">p</span><span style=\"color:black;\">3</span><span style=\"color:black;\">[</span><span style=\"color:black;\">1</span><span style=\"color:black;\">]</span><span style=\"color:lightgrey;\">•</span><span style=\"color:black;\">=</span><span style=\"color:lightgrey;\">•</span><span style=\"color:black;\">t</span><span style=\"color:black;\">o</span><span style=\"color:black;\">p</span><span style=\"color:black;\">3</span><span style=\"color:black;\">[</span><span style=\"color:black;\">1</span><span style=\"color:black;\">]</span><span style=\"color:black;\">,</span><span style=\"color:lightgrey;\">•</span><span style=\"color:black;\">t</span><span style=\"color:black;\">o</span><span style=\"color:black;\">p</span><span style=\"color:black;\">3</span><span style=\"color:black;\">[</span><span style=\"color:black;\">0</span><span style=\"color:black;\">]</span><span style=\"color:lightgrey;\">↵\n",
       "</span><span style=\"color:lightgrey;\">↵\n",
       "</span><span style=\"color:black;\">p</span><span style=\"color:black;\">r</span><span style=\"color:black;\">i</span><span style=\"color:black;\">n</span><span style=\"color:black;\">t</span><span style=\"color:lightgrey;\">•</span><span style=\"color:black;\">t</span><span style=\"color:black;\">o</span><span style=\"color:black;\">p</span><span style=\"color:red;\">[</span><span style=\"color:red;\">0</span><span style=\"color:red;\">]</span><span style=\"color:red;\">,</span><span style=\"color:red;\">•</span><span style=\"color:red;\">t</span><span style=\"color:red;\">o</span><span style=\"color:red;\">p</span><span style=\"color:red;\">[</span><span style=\"color:red;\">1</span><span style=\"color:red;\">]</span><span style=\"color:red;\">,</span><span style=\"color:red;\">•</span><span style=\"color:red;\">t</span><span style=\"color:red;\">o</span><span style=\"color:red;\">p</span><span style=\"color:red;\">[</span><span style=\"color:red;\">2</span><span style=\"color:red;\">]</span><span style=\"color:red;\">↵\n",
       "</span><span style=\"color:red;\">↵\n",
       "</span></pre>"
      ],
      "text/plain": [
       "<IPython.core.display.HTML object>"
      ]
     },
     "metadata": {},
     "output_type": "display_data"
    },
    {
     "data": {
      "text/html": [
       "<h2>The source code that is accepted:\n",
       "</h2>"
      ],
      "text/plain": [
       "<IPython.core.display.HTML object>"
      ]
     },
     "metadata": {},
     "output_type": "display_data"
    },
    {
     "data": {
      "text/html": [
       "<pre><span style=\"color:blue;\">↵\n",
       "</span><span style=\"color:blue;\">c</span><span style=\"color:black;\">n</span><span style=\"color:black;\">t</span><span style=\"color:lightgrey;\">•</span><span style=\"color:black;\">=</span><span style=\"color:lightgrey;\">•</span><span style=\"color:black;\">1</span><span style=\"color:black;\">0</span><span style=\"color:lightgrey;\">↵\n",
       "</span><span style=\"color:black;\">t</span><span style=\"color:black;\">o</span><span style=\"color:black;\">p</span><span style=\"color:black;\">3</span><span style=\"color:lightgrey;\">•</span><span style=\"color:black;\">=</span><span style=\"color:lightgrey;\">•</span><span style=\"color:black;\">[</span><span style=\"color:black;\">0</span><span style=\"color:black;\">,</span><span style=\"color:black;\">0</span><span style=\"color:black;\">,</span><span style=\"color:black;\">0</span><span style=\"color:black;\">]</span><span style=\"color:lightgrey;\">↵\n",
       "</span><span style=\"color:lightgrey;\">↵\n",
       "</span><span style=\"color:black;\">f</span><span style=\"color:black;\">o</span><span style=\"color:black;\">r</span><span style=\"color:lightgrey;\">•</span><span style=\"color:black;\">x</span><span style=\"color:lightgrey;\">•</span><span style=\"color:black;\">i</span><span style=\"color:black;\">n</span><span style=\"color:lightgrey;\">•</span><span style=\"color:black;\">x</span><span style=\"color:black;\">r</span><span style=\"color:black;\">a</span><span style=\"color:black;\">n</span><span style=\"color:black;\">g</span><span style=\"color:black;\">e</span><span style=\"color:black;\">(</span><span style=\"color:black;\">c</span><span style=\"color:black;\">n</span><span style=\"color:black;\">t</span><span style=\"color:black;\">)</span><span style=\"color:black;\">:</span><span style=\"color:lightgrey;\">↵\n",
       "</span><span style=\"color:lightgrey;\">•</span><span style=\"color:lightgrey;\">•</span><span style=\"color:lightgrey;\">•</span><span style=\"color:lightgrey;\">•</span><span style=\"color:black;\">n</span><span style=\"color:lightgrey;\">•</span><span style=\"color:black;\">=</span><span style=\"color:lightgrey;\">•</span><span style=\"color:black;\">i</span><span style=\"color:black;\">n</span><span style=\"color:black;\">t</span><span style=\"color:black;\">(</span><span style=\"color:lightgrey;\">•</span><span style=\"color:black;\">r</span><span style=\"color:black;\">a</span><span style=\"color:black;\">w</span><span style=\"color:black;\">_</span><span style=\"color:black;\">i</span><span style=\"color:black;\">n</span><span style=\"color:black;\">p</span><span style=\"color:black;\">u</span><span style=\"color:black;\">t</span><span style=\"color:black;\">(</span><span style=\"color:black;\">)</span><span style=\"color:lightgrey;\">•</span><span style=\"color:black;\">)</span><span style=\"color:lightgrey;\">↵\n",
       "</span><span style=\"color:lightgrey;\">↵\n",
       "</span><span style=\"color:lightgrey;\">•</span><span style=\"color:lightgrey;\">•</span><span style=\"color:lightgrey;\">•</span><span style=\"color:lightgrey;\">•</span><span style=\"color:black;\">i</span><span style=\"color:black;\">f</span><span style=\"color:lightgrey;\">•</span><span style=\"color:black;\">t</span><span style=\"color:black;\">o</span><span style=\"color:black;\">p</span><span style=\"color:black;\">3</span><span style=\"color:black;\">[</span><span style=\"color:black;\">2</span><span style=\"color:black;\">]</span><span style=\"color:lightgrey;\">•</span><span style=\"color:black;\">></span><span style=\"color:lightgrey;\">•</span><span style=\"color:black;\">n</span><span style=\"color:black;\">:</span><span style=\"color:lightgrey;\">•</span><span style=\"color:black;\">c</span><span style=\"color:black;\">o</span><span style=\"color:black;\">n</span><span style=\"color:black;\">t</span><span style=\"color:black;\">i</span><span style=\"color:black;\">n</span><span style=\"color:black;\">u</span><span style=\"color:black;\">e</span><span style=\"color:lightgrey;\">↵\n",
       "</span><span style=\"color:lightgrey;\">•</span><span style=\"color:lightgrey;\">•</span><span style=\"color:lightgrey;\">•</span><span style=\"color:lightgrey;\">•</span><span style=\"color:black;\">t</span><span style=\"color:black;\">o</span><span style=\"color:black;\">p</span><span style=\"color:black;\">3</span><span style=\"color:black;\">[</span><span style=\"color:black;\">2</span><span style=\"color:black;\">]</span><span style=\"color:lightgrey;\">•</span><span style=\"color:black;\">=</span><span style=\"color:lightgrey;\">•</span><span style=\"color:black;\">n</span><span style=\"color:lightgrey;\">↵\n",
       "</span><span style=\"color:lightgrey;\">↵\n",
       "</span><span style=\"color:lightgrey;\">•</span><span style=\"color:lightgrey;\">•</span><span style=\"color:lightgrey;\">•</span><span style=\"color:lightgrey;\">•</span><span style=\"color:black;\">i</span><span style=\"color:black;\">f</span><span style=\"color:lightgrey;\">•</span><span style=\"color:black;\">t</span><span style=\"color:black;\">o</span><span style=\"color:black;\">p</span><span style=\"color:black;\">3</span><span style=\"color:black;\">[</span><span style=\"color:black;\">1</span><span style=\"color:black;\">]</span><span style=\"color:lightgrey;\">•</span><span style=\"color:black;\">></span><span style=\"color:lightgrey;\">•</span><span style=\"color:black;\">t</span><span style=\"color:black;\">o</span><span style=\"color:black;\">p</span><span style=\"color:black;\">3</span><span style=\"color:black;\">[</span><span style=\"color:black;\">2</span><span style=\"color:black;\">]</span><span style=\"color:black;\">:</span><span style=\"color:lightgrey;\">•</span><span style=\"color:black;\">c</span><span style=\"color:black;\">o</span><span style=\"color:black;\">n</span><span style=\"color:black;\">t</span><span style=\"color:black;\">i</span><span style=\"color:black;\">n</span><span style=\"color:black;\">u</span><span style=\"color:black;\">e</span><span style=\"color:lightgrey;\">↵\n",
       "</span><span style=\"color:lightgrey;\">•</span><span style=\"color:lightgrey;\">•</span><span style=\"color:lightgrey;\">•</span><span style=\"color:lightgrey;\">•</span><span style=\"color:black;\">t</span><span style=\"color:black;\">o</span><span style=\"color:black;\">p</span><span style=\"color:black;\">3</span><span style=\"color:black;\">[</span><span style=\"color:black;\">1</span><span style=\"color:black;\">]</span><span style=\"color:black;\">,</span><span style=\"color:lightgrey;\">•</span><span style=\"color:black;\">t</span><span style=\"color:black;\">o</span><span style=\"color:black;\">p</span><span style=\"color:black;\">3</span><span style=\"color:black;\">[</span><span style=\"color:black;\">2</span><span style=\"color:black;\">]</span><span style=\"color:lightgrey;\">•</span><span style=\"color:black;\">=</span><span style=\"color:lightgrey;\">•</span><span style=\"color:black;\">t</span><span style=\"color:black;\">o</span><span style=\"color:black;\">p</span><span style=\"color:black;\">3</span><span style=\"color:black;\">[</span><span style=\"color:black;\">2</span><span style=\"color:black;\">]</span><span style=\"color:black;\">,</span><span style=\"color:lightgrey;\">•</span><span style=\"color:black;\">t</span><span style=\"color:black;\">o</span><span style=\"color:black;\">p</span><span style=\"color:black;\">3</span><span style=\"color:black;\">[</span><span style=\"color:black;\">1</span><span style=\"color:black;\">]</span><span style=\"color:lightgrey;\">↵\n",
       "</span><span style=\"color:lightgrey;\">↵\n",
       "</span><span style=\"color:lightgrey;\">•</span><span style=\"color:lightgrey;\">•</span><span style=\"color:lightgrey;\">•</span><span style=\"color:lightgrey;\">•</span><span style=\"color:black;\">i</span><span style=\"color:black;\">f</span><span style=\"color:lightgrey;\">•</span><span style=\"color:black;\">t</span><span style=\"color:black;\">o</span><span style=\"color:black;\">p</span><span style=\"color:black;\">3</span><span style=\"color:black;\">[</span><span style=\"color:black;\">0</span><span style=\"color:black;\">]</span><span style=\"color:lightgrey;\">•</span><span style=\"color:black;\">></span><span style=\"color:lightgrey;\">•</span><span style=\"color:black;\">t</span><span style=\"color:black;\">o</span><span style=\"color:black;\">p</span><span style=\"color:black;\">3</span><span style=\"color:black;\">[</span><span style=\"color:black;\">1</span><span style=\"color:black;\">]</span><span style=\"color:black;\">:</span><span style=\"color:lightgrey;\">•</span><span style=\"color:black;\">c</span><span style=\"color:black;\">o</span><span style=\"color:black;\">n</span><span style=\"color:black;\">t</span><span style=\"color:black;\">i</span><span style=\"color:black;\">n</span><span style=\"color:black;\">u</span><span style=\"color:black;\">e</span><span style=\"color:lightgrey;\">↵\n",
       "</span><span style=\"color:lightgrey;\">•</span><span style=\"color:lightgrey;\">•</span><span style=\"color:lightgrey;\">•</span><span style=\"color:lightgrey;\">•</span><span style=\"color:black;\">t</span><span style=\"color:black;\">o</span><span style=\"color:black;\">p</span><span style=\"color:black;\">3</span><span style=\"color:black;\">[</span><span style=\"color:black;\">0</span><span style=\"color:black;\">]</span><span style=\"color:black;\">,</span><span style=\"color:lightgrey;\">•</span><span style=\"color:black;\">t</span><span style=\"color:black;\">o</span><span style=\"color:black;\">p</span><span style=\"color:black;\">3</span><span style=\"color:black;\">[</span><span style=\"color:black;\">1</span><span style=\"color:black;\">]</span><span style=\"color:lightgrey;\">•</span><span style=\"color:black;\">=</span><span style=\"color:lightgrey;\">•</span><span style=\"color:black;\">t</span><span style=\"color:black;\">o</span><span style=\"color:black;\">p</span><span style=\"color:black;\">3</span><span style=\"color:black;\">[</span><span style=\"color:black;\">1</span><span style=\"color:black;\">]</span><span style=\"color:black;\">,</span><span style=\"color:lightgrey;\">•</span><span style=\"color:black;\">t</span><span style=\"color:black;\">o</span><span style=\"color:black;\">p</span><span style=\"color:black;\">3</span><span style=\"color:black;\">[</span><span style=\"color:black;\">0</span><span style=\"color:black;\">]</span><span style=\"color:lightgrey;\">↵\n",
       "</span><span style=\"color:lightgrey;\">↵\n",
       "</span><span style=\"color:black;\">p</span><span style=\"color:black;\">r</span><span style=\"color:black;\">i</span><span style=\"color:black;\">n</span><span style=\"color:black;\">t</span><span style=\"color:lightgrey;\">•</span><span style=\"color:black;\">t</span><span style=\"color:black;\">o</span><span style=\"color:black;\">p</span><span style=\"color:blue;\">3</span><span style=\"color:blue;\">[</span><span style=\"color:blue;\">0</span><span style=\"color:blue;\">]</span><span style=\"color:blue;\">↵\n",
       "</span><span style=\"color:blue;\">p</span><span style=\"color:blue;\">r</span><span style=\"color:blue;\">i</span><span style=\"color:blue;\">n</span><span style=\"color:blue;\">t</span><span style=\"color:blue;\">•</span><span style=\"color:blue;\">t</span><span style=\"color:blue;\">o</span><span style=\"color:blue;\">p</span><span style=\"color:blue;\">3</span><span style=\"color:blue;\">[</span><span style=\"color:blue;\">1</span><span style=\"color:blue;\">]</span><span style=\"color:blue;\">↵\n",
       "</span><span style=\"color:blue;\">p</span><span style=\"color:blue;\">r</span><span style=\"color:blue;\">i</span><span style=\"color:blue;\">n</span><span style=\"color:blue;\">t</span><span style=\"color:blue;\">•</span><span style=\"color:blue;\">t</span><span style=\"color:blue;\">o</span><span style=\"color:blue;\">p</span><span style=\"color:blue;\">3</span><span style=\"color:blue;\">[</span><span style=\"color:blue;\">2</span><span style=\"color:blue;\">]</span><span style=\"color:blue;\">↵\n",
       "</span><span style=\"color:blue;\">↵\n",
       "</span></pre>"
      ],
      "text/plain": [
       "<IPython.core.display.HTML object>"
      ]
     },
     "metadata": {},
     "output_type": "display_data"
    },
    {
     "data": {
      "text/html": [
       "<h2>The bug that should be assigned to the original_src:\n",
       "</h2>"
      ],
      "text/plain": [
       "<IPython.core.display.HTML object>"
      ]
     },
     "metadata": {},
     "output_type": "display_data"
    },
    {
     "data": {
      "text/html": [
       "<pre>SyntaxError: Missing parentheses in call to 'print'. Did you mean print(top[0], top[1], top[2])?</pre>"
      ],
      "text/plain": [
       "<IPython.core.display.HTML object>"
      ]
     },
     "metadata": {},
     "output_type": "display_data"
    },
    {
     "data": {
      "text/html": [
       "<h1>Example 6</h1>"
      ],
      "text/plain": [
       "<IPython.core.display.HTML object>"
      ]
     },
     "metadata": {},
     "output_type": "display_data"
    },
    {
     "data": {
      "text/html": [
       "<h2>The source code that is buggy:\n",
       "</h2>"
      ],
      "text/plain": [
       "<IPython.core.display.HTML object>"
      ]
     },
     "metadata": {},
     "output_type": "display_data"
    },
    {
     "data": {
      "text/html": [
       "<pre><span style=\"color:red;\">m</span><span style=\"color:lightgrey;\">•</span><span style=\"color:black;\">=</span><span style=\"color:lightgrey;\">•</span><span style=\"color:black;\">[</span><span style=\"color:black;\">i</span><span style=\"color:black;\">n</span><span style=\"color:black;\">t</span><span style=\"color:black;\">(</span><span style=\"color:black;\">l</span><span style=\"color:black;\">)</span><span style=\"color:lightgrey;\">•</span><span style=\"color:black;\">f</span><span style=\"color:black;\">o</span><span style=\"color:black;\">r</span><span style=\"color:lightgrey;\">•</span><span style=\"color:black;\">l</span><span style=\"color:lightgrey;\">•</span><span style=\"color:black;\">i</span><span style=\"color:black;\">n</span><span style=\"color:lightgrey;\">•</span><span style=\"color:red;\">i</span><span style=\"color:black;\">n</span><span style=\"color:red;\">p</span><span style=\"color:red;\">u</span><span style=\"color:red;\">t</span><span style=\"color:red;\">(</span><span style=\"color:red;\">)</span><span style=\"color:black;\">]</span><span style=\"color:lightgrey;\">↵\n",
       "</span><span style=\"color:black;\">m</span><span style=\"color:black;\">.</span><span style=\"color:black;\">s</span><span style=\"color:black;\">o</span><span style=\"color:black;\">r</span><span style=\"color:black;\">t</span><span style=\"color:black;\">(</span><span style=\"color:black;\">)</span><span style=\"color:lightgrey;\">↵\n",
       "</span><span style=\"color:black;\">p</span><span style=\"color:black;\">r</span><span style=\"color:black;\">i</span><span style=\"color:black;\">n</span><span style=\"color:black;\">t</span><span style=\"color:black;\">(</span><span style=\"color:red;\">s</span><span style=\"color:red;\">o</span><span style=\"color:red;\">r</span><span style=\"color:red;\">t</span><span style=\"color:black;\">[</span><span style=\"color:black;\">-</span><span style=\"color:black;\">1</span><span style=\"color:black;\">]</span><span style=\"color:black;\">)</span><span style=\"color:lightgrey;\">↵\n",
       "</span><span style=\"color:black;\">p</span><span style=\"color:black;\">r</span><span style=\"color:black;\">i</span><span style=\"color:black;\">n</span><span style=\"color:black;\">t</span><span style=\"color:black;\">(</span><span style=\"color:red;\">s</span><span style=\"color:red;\">o</span><span style=\"color:red;\">r</span><span style=\"color:red;\">t</span><span style=\"color:black;\">[</span><span style=\"color:black;\">-</span><span style=\"color:black;\">2</span><span style=\"color:black;\">]</span><span style=\"color:black;\">)</span><span style=\"color:lightgrey;\">↵\n",
       "</span><span style=\"color:black;\">p</span><span style=\"color:black;\">r</span><span style=\"color:black;\">i</span><span style=\"color:black;\">n</span><span style=\"color:black;\">t</span><span style=\"color:black;\">(</span><span style=\"color:red;\">s</span><span style=\"color:red;\">o</span><span style=\"color:red;\">r</span><span style=\"color:red;\">t</span><span style=\"color:black;\">[</span><span style=\"color:black;\">-</span><span style=\"color:black;\">3</span><span style=\"color:black;\">]</span><span style=\"color:black;\">)</span></pre>"
      ],
      "text/plain": [
       "<IPython.core.display.HTML object>"
      ]
     },
     "metadata": {},
     "output_type": "display_data"
    },
    {
     "data": {
      "text/html": [
       "<h2>The source code that is accepted:\n",
       "</h2>"
      ],
      "text/plain": [
       "<IPython.core.display.HTML object>"
      ]
     },
     "metadata": {},
     "output_type": "display_data"
    },
    {
     "data": {
      "text/html": [
       "<pre><span style=\"color:blue;\">i</span><span style=\"color:blue;\">m</span><span style=\"color:blue;\">p</span><span style=\"color:blue;\">o</span><span style=\"color:blue;\">r</span><span style=\"color:blue;\">t</span><span style=\"color:blue;\">•</span><span style=\"color:blue;\">s</span><span style=\"color:blue;\">y</span><span style=\"color:blue;\">s</span><span style=\"color:blue;\">↵\n",
       "</span><span style=\"color:blue;\">m</span><span style=\"color:lightgrey;\">•</span><span style=\"color:black;\">=</span><span style=\"color:lightgrey;\">•</span><span style=\"color:black;\">[</span><span style=\"color:black;\">i</span><span style=\"color:black;\">n</span><span style=\"color:black;\">t</span><span style=\"color:black;\">(</span><span style=\"color:black;\">l</span><span style=\"color:black;\">)</span><span style=\"color:lightgrey;\">•</span><span style=\"color:black;\">f</span><span style=\"color:black;\">o</span><span style=\"color:black;\">r</span><span style=\"color:lightgrey;\">•</span><span style=\"color:black;\">l</span><span style=\"color:lightgrey;\">•</span><span style=\"color:black;\">i</span><span style=\"color:black;\">n</span><span style=\"color:lightgrey;\">•</span><span style=\"color:blue;\">s</span><span style=\"color:blue;\">y</span><span style=\"color:blue;\">s</span><span style=\"color:blue;\">.</span><span style=\"color:blue;\">s</span><span style=\"color:blue;\">t</span><span style=\"color:blue;\">d</span><span style=\"color:blue;\">i</span><span style=\"color:black;\">n</span><span style=\"color:black;\">]</span><span style=\"color:lightgrey;\">↵\n",
       "</span><span style=\"color:black;\">m</span><span style=\"color:black;\">.</span><span style=\"color:black;\">s</span><span style=\"color:black;\">o</span><span style=\"color:black;\">r</span><span style=\"color:black;\">t</span><span style=\"color:black;\">(</span><span style=\"color:black;\">)</span><span style=\"color:lightgrey;\">↵\n",
       "</span><span style=\"color:black;\">p</span><span style=\"color:black;\">r</span><span style=\"color:black;\">i</span><span style=\"color:black;\">n</span><span style=\"color:black;\">t</span><span style=\"color:black;\">(</span><span style=\"color:blue;\">m</span><span style=\"color:black;\">[</span><span style=\"color:black;\">-</span><span style=\"color:black;\">1</span><span style=\"color:black;\">]</span><span style=\"color:black;\">)</span><span style=\"color:lightgrey;\">↵\n",
       "</span><span style=\"color:black;\">p</span><span style=\"color:black;\">r</span><span style=\"color:black;\">i</span><span style=\"color:black;\">n</span><span style=\"color:black;\">t</span><span style=\"color:black;\">(</span><span style=\"color:blue;\">m</span><span style=\"color:black;\">[</span><span style=\"color:black;\">-</span><span style=\"color:black;\">2</span><span style=\"color:black;\">]</span><span style=\"color:black;\">)</span><span style=\"color:lightgrey;\">↵\n",
       "</span><span style=\"color:black;\">p</span><span style=\"color:black;\">r</span><span style=\"color:black;\">i</span><span style=\"color:black;\">n</span><span style=\"color:black;\">t</span><span style=\"color:black;\">(</span><span style=\"color:blue;\">m</span><span style=\"color:black;\">[</span><span style=\"color:black;\">-</span><span style=\"color:black;\">3</span><span style=\"color:black;\">]</span><span style=\"color:black;\">)</span></pre>"
      ],
      "text/plain": [
       "<IPython.core.display.HTML object>"
      ]
     },
     "metadata": {},
     "output_type": "display_data"
    },
    {
     "data": {
      "text/html": [
       "<h2>The bug that should be assigned to the original_src:\n",
       "</h2>"
      ],
      "text/plain": [
       "<IPython.core.display.HTML object>"
      ]
     },
     "metadata": {},
     "output_type": "display_data"
    },
    {
     "data": {
      "text/html": [
       "<pre>NameError: name 'sort' is not defined</pre>"
      ],
      "text/plain": [
       "<IPython.core.display.HTML object>"
      ]
     },
     "metadata": {},
     "output_type": "display_data"
    },
    {
     "data": {
      "text/html": [
       "<h1>Example 7</h1>"
      ],
      "text/plain": [
       "<IPython.core.display.HTML object>"
      ]
     },
     "metadata": {},
     "output_type": "display_data"
    },
    {
     "data": {
      "text/html": [
       "<h2>The source code that is buggy:\n",
       "</h2>"
      ],
      "text/plain": [
       "<IPython.core.display.HTML object>"
      ]
     },
     "metadata": {},
     "output_type": "display_data"
    },
    {
     "data": {
      "text/html": [
       "<pre><span style=\"color:black;\">i</span><span style=\"color:black;\">m</span><span style=\"color:black;\">p</span><span style=\"color:black;\">o</span><span style=\"color:black;\">r</span><span style=\"color:black;\">t</span><span style=\"color:lightgrey;\">•</span><span style=\"color:black;\">s</span><span style=\"color:black;\">y</span><span style=\"color:black;\">s</span><span style=\"color:lightgrey;\">↵\n",
       "</span><span style=\"color:black;\">e</span><span style=\"color:lightgrey;\">•</span><span style=\"color:black;\">=</span><span style=\"color:lightgrey;\">•</span><span style=\"color:black;\">s</span><span style=\"color:black;\">y</span><span style=\"color:black;\">s</span><span style=\"color:black;\">.</span><span style=\"color:black;\">s</span><span style=\"color:black;\">t</span><span style=\"color:black;\">d</span><span style=\"color:black;\">i</span><span style=\"color:black;\">n</span><span style=\"color:black;\">.</span><span style=\"color:black;\">r</span><span style=\"color:black;\">e</span><span style=\"color:black;\">a</span><span style=\"color:black;\">d</span><span style=\"color:black;\">l</span><span style=\"color:black;\">i</span><span style=\"color:black;\">n</span><span style=\"color:black;\">e</span><span style=\"color:black;\">s</span><span style=\"color:black;\">(</span><span style=\"color:black;\">)</span><span style=\"color:red;\">:</span><span style=\"color:lightgrey;\">↵\n",
       "</span><span style=\"color:black;\">f</span><span style=\"color:black;\">o</span><span style=\"color:black;\">r</span><span style=\"color:lightgrey;\">•</span><span style=\"color:black;\">i</span><span style=\"color:lightgrey;\">•</span><span style=\"color:black;\">i</span><span style=\"color:black;\">n</span><span style=\"color:lightgrey;\">•</span><span style=\"color:black;\">r</span><span style=\"color:black;\">a</span><span style=\"color:black;\">n</span><span style=\"color:black;\">g</span><span style=\"color:black;\">e</span><span style=\"color:black;\">(</span><span style=\"color:black;\">3</span><span style=\"color:black;\">)</span><span style=\"color:black;\">:</span><span style=\"color:lightgrey;\">↵\n",
       "</span><span style=\"color:lightgrey;\">•</span><span style=\"color:lightgrey;\">•</span><span style=\"color:lightgrey;\">•</span><span style=\"color:lightgrey;\">•</span><span style=\"color:black;\">m</span><span style=\"color:lightgrey;\">•</span><span style=\"color:black;\">=</span><span style=\"color:lightgrey;\">•</span><span style=\"color:black;\">m</span><span style=\"color:black;\">a</span><span style=\"color:black;\">x</span><span style=\"color:black;\">(</span><span style=\"color:black;\">e</span><span style=\"color:black;\">)</span><span style=\"color:lightgrey;\">↵\n",
       "</span><span style=\"color:lightgrey;\">•</span><span style=\"color:lightgrey;\">•</span><span style=\"color:lightgrey;\">•</span><span style=\"color:lightgrey;\">•</span><span style=\"color:black;\">e</span><span style=\"color:black;\">.</span><span style=\"color:black;\">r</span><span style=\"color:black;\">e</span><span style=\"color:black;\">m</span><span style=\"color:black;\">o</span><span style=\"color:black;\">v</span><span style=\"color:black;\">e</span><span style=\"color:black;\">(</span><span style=\"color:black;\">m</span><span style=\"color:black;\">)</span><span style=\"color:lightgrey;\">↵\n",
       "</span><span style=\"color:lightgrey;\">•</span><span style=\"color:lightgrey;\">•</span><span style=\"color:lightgrey;\">•</span><span style=\"color:lightgrey;\">•</span><span style=\"color:black;\">p</span><span style=\"color:black;\">r</span><span style=\"color:black;\">i</span><span style=\"color:black;\">n</span><span style=\"color:black;\">t</span><span style=\"color:lightgrey;\">•</span><span style=\"color:black;\">(</span><span style=\"color:black;\">m</span><span style=\"color:black;\">)</span><span style=\"color:lightgrey;\">↵\n",
       "</span></pre>"
      ],
      "text/plain": [
       "<IPython.core.display.HTML object>"
      ]
     },
     "metadata": {},
     "output_type": "display_data"
    },
    {
     "data": {
      "text/html": [
       "<h2>The source code that is accepted:\n",
       "</h2>"
      ],
      "text/plain": [
       "<IPython.core.display.HTML object>"
      ]
     },
     "metadata": {},
     "output_type": "display_data"
    },
    {
     "data": {
      "text/html": [
       "<pre><span style=\"color:black;\">i</span><span style=\"color:black;\">m</span><span style=\"color:black;\">p</span><span style=\"color:black;\">o</span><span style=\"color:black;\">r</span><span style=\"color:black;\">t</span><span style=\"color:lightgrey;\">•</span><span style=\"color:black;\">s</span><span style=\"color:black;\">y</span><span style=\"color:black;\">s</span><span style=\"color:lightgrey;\">↵\n",
       "</span><span style=\"color:black;\">e</span><span style=\"color:lightgrey;\">•</span><span style=\"color:black;\">=</span><span style=\"color:lightgrey;\">•</span><span style=\"color:black;\">s</span><span style=\"color:black;\">y</span><span style=\"color:black;\">s</span><span style=\"color:black;\">.</span><span style=\"color:black;\">s</span><span style=\"color:black;\">t</span><span style=\"color:black;\">d</span><span style=\"color:black;\">i</span><span style=\"color:black;\">n</span><span style=\"color:black;\">.</span><span style=\"color:black;\">r</span><span style=\"color:black;\">e</span><span style=\"color:black;\">a</span><span style=\"color:black;\">d</span><span style=\"color:black;\">l</span><span style=\"color:black;\">i</span><span style=\"color:black;\">n</span><span style=\"color:black;\">e</span><span style=\"color:black;\">s</span><span style=\"color:black;\">(</span><span style=\"color:black;\">)</span><span style=\"color:blue;\">↵\n",
       "</span><span style=\"color:blue;\">e</span><span style=\"color:blue;\">•</span><span style=\"color:blue;\">=</span><span style=\"color:blue;\">•</span><span style=\"color:blue;\">[</span><span style=\"color:blue;\">i</span><span style=\"color:blue;\">n</span><span style=\"color:blue;\">t</span><span style=\"color:blue;\">(</span><span style=\"color:blue;\">i</span><span style=\"color:blue;\">)</span><span style=\"color:blue;\">•</span><span style=\"color:blue;\">f</span><span style=\"color:blue;\">o</span><span style=\"color:blue;\">r</span><span style=\"color:blue;\">•</span><span style=\"color:blue;\">i</span><span style=\"color:blue;\">•</span><span style=\"color:blue;\">i</span><span style=\"color:blue;\">n</span><span style=\"color:blue;\">•</span><span style=\"color:blue;\">e</span><span style=\"color:blue;\">]</span><span style=\"color:lightgrey;\">↵\n",
       "</span><span style=\"color:black;\">f</span><span style=\"color:black;\">o</span><span style=\"color:black;\">r</span><span style=\"color:lightgrey;\">•</span><span style=\"color:black;\">i</span><span style=\"color:lightgrey;\">•</span><span style=\"color:black;\">i</span><span style=\"color:black;\">n</span><span style=\"color:lightgrey;\">•</span><span style=\"color:black;\">r</span><span style=\"color:black;\">a</span><span style=\"color:black;\">n</span><span style=\"color:black;\">g</span><span style=\"color:black;\">e</span><span style=\"color:black;\">(</span><span style=\"color:black;\">3</span><span style=\"color:black;\">)</span><span style=\"color:black;\">:</span><span style=\"color:lightgrey;\">↵\n",
       "</span><span style=\"color:lightgrey;\">•</span><span style=\"color:lightgrey;\">•</span><span style=\"color:lightgrey;\">•</span><span style=\"color:lightgrey;\">•</span><span style=\"color:black;\">m</span><span style=\"color:lightgrey;\">•</span><span style=\"color:black;\">=</span><span style=\"color:lightgrey;\">•</span><span style=\"color:black;\">m</span><span style=\"color:black;\">a</span><span style=\"color:black;\">x</span><span style=\"color:black;\">(</span><span style=\"color:black;\">e</span><span style=\"color:black;\">)</span><span style=\"color:lightgrey;\">↵\n",
       "</span><span style=\"color:lightgrey;\">•</span><span style=\"color:lightgrey;\">•</span><span style=\"color:lightgrey;\">•</span><span style=\"color:lightgrey;\">•</span><span style=\"color:black;\">e</span><span style=\"color:black;\">.</span><span style=\"color:black;\">r</span><span style=\"color:black;\">e</span><span style=\"color:black;\">m</span><span style=\"color:black;\">o</span><span style=\"color:black;\">v</span><span style=\"color:black;\">e</span><span style=\"color:black;\">(</span><span style=\"color:black;\">m</span><span style=\"color:black;\">)</span><span style=\"color:lightgrey;\">↵\n",
       "</span><span style=\"color:lightgrey;\">•</span><span style=\"color:lightgrey;\">•</span><span style=\"color:lightgrey;\">•</span><span style=\"color:lightgrey;\">•</span><span style=\"color:black;\">p</span><span style=\"color:black;\">r</span><span style=\"color:black;\">i</span><span style=\"color:black;\">n</span><span style=\"color:black;\">t</span><span style=\"color:lightgrey;\">•</span><span style=\"color:black;\">(</span><span style=\"color:black;\">m</span><span style=\"color:black;\">)</span><span style=\"color:lightgrey;\">↵\n",
       "</span></pre>"
      ],
      "text/plain": [
       "<IPython.core.display.HTML object>"
      ]
     },
     "metadata": {},
     "output_type": "display_data"
    },
    {
     "data": {
      "text/html": [
       "<h2>The bug that should be assigned to the original_src:\n",
       "</h2>"
      ],
      "text/plain": [
       "<IPython.core.display.HTML object>"
      ]
     },
     "metadata": {},
     "output_type": "display_data"
    },
    {
     "data": {
      "text/html": [
       "<pre>SyntaxError: invalid syntax</pre>"
      ],
      "text/plain": [
       "<IPython.core.display.HTML object>"
      ]
     },
     "metadata": {},
     "output_type": "display_data"
    },
    {
     "data": {
      "text/html": [
       "<h1>Example 8</h1>"
      ],
      "text/plain": [
       "<IPython.core.display.HTML object>"
      ]
     },
     "metadata": {},
     "output_type": "display_data"
    },
    {
     "data": {
      "text/html": [
       "<h2>The source code that is buggy:\n",
       "</h2>"
      ],
      "text/plain": [
       "<IPython.core.display.HTML object>"
      ]
     },
     "metadata": {},
     "output_type": "display_data"
    },
    {
     "data": {
      "text/html": [
       "<pre><span style=\"color:black;\">l</span><span style=\"color:lightgrey;\">•</span><span style=\"color:black;\">=</span><span style=\"color:lightgrey;\">•</span><span style=\"color:black;\">[</span><span style=\"color:black;\">]</span><span style=\"color:lightgrey;\">↵\n",
       "</span><span style=\"color:black;\">f</span><span style=\"color:black;\">o</span><span style=\"color:black;\">r</span><span style=\"color:lightgrey;\">•</span><span style=\"color:black;\">i</span><span style=\"color:lightgrey;\">•</span><span style=\"color:black;\">i</span><span style=\"color:black;\">n</span><span style=\"color:lightgrey;\">•</span><span style=\"color:black;\">r</span><span style=\"color:black;\">a</span><span style=\"color:black;\">n</span><span style=\"color:black;\">g</span><span style=\"color:black;\">e</span><span style=\"color:black;\">(</span><span style=\"color:black;\">1</span><span style=\"color:black;\">0</span><span style=\"color:black;\">)</span><span style=\"color:black;\">:</span><span style=\"color:lightgrey;\">↵\n",
       "</span><span style=\"color:lightgrey;\">•</span><span style=\"color:lightgrey;\">•</span><span style=\"color:lightgrey;\">•</span><span style=\"color:lightgrey;\">•</span><span style=\"color:black;\">l</span><span style=\"color:black;\">.</span><span style=\"color:black;\">a</span><span style=\"color:black;\">p</span><span style=\"color:black;\">p</span><span style=\"color:black;\">e</span><span style=\"color:black;\">n</span><span style=\"color:black;\">d</span><span style=\"color:black;\">(</span><span style=\"color:black;\">i</span><span style=\"color:black;\">n</span><span style=\"color:black;\">t</span><span style=\"color:black;\">(</span><span style=\"color:black;\">i</span><span style=\"color:black;\">n</span><span style=\"color:black;\">p</span><span style=\"color:black;\">u</span><span style=\"color:black;\">t</span><span style=\"color:red;\">)</span><span style=\"color:black;\">)</span><span style=\"color:lightgrey;\">↵\n",
       "</span><span style=\"color:black;\">l</span><span style=\"color:black;\">.</span><span style=\"color:black;\">s</span><span style=\"color:black;\">o</span><span style=\"color:black;\">r</span><span style=\"color:black;\">t</span><span style=\"color:black;\">(</span><span style=\"color:black;\">)</span><span style=\"color:lightgrey;\">↵\n",
       "</span><span style=\"color:black;\">f</span><span style=\"color:black;\">o</span><span style=\"color:black;\">r</span><span style=\"color:lightgrey;\">•</span><span style=\"color:black;\">i</span><span style=\"color:lightgrey;\">•</span><span style=\"color:black;\">i</span><span style=\"color:black;\">n</span><span style=\"color:lightgrey;\">•</span><span style=\"color:black;\">r</span><span style=\"color:black;\">a</span><span style=\"color:black;\">n</span><span style=\"color:black;\">g</span><span style=\"color:black;\">e</span><span style=\"color:black;\">(</span><span style=\"color:black;\">3</span><span style=\"color:black;\">)</span><span style=\"color:black;\">:</span><span style=\"color:lightgrey;\">↵\n",
       "</span><span style=\"color:lightgrey;\">•</span><span style=\"color:lightgrey;\">•</span><span style=\"color:lightgrey;\">•</span><span style=\"color:lightgrey;\">•</span><span style=\"color:black;\">p</span><span style=\"color:black;\">r</span><span style=\"color:black;\">i</span><span style=\"color:black;\">n</span><span style=\"color:black;\">t</span><span style=\"color:black;\">(</span><span style=\"color:black;\">l</span><span style=\"color:black;\">[</span><span style=\"color:red;\">i</span><span style=\"color:black;\">]</span><span style=\"color:black;\">)</span><span style=\"color:lightgrey;\">↵\n",
       "</span></pre>"
      ],
      "text/plain": [
       "<IPython.core.display.HTML object>"
      ]
     },
     "metadata": {},
     "output_type": "display_data"
    },
    {
     "data": {
      "text/html": [
       "<h2>The source code that is accepted:\n",
       "</h2>"
      ],
      "text/plain": [
       "<IPython.core.display.HTML object>"
      ]
     },
     "metadata": {},
     "output_type": "display_data"
    },
    {
     "data": {
      "text/html": [
       "<pre><span style=\"color:black;\">l</span><span style=\"color:lightgrey;\">•</span><span style=\"color:black;\">=</span><span style=\"color:lightgrey;\">•</span><span style=\"color:black;\">[</span><span style=\"color:black;\">]</span><span style=\"color:lightgrey;\">↵\n",
       "</span><span style=\"color:black;\">f</span><span style=\"color:black;\">o</span><span style=\"color:black;\">r</span><span style=\"color:lightgrey;\">•</span><span style=\"color:black;\">i</span><span style=\"color:lightgrey;\">•</span><span style=\"color:black;\">i</span><span style=\"color:black;\">n</span><span style=\"color:lightgrey;\">•</span><span style=\"color:black;\">r</span><span style=\"color:black;\">a</span><span style=\"color:black;\">n</span><span style=\"color:black;\">g</span><span style=\"color:black;\">e</span><span style=\"color:black;\">(</span><span style=\"color:black;\">1</span><span style=\"color:black;\">0</span><span style=\"color:black;\">)</span><span style=\"color:black;\">:</span><span style=\"color:lightgrey;\">↵\n",
       "</span><span style=\"color:lightgrey;\">•</span><span style=\"color:lightgrey;\">•</span><span style=\"color:lightgrey;\">•</span><span style=\"color:lightgrey;\">•</span><span style=\"color:black;\">l</span><span style=\"color:black;\">.</span><span style=\"color:black;\">a</span><span style=\"color:black;\">p</span><span style=\"color:black;\">p</span><span style=\"color:black;\">e</span><span style=\"color:black;\">n</span><span style=\"color:black;\">d</span><span style=\"color:black;\">(</span><span style=\"color:black;\">i</span><span style=\"color:black;\">n</span><span style=\"color:black;\">t</span><span style=\"color:black;\">(</span><span style=\"color:black;\">i</span><span style=\"color:black;\">n</span><span style=\"color:black;\">p</span><span style=\"color:black;\">u</span><span style=\"color:black;\">t</span><span style=\"color:blue;\">(</span><span style=\"color:blue;\">)</span><span style=\"color:blue;\">)</span><span style=\"color:black;\">)</span><span style=\"color:lightgrey;\">↵\n",
       "</span><span style=\"color:black;\">l</span><span style=\"color:black;\">.</span><span style=\"color:black;\">s</span><span style=\"color:black;\">o</span><span style=\"color:black;\">r</span><span style=\"color:black;\">t</span><span style=\"color:black;\">(</span><span style=\"color:black;\">)</span><span style=\"color:lightgrey;\">↵\n",
       "</span><span style=\"color:black;\">f</span><span style=\"color:black;\">o</span><span style=\"color:black;\">r</span><span style=\"color:lightgrey;\">•</span><span style=\"color:black;\">i</span><span style=\"color:lightgrey;\">•</span><span style=\"color:black;\">i</span><span style=\"color:black;\">n</span><span style=\"color:lightgrey;\">•</span><span style=\"color:black;\">r</span><span style=\"color:black;\">a</span><span style=\"color:black;\">n</span><span style=\"color:black;\">g</span><span style=\"color:black;\">e</span><span style=\"color:black;\">(</span><span style=\"color:black;\">3</span><span style=\"color:black;\">)</span><span style=\"color:black;\">:</span><span style=\"color:lightgrey;\">↵\n",
       "</span><span style=\"color:lightgrey;\">•</span><span style=\"color:lightgrey;\">•</span><span style=\"color:lightgrey;\">•</span><span style=\"color:lightgrey;\">•</span><span style=\"color:black;\">p</span><span style=\"color:black;\">r</span><span style=\"color:black;\">i</span><span style=\"color:black;\">n</span><span style=\"color:black;\">t</span><span style=\"color:black;\">(</span><span style=\"color:black;\">l</span><span style=\"color:black;\">[</span><span style=\"color:blue;\">9</span><span style=\"color:blue;\">-</span><span style=\"color:blue;\">i</span><span style=\"color:black;\">]</span><span style=\"color:black;\">)</span><span style=\"color:lightgrey;\">↵\n",
       "</span></pre>"
      ],
      "text/plain": [
       "<IPython.core.display.HTML object>"
      ]
     },
     "metadata": {},
     "output_type": "display_data"
    },
    {
     "data": {
      "text/html": [
       "<h2>The bug that should be assigned to the original_src:\n",
       "</h2>"
      ],
      "text/plain": [
       "<IPython.core.display.HTML object>"
      ]
     },
     "metadata": {},
     "output_type": "display_data"
    },
    {
     "data": {
      "text/html": [
       "<pre>TypeError: int() argument must be a string, a bytes-like object or a number, not 'builtin_function_or_method'</pre>"
      ],
      "text/plain": [
       "<IPython.core.display.HTML object>"
      ]
     },
     "metadata": {},
     "output_type": "display_data"
    },
    {
     "data": {
      "text/html": [
       "<h1>Example 9</h1>"
      ],
      "text/plain": [
       "<IPython.core.display.HTML object>"
      ]
     },
     "metadata": {},
     "output_type": "display_data"
    },
    {
     "data": {
      "text/html": [
       "<h2>The source code that is buggy:\n",
       "</h2>"
      ],
      "text/plain": [
       "<IPython.core.display.HTML object>"
      ]
     },
     "metadata": {},
     "output_type": "display_data"
    },
    {
     "data": {
      "text/html": [
       "<pre><span style=\"color:black;\">h</span><span style=\"color:black;\">e</span><span style=\"color:black;\">i</span><span style=\"color:black;\">g</span><span style=\"color:black;\">h</span><span style=\"color:black;\">t</span><span style=\"color:black;\">O</span><span style=\"color:black;\">f</span><span style=\"color:black;\">M</span><span style=\"color:black;\">o</span><span style=\"color:black;\">u</span><span style=\"color:black;\">n</span><span style=\"color:black;\">t</span><span style=\"color:black;\">a</span><span style=\"color:black;\">i</span><span style=\"color:black;\">n</span><span style=\"color:black;\">s</span><span style=\"color:lightgrey;\">•</span><span style=\"color:black;\">=</span><span style=\"color:lightgrey;\">•</span><span style=\"color:black;\">[</span><span style=\"color:black;\">]</span><span style=\"color:lightgrey;\">↵\n",
       "</span><span style=\"color:black;\">f</span><span style=\"color:black;\">o</span><span style=\"color:black;\">r</span><span style=\"color:lightgrey;\">•</span><span style=\"color:black;\">i</span><span style=\"color:lightgrey;\">•</span><span style=\"color:black;\">i</span><span style=\"color:black;\">n</span><span style=\"color:lightgrey;\">•</span><span style=\"color:black;\">r</span><span style=\"color:black;\">a</span><span style=\"color:black;\">n</span><span style=\"color:black;\">g</span><span style=\"color:black;\">e</span><span style=\"color:black;\">(</span><span style=\"color:black;\">1</span><span style=\"color:black;\">,</span><span style=\"color:lightgrey;\">•</span><span style=\"color:black;\">1</span><span style=\"color:black;\">1</span><span style=\"color:black;\">)</span><span style=\"color:black;\">:</span><span style=\"color:lightgrey;\">↵\n",
       "</span><span style=\"color:black;\">\t</span><span style=\"color:black;\">h</span><span style=\"color:black;\">e</span><span style=\"color:black;\">i</span><span style=\"color:black;\">g</span><span style=\"color:black;\">h</span><span style=\"color:black;\">t</span><span style=\"color:black;\">O</span><span style=\"color:black;\">f</span><span style=\"color:black;\">M</span><span style=\"color:black;\">o</span><span style=\"color:black;\">u</span><span style=\"color:black;\">n</span><span style=\"color:black;\">t</span><span style=\"color:black;\">a</span><span style=\"color:black;\">i</span><span style=\"color:black;\">n</span><span style=\"color:black;\">s</span><span style=\"color:black;\">.</span><span style=\"color:black;\">a</span><span style=\"color:black;\">p</span><span style=\"color:black;\">p</span><span style=\"color:black;\">e</span><span style=\"color:black;\">n</span><span style=\"color:black;\">d</span><span style=\"color:black;\">(</span><span style=\"color:black;\">i</span><span style=\"color:black;\">n</span><span style=\"color:black;\">t</span><span style=\"color:black;\">(</span><span style=\"color:black;\">i</span><span style=\"color:black;\">n</span><span style=\"color:black;\">p</span><span style=\"color:black;\">u</span><span style=\"color:black;\">t</span><span style=\"color:black;\">(</span><span style=\"color:black;\">)</span><span style=\"color:black;\">)</span><span style=\"color:black;\">)</span><span style=\"color:lightgrey;\">↵\n",
       "</span><span style=\"color:black;\">h</span><span style=\"color:black;\">e</span><span style=\"color:black;\">i</span><span style=\"color:black;\">g</span><span style=\"color:black;\">h</span><span style=\"color:black;\">t</span><span style=\"color:black;\">O</span><span style=\"color:black;\">f</span><span style=\"color:black;\">M</span><span style=\"color:black;\">o</span><span style=\"color:black;\">u</span><span style=\"color:black;\">n</span><span style=\"color:black;\">t</span><span style=\"color:black;\">a</span><span style=\"color:black;\">i</span><span style=\"color:black;\">n</span><span style=\"color:black;\">s</span><span style=\"color:black;\">.</span><span style=\"color:black;\">s</span><span style=\"color:black;\">o</span><span style=\"color:black;\">r</span><span style=\"color:black;\">t</span><span style=\"color:black;\">(</span><span style=\"color:black;\">)</span><span style=\"color:lightgrey;\">↵\n",
       "</span><span style=\"color:black;\">f</span><span style=\"color:black;\">o</span><span style=\"color:black;\">r</span><span style=\"color:lightgrey;\">•</span><span style=\"color:black;\">i</span><span style=\"color:lightgrey;\">•</span><span style=\"color:black;\">i</span><span style=\"color:black;\">n</span><span style=\"color:lightgrey;\">•</span><span style=\"color:black;\">r</span><span style=\"color:black;\">a</span><span style=\"color:black;\">n</span><span style=\"color:black;\">g</span><span style=\"color:black;\">e</span><span style=\"color:black;\">(</span><span style=\"color:black;\">1</span><span style=\"color:black;\">,</span><span style=\"color:lightgrey;\">•</span><span style=\"color:black;\">4</span><span style=\"color:black;\">)</span><span style=\"color:black;\">:</span><span style=\"color:lightgrey;\">↵\n",
       "</span><span style=\"color:black;\">\t</span><span style=\"color:black;\">p</span><span style=\"color:black;\">r</span><span style=\"color:black;\">i</span><span style=\"color:black;\">n</span><span style=\"color:black;\">t</span><span style=\"color:black;\">(</span><span style=\"color:black;\">h</span><span style=\"color:black;\">e</span><span style=\"color:black;\">i</span><span style=\"color:black;\">g</span><span style=\"color:black;\">h</span><span style=\"color:black;\">t</span><span style=\"color:black;\">O</span><span style=\"color:black;\">f</span><span style=\"color:black;\">M</span><span style=\"color:black;\">o</span><span style=\"color:black;\">u</span><span style=\"color:black;\">n</span><span style=\"color:black;\">t</span><span style=\"color:black;\">a</span><span style=\"color:black;\">i</span><span style=\"color:black;\">n</span><span style=\"color:black;\">s</span><span style=\"color:black;\">[</span><span style=\"color:black;\">-</span><span style=\"color:red;\">j</span><span style=\"color:black;\">]</span><span style=\"color:black;\">)</span></pre>"
      ],
      "text/plain": [
       "<IPython.core.display.HTML object>"
      ]
     },
     "metadata": {},
     "output_type": "display_data"
    },
    {
     "data": {
      "text/html": [
       "<h2>The source code that is accepted:\n",
       "</h2>"
      ],
      "text/plain": [
       "<IPython.core.display.HTML object>"
      ]
     },
     "metadata": {},
     "output_type": "display_data"
    },
    {
     "data": {
      "text/html": [
       "<pre><span style=\"color:black;\">h</span><span style=\"color:black;\">e</span><span style=\"color:black;\">i</span><span style=\"color:black;\">g</span><span style=\"color:black;\">h</span><span style=\"color:black;\">t</span><span style=\"color:black;\">O</span><span style=\"color:black;\">f</span><span style=\"color:black;\">M</span><span style=\"color:black;\">o</span><span style=\"color:black;\">u</span><span style=\"color:black;\">n</span><span style=\"color:black;\">t</span><span style=\"color:black;\">a</span><span style=\"color:black;\">i</span><span style=\"color:black;\">n</span><span style=\"color:black;\">s</span><span style=\"color:lightgrey;\">•</span><span style=\"color:black;\">=</span><span style=\"color:lightgrey;\">•</span><span style=\"color:black;\">[</span><span style=\"color:black;\">]</span><span style=\"color:lightgrey;\">↵\n",
       "</span><span style=\"color:black;\">f</span><span style=\"color:black;\">o</span><span style=\"color:black;\">r</span><span style=\"color:lightgrey;\">•</span><span style=\"color:black;\">i</span><span style=\"color:lightgrey;\">•</span><span style=\"color:black;\">i</span><span style=\"color:black;\">n</span><span style=\"color:lightgrey;\">•</span><span style=\"color:black;\">r</span><span style=\"color:black;\">a</span><span style=\"color:black;\">n</span><span style=\"color:black;\">g</span><span style=\"color:black;\">e</span><span style=\"color:black;\">(</span><span style=\"color:black;\">1</span><span style=\"color:black;\">,</span><span style=\"color:lightgrey;\">•</span><span style=\"color:black;\">1</span><span style=\"color:black;\">1</span><span style=\"color:black;\">)</span><span style=\"color:black;\">:</span><span style=\"color:lightgrey;\">↵\n",
       "</span><span style=\"color:black;\">\t</span><span style=\"color:black;\">h</span><span style=\"color:black;\">e</span><span style=\"color:black;\">i</span><span style=\"color:black;\">g</span><span style=\"color:black;\">h</span><span style=\"color:black;\">t</span><span style=\"color:black;\">O</span><span style=\"color:black;\">f</span><span style=\"color:black;\">M</span><span style=\"color:black;\">o</span><span style=\"color:black;\">u</span><span style=\"color:black;\">n</span><span style=\"color:black;\">t</span><span style=\"color:black;\">a</span><span style=\"color:black;\">i</span><span style=\"color:black;\">n</span><span style=\"color:black;\">s</span><span style=\"color:black;\">.</span><span style=\"color:black;\">a</span><span style=\"color:black;\">p</span><span style=\"color:black;\">p</span><span style=\"color:black;\">e</span><span style=\"color:black;\">n</span><span style=\"color:black;\">d</span><span style=\"color:black;\">(</span><span style=\"color:black;\">i</span><span style=\"color:black;\">n</span><span style=\"color:black;\">t</span><span style=\"color:black;\">(</span><span style=\"color:black;\">i</span><span style=\"color:black;\">n</span><span style=\"color:black;\">p</span><span style=\"color:black;\">u</span><span style=\"color:black;\">t</span><span style=\"color:black;\">(</span><span style=\"color:black;\">)</span><span style=\"color:black;\">)</span><span style=\"color:black;\">)</span><span style=\"color:lightgrey;\">↵\n",
       "</span><span style=\"color:black;\">h</span><span style=\"color:black;\">e</span><span style=\"color:black;\">i</span><span style=\"color:black;\">g</span><span style=\"color:black;\">h</span><span style=\"color:black;\">t</span><span style=\"color:black;\">O</span><span style=\"color:black;\">f</span><span style=\"color:black;\">M</span><span style=\"color:black;\">o</span><span style=\"color:black;\">u</span><span style=\"color:black;\">n</span><span style=\"color:black;\">t</span><span style=\"color:black;\">a</span><span style=\"color:black;\">i</span><span style=\"color:black;\">n</span><span style=\"color:black;\">s</span><span style=\"color:black;\">.</span><span style=\"color:black;\">s</span><span style=\"color:black;\">o</span><span style=\"color:black;\">r</span><span style=\"color:black;\">t</span><span style=\"color:black;\">(</span><span style=\"color:black;\">)</span><span style=\"color:lightgrey;\">↵\n",
       "</span><span style=\"color:black;\">f</span><span style=\"color:black;\">o</span><span style=\"color:black;\">r</span><span style=\"color:lightgrey;\">•</span><span style=\"color:black;\">i</span><span style=\"color:lightgrey;\">•</span><span style=\"color:black;\">i</span><span style=\"color:black;\">n</span><span style=\"color:lightgrey;\">•</span><span style=\"color:black;\">r</span><span style=\"color:black;\">a</span><span style=\"color:black;\">n</span><span style=\"color:black;\">g</span><span style=\"color:black;\">e</span><span style=\"color:black;\">(</span><span style=\"color:black;\">1</span><span style=\"color:black;\">,</span><span style=\"color:lightgrey;\">•</span><span style=\"color:black;\">4</span><span style=\"color:black;\">)</span><span style=\"color:black;\">:</span><span style=\"color:lightgrey;\">↵\n",
       "</span><span style=\"color:black;\">\t</span><span style=\"color:black;\">p</span><span style=\"color:black;\">r</span><span style=\"color:black;\">i</span><span style=\"color:black;\">n</span><span style=\"color:black;\">t</span><span style=\"color:black;\">(</span><span style=\"color:black;\">h</span><span style=\"color:black;\">e</span><span style=\"color:black;\">i</span><span style=\"color:black;\">g</span><span style=\"color:black;\">h</span><span style=\"color:black;\">t</span><span style=\"color:black;\">O</span><span style=\"color:black;\">f</span><span style=\"color:black;\">M</span><span style=\"color:black;\">o</span><span style=\"color:black;\">u</span><span style=\"color:black;\">n</span><span style=\"color:black;\">t</span><span style=\"color:black;\">a</span><span style=\"color:black;\">i</span><span style=\"color:black;\">n</span><span style=\"color:black;\">s</span><span style=\"color:black;\">[</span><span style=\"color:black;\">-</span><span style=\"color:blue;\">i</span><span style=\"color:black;\">]</span><span style=\"color:black;\">)</span></pre>"
      ],
      "text/plain": [
       "<IPython.core.display.HTML object>"
      ]
     },
     "metadata": {},
     "output_type": "display_data"
    },
    {
     "data": {
      "text/html": [
       "<h2>The bug that should be assigned to the original_src:\n",
       "</h2>"
      ],
      "text/plain": [
       "<IPython.core.display.HTML object>"
      ]
     },
     "metadata": {},
     "output_type": "display_data"
    },
    {
     "data": {
      "text/html": [
       "<pre>NameError: name 'j' is not defined</pre>"
      ],
      "text/plain": [
       "<IPython.core.display.HTML object>"
      ]
     },
     "metadata": {},
     "output_type": "display_data"
    },
    {
     "data": {
      "text/html": [
       "<h1>Example 10</h1>"
      ],
      "text/plain": [
       "<IPython.core.display.HTML object>"
      ]
     },
     "metadata": {},
     "output_type": "display_data"
    },
    {
     "data": {
      "text/html": [
       "<h2>The source code that is buggy:\n",
       "</h2>"
      ],
      "text/plain": [
       "<IPython.core.display.HTML object>"
      ]
     },
     "metadata": {},
     "output_type": "display_data"
    },
    {
     "data": {
      "text/html": [
       "<pre><span style=\"color:red;\">t</span><span style=\"color:red;\">r</span><span style=\"color:red;\">y</span><span style=\"color:red;\">:</span><span style=\"color:lightgrey;\">↵\n",
       "</span><span style=\"color:red;\">•</span><span style=\"color:red;\">•</span><span style=\"color:red;\">•</span><span style=\"color:red;\">•</span><span style=\"color:red;\">w</span><span style=\"color:red;\">h</span><span style=\"color:red;\">i</span><span style=\"color:red;\">l</span><span style=\"color:black;\">e</span><span style=\"color:red;\">•</span><span style=\"color:black;\">T</span><span style=\"color:black;\">r</span><span style=\"color:black;\">u</span><span style=\"color:black;\">e</span><span style=\"color:red;\">:</span><span style=\"color:lightgrey;\">↵\n",
       "</span><span style=\"color:red;\">e</span><span style=\"color:red;\">x</span><span style=\"color:red;\">c</span><span style=\"color:red;\">e</span><span style=\"color:red;\">p</span><span style=\"color:red;\">t</span><span style=\"color:red;\">•</span><span style=\"color:red;\">E</span><span style=\"color:red;\">O</span><span style=\"color:red;\">F</span><span style=\"color:red;\">E</span><span style=\"color:red;\">r</span><span style=\"color:red;\">r</span><span style=\"color:red;\">o</span><span style=\"color:red;\">r</span><span style=\"color:red;\">:</span></pre>"
      ],
      "text/plain": [
       "<IPython.core.display.HTML object>"
      ]
     },
     "metadata": {},
     "output_type": "display_data"
    },
    {
     "data": {
      "text/html": [
       "<h2>The source code that is accepted:\n",
       "</h2>"
      ],
      "text/plain": [
       "<IPython.core.display.HTML object>"
      ]
     },
     "metadata": {},
     "output_type": "display_data"
    },
    {
     "data": {
      "text/html": [
       "<pre><span style=\"color:blue;\">a</span><span style=\"color:blue;\">=</span><span style=\"color:blue;\">[</span><span style=\"color:blue;\">i</span><span style=\"color:blue;\">n</span><span style=\"color:blue;\">t</span><span style=\"color:blue;\">(</span><span style=\"color:blue;\">i</span><span style=\"color:blue;\">n</span><span style=\"color:blue;\">p</span><span style=\"color:blue;\">u</span><span style=\"color:blue;\">t</span><span style=\"color:blue;\">(</span><span style=\"color:blue;\">)</span><span style=\"color:blue;\">)</span><span style=\"color:blue;\">•</span><span style=\"color:blue;\">f</span><span style=\"color:blue;\">o</span><span style=\"color:blue;\">r</span><span style=\"color:blue;\">•</span><span style=\"color:blue;\">i</span><span style=\"color:blue;\">•</span><span style=\"color:blue;\">i</span><span style=\"color:blue;\">n</span><span style=\"color:blue;\">•</span><span style=\"color:blue;\">r</span><span style=\"color:blue;\">a</span><span style=\"color:blue;\">n</span><span style=\"color:blue;\">g</span><span style=\"color:blue;\">e</span><span style=\"color:blue;\">(</span><span style=\"color:blue;\">1</span><span style=\"color:blue;\">0</span><span style=\"color:blue;\">)</span><span style=\"color:blue;\">]</span><span style=\"color:lightgrey;\">↵\n",
       "</span><span style=\"color:blue;\">a</span><span style=\"color:blue;\">.</span><span style=\"color:blue;\">s</span><span style=\"color:blue;\">o</span><span style=\"color:blue;\">r</span><span style=\"color:blue;\">t</span><span style=\"color:blue;\">(</span><span style=\"color:blue;\">r</span><span style=\"color:black;\">e</span><span style=\"color:blue;\">v</span><span style=\"color:blue;\">e</span><span style=\"color:blue;\">r</span><span style=\"color:blue;\">s</span><span style=\"color:blue;\">e</span><span style=\"color:blue;\">=</span><span style=\"color:black;\">T</span><span style=\"color:black;\">r</span><span style=\"color:black;\">u</span><span style=\"color:black;\">e</span><span style=\"color:blue;\">)</span><span style=\"color:blue;\">↵\n",
       "</span><span style=\"color:blue;\">f</span><span style=\"color:blue;\">o</span><span style=\"color:blue;\">r</span><span style=\"color:blue;\">•</span><span style=\"color:blue;\">i</span><span style=\"color:blue;\">,</span><span style=\"color:blue;\">•</span><span style=\"color:blue;\">i</span><span style=\"color:blue;\">v</span><span style=\"color:blue;\">•</span><span style=\"color:blue;\">i</span><span style=\"color:blue;\">n</span><span style=\"color:blue;\">•</span><span style=\"color:blue;\">e</span><span style=\"color:blue;\">n</span><span style=\"color:blue;\">u</span><span style=\"color:blue;\">m</span><span style=\"color:blue;\">e</span><span style=\"color:blue;\">r</span><span style=\"color:blue;\">a</span><span style=\"color:blue;\">t</span><span style=\"color:blue;\">e</span><span style=\"color:blue;\">(</span><span style=\"color:blue;\">a</span><span style=\"color:blue;\">)</span><span style=\"color:blue;\">:</span><span style=\"color:lightgrey;\">↵\n",
       "</span><span style=\"color:blue;\">\t</span><span style=\"color:blue;\">p</span><span style=\"color:blue;\">r</span><span style=\"color:blue;\">i</span><span style=\"color:blue;\">n</span><span style=\"color:blue;\">t</span><span style=\"color:blue;\">(</span><span style=\"color:blue;\">i</span><span style=\"color:blue;\">v</span><span style=\"color:blue;\">)</span><span style=\"color:blue;\">↵\n",
       "</span><span style=\"color:blue;\">\t</span><span style=\"color:blue;\">i</span><span style=\"color:blue;\">f</span><span style=\"color:blue;\">•</span><span style=\"color:blue;\">i</span><span style=\"color:blue;\">•</span><span style=\"color:blue;\">></span><span style=\"color:blue;\">=</span><span style=\"color:blue;\">•</span><span style=\"color:blue;\">2</span><span style=\"color:blue;\">:</span><span style=\"color:blue;\">↵\n",
       "</span><span style=\"color:blue;\">\t</span><span style=\"color:blue;\">\t</span><span style=\"color:blue;\">b</span><span style=\"color:blue;\">r</span><span style=\"color:blue;\">e</span><span style=\"color:blue;\">a</span><span style=\"color:blue;\">k</span></pre>"
      ],
      "text/plain": [
       "<IPython.core.display.HTML object>"
      ]
     },
     "metadata": {},
     "output_type": "display_data"
    },
    {
     "data": {
      "text/html": [
       "<h2>The bug that should be assigned to the original_src:\n",
       "</h2>"
      ],
      "text/plain": [
       "<IPython.core.display.HTML object>"
      ]
     },
     "metadata": {},
     "output_type": "display_data"
    },
    {
     "data": {
      "text/html": [
       "<pre>IndentationError: expected an indented block</pre>"
      ],
      "text/plain": [
       "<IPython.core.display.HTML object>"
      ]
     },
     "metadata": {},
     "output_type": "display_data"
    },
    {
     "data": {
      "text/html": [
       "<h1>Example 11</h1>"
      ],
      "text/plain": [
       "<IPython.core.display.HTML object>"
      ]
     },
     "metadata": {},
     "output_type": "display_data"
    },
    {
     "data": {
      "text/html": [
       "<h2>The source code that is buggy:\n",
       "</h2>"
      ],
      "text/plain": [
       "<IPython.core.display.HTML object>"
      ]
     },
     "metadata": {},
     "output_type": "display_data"
    },
    {
     "data": {
      "text/html": [
       "<pre><span style=\"color:red;\">a</span><span style=\"color:black;\">r</span><span style=\"color:black;\">r</span><span style=\"color:black;\">a</span><span style=\"color:black;\">y</span><span style=\"color:lightgrey;\">•</span><span style=\"color:black;\">=</span><span style=\"color:lightgrey;\">•</span><span style=\"color:black;\">[</span><span style=\"color:black;\">]</span><span style=\"color:lightgrey;\">↵\n",
       "</span><span style=\"color:black;\">f</span><span style=\"color:black;\">o</span><span style=\"color:black;\">r</span><span style=\"color:lightgrey;\">•</span><span style=\"color:black;\">i</span><span style=\"color:lightgrey;\">•</span><span style=\"color:black;\">i</span><span style=\"color:black;\">n</span><span style=\"color:lightgrey;\">•</span><span style=\"color:black;\">r</span><span style=\"color:black;\">a</span><span style=\"color:black;\">n</span><span style=\"color:black;\">g</span><span style=\"color:black;\">e</span><span style=\"color:black;\">(</span><span style=\"color:black;\">1</span><span style=\"color:black;\">0</span><span style=\"color:black;\">)</span><span style=\"color:black;\">:</span><span style=\"color:lightgrey;\">↵\n",
       "</span><span style=\"color:lightgrey;\">•</span><span style=\"color:black;\">l</span><span style=\"color:black;\">i</span><span style=\"color:black;\">n</span><span style=\"color:black;\">e</span><span style=\"color:lightgrey;\">•</span><span style=\"color:black;\">=</span><span style=\"color:lightgrey;\">•</span><span style=\"color:black;\">i</span><span style=\"color:black;\">n</span><span style=\"color:black;\">t</span><span style=\"color:black;\">(</span><span style=\"color:black;\">i</span><span style=\"color:black;\">n</span><span style=\"color:black;\">p</span><span style=\"color:black;\">u</span><span style=\"color:black;\">t</span><span style=\"color:black;\">(</span><span style=\"color:black;\">)</span><span style=\"color:black;\">)</span><span style=\"color:lightgrey;\">↵\n",
       "</span><span style=\"color:lightgrey;\">•</span><span style=\"color:black;\">a</span><span style=\"color:black;\">r</span><span style=\"color:black;\">r</span><span style=\"color:black;\">a</span><span style=\"color:black;\">y</span><span style=\"color:lightgrey;\">•</span><span style=\"color:black;\">+</span><span style=\"color:black;\">=</span><span style=\"color:lightgrey;\">•</span><span style=\"color:black;\">[</span><span style=\"color:black;\">l</span><span style=\"color:black;\">i</span><span style=\"color:black;\">n</span><span style=\"color:black;\">e</span><span style=\"color:black;\">]</span><span style=\"color:lightgrey;\">↵\n",
       "</span><span style=\"color:lightgrey;\">↵\n",
       "</span><span style=\"color:black;\">r</span><span style=\"color:black;\">e</span><span style=\"color:black;\">s</span><span style=\"color:black;\">u</span><span style=\"color:black;\">l</span><span style=\"color:black;\">t</span><span style=\"color:lightgrey;\">•</span><span style=\"color:black;\">=</span><span style=\"color:lightgrey;\">•</span><span style=\"color:red;\">a</span><span style=\"color:black;\">r</span><span style=\"color:black;\">r</span><span style=\"color:black;\">a</span><span style=\"color:black;\">y</span><span style=\"color:red;\">.</span><span style=\"color:red;\">s</span><span style=\"color:red;\">o</span><span style=\"color:red;\">r</span><span style=\"color:red;\">t</span><span style=\"color:red;\">(</span><span style=\"color:black;\">)</span><span style=\"color:black;\">[</span><span style=\"color:black;\">:</span><span style=\"color:black;\">:</span><span style=\"color:black;\">-</span><span style=\"color:black;\">1</span><span style=\"color:black;\">]</span><span style=\"color:lightgrey;\">↵\n",
       "</span><span style=\"color:lightgrey;\">↵\n",
       "</span><span style=\"color:black;\">p</span><span style=\"color:black;\">r</span><span style=\"color:black;\">i</span><span style=\"color:black;\">n</span><span style=\"color:black;\">t</span><span style=\"color:black;\">(</span><span style=\"color:black;\">r</span><span style=\"color:black;\">e</span><span style=\"color:black;\">s</span><span style=\"color:black;\">u</span><span style=\"color:black;\">l</span><span style=\"color:black;\">t</span><span style=\"color:black;\">[</span><span style=\"color:black;\">0</span><span style=\"color:black;\">]</span><span style=\"color:black;\">)</span><span style=\"color:lightgrey;\">↵\n",
       "</span><span style=\"color:black;\">p</span><span style=\"color:black;\">r</span><span style=\"color:black;\">i</span><span style=\"color:black;\">n</span><span style=\"color:black;\">t</span><span style=\"color:black;\">(</span><span style=\"color:black;\">r</span><span style=\"color:black;\">e</span><span style=\"color:black;\">s</span><span style=\"color:black;\">u</span><span style=\"color:black;\">l</span><span style=\"color:black;\">t</span><span style=\"color:black;\">[</span><span style=\"color:black;\">1</span><span style=\"color:black;\">]</span><span style=\"color:black;\">)</span><span style=\"color:lightgrey;\">↵\n",
       "</span><span style=\"color:black;\">p</span><span style=\"color:black;\">r</span><span style=\"color:black;\">i</span><span style=\"color:black;\">n</span><span style=\"color:black;\">t</span><span style=\"color:black;\">(</span><span style=\"color:black;\">r</span><span style=\"color:black;\">e</span><span style=\"color:black;\">s</span><span style=\"color:black;\">u</span><span style=\"color:black;\">l</span><span style=\"color:black;\">t</span><span style=\"color:black;\">[</span><span style=\"color:black;\">2</span><span style=\"color:black;\">]</span><span style=\"color:black;\">)</span></pre>"
      ],
      "text/plain": [
       "<IPython.core.display.HTML object>"
      ]
     },
     "metadata": {},
     "output_type": "display_data"
    },
    {
     "data": {
      "text/html": [
       "<h2>The source code that is accepted:\n",
       "</h2>"
      ],
      "text/plain": [
       "<IPython.core.display.HTML object>"
      ]
     },
     "metadata": {},
     "output_type": "display_data"
    },
    {
     "data": {
      "text/html": [
       "<pre><span style=\"color:blue;\">#</span><span style=\"color:blue;\">•</span><span style=\"color:blue;\">c</span><span style=\"color:blue;\">o</span><span style=\"color:blue;\">d</span><span style=\"color:blue;\">i</span><span style=\"color:blue;\">n</span><span style=\"color:blue;\">g</span><span style=\"color:blue;\">:</span><span style=\"color:blue;\">•</span><span style=\"color:blue;\">u</span><span style=\"color:blue;\">t</span><span style=\"color:blue;\">f</span><span style=\"color:blue;\">-</span><span style=\"color:blue;\">8</span><span style=\"color:blue;\">↵\n",
       "</span><span style=\"color:blue;\">#</span><span style=\"color:blue;\">•</span><span style=\"color:blue;\">H</span><span style=\"color:blue;\">e</span><span style=\"color:blue;\">r</span><span style=\"color:blue;\">e</span><span style=\"color:blue;\">•</span><span style=\"color:blue;\">y</span><span style=\"color:blue;\">o</span><span style=\"color:blue;\">u</span><span style=\"color:blue;\">r</span><span style=\"color:blue;\">•</span><span style=\"color:blue;\">c</span><span style=\"color:blue;\">o</span><span style=\"color:blue;\">d</span><span style=\"color:blue;\">e</span><span style=\"color:blue;\">•</span><span style=\"color:blue;\">!</span><span style=\"color:blue;\">↵\n",
       "</span><span style=\"color:blue;\">a</span><span style=\"color:black;\">r</span><span style=\"color:black;\">r</span><span style=\"color:black;\">a</span><span style=\"color:black;\">y</span><span style=\"color:lightgrey;\">•</span><span style=\"color:black;\">=</span><span style=\"color:lightgrey;\">•</span><span style=\"color:black;\">[</span><span style=\"color:black;\">]</span><span style=\"color:lightgrey;\">↵\n",
       "</span><span style=\"color:black;\">f</span><span style=\"color:black;\">o</span><span style=\"color:black;\">r</span><span style=\"color:lightgrey;\">•</span><span style=\"color:black;\">i</span><span style=\"color:lightgrey;\">•</span><span style=\"color:black;\">i</span><span style=\"color:black;\">n</span><span style=\"color:lightgrey;\">•</span><span style=\"color:black;\">r</span><span style=\"color:black;\">a</span><span style=\"color:black;\">n</span><span style=\"color:black;\">g</span><span style=\"color:black;\">e</span><span style=\"color:black;\">(</span><span style=\"color:black;\">1</span><span style=\"color:black;\">0</span><span style=\"color:black;\">)</span><span style=\"color:black;\">:</span><span style=\"color:lightgrey;\">↵\n",
       "</span><span style=\"color:lightgrey;\">•</span><span style=\"color:black;\">l</span><span style=\"color:black;\">i</span><span style=\"color:black;\">n</span><span style=\"color:black;\">e</span><span style=\"color:lightgrey;\">•</span><span style=\"color:black;\">=</span><span style=\"color:lightgrey;\">•</span><span style=\"color:black;\">i</span><span style=\"color:black;\">n</span><span style=\"color:black;\">t</span><span style=\"color:black;\">(</span><span style=\"color:black;\">i</span><span style=\"color:black;\">n</span><span style=\"color:black;\">p</span><span style=\"color:black;\">u</span><span style=\"color:black;\">t</span><span style=\"color:black;\">(</span><span style=\"color:black;\">)</span><span style=\"color:black;\">)</span><span style=\"color:lightgrey;\">↵\n",
       "</span><span style=\"color:lightgrey;\">•</span><span style=\"color:black;\">a</span><span style=\"color:black;\">r</span><span style=\"color:black;\">r</span><span style=\"color:black;\">a</span><span style=\"color:black;\">y</span><span style=\"color:lightgrey;\">•</span><span style=\"color:black;\">+</span><span style=\"color:black;\">=</span><span style=\"color:lightgrey;\">•</span><span style=\"color:black;\">[</span><span style=\"color:black;\">l</span><span style=\"color:black;\">i</span><span style=\"color:black;\">n</span><span style=\"color:black;\">e</span><span style=\"color:black;\">]</span><span style=\"color:lightgrey;\">↵\n",
       "</span><span style=\"color:lightgrey;\">↵\n",
       "</span><span style=\"color:black;\">r</span><span style=\"color:black;\">e</span><span style=\"color:black;\">s</span><span style=\"color:black;\">u</span><span style=\"color:black;\">l</span><span style=\"color:black;\">t</span><span style=\"color:lightgrey;\">•</span><span style=\"color:black;\">=</span><span style=\"color:lightgrey;\">•</span><span style=\"color:blue;\">s</span><span style=\"color:blue;\">o</span><span style=\"color:blue;\">r</span><span style=\"color:blue;\">t</span><span style=\"color:blue;\">e</span><span style=\"color:blue;\">d</span><span style=\"color:blue;\">(</span><span style=\"color:blue;\">a</span><span style=\"color:black;\">r</span><span style=\"color:black;\">r</span><span style=\"color:black;\">a</span><span style=\"color:black;\">y</span><span style=\"color:black;\">)</span><span style=\"color:black;\">[</span><span style=\"color:black;\">:</span><span style=\"color:black;\">:</span><span style=\"color:black;\">-</span><span style=\"color:black;\">1</span><span style=\"color:black;\">]</span><span style=\"color:lightgrey;\">↵\n",
       "</span><span style=\"color:lightgrey;\">↵\n",
       "</span><span style=\"color:black;\">p</span><span style=\"color:black;\">r</span><span style=\"color:black;\">i</span><span style=\"color:black;\">n</span><span style=\"color:black;\">t</span><span style=\"color:black;\">(</span><span style=\"color:black;\">r</span><span style=\"color:black;\">e</span><span style=\"color:black;\">s</span><span style=\"color:black;\">u</span><span style=\"color:black;\">l</span><span style=\"color:black;\">t</span><span style=\"color:black;\">[</span><span style=\"color:black;\">0</span><span style=\"color:black;\">]</span><span style=\"color:black;\">)</span><span style=\"color:lightgrey;\">↵\n",
       "</span><span style=\"color:black;\">p</span><span style=\"color:black;\">r</span><span style=\"color:black;\">i</span><span style=\"color:black;\">n</span><span style=\"color:black;\">t</span><span style=\"color:black;\">(</span><span style=\"color:black;\">r</span><span style=\"color:black;\">e</span><span style=\"color:black;\">s</span><span style=\"color:black;\">u</span><span style=\"color:black;\">l</span><span style=\"color:black;\">t</span><span style=\"color:black;\">[</span><span style=\"color:black;\">1</span><span style=\"color:black;\">]</span><span style=\"color:black;\">)</span><span style=\"color:lightgrey;\">↵\n",
       "</span><span style=\"color:black;\">p</span><span style=\"color:black;\">r</span><span style=\"color:black;\">i</span><span style=\"color:black;\">n</span><span style=\"color:black;\">t</span><span style=\"color:black;\">(</span><span style=\"color:black;\">r</span><span style=\"color:black;\">e</span><span style=\"color:black;\">s</span><span style=\"color:black;\">u</span><span style=\"color:black;\">l</span><span style=\"color:black;\">t</span><span style=\"color:black;\">[</span><span style=\"color:black;\">2</span><span style=\"color:black;\">]</span><span style=\"color:black;\">)</span></pre>"
      ],
      "text/plain": [
       "<IPython.core.display.HTML object>"
      ]
     },
     "metadata": {},
     "output_type": "display_data"
    },
    {
     "data": {
      "text/html": [
       "<h2>The bug that should be assigned to the original_src:\n",
       "</h2>"
      ],
      "text/plain": [
       "<IPython.core.display.HTML object>"
      ]
     },
     "metadata": {},
     "output_type": "display_data"
    },
    {
     "data": {
      "text/html": [
       "<pre>TypeError: 'NoneType' object is not subscriptable</pre>"
      ],
      "text/plain": [
       "<IPython.core.display.HTML object>"
      ]
     },
     "metadata": {},
     "output_type": "display_data"
    },
    {
     "data": {
      "text/html": [
       "<h1>Example 12</h1>"
      ],
      "text/plain": [
       "<IPython.core.display.HTML object>"
      ]
     },
     "metadata": {},
     "output_type": "display_data"
    },
    {
     "data": {
      "text/html": [
       "<h2>The source code that is buggy:\n",
       "</h2>"
      ],
      "text/plain": [
       "<IPython.core.display.HTML object>"
      ]
     },
     "metadata": {},
     "output_type": "display_data"
    },
    {
     "data": {
      "text/html": [
       "<pre><span style=\"color:black;\">a</span><span style=\"color:black;\">=</span><span style=\"color:black;\">[</span><span style=\"color:black;\">i</span><span style=\"color:black;\">n</span><span style=\"color:black;\">t</span><span style=\"color:black;\">(</span><span style=\"color:black;\">i</span><span style=\"color:black;\">n</span><span style=\"color:black;\">p</span><span style=\"color:black;\">u</span><span style=\"color:black;\">t</span><span style=\"color:black;\">(</span><span style=\"color:black;\">)</span><span style=\"color:black;\">)</span><span style=\"color:red;\">•</span><span style=\"color:black;\">i</span><span style=\"color:lightgrey;\">•</span><span style=\"color:black;\">i</span><span style=\"color:black;\">n</span><span style=\"color:lightgrey;\">•</span><span style=\"color:black;\">r</span><span style=\"color:black;\">a</span><span style=\"color:black;\">n</span><span style=\"color:black;\">g</span><span style=\"color:black;\">e</span><span style=\"color:black;\">(</span><span style=\"color:black;\">1</span><span style=\"color:black;\">0</span><span style=\"color:black;\">)</span><span style=\"color:black;\">]</span><span style=\"color:lightgrey;\">↵\n",
       "</span><span style=\"color:black;\">a</span><span style=\"color:black;\">.</span><span style=\"color:black;\">s</span><span style=\"color:black;\">o</span><span style=\"color:black;\">r</span><span style=\"color:black;\">t</span><span style=\"color:black;\">(</span><span style=\"color:black;\">)</span><span style=\"color:lightgrey;\">↵\n",
       "</span><span style=\"color:black;\">a</span><span style=\"color:black;\">.</span><span style=\"color:black;\">r</span><span style=\"color:black;\">e</span><span style=\"color:black;\">v</span><span style=\"color:black;\">e</span><span style=\"color:black;\">r</span><span style=\"color:black;\">s</span><span style=\"color:black;\">e</span><span style=\"color:black;\">(</span><span style=\"color:black;\">)</span><span style=\"color:lightgrey;\">↵\n",
       "</span><span style=\"color:black;\">p</span><span style=\"color:black;\">r</span><span style=\"color:black;\">i</span><span style=\"color:black;\">n</span><span style=\"color:black;\">t</span><span style=\"color:black;\">(</span><span style=\"color:black;\">a</span><span style=\"color:black;\">[</span><span style=\"color:black;\">0</span><span style=\"color:red;\">:</span><span style=\"color:black;\">2</span><span style=\"color:black;\">]</span><span style=\"color:black;\">)</span><span style=\"color:red;\">•</span></pre>"
      ],
      "text/plain": [
       "<IPython.core.display.HTML object>"
      ]
     },
     "metadata": {},
     "output_type": "display_data"
    },
    {
     "data": {
      "text/html": [
       "<h2>The source code that is accepted:\n",
       "</h2>"
      ],
      "text/plain": [
       "<IPython.core.display.HTML object>"
      ]
     },
     "metadata": {},
     "output_type": "display_data"
    },
    {
     "data": {
      "text/html": [
       "<pre><span style=\"color:black;\">a</span><span style=\"color:black;\">=</span><span style=\"color:black;\">[</span><span style=\"color:black;\">i</span><span style=\"color:black;\">n</span><span style=\"color:black;\">t</span><span style=\"color:black;\">(</span><span style=\"color:black;\">i</span><span style=\"color:black;\">n</span><span style=\"color:black;\">p</span><span style=\"color:black;\">u</span><span style=\"color:black;\">t</span><span style=\"color:black;\">(</span><span style=\"color:black;\">)</span><span style=\"color:black;\">)</span><span style=\"color:blue;\">•</span><span style=\"color:blue;\">f</span><span style=\"color:blue;\">o</span><span style=\"color:blue;\">r</span><span style=\"color:blue;\">•</span><span style=\"color:black;\">i</span><span style=\"color:lightgrey;\">•</span><span style=\"color:black;\">i</span><span style=\"color:black;\">n</span><span style=\"color:lightgrey;\">•</span><span style=\"color:black;\">r</span><span style=\"color:black;\">a</span><span style=\"color:black;\">n</span><span style=\"color:black;\">g</span><span style=\"color:black;\">e</span><span style=\"color:black;\">(</span><span style=\"color:black;\">1</span><span style=\"color:black;\">0</span><span style=\"color:black;\">)</span><span style=\"color:black;\">]</span><span style=\"color:lightgrey;\">↵\n",
       "</span><span style=\"color:black;\">a</span><span style=\"color:black;\">.</span><span style=\"color:black;\">s</span><span style=\"color:black;\">o</span><span style=\"color:black;\">r</span><span style=\"color:black;\">t</span><span style=\"color:black;\">(</span><span style=\"color:black;\">)</span><span style=\"color:lightgrey;\">↵\n",
       "</span><span style=\"color:black;\">a</span><span style=\"color:black;\">.</span><span style=\"color:black;\">r</span><span style=\"color:black;\">e</span><span style=\"color:black;\">v</span><span style=\"color:black;\">e</span><span style=\"color:black;\">r</span><span style=\"color:black;\">s</span><span style=\"color:black;\">e</span><span style=\"color:black;\">(</span><span style=\"color:black;\">)</span><span style=\"color:lightgrey;\">↵\n",
       "</span><span style=\"color:black;\">p</span><span style=\"color:black;\">r</span><span style=\"color:black;\">i</span><span style=\"color:black;\">n</span><span style=\"color:black;\">t</span><span style=\"color:black;\">(</span><span style=\"color:black;\">a</span><span style=\"color:black;\">[</span><span style=\"color:black;\">0</span><span style=\"color:blue;\">]</span><span style=\"color:blue;\">)</span><span style=\"color:blue;\">↵\n",
       "</span><span style=\"color:blue;\">p</span><span style=\"color:blue;\">r</span><span style=\"color:blue;\">i</span><span style=\"color:blue;\">n</span><span style=\"color:blue;\">t</span><span style=\"color:blue;\">(</span><span style=\"color:blue;\">a</span><span style=\"color:blue;\">[</span><span style=\"color:blue;\">1</span><span style=\"color:blue;\">]</span><span style=\"color:blue;\">)</span><span style=\"color:blue;\">↵\n",
       "</span><span style=\"color:blue;\">p</span><span style=\"color:blue;\">r</span><span style=\"color:blue;\">i</span><span style=\"color:blue;\">n</span><span style=\"color:blue;\">t</span><span style=\"color:blue;\">(</span><span style=\"color:blue;\">a</span><span style=\"color:blue;\">[</span><span style=\"color:black;\">2</span><span style=\"color:black;\">]</span><span style=\"color:black;\">)</span><span style=\"color:blue;\">↵\n",
       "</span><span style=\"color:blue;\">•</span></pre>"
      ],
      "text/plain": [
       "<IPython.core.display.HTML object>"
      ]
     },
     "metadata": {},
     "output_type": "display_data"
    },
    {
     "data": {
      "text/html": [
       "<h2>The bug that should be assigned to the original_src:\n",
       "</h2>"
      ],
      "text/plain": [
       "<IPython.core.display.HTML object>"
      ]
     },
     "metadata": {},
     "output_type": "display_data"
    },
    {
     "data": {
      "text/html": [
       "<pre>SyntaxError: invalid syntax</pre>"
      ],
      "text/plain": [
       "<IPython.core.display.HTML object>"
      ]
     },
     "metadata": {},
     "output_type": "display_data"
    },
    {
     "data": {
      "text/html": [
       "<h1>Example 13</h1>"
      ],
      "text/plain": [
       "<IPython.core.display.HTML object>"
      ]
     },
     "metadata": {},
     "output_type": "display_data"
    },
    {
     "data": {
      "text/html": [
       "<h2>The source code that is buggy:\n",
       "</h2>"
      ],
      "text/plain": [
       "<IPython.core.display.HTML object>"
      ]
     },
     "metadata": {},
     "output_type": "display_data"
    },
    {
     "data": {
      "text/html": [
       "<pre><span style=\"color:red;\">•</span><span style=\"color:black;\">[</span><span style=\"color:black;\">p</span><span style=\"color:black;\">r</span><span style=\"color:black;\">i</span><span style=\"color:black;\">n</span><span style=\"color:black;\">t</span><span style=\"color:black;\">(</span><span style=\"color:black;\">e</span><span style=\"color:black;\">)</span><span style=\"color:black;\">f</span><span style=\"color:black;\">o</span><span style=\"color:black;\">r</span><span style=\"color:lightgrey;\">•</span><span style=\"color:black;\">e</span><span style=\"color:lightgrey;\">•</span><span style=\"color:black;\">i</span><span style=\"color:black;\">n</span><span style=\"color:lightgrey;\">•</span><span style=\"color:black;\">s</span><span style=\"color:black;\">o</span><span style=\"color:black;\">r</span><span style=\"color:black;\">t</span><span style=\"color:black;\">e</span><span style=\"color:black;\">d</span><span style=\"color:black;\">(</span><span style=\"color:black;\">[</span><span style=\"color:black;\">i</span><span style=\"color:black;\">n</span><span style=\"color:black;\">t</span><span style=\"color:black;\">(</span><span style=\"color:black;\">i</span><span style=\"color:black;\">n</span><span style=\"color:black;\">p</span><span style=\"color:black;\">u</span><span style=\"color:black;\">t</span><span style=\"color:black;\">(</span><span style=\"color:black;\">)</span><span style=\"color:black;\">)</span><span style=\"color:black;\">f</span><span style=\"color:black;\">o</span><span style=\"color:black;\">r</span><span style=\"color:lightgrey;\">•</span><span style=\"color:black;\">_</span><span style=\"color:lightgrey;\">•</span><span style=\"color:black;\">i</span><span style=\"color:black;\">n</span><span style=\"color:lightgrey;\">•</span><span style=\"color:black;\">r</span><span style=\"color:black;\">a</span><span style=\"color:black;\">n</span><span style=\"color:black;\">g</span><span style=\"color:black;\">e</span><span style=\"color:black;\">(</span><span style=\"color:black;\">1</span><span style=\"color:black;\">0</span><span style=\"color:black;\">)</span><span style=\"color:black;\">]</span><span style=\"color:black;\">,</span><span style=\"color:black;\">r</span><span style=\"color:black;\">e</span><span style=\"color:black;\">v</span><span style=\"color:black;\">e</span><span style=\"color:black;\">r</span><span style=\"color:black;\">s</span><span style=\"color:black;\">e</span><span style=\"color:black;\">=</span><span style=\"color:black;\">T</span><span style=\"color:black;\">r</span><span style=\"color:black;\">u</span><span style=\"color:black;\">e</span><span style=\"color:black;\">)</span><span style=\"color:black;\">[</span><span style=\"color:black;\">0</span><span style=\"color:black;\">:</span><span style=\"color:black;\">3</span><span style=\"color:black;\">]</span><span style=\"color:black;\">]</span></pre>"
      ],
      "text/plain": [
       "<IPython.core.display.HTML object>"
      ]
     },
     "metadata": {},
     "output_type": "display_data"
    },
    {
     "data": {
      "text/html": [
       "<h2>The source code that is accepted:\n",
       "</h2>"
      ],
      "text/plain": [
       "<IPython.core.display.HTML object>"
      ]
     },
     "metadata": {},
     "output_type": "display_data"
    },
    {
     "data": {
      "text/html": [
       "<pre><span style=\"color:black;\">[</span><span style=\"color:black;\">p</span><span style=\"color:black;\">r</span><span style=\"color:black;\">i</span><span style=\"color:black;\">n</span><span style=\"color:black;\">t</span><span style=\"color:black;\">(</span><span style=\"color:black;\">e</span><span style=\"color:black;\">)</span><span style=\"color:black;\">f</span><span style=\"color:black;\">o</span><span style=\"color:black;\">r</span><span style=\"color:lightgrey;\">•</span><span style=\"color:black;\">e</span><span style=\"color:lightgrey;\">•</span><span style=\"color:black;\">i</span><span style=\"color:black;\">n</span><span style=\"color:lightgrey;\">•</span><span style=\"color:black;\">s</span><span style=\"color:black;\">o</span><span style=\"color:black;\">r</span><span style=\"color:black;\">t</span><span style=\"color:black;\">e</span><span style=\"color:black;\">d</span><span style=\"color:black;\">(</span><span style=\"color:black;\">[</span><span style=\"color:black;\">i</span><span style=\"color:black;\">n</span><span style=\"color:black;\">t</span><span style=\"color:black;\">(</span><span style=\"color:black;\">i</span><span style=\"color:black;\">n</span><span style=\"color:black;\">p</span><span style=\"color:black;\">u</span><span style=\"color:black;\">t</span><span style=\"color:black;\">(</span><span style=\"color:black;\">)</span><span style=\"color:black;\">)</span><span style=\"color:black;\">f</span><span style=\"color:black;\">o</span><span style=\"color:black;\">r</span><span style=\"color:lightgrey;\">•</span><span style=\"color:black;\">_</span><span style=\"color:lightgrey;\">•</span><span style=\"color:black;\">i</span><span style=\"color:black;\">n</span><span style=\"color:lightgrey;\">•</span><span style=\"color:black;\">r</span><span style=\"color:black;\">a</span><span style=\"color:black;\">n</span><span style=\"color:black;\">g</span><span style=\"color:black;\">e</span><span style=\"color:black;\">(</span><span style=\"color:black;\">1</span><span style=\"color:black;\">0</span><span style=\"color:black;\">)</span><span style=\"color:black;\">]</span><span style=\"color:black;\">,</span><span style=\"color:black;\">r</span><span style=\"color:black;\">e</span><span style=\"color:black;\">v</span><span style=\"color:black;\">e</span><span style=\"color:black;\">r</span><span style=\"color:black;\">s</span><span style=\"color:black;\">e</span><span style=\"color:black;\">=</span><span style=\"color:black;\">T</span><span style=\"color:black;\">r</span><span style=\"color:black;\">u</span><span style=\"color:black;\">e</span><span style=\"color:black;\">)</span><span style=\"color:black;\">[</span><span style=\"color:black;\">0</span><span style=\"color:black;\">:</span><span style=\"color:black;\">3</span><span style=\"color:black;\">]</span><span style=\"color:black;\">]</span></pre>"
      ],
      "text/plain": [
       "<IPython.core.display.HTML object>"
      ]
     },
     "metadata": {},
     "output_type": "display_data"
    },
    {
     "data": {
      "text/html": [
       "<h2>The bug that should be assigned to the original_src:\n",
       "</h2>"
      ],
      "text/plain": [
       "<IPython.core.display.HTML object>"
      ]
     },
     "metadata": {},
     "output_type": "display_data"
    },
    {
     "data": {
      "text/html": [
       "<pre>IndentationError: unexpected indent</pre>"
      ],
      "text/plain": [
       "<IPython.core.display.HTML object>"
      ]
     },
     "metadata": {},
     "output_type": "display_data"
    },
    {
     "data": {
      "text/html": [
       "<h1>Example 14</h1>"
      ],
      "text/plain": [
       "<IPython.core.display.HTML object>"
      ]
     },
     "metadata": {},
     "output_type": "display_data"
    },
    {
     "data": {
      "text/html": [
       "<h2>The source code that is buggy:\n",
       "</h2>"
      ],
      "text/plain": [
       "<IPython.core.display.HTML object>"
      ]
     },
     "metadata": {},
     "output_type": "display_data"
    },
    {
     "data": {
      "text/html": [
       "<pre><span style=\"color:black;\">m</span><span style=\"color:black;\">o</span><span style=\"color:black;\">u</span><span style=\"color:black;\">n</span><span style=\"color:black;\">t</span><span style=\"color:black;\">a</span><span style=\"color:black;\">i</span><span style=\"color:black;\">n</span><span style=\"color:black;\">=</span><span style=\"color:black;\">[</span><span style=\"color:black;\">]</span><span style=\"color:lightgrey;\">↵\n",
       "</span><span style=\"color:black;\">f</span><span style=\"color:black;\">o</span><span style=\"color:black;\">r</span><span style=\"color:lightgrey;\">•</span><span style=\"color:black;\">i</span><span style=\"color:lightgrey;\">•</span><span style=\"color:black;\">i</span><span style=\"color:black;\">n</span><span style=\"color:lightgrey;\">•</span><span style=\"color:black;\">r</span><span style=\"color:black;\">a</span><span style=\"color:black;\">n</span><span style=\"color:black;\">g</span><span style=\"color:black;\">e</span><span style=\"color:black;\">(</span><span style=\"color:black;\">1</span><span style=\"color:black;\">0</span><span style=\"color:black;\">)</span><span style=\"color:black;\">:</span><span style=\"color:lightgrey;\">↵\n",
       "</span><span style=\"color:lightgrey;\">•</span><span style=\"color:black;\">m</span><span style=\"color:black;\">o</span><span style=\"color:black;\">u</span><span style=\"color:black;\">n</span><span style=\"color:black;\">t</span><span style=\"color:black;\">a</span><span style=\"color:black;\">i</span><span style=\"color:black;\">n</span><span style=\"color:red;\">[</span><span style=\"color:red;\">i</span><span style=\"color:red;\">]</span><span style=\"color:red;\">=</span><span style=\"color:black;\">i</span><span style=\"color:black;\">n</span><span style=\"color:black;\">t</span><span style=\"color:black;\">(</span><span style=\"color:black;\">i</span><span style=\"color:black;\">n</span><span style=\"color:black;\">p</span><span style=\"color:black;\">u</span><span style=\"color:black;\">t</span><span style=\"color:black;\">(</span><span style=\"color:red;\">)</span><span style=\"color:black;\">)</span><span style=\"color:lightgrey;\">↵\n",
       "</span><span style=\"color:black;\">m</span><span style=\"color:black;\">o</span><span style=\"color:black;\">u</span><span style=\"color:black;\">n</span><span style=\"color:black;\">t</span><span style=\"color:black;\">a</span><span style=\"color:black;\">i</span><span style=\"color:black;\">n</span><span style=\"color:black;\">.</span><span style=\"color:black;\">s</span><span style=\"color:black;\">o</span><span style=\"color:black;\">r</span><span style=\"color:black;\">t</span><span style=\"color:black;\">(</span><span style=\"color:black;\">)</span><span style=\"color:lightgrey;\">↵\n",
       "</span><span style=\"color:black;\">m</span><span style=\"color:black;\">o</span><span style=\"color:black;\">u</span><span style=\"color:black;\">n</span><span style=\"color:black;\">t</span><span style=\"color:black;\">a</span><span style=\"color:black;\">i</span><span style=\"color:black;\">n</span><span style=\"color:black;\">.</span><span style=\"color:black;\">r</span><span style=\"color:black;\">e</span><span style=\"color:black;\">v</span><span style=\"color:black;\">e</span><span style=\"color:black;\">r</span><span style=\"color:black;\">s</span><span style=\"color:black;\">e</span><span style=\"color:black;\">(</span><span style=\"color:black;\">)</span><span style=\"color:lightgrey;\">↵\n",
       "</span><span style=\"color:black;\">f</span><span style=\"color:black;\">o</span><span style=\"color:black;\">r</span><span style=\"color:lightgrey;\">•</span><span style=\"color:black;\">i</span><span style=\"color:lightgrey;\">•</span><span style=\"color:black;\">i</span><span style=\"color:black;\">n</span><span style=\"color:lightgrey;\">•</span><span style=\"color:black;\">r</span><span style=\"color:black;\">a</span><span style=\"color:black;\">n</span><span style=\"color:black;\">g</span><span style=\"color:black;\">e</span><span style=\"color:black;\">(</span><span style=\"color:black;\">3</span><span style=\"color:black;\">)</span><span style=\"color:black;\">:</span><span style=\"color:lightgrey;\">↵\n",
       "</span><span style=\"color:lightgrey;\">•</span><span style=\"color:black;\">p</span><span style=\"color:black;\">r</span><span style=\"color:black;\">i</span><span style=\"color:black;\">n</span><span style=\"color:black;\">t</span><span style=\"color:black;\">(</span><span style=\"color:black;\">m</span><span style=\"color:black;\">o</span><span style=\"color:black;\">u</span><span style=\"color:black;\">n</span><span style=\"color:black;\">t</span><span style=\"color:black;\">a</span><span style=\"color:black;\">i</span><span style=\"color:black;\">n</span><span style=\"color:black;\">[</span><span style=\"color:black;\">i</span><span style=\"color:black;\">]</span><span style=\"color:black;\">)</span><span style=\"color:red;\">↵\n",
       "</span><span style=\"color:red;\">•</span></pre>"
      ],
      "text/plain": [
       "<IPython.core.display.HTML object>"
      ]
     },
     "metadata": {},
     "output_type": "display_data"
    },
    {
     "data": {
      "text/html": [
       "<h2>The source code that is accepted:\n",
       "</h2>"
      ],
      "text/plain": [
       "<IPython.core.display.HTML object>"
      ]
     },
     "metadata": {},
     "output_type": "display_data"
    },
    {
     "data": {
      "text/html": [
       "<pre><span style=\"color:black;\">m</span><span style=\"color:black;\">o</span><span style=\"color:black;\">u</span><span style=\"color:black;\">n</span><span style=\"color:black;\">t</span><span style=\"color:black;\">a</span><span style=\"color:black;\">i</span><span style=\"color:black;\">n</span><span style=\"color:black;\">=</span><span style=\"color:black;\">[</span><span style=\"color:black;\">]</span><span style=\"color:lightgrey;\">↵\n",
       "</span><span style=\"color:black;\">f</span><span style=\"color:black;\">o</span><span style=\"color:black;\">r</span><span style=\"color:lightgrey;\">•</span><span style=\"color:black;\">i</span><span style=\"color:lightgrey;\">•</span><span style=\"color:black;\">i</span><span style=\"color:black;\">n</span><span style=\"color:lightgrey;\">•</span><span style=\"color:black;\">r</span><span style=\"color:black;\">a</span><span style=\"color:black;\">n</span><span style=\"color:black;\">g</span><span style=\"color:black;\">e</span><span style=\"color:black;\">(</span><span style=\"color:black;\">1</span><span style=\"color:black;\">0</span><span style=\"color:black;\">)</span><span style=\"color:black;\">:</span><span style=\"color:lightgrey;\">↵\n",
       "</span><span style=\"color:lightgrey;\">•</span><span style=\"color:black;\">m</span><span style=\"color:black;\">o</span><span style=\"color:black;\">u</span><span style=\"color:black;\">n</span><span style=\"color:black;\">t</span><span style=\"color:black;\">a</span><span style=\"color:black;\">i</span><span style=\"color:black;\">n</span><span style=\"color:blue;\">.</span><span style=\"color:blue;\">a</span><span style=\"color:blue;\">p</span><span style=\"color:blue;\">p</span><span style=\"color:blue;\">e</span><span style=\"color:blue;\">n</span><span style=\"color:blue;\">d</span><span style=\"color:blue;\">(</span><span style=\"color:black;\">i</span><span style=\"color:black;\">n</span><span style=\"color:black;\">t</span><span style=\"color:black;\">(</span><span style=\"color:black;\">i</span><span style=\"color:black;\">n</span><span style=\"color:black;\">p</span><span style=\"color:black;\">u</span><span style=\"color:black;\">t</span><span style=\"color:black;\">(</span><span style=\"color:blue;\">)</span><span style=\"color:blue;\">)</span><span style=\"color:black;\">)</span><span style=\"color:lightgrey;\">↵\n",
       "</span><span style=\"color:black;\">m</span><span style=\"color:black;\">o</span><span style=\"color:black;\">u</span><span style=\"color:black;\">n</span><span style=\"color:black;\">t</span><span style=\"color:black;\">a</span><span style=\"color:black;\">i</span><span style=\"color:black;\">n</span><span style=\"color:black;\">.</span><span style=\"color:black;\">s</span><span style=\"color:black;\">o</span><span style=\"color:black;\">r</span><span style=\"color:black;\">t</span><span style=\"color:black;\">(</span><span style=\"color:black;\">)</span><span style=\"color:lightgrey;\">↵\n",
       "</span><span style=\"color:black;\">m</span><span style=\"color:black;\">o</span><span style=\"color:black;\">u</span><span style=\"color:black;\">n</span><span style=\"color:black;\">t</span><span style=\"color:black;\">a</span><span style=\"color:black;\">i</span><span style=\"color:black;\">n</span><span style=\"color:black;\">.</span><span style=\"color:black;\">r</span><span style=\"color:black;\">e</span><span style=\"color:black;\">v</span><span style=\"color:black;\">e</span><span style=\"color:black;\">r</span><span style=\"color:black;\">s</span><span style=\"color:black;\">e</span><span style=\"color:black;\">(</span><span style=\"color:black;\">)</span><span style=\"color:lightgrey;\">↵\n",
       "</span><span style=\"color:black;\">f</span><span style=\"color:black;\">o</span><span style=\"color:black;\">r</span><span style=\"color:lightgrey;\">•</span><span style=\"color:black;\">i</span><span style=\"color:lightgrey;\">•</span><span style=\"color:black;\">i</span><span style=\"color:black;\">n</span><span style=\"color:lightgrey;\">•</span><span style=\"color:black;\">r</span><span style=\"color:black;\">a</span><span style=\"color:black;\">n</span><span style=\"color:black;\">g</span><span style=\"color:black;\">e</span><span style=\"color:black;\">(</span><span style=\"color:black;\">3</span><span style=\"color:black;\">)</span><span style=\"color:black;\">:</span><span style=\"color:lightgrey;\">↵\n",
       "</span><span style=\"color:lightgrey;\">•</span><span style=\"color:black;\">p</span><span style=\"color:black;\">r</span><span style=\"color:black;\">i</span><span style=\"color:black;\">n</span><span style=\"color:black;\">t</span><span style=\"color:black;\">(</span><span style=\"color:black;\">m</span><span style=\"color:black;\">o</span><span style=\"color:black;\">u</span><span style=\"color:black;\">n</span><span style=\"color:black;\">t</span><span style=\"color:black;\">a</span><span style=\"color:black;\">i</span><span style=\"color:black;\">n</span><span style=\"color:black;\">[</span><span style=\"color:black;\">i</span><span style=\"color:black;\">]</span><span style=\"color:black;\">)</span></pre>"
      ],
      "text/plain": [
       "<IPython.core.display.HTML object>"
      ]
     },
     "metadata": {},
     "output_type": "display_data"
    },
    {
     "data": {
      "text/html": [
       "<h2>The bug that should be assigned to the original_src:\n",
       "</h2>"
      ],
      "text/plain": [
       "<IPython.core.display.HTML object>"
      ]
     },
     "metadata": {},
     "output_type": "display_data"
    },
    {
     "data": {
      "text/html": [
       "<pre>IndexError: list assignment index out of range</pre>"
      ],
      "text/plain": [
       "<IPython.core.display.HTML object>"
      ]
     },
     "metadata": {},
     "output_type": "display_data"
    },
    {
     "data": {
      "text/html": [
       "<h1>Example 15</h1>"
      ],
      "text/plain": [
       "<IPython.core.display.HTML object>"
      ]
     },
     "metadata": {},
     "output_type": "display_data"
    },
    {
     "data": {
      "text/html": [
       "<h2>The source code that is buggy:\n",
       "</h2>"
      ],
      "text/plain": [
       "<IPython.core.display.HTML object>"
      ]
     },
     "metadata": {},
     "output_type": "display_data"
    },
    {
     "data": {
      "text/html": [
       "<pre><span style=\"color:black;\">#</span><span style=\"color:lightgrey;\">•</span><span style=\"color:black;\">-</span><span style=\"color:black;\">*</span><span style=\"color:black;\">-</span><span style=\"color:lightgrey;\">•</span><span style=\"color:black;\">c</span><span style=\"color:black;\">o</span><span style=\"color:black;\">d</span><span style=\"color:black;\">i</span><span style=\"color:black;\">n</span><span style=\"color:black;\">g</span><span style=\"color:black;\">:</span><span style=\"color:lightgrey;\">•</span><span style=\"color:black;\">u</span><span style=\"color:black;\">t</span><span style=\"color:black;\">f</span><span style=\"color:black;\">-</span><span style=\"color:black;\">8</span><span style=\"color:lightgrey;\">•</span><span style=\"color:black;\">-</span><span style=\"color:black;\">*</span><span style=\"color:black;\">-</span><span style=\"color:lightgrey;\">↵\n",
       "</span><span style=\"color:lightgrey;\">↵\n",
       "</span><span style=\"color:black;\">h</span><span style=\"color:black;\">i</span><span style=\"color:black;\">l</span><span style=\"color:black;\">l</span><span style=\"color:black;\">s</span><span style=\"color:black;\">_</span><span style=\"color:black;\">l</span><span style=\"color:black;\">i</span><span style=\"color:black;\">s</span><span style=\"color:black;\">t</span><span style=\"color:lightgrey;\">•</span><span style=\"color:black;\">=</span><span style=\"color:lightgrey;\">•</span><span style=\"color:black;\">[</span><span style=\"color:black;\">]</span><span style=\"color:lightgrey;\">↵\n",
       "</span><span style=\"color:black;\">w</span><span style=\"color:black;\">h</span><span style=\"color:black;\">i</span><span style=\"color:black;\">l</span><span style=\"color:black;\">e</span><span style=\"color:lightgrey;\">•</span><span style=\"color:black;\">l</span><span style=\"color:black;\">e</span><span style=\"color:black;\">n</span><span style=\"color:black;\">(</span><span style=\"color:black;\">h</span><span style=\"color:black;\">i</span><span style=\"color:black;\">l</span><span style=\"color:black;\">l</span><span style=\"color:black;\">s</span><span style=\"color:black;\">_</span><span style=\"color:black;\">l</span><span style=\"color:black;\">i</span><span style=\"color:black;\">s</span><span style=\"color:black;\">t</span><span style=\"color:black;\">)</span><span style=\"color:lightgrey;\">•</span><span style=\"color:black;\">!</span><span style=\"color:black;\">=</span><span style=\"color:lightgrey;\">•</span><span style=\"color:black;\">1</span><span style=\"color:black;\">0</span><span style=\"color:black;\">:</span><span style=\"color:lightgrey;\">↵\n",
       "</span><span style=\"color:lightgrey;\">•</span><span style=\"color:lightgrey;\">•</span><span style=\"color:lightgrey;\">•</span><span style=\"color:lightgrey;\">•</span><span style=\"color:black;\">h</span><span style=\"color:black;\">i</span><span style=\"color:black;\">l</span><span style=\"color:black;\">l</span><span style=\"color:black;\">s</span><span style=\"color:lightgrey;\">•</span><span style=\"color:black;\">=</span><span style=\"color:lightgrey;\">•</span><span style=\"color:black;\">r</span><span style=\"color:black;\">a</span><span style=\"color:black;\">w</span><span style=\"color:black;\">_</span><span style=\"color:black;\">i</span><span style=\"color:black;\">n</span><span style=\"color:black;\">p</span><span style=\"color:black;\">u</span><span style=\"color:black;\">t</span><span style=\"color:black;\">(</span><span style=\"color:black;\">)</span><span style=\"color:lightgrey;\">↵\n",
       "</span><span style=\"color:lightgrey;\">•</span><span style=\"color:lightgrey;\">•</span><span style=\"color:lightgrey;\">•</span><span style=\"color:lightgrey;\">•</span><span style=\"color:black;\">i</span><span style=\"color:black;\">f</span><span style=\"color:lightgrey;\">•</span><span style=\"color:red;\">i</span><span style=\"color:red;\">s</span><span style=\"color:red;\">i</span><span style=\"color:red;\">n</span><span style=\"color:red;\">s</span><span style=\"color:red;\">t</span><span style=\"color:black;\">a</span><span style=\"color:black;\">n</span><span style=\"color:red;\">c</span><span style=\"color:red;\">e</span><span style=\"color:red;\">(</span><span style=\"color:red;\">h</span><span style=\"color:red;\">i</span><span style=\"color:red;\">l</span><span style=\"color:red;\">l</span><span style=\"color:red;\">s</span><span style=\"color:red;\">,</span><span style=\"color:red;\">•</span><span style=\"color:red;\">i</span><span style=\"color:red;\">n</span><span style=\"color:red;\">t</span><span style=\"color:red;\">)</span><span style=\"color:red;\">•</span><span style=\"color:red;\">a</span><span style=\"color:red;\">n</span><span style=\"color:black;\">d</span><span style=\"color:lightgrey;\">•</span><span style=\"color:black;\">(</span><span style=\"color:red;\">1</span><span style=\"color:red;\">0</span><span style=\"color:red;\">0</span><span style=\"color:red;\">0</span><span style=\"color:red;\">0</span><span style=\"color:red;\">•</span><span style=\"color:red;\">></span><span style=\"color:red;\">=</span><span style=\"color:red;\">•</span><span style=\"color:red;\">h</span><span style=\"color:red;\">i</span><span style=\"color:red;\">l</span><span style=\"color:red;\">l</span><span style=\"color:red;\">s</span><span style=\"color:red;\">)</span><span style=\"color:red;\">•</span><span style=\"color:red;\">a</span><span style=\"color:red;\">n</span><span style=\"color:red;\">d</span><span style=\"color:red;\">•</span><span style=\"color:red;\">(</span><span style=\"color:red;\">h</span><span style=\"color:red;\">i</span><span style=\"color:red;\">l</span><span style=\"color:red;\">l</span><span style=\"color:red;\">s</span><span style=\"color:lightgrey;\">•</span><span style=\"color:black;\">></span><span style=\"color:black;\">=</span><span style=\"color:lightgrey;\">•</span><span style=\"color:black;\">0</span><span style=\"color:black;\">)</span><span style=\"color:black;\">:</span><span style=\"color:lightgrey;\">↵\n",
       "</span><span style=\"color:lightgrey;\">•</span><span style=\"color:lightgrey;\">•</span><span style=\"color:lightgrey;\">•</span><span style=\"color:lightgrey;\">•</span><span style=\"color:lightgrey;\">•</span><span style=\"color:lightgrey;\">•</span><span style=\"color:lightgrey;\">•</span><span style=\"color:lightgrey;\">•</span><span style=\"color:black;\">h</span><span style=\"color:black;\">i</span><span style=\"color:black;\">l</span><span style=\"color:black;\">l</span><span style=\"color:black;\">s</span><span style=\"color:black;\">_</span><span style=\"color:black;\">l</span><span style=\"color:black;\">i</span><span style=\"color:black;\">s</span><span style=\"color:black;\">t</span><span style=\"color:black;\">.</span><span style=\"color:black;\">a</span><span style=\"color:black;\">p</span><span style=\"color:black;\">p</span><span style=\"color:black;\">e</span><span style=\"color:black;\">n</span><span style=\"color:black;\">d</span><span style=\"color:black;\">(</span><span style=\"color:red;\">h</span><span style=\"color:red;\">i</span><span style=\"color:red;\">l</span><span style=\"color:red;\">l</span><span style=\"color:red;\">s</span><span style=\"color:black;\">)</span><span style=\"color:lightgrey;\">↵\n",
       "</span><span style=\"color:black;\">h</span><span style=\"color:black;\">i</span><span style=\"color:black;\">l</span><span style=\"color:black;\">l</span><span style=\"color:black;\">s</span><span style=\"color:black;\">_</span><span style=\"color:black;\">l</span><span style=\"color:black;\">i</span><span style=\"color:black;\">s</span><span style=\"color:black;\">t</span><span style=\"color:black;\">.</span><span style=\"color:black;\">s</span><span style=\"color:black;\">o</span><span style=\"color:black;\">r</span><span style=\"color:black;\">t</span><span style=\"color:black;\">(</span><span style=\"color:black;\">)</span><span style=\"color:lightgrey;\">↵\n",
       "</span><span style=\"color:black;\">p</span><span style=\"color:black;\">r</span><span style=\"color:black;\">i</span><span style=\"color:black;\">n</span><span style=\"color:black;\">t</span><span style=\"color:lightgrey;\">•</span><span style=\"color:black;\">h</span><span style=\"color:black;\">i</span><span style=\"color:black;\">l</span><span style=\"color:black;\">l</span><span style=\"color:black;\">s</span><span style=\"color:black;\">_</span><span style=\"color:black;\">l</span><span style=\"color:black;\">i</span><span style=\"color:black;\">s</span><span style=\"color:black;\">t</span><span style=\"color:black;\">[</span><span style=\"color:red;\">0</span><span style=\"color:red;\">]</span><span style=\"color:red;\">↵\n",
       "</span><span style=\"color:red;\">p</span><span style=\"color:red;\">r</span><span style=\"color:red;\">i</span><span style=\"color:red;\">n</span><span style=\"color:red;\">t</span><span style=\"color:red;\">•</span><span style=\"color:red;\">h</span><span style=\"color:red;\">i</span><span style=\"color:red;\">l</span><span style=\"color:red;\">l</span><span style=\"color:red;\">s</span><span style=\"color:red;\">_</span><span style=\"color:red;\">l</span><span style=\"color:red;\">i</span><span style=\"color:red;\">s</span><span style=\"color:red;\">t</span><span style=\"color:red;\">[</span><span style=\"color:black;\">1</span><span style=\"color:black;\">]</span><span style=\"color:lightgrey;\">↵\n",
       "</span><span style=\"color:black;\">p</span><span style=\"color:black;\">r</span><span style=\"color:black;\">i</span><span style=\"color:black;\">n</span><span style=\"color:black;\">t</span><span style=\"color:lightgrey;\">•</span><span style=\"color:black;\">h</span><span style=\"color:black;\">i</span><span style=\"color:black;\">l</span><span style=\"color:black;\">l</span><span style=\"color:black;\">s</span><span style=\"color:black;\">_</span><span style=\"color:black;\">l</span><span style=\"color:black;\">i</span><span style=\"color:black;\">s</span><span style=\"color:black;\">t</span><span style=\"color:black;\">[</span><span style=\"color:red;\">2</span><span style=\"color:black;\">]</span></pre>"
      ],
      "text/plain": [
       "<IPython.core.display.HTML object>"
      ]
     },
     "metadata": {},
     "output_type": "display_data"
    },
    {
     "data": {
      "text/html": [
       "<h2>The source code that is accepted:\n",
       "</h2>"
      ],
      "text/plain": [
       "<IPython.core.display.HTML object>"
      ]
     },
     "metadata": {},
     "output_type": "display_data"
    },
    {
     "data": {
      "text/html": [
       "<pre><span style=\"color:black;\">#</span><span style=\"color:lightgrey;\">•</span><span style=\"color:black;\">-</span><span style=\"color:black;\">*</span><span style=\"color:black;\">-</span><span style=\"color:lightgrey;\">•</span><span style=\"color:black;\">c</span><span style=\"color:black;\">o</span><span style=\"color:black;\">d</span><span style=\"color:black;\">i</span><span style=\"color:black;\">n</span><span style=\"color:black;\">g</span><span style=\"color:black;\">:</span><span style=\"color:lightgrey;\">•</span><span style=\"color:black;\">u</span><span style=\"color:black;\">t</span><span style=\"color:black;\">f</span><span style=\"color:black;\">-</span><span style=\"color:black;\">8</span><span style=\"color:lightgrey;\">•</span><span style=\"color:black;\">-</span><span style=\"color:black;\">*</span><span style=\"color:black;\">-</span><span style=\"color:lightgrey;\">↵\n",
       "</span><span style=\"color:lightgrey;\">↵\n",
       "</span><span style=\"color:black;\">h</span><span style=\"color:black;\">i</span><span style=\"color:black;\">l</span><span style=\"color:black;\">l</span><span style=\"color:black;\">s</span><span style=\"color:black;\">_</span><span style=\"color:black;\">l</span><span style=\"color:black;\">i</span><span style=\"color:black;\">s</span><span style=\"color:black;\">t</span><span style=\"color:lightgrey;\">•</span><span style=\"color:black;\">=</span><span style=\"color:lightgrey;\">•</span><span style=\"color:black;\">[</span><span style=\"color:black;\">]</span><span style=\"color:lightgrey;\">↵\n",
       "</span><span style=\"color:black;\">w</span><span style=\"color:black;\">h</span><span style=\"color:black;\">i</span><span style=\"color:black;\">l</span><span style=\"color:black;\">e</span><span style=\"color:lightgrey;\">•</span><span style=\"color:black;\">l</span><span style=\"color:black;\">e</span><span style=\"color:black;\">n</span><span style=\"color:black;\">(</span><span style=\"color:black;\">h</span><span style=\"color:black;\">i</span><span style=\"color:black;\">l</span><span style=\"color:black;\">l</span><span style=\"color:black;\">s</span><span style=\"color:black;\">_</span><span style=\"color:black;\">l</span><span style=\"color:black;\">i</span><span style=\"color:black;\">s</span><span style=\"color:black;\">t</span><span style=\"color:black;\">)</span><span style=\"color:lightgrey;\">•</span><span style=\"color:black;\">!</span><span style=\"color:black;\">=</span><span style=\"color:lightgrey;\">•</span><span style=\"color:black;\">1</span><span style=\"color:black;\">0</span><span style=\"color:black;\">:</span><span style=\"color:lightgrey;\">↵\n",
       "</span><span style=\"color:lightgrey;\">•</span><span style=\"color:lightgrey;\">•</span><span style=\"color:lightgrey;\">•</span><span style=\"color:lightgrey;\">•</span><span style=\"color:black;\">h</span><span style=\"color:black;\">i</span><span style=\"color:black;\">l</span><span style=\"color:black;\">l</span><span style=\"color:black;\">s</span><span style=\"color:lightgrey;\">•</span><span style=\"color:black;\">=</span><span style=\"color:lightgrey;\">•</span><span style=\"color:black;\">r</span><span style=\"color:black;\">a</span><span style=\"color:black;\">w</span><span style=\"color:black;\">_</span><span style=\"color:black;\">i</span><span style=\"color:black;\">n</span><span style=\"color:black;\">p</span><span style=\"color:black;\">u</span><span style=\"color:black;\">t</span><span style=\"color:black;\">(</span><span style=\"color:black;\">)</span><span style=\"color:lightgrey;\">↵\n",
       "</span><span style=\"color:lightgrey;\">•</span><span style=\"color:lightgrey;\">•</span><span style=\"color:lightgrey;\">•</span><span style=\"color:lightgrey;\">•</span><span style=\"color:black;\">i</span><span style=\"color:black;\">f</span><span style=\"color:lightgrey;\">•</span><span style=\"color:blue;\">(</span><span style=\"color:blue;\">1</span><span style=\"color:blue;\">0</span><span style=\"color:blue;\">0</span><span style=\"color:blue;\">0</span><span style=\"color:blue;\">0</span><span style=\"color:blue;\">•</span><span style=\"color:blue;\">></span><span style=\"color:blue;\">=</span><span style=\"color:blue;\">•</span><span style=\"color:blue;\">i</span><span style=\"color:blue;\">n</span><span style=\"color:blue;\">t</span><span style=\"color:blue;\">(</span><span style=\"color:blue;\">h</span><span style=\"color:blue;\">i</span><span style=\"color:blue;\">l</span><span style=\"color:blue;\">l</span><span style=\"color:blue;\">s</span><span style=\"color:blue;\">)</span><span style=\"color:blue;\">)</span><span style=\"color:blue;\">•</span><span style=\"color:black;\">a</span><span style=\"color:black;\">n</span><span style=\"color:black;\">d</span><span style=\"color:lightgrey;\">•</span><span style=\"color:black;\">(</span><span style=\"color:blue;\">i</span><span style=\"color:blue;\">n</span><span style=\"color:blue;\">t</span><span style=\"color:blue;\">(</span><span style=\"color:blue;\">h</span><span style=\"color:blue;\">i</span><span style=\"color:blue;\">l</span><span style=\"color:blue;\">l</span><span style=\"color:blue;\">s</span><span style=\"color:blue;\">)</span><span style=\"color:lightgrey;\">•</span><span style=\"color:black;\">></span><span style=\"color:black;\">=</span><span style=\"color:lightgrey;\">•</span><span style=\"color:black;\">0</span><span style=\"color:black;\">)</span><span style=\"color:black;\">:</span><span style=\"color:lightgrey;\">↵\n",
       "</span><span style=\"color:lightgrey;\">•</span><span style=\"color:lightgrey;\">•</span><span style=\"color:lightgrey;\">•</span><span style=\"color:lightgrey;\">•</span><span style=\"color:lightgrey;\">•</span><span style=\"color:lightgrey;\">•</span><span style=\"color:lightgrey;\">•</span><span style=\"color:lightgrey;\">•</span><span style=\"color:black;\">h</span><span style=\"color:black;\">i</span><span style=\"color:black;\">l</span><span style=\"color:black;\">l</span><span style=\"color:black;\">s</span><span style=\"color:black;\">_</span><span style=\"color:black;\">l</span><span style=\"color:black;\">i</span><span style=\"color:black;\">s</span><span style=\"color:black;\">t</span><span style=\"color:black;\">.</span><span style=\"color:black;\">a</span><span style=\"color:black;\">p</span><span style=\"color:black;\">p</span><span style=\"color:black;\">e</span><span style=\"color:black;\">n</span><span style=\"color:black;\">d</span><span style=\"color:black;\">(</span><span style=\"color:blue;\">i</span><span style=\"color:blue;\">n</span><span style=\"color:blue;\">t</span><span style=\"color:blue;\">(</span><span style=\"color:blue;\">h</span><span style=\"color:blue;\">i</span><span style=\"color:blue;\">l</span><span style=\"color:blue;\">l</span><span style=\"color:blue;\">s</span><span style=\"color:blue;\">)</span><span style=\"color:black;\">)</span><span style=\"color:lightgrey;\">↵\n",
       "</span><span style=\"color:black;\">h</span><span style=\"color:black;\">i</span><span style=\"color:black;\">l</span><span style=\"color:black;\">l</span><span style=\"color:black;\">s</span><span style=\"color:black;\">_</span><span style=\"color:black;\">l</span><span style=\"color:black;\">i</span><span style=\"color:black;\">s</span><span style=\"color:black;\">t</span><span style=\"color:black;\">.</span><span style=\"color:black;\">s</span><span style=\"color:black;\">o</span><span style=\"color:black;\">r</span><span style=\"color:black;\">t</span><span style=\"color:black;\">(</span><span style=\"color:black;\">)</span><span style=\"color:lightgrey;\">↵\n",
       "</span><span style=\"color:black;\">p</span><span style=\"color:black;\">r</span><span style=\"color:black;\">i</span><span style=\"color:black;\">n</span><span style=\"color:black;\">t</span><span style=\"color:lightgrey;\">•</span><span style=\"color:black;\">h</span><span style=\"color:black;\">i</span><span style=\"color:black;\">l</span><span style=\"color:black;\">l</span><span style=\"color:black;\">s</span><span style=\"color:black;\">_</span><span style=\"color:black;\">l</span><span style=\"color:black;\">i</span><span style=\"color:black;\">s</span><span style=\"color:black;\">t</span><span style=\"color:black;\">[</span><span style=\"color:blue;\">-</span><span style=\"color:black;\">1</span><span style=\"color:black;\">]</span><span style=\"color:lightgrey;\">↵\n",
       "</span><span style=\"color:black;\">p</span><span style=\"color:black;\">r</span><span style=\"color:black;\">i</span><span style=\"color:black;\">n</span><span style=\"color:black;\">t</span><span style=\"color:lightgrey;\">•</span><span style=\"color:black;\">h</span><span style=\"color:black;\">i</span><span style=\"color:black;\">l</span><span style=\"color:black;\">l</span><span style=\"color:black;\">s</span><span style=\"color:black;\">_</span><span style=\"color:black;\">l</span><span style=\"color:black;\">i</span><span style=\"color:black;\">s</span><span style=\"color:black;\">t</span><span style=\"color:black;\">[</span><span style=\"color:blue;\">-</span><span style=\"color:blue;\">2</span><span style=\"color:black;\">]</span><span style=\"color:blue;\">↵\n",
       "</span><span style=\"color:blue;\">p</span><span style=\"color:blue;\">r</span><span style=\"color:blue;\">i</span><span style=\"color:blue;\">n</span><span style=\"color:blue;\">t</span><span style=\"color:blue;\">•</span><span style=\"color:blue;\">h</span><span style=\"color:blue;\">i</span><span style=\"color:blue;\">l</span><span style=\"color:blue;\">l</span><span style=\"color:blue;\">s</span><span style=\"color:blue;\">_</span><span style=\"color:blue;\">l</span><span style=\"color:blue;\">i</span><span style=\"color:blue;\">s</span><span style=\"color:blue;\">t</span><span style=\"color:blue;\">[</span><span style=\"color:blue;\">-</span><span style=\"color:blue;\">3</span><span style=\"color:blue;\">]</span></pre>"
      ],
      "text/plain": [
       "<IPython.core.display.HTML object>"
      ]
     },
     "metadata": {},
     "output_type": "display_data"
    },
    {
     "data": {
      "text/html": [
       "<h2>The bug that should be assigned to the original_src:\n",
       "</h2>"
      ],
      "text/plain": [
       "<IPython.core.display.HTML object>"
      ]
     },
     "metadata": {},
     "output_type": "display_data"
    },
    {
     "data": {
      "text/html": [
       "<pre>SyntaxError: Missing parentheses in call to 'print'. Did you mean print(hills_list[0])?</pre>"
      ],
      "text/plain": [
       "<IPython.core.display.HTML object>"
      ]
     },
     "metadata": {},
     "output_type": "display_data"
    },
    {
     "data": {
      "text/html": [
       "<h1>Example 16</h1>"
      ],
      "text/plain": [
       "<IPython.core.display.HTML object>"
      ]
     },
     "metadata": {},
     "output_type": "display_data"
    },
    {
     "data": {
      "text/html": [
       "<h2>The source code that is buggy:\n",
       "</h2>"
      ],
      "text/plain": [
       "<IPython.core.display.HTML object>"
      ]
     },
     "metadata": {},
     "output_type": "display_data"
    },
    {
     "data": {
      "text/html": [
       "<pre><span style=\"color:black;\">f</span><span style=\"color:black;\">r</span><span style=\"color:black;\">o</span><span style=\"color:black;\">m</span><span style=\"color:lightgrey;\">•</span><span style=\"color:black;\">s</span><span style=\"color:black;\">y</span><span style=\"color:black;\">s</span><span style=\"color:lightgrey;\">•</span><span style=\"color:black;\">i</span><span style=\"color:black;\">m</span><span style=\"color:black;\">p</span><span style=\"color:black;\">o</span><span style=\"color:black;\">r</span><span style=\"color:black;\">t</span><span style=\"color:lightgrey;\">•</span><span style=\"color:black;\">s</span><span style=\"color:black;\">t</span><span style=\"color:black;\">d</span><span style=\"color:black;\">i</span><span style=\"color:black;\">n</span><span style=\"color:lightgrey;\">↵\n",
       "</span><span style=\"color:lightgrey;\">↵\n",
       "</span><span style=\"color:black;\">x</span><span style=\"color:lightgrey;\">•</span><span style=\"color:black;\">=</span><span style=\"color:lightgrey;\">•</span><span style=\"color:black;\">[</span><span style=\"color:black;\">i</span><span style=\"color:black;\">n</span><span style=\"color:black;\">t</span><span style=\"color:black;\">(</span><span style=\"color:black;\">i</span><span style=\"color:black;\">n</span><span style=\"color:black;\">p</span><span style=\"color:black;\">u</span><span style=\"color:black;\">t</span><span style=\"color:black;\">(</span><span style=\"color:black;\">)</span><span style=\"color:black;\">)</span><span style=\"color:lightgrey;\">•</span><span style=\"color:black;\">f</span><span style=\"color:black;\">o</span><span style=\"color:black;\">r</span><span style=\"color:lightgrey;\">•</span><span style=\"color:black;\">i</span><span style=\"color:red;\">•</span><span style=\"color:black;\">r</span><span style=\"color:black;\">a</span><span style=\"color:black;\">n</span><span style=\"color:black;\">g</span><span style=\"color:black;\">e</span><span style=\"color:black;\">(</span><span style=\"color:black;\">1</span><span style=\"color:black;\">0</span><span style=\"color:black;\">)</span><span style=\"color:black;\">]</span><span style=\"color:lightgrey;\">↵\n",
       "</span><span style=\"color:lightgrey;\">↵\n",
       "</span><span style=\"color:black;\">x</span><span style=\"color:black;\">.</span><span style=\"color:black;\">s</span><span style=\"color:black;\">o</span><span style=\"color:black;\">r</span><span style=\"color:black;\">t</span><span style=\"color:black;\">(</span><span style=\"color:black;\">r</span><span style=\"color:black;\">e</span><span style=\"color:black;\">v</span><span style=\"color:black;\">e</span><span style=\"color:black;\">r</span><span style=\"color:black;\">s</span><span style=\"color:black;\">e</span><span style=\"color:black;\">=</span><span style=\"color:black;\">T</span><span style=\"color:black;\">r</span><span style=\"color:black;\">u</span><span style=\"color:black;\">e</span><span style=\"color:black;\">)</span><span style=\"color:lightgrey;\">↵\n",
       "</span><span style=\"color:lightgrey;\">↵\n",
       "</span><span style=\"color:black;\">f</span><span style=\"color:black;\">o</span><span style=\"color:black;\">r</span><span style=\"color:lightgrey;\">•</span><span style=\"color:black;\">i</span><span style=\"color:lightgrey;\">•</span><span style=\"color:black;\">i</span><span style=\"color:black;\">n</span><span style=\"color:lightgrey;\">•</span><span style=\"color:black;\">x</span><span style=\"color:black;\">[</span><span style=\"color:black;\">:</span><span style=\"color:black;\">3</span><span style=\"color:black;\">]</span><span style=\"color:black;\">:</span><span style=\"color:lightgrey;\">•</span><span style=\"color:black;\">p</span><span style=\"color:black;\">r</span><span style=\"color:black;\">i</span><span style=\"color:black;\">n</span><span style=\"color:black;\">t</span><span style=\"color:black;\">(</span><span style=\"color:black;\">i</span><span style=\"color:black;\">)</span></pre>"
      ],
      "text/plain": [
       "<IPython.core.display.HTML object>"
      ]
     },
     "metadata": {},
     "output_type": "display_data"
    },
    {
     "data": {
      "text/html": [
       "<h2>The source code that is accepted:\n",
       "</h2>"
      ],
      "text/plain": [
       "<IPython.core.display.HTML object>"
      ]
     },
     "metadata": {},
     "output_type": "display_data"
    },
    {
     "data": {
      "text/html": [
       "<pre><span style=\"color:black;\">f</span><span style=\"color:black;\">r</span><span style=\"color:black;\">o</span><span style=\"color:black;\">m</span><span style=\"color:lightgrey;\">•</span><span style=\"color:black;\">s</span><span style=\"color:black;\">y</span><span style=\"color:black;\">s</span><span style=\"color:lightgrey;\">•</span><span style=\"color:black;\">i</span><span style=\"color:black;\">m</span><span style=\"color:black;\">p</span><span style=\"color:black;\">o</span><span style=\"color:black;\">r</span><span style=\"color:black;\">t</span><span style=\"color:lightgrey;\">•</span><span style=\"color:black;\">s</span><span style=\"color:black;\">t</span><span style=\"color:black;\">d</span><span style=\"color:black;\">i</span><span style=\"color:black;\">n</span><span style=\"color:lightgrey;\">↵\n",
       "</span><span style=\"color:lightgrey;\">↵\n",
       "</span><span style=\"color:black;\">x</span><span style=\"color:lightgrey;\">•</span><span style=\"color:black;\">=</span><span style=\"color:lightgrey;\">•</span><span style=\"color:black;\">[</span><span style=\"color:black;\">i</span><span style=\"color:black;\">n</span><span style=\"color:black;\">t</span><span style=\"color:black;\">(</span><span style=\"color:black;\">i</span><span style=\"color:black;\">n</span><span style=\"color:black;\">p</span><span style=\"color:black;\">u</span><span style=\"color:black;\">t</span><span style=\"color:black;\">(</span><span style=\"color:black;\">)</span><span style=\"color:black;\">)</span><span style=\"color:lightgrey;\">•</span><span style=\"color:black;\">f</span><span style=\"color:black;\">o</span><span style=\"color:black;\">r</span><span style=\"color:lightgrey;\">•</span><span style=\"color:black;\">i</span><span style=\"color:blue;\">•</span><span style=\"color:blue;\">i</span><span style=\"color:blue;\">n</span><span style=\"color:blue;\">•</span><span style=\"color:black;\">r</span><span style=\"color:black;\">a</span><span style=\"color:black;\">n</span><span style=\"color:black;\">g</span><span style=\"color:black;\">e</span><span style=\"color:black;\">(</span><span style=\"color:black;\">1</span><span style=\"color:black;\">0</span><span style=\"color:black;\">)</span><span style=\"color:black;\">]</span><span style=\"color:lightgrey;\">↵\n",
       "</span><span style=\"color:lightgrey;\">↵\n",
       "</span><span style=\"color:black;\">x</span><span style=\"color:black;\">.</span><span style=\"color:black;\">s</span><span style=\"color:black;\">o</span><span style=\"color:black;\">r</span><span style=\"color:black;\">t</span><span style=\"color:black;\">(</span><span style=\"color:black;\">r</span><span style=\"color:black;\">e</span><span style=\"color:black;\">v</span><span style=\"color:black;\">e</span><span style=\"color:black;\">r</span><span style=\"color:black;\">s</span><span style=\"color:black;\">e</span><span style=\"color:black;\">=</span><span style=\"color:black;\">T</span><span style=\"color:black;\">r</span><span style=\"color:black;\">u</span><span style=\"color:black;\">e</span><span style=\"color:black;\">)</span><span style=\"color:lightgrey;\">↵\n",
       "</span><span style=\"color:lightgrey;\">↵\n",
       "</span><span style=\"color:black;\">f</span><span style=\"color:black;\">o</span><span style=\"color:black;\">r</span><span style=\"color:lightgrey;\">•</span><span style=\"color:black;\">i</span><span style=\"color:lightgrey;\">•</span><span style=\"color:black;\">i</span><span style=\"color:black;\">n</span><span style=\"color:lightgrey;\">•</span><span style=\"color:black;\">x</span><span style=\"color:black;\">[</span><span style=\"color:black;\">:</span><span style=\"color:black;\">3</span><span style=\"color:black;\">]</span><span style=\"color:black;\">:</span><span style=\"color:lightgrey;\">•</span><span style=\"color:black;\">p</span><span style=\"color:black;\">r</span><span style=\"color:black;\">i</span><span style=\"color:black;\">n</span><span style=\"color:black;\">t</span><span style=\"color:black;\">(</span><span style=\"color:black;\">i</span><span style=\"color:black;\">)</span></pre>"
      ],
      "text/plain": [
       "<IPython.core.display.HTML object>"
      ]
     },
     "metadata": {},
     "output_type": "display_data"
    },
    {
     "data": {
      "text/html": [
       "<h2>The bug that should be assigned to the original_src:\n",
       "</h2>"
      ],
      "text/plain": [
       "<IPython.core.display.HTML object>"
      ]
     },
     "metadata": {},
     "output_type": "display_data"
    },
    {
     "data": {
      "text/html": [
       "<pre>SyntaxError: invalid syntax</pre>"
      ],
      "text/plain": [
       "<IPython.core.display.HTML object>"
      ]
     },
     "metadata": {},
     "output_type": "display_data"
    },
    {
     "data": {
      "text/html": [
       "<h1>Example 17</h1>"
      ],
      "text/plain": [
       "<IPython.core.display.HTML object>"
      ]
     },
     "metadata": {},
     "output_type": "display_data"
    },
    {
     "data": {
      "text/html": [
       "<h2>The source code that is buggy:\n",
       "</h2>"
      ],
      "text/plain": [
       "<IPython.core.display.HTML object>"
      ]
     },
     "metadata": {},
     "output_type": "display_data"
    },
    {
     "data": {
      "text/html": [
       "<pre><span style=\"color:red;\">m</span><span style=\"color:red;\">o</span><span style=\"color:red;\">u</span><span style=\"color:black;\">n</span><span style=\"color:red;\">t</span><span style=\"color:red;\">a</span><span style=\"color:red;\">i</span><span style=\"color:red;\">n</span><span style=\"color:black;\">=</span><span style=\"color:black;\">[</span><span style=\"color:black;\">]</span><span style=\"color:lightgrey;\">↵\n",
       "</span><span style=\"color:black;\">f</span><span style=\"color:black;\">o</span><span style=\"color:black;\">r</span><span style=\"color:lightgrey;\">•</span><span style=\"color:red;\">s</span><span style=\"color:lightgrey;\">•</span><span style=\"color:black;\">i</span><span style=\"color:black;\">n</span><span style=\"color:lightgrey;\">•</span><span style=\"color:black;\">r</span><span style=\"color:black;\">a</span><span style=\"color:black;\">n</span><span style=\"color:black;\">g</span><span style=\"color:black;\">e</span><span style=\"color:red;\">(</span><span style=\"color:black;\">0</span><span style=\"color:black;\">,</span><span style=\"color:black;\">1</span><span style=\"color:black;\">0</span><span style=\"color:black;\">)</span><span style=\"color:black;\">:</span><span style=\"color:lightgrey;\">↵\n",
       "</span><span style=\"color:lightgrey;\">•</span><span style=\"color:lightgrey;\">•</span><span style=\"color:lightgrey;\">•</span><span style=\"color:lightgrey;\">•</span><span style=\"color:red;\">m</span><span style=\"color:red;\">o</span><span style=\"color:red;\">u</span><span style=\"color:black;\">n</span><span style=\"color:red;\">t</span><span style=\"color:red;\">a</span><span style=\"color:red;\">i</span><span style=\"color:red;\">n</span><span style=\"color:black;\">.</span><span style=\"color:black;\">a</span><span style=\"color:black;\">p</span><span style=\"color:black;\">p</span><span style=\"color:black;\">e</span><span style=\"color:black;\">n</span><span style=\"color:black;\">d</span><span style=\"color:black;\">(</span><span style=\"color:black;\">i</span><span style=\"color:black;\">n</span><span style=\"color:black;\">t</span><span style=\"color:black;\">(</span><span style=\"color:black;\">i</span><span style=\"color:black;\">n</span><span style=\"color:black;\">p</span><span style=\"color:black;\">u</span><span style=\"color:black;\">t</span><span style=\"color:black;\">(</span><span style=\"color:black;\">)</span><span style=\"color:black;\">)</span><span style=\"color:black;\">)</span><span style=\"color:lightgrey;\">↵\n",
       "</span><span style=\"color:red;\">m</span><span style=\"color:red;\">o</span><span style=\"color:red;\">u</span><span style=\"color:black;\">n</span><span style=\"color:red;\">t</span><span style=\"color:red;\">a</span><span style=\"color:red;\">i</span><span style=\"color:red;\">n</span><span style=\"color:black;\">.</span><span style=\"color:black;\">s</span><span style=\"color:black;\">o</span><span style=\"color:black;\">r</span><span style=\"color:black;\">t</span><span style=\"color:black;\">(</span><span style=\"color:black;\">r</span><span style=\"color:black;\">e</span><span style=\"color:black;\">v</span><span style=\"color:black;\">e</span><span style=\"color:black;\">r</span><span style=\"color:black;\">s</span><span style=\"color:black;\">e</span><span style=\"color:black;\">=</span><span style=\"color:red;\">t</span><span style=\"color:black;\">r</span><span style=\"color:black;\">u</span><span style=\"color:black;\">e</span><span style=\"color:black;\">)</span><span style=\"color:lightgrey;\">↵\n",
       "</span><span style=\"color:black;\">f</span><span style=\"color:black;\">o</span><span style=\"color:black;\">r</span><span style=\"color:lightgrey;\">•</span><span style=\"color:red;\">s</span><span style=\"color:lightgrey;\">•</span><span style=\"color:black;\">i</span><span style=\"color:black;\">n</span><span style=\"color:lightgrey;\">•</span><span style=\"color:black;\">r</span><span style=\"color:black;\">a</span><span style=\"color:black;\">n</span><span style=\"color:black;\">g</span><span style=\"color:black;\">e</span><span style=\"color:red;\">(</span><span style=\"color:black;\">0</span><span style=\"color:black;\">,</span><span style=\"color:black;\">3</span><span style=\"color:black;\">)</span><span style=\"color:black;\">:</span><span style=\"color:lightgrey;\">↵\n",
       "</span><span style=\"color:lightgrey;\">•</span><span style=\"color:red;\">p</span><span style=\"color:black;\">r</span><span style=\"color:black;\">i</span><span style=\"color:black;\">n</span><span style=\"color:black;\">t</span><span style=\"color:black;\">(</span><span style=\"color:red;\">m</span><span style=\"color:red;\">o</span><span style=\"color:red;\">u</span><span style=\"color:black;\">n</span><span style=\"color:red;\">t</span><span style=\"color:red;\">a</span><span style=\"color:black;\">i</span><span style=\"color:red;\">n</span><span style=\"color:red;\">[</span><span style=\"color:red;\">s</span><span style=\"color:black;\">]</span><span style=\"color:black;\">)</span></pre>"
      ],
      "text/plain": [
       "<IPython.core.display.HTML object>"
      ]
     },
     "metadata": {},
     "output_type": "display_data"
    },
    {
     "data": {
      "text/html": [
       "<h2>The source code that is accepted:\n",
       "</h2>"
      ],
      "text/plain": [
       "<IPython.core.display.HTML object>"
      ]
     },
     "metadata": {},
     "output_type": "display_data"
    },
    {
     "data": {
      "text/html": [
       "<pre><span style=\"color:blue;\">a</span><span style=\"color:black;\">n</span><span style=\"color:blue;\">s</span><span style=\"color:black;\">=</span><span style=\"color:black;\">[</span><span style=\"color:black;\">]</span><span style=\"color:lightgrey;\">↵\n",
       "</span><span style=\"color:black;\">f</span><span style=\"color:black;\">o</span><span style=\"color:black;\">r</span><span style=\"color:lightgrey;\">•</span><span style=\"color:blue;\">i</span><span style=\"color:lightgrey;\">•</span><span style=\"color:black;\">i</span><span style=\"color:black;\">n</span><span style=\"color:lightgrey;\">•</span><span style=\"color:black;\">r</span><span style=\"color:black;\">a</span><span style=\"color:black;\">n</span><span style=\"color:black;\">g</span><span style=\"color:black;\">e</span><span style=\"color:blue;\">•</span><span style=\"color:blue;\">(</span><span style=\"color:black;\">0</span><span style=\"color:black;\">,</span><span style=\"color:black;\">1</span><span style=\"color:black;\">0</span><span style=\"color:black;\">)</span><span style=\"color:black;\">:</span><span style=\"color:lightgrey;\">↵\n",
       "</span><span style=\"color:lightgrey;\">•</span><span style=\"color:lightgrey;\">•</span><span style=\"color:lightgrey;\">•</span><span style=\"color:lightgrey;\">•</span><span style=\"color:blue;\">a</span><span style=\"color:black;\">n</span><span style=\"color:blue;\">s</span><span style=\"color:black;\">.</span><span style=\"color:black;\">a</span><span style=\"color:black;\">p</span><span style=\"color:black;\">p</span><span style=\"color:black;\">e</span><span style=\"color:black;\">n</span><span style=\"color:black;\">d</span><span style=\"color:black;\">(</span><span style=\"color:black;\">i</span><span style=\"color:black;\">n</span><span style=\"color:black;\">t</span><span style=\"color:black;\">(</span><span style=\"color:black;\">i</span><span style=\"color:black;\">n</span><span style=\"color:black;\">p</span><span style=\"color:black;\">u</span><span style=\"color:black;\">t</span><span style=\"color:black;\">(</span><span style=\"color:black;\">)</span><span style=\"color:black;\">)</span><span style=\"color:black;\">)</span><span style=\"color:lightgrey;\">↵\n",
       "</span><span style=\"color:blue;\">a</span><span style=\"color:black;\">n</span><span style=\"color:blue;\">s</span><span style=\"color:black;\">.</span><span style=\"color:black;\">s</span><span style=\"color:black;\">o</span><span style=\"color:black;\">r</span><span style=\"color:black;\">t</span><span style=\"color:black;\">(</span><span style=\"color:black;\">r</span><span style=\"color:black;\">e</span><span style=\"color:black;\">v</span><span style=\"color:black;\">e</span><span style=\"color:black;\">r</span><span style=\"color:black;\">s</span><span style=\"color:black;\">e</span><span style=\"color:black;\">=</span><span style=\"color:blue;\">T</span><span style=\"color:black;\">r</span><span style=\"color:black;\">u</span><span style=\"color:black;\">e</span><span style=\"color:black;\">)</span><span style=\"color:lightgrey;\">↵\n",
       "</span><span style=\"color:black;\">f</span><span style=\"color:black;\">o</span><span style=\"color:black;\">r</span><span style=\"color:lightgrey;\">•</span><span style=\"color:blue;\">i</span><span style=\"color:lightgrey;\">•</span><span style=\"color:black;\">i</span><span style=\"color:black;\">n</span><span style=\"color:lightgrey;\">•</span><span style=\"color:black;\">r</span><span style=\"color:black;\">a</span><span style=\"color:black;\">n</span><span style=\"color:black;\">g</span><span style=\"color:black;\">e</span><span style=\"color:blue;\">•</span><span style=\"color:blue;\">(</span><span style=\"color:black;\">0</span><span style=\"color:black;\">,</span><span style=\"color:black;\">3</span><span style=\"color:black;\">)</span><span style=\"color:black;\">:</span><span style=\"color:lightgrey;\">↵\n",
       "</span><span style=\"color:lightgrey;\">•</span><span style=\"color:blue;\">•</span><span style=\"color:blue;\">•</span><span style=\"color:blue;\">•</span><span style=\"color:blue;\">p</span><span style=\"color:black;\">r</span><span style=\"color:black;\">i</span><span style=\"color:black;\">n</span><span style=\"color:black;\">t</span><span style=\"color:black;\">(</span><span style=\"color:blue;\">a</span><span style=\"color:black;\">n</span><span style=\"color:blue;\">s</span><span style=\"color:blue;\">[</span><span style=\"color:black;\">i</span><span style=\"color:black;\">]</span><span style=\"color:black;\">)</span></pre>"
      ],
      "text/plain": [
       "<IPython.core.display.HTML object>"
      ]
     },
     "metadata": {},
     "output_type": "display_data"
    },
    {
     "data": {
      "text/html": [
       "<h2>The bug that should be assigned to the original_src:\n",
       "</h2>"
      ],
      "text/plain": [
       "<IPython.core.display.HTML object>"
      ]
     },
     "metadata": {},
     "output_type": "display_data"
    },
    {
     "data": {
      "text/html": [
       "<pre>NameError: name 'true' is not defined</pre>"
      ],
      "text/plain": [
       "<IPython.core.display.HTML object>"
      ]
     },
     "metadata": {},
     "output_type": "display_data"
    },
    {
     "data": {
      "text/html": [
       "<h1>Example 18</h1>"
      ],
      "text/plain": [
       "<IPython.core.display.HTML object>"
      ]
     },
     "metadata": {},
     "output_type": "display_data"
    },
    {
     "data": {
      "text/html": [
       "<h2>The source code that is buggy:\n",
       "</h2>"
      ],
      "text/plain": [
       "<IPython.core.display.HTML object>"
      ]
     },
     "metadata": {},
     "output_type": "display_data"
    },
    {
     "data": {
      "text/html": [
       "<pre><span style=\"color:black;\">#</span><span style=\"color:lightgrey;\">•</span><span style=\"color:black;\">c</span><span style=\"color:black;\">o</span><span style=\"color:black;\">d</span><span style=\"color:black;\">i</span><span style=\"color:black;\">n</span><span style=\"color:black;\">g</span><span style=\"color:black;\">:</span><span style=\"color:lightgrey;\">•</span><span style=\"color:black;\">U</span><span style=\"color:black;\">T</span><span style=\"color:black;\">F</span><span style=\"color:black;\">-</span><span style=\"color:black;\">8</span><span style=\"color:lightgrey;\">↵\n",
       "</span><span style=\"color:black;\">i</span><span style=\"color:black;\">n</span><span style=\"color:black;\">p</span><span style=\"color:black;\">u</span><span style=\"color:black;\">t</span><span style=\"color:black;\">s</span><span style=\"color:black;\">=</span><span style=\"color:black;\">[</span><span style=\"color:black;\">]</span><span style=\"color:lightgrey;\">↵\n",
       "</span><span style=\"color:black;\">f</span><span style=\"color:black;\">o</span><span style=\"color:black;\">r</span><span style=\"color:lightgrey;\">•</span><span style=\"color:black;\">i</span><span style=\"color:lightgrey;\">•</span><span style=\"color:black;\">i</span><span style=\"color:black;\">n</span><span style=\"color:lightgrey;\">•</span><span style=\"color:black;\">r</span><span style=\"color:black;\">a</span><span style=\"color:black;\">n</span><span style=\"color:black;\">g</span><span style=\"color:black;\">e</span><span style=\"color:black;\">(</span><span style=\"color:red;\">1</span><span style=\"color:black;\">,</span><span style=\"color:black;\">1</span><span style=\"color:black;\">0</span><span style=\"color:black;\">)</span><span style=\"color:black;\">:</span><span style=\"color:lightgrey;\">↵\n",
       "</span><span style=\"color:lightgrey;\">•</span><span style=\"color:lightgrey;\">•</span><span style=\"color:lightgrey;\">•</span><span style=\"color:lightgrey;\">•</span><span style=\"color:black;\">i</span><span style=\"color:black;\">n</span><span style=\"color:black;\">p</span><span style=\"color:black;\">u</span><span style=\"color:black;\">t</span><span style=\"color:black;\">s</span><span style=\"color:black;\">.</span><span style=\"color:black;\">a</span><span style=\"color:black;\">p</span><span style=\"color:black;\">p</span><span style=\"color:black;\">e</span><span style=\"color:black;\">n</span><span style=\"color:black;\">d</span><span style=\"color:black;\">(</span><span style=\"color:black;\">i</span><span style=\"color:black;\">n</span><span style=\"color:black;\">p</span><span style=\"color:black;\">u</span><span style=\"color:black;\">t</span><span style=\"color:black;\">(</span><span style=\"color:black;\">)</span><span style=\"color:black;\">)</span><span style=\"color:lightgrey;\">↵\n",
       "</span><span style=\"color:black;\">i</span><span style=\"color:black;\">n</span><span style=\"color:black;\">p</span><span style=\"color:black;\">u</span><span style=\"color:black;\">t</span><span style=\"color:black;\">s</span><span style=\"color:black;\">.</span><span style=\"color:black;\">s</span><span style=\"color:black;\">o</span><span style=\"color:black;\">r</span><span style=\"color:black;\">t</span><span style=\"color:black;\">(</span><span style=\"color:black;\">r</span><span style=\"color:black;\">e</span><span style=\"color:black;\">v</span><span style=\"color:black;\">e</span><span style=\"color:black;\">r</span><span style=\"color:black;\">s</span><span style=\"color:black;\">e</span><span style=\"color:black;\">=</span><span style=\"color:black;\">T</span><span style=\"color:black;\">r</span><span style=\"color:black;\">u</span><span style=\"color:black;\">e</span><span style=\"color:black;\">)</span><span style=\"color:lightgrey;\">↵\n",
       "</span><span style=\"color:red;\">f</span><span style=\"color:black;\">o</span><span style=\"color:black;\">r</span><span style=\"color:lightgrey;\">•</span><span style=\"color:black;\">i</span><span style=\"color:lightgrey;\">•</span><span style=\"color:black;\">i</span><span style=\"color:black;\">n</span><span style=\"color:lightgrey;\">•</span><span style=\"color:black;\">r</span><span style=\"color:black;\">a</span><span style=\"color:black;\">n</span><span style=\"color:black;\">g</span><span style=\"color:black;\">e</span><span style=\"color:black;\">(</span><span style=\"color:black;\">0</span><span style=\"color:black;\">,</span><span style=\"color:black;\">3</span><span style=\"color:black;\">)</span><span style=\"color:black;\">:</span><span style=\"color:lightgrey;\">↵\n",
       "</span><span style=\"color:lightgrey;\">•</span><span style=\"color:lightgrey;\">•</span><span style=\"color:lightgrey;\">•</span><span style=\"color:lightgrey;\">•</span><span style=\"color:black;\">p</span><span style=\"color:black;\">r</span><span style=\"color:black;\">i</span><span style=\"color:black;\">n</span><span style=\"color:black;\">t</span><span style=\"color:lightgrey;\">•</span><span style=\"color:red;\">x</span><span style=\"color:black;\">[</span><span style=\"color:black;\">i</span><span style=\"color:black;\">]</span></pre>"
      ],
      "text/plain": [
       "<IPython.core.display.HTML object>"
      ]
     },
     "metadata": {},
     "output_type": "display_data"
    },
    {
     "data": {
      "text/html": [
       "<h2>The source code that is accepted:\n",
       "</h2>"
      ],
      "text/plain": [
       "<IPython.core.display.HTML object>"
      ]
     },
     "metadata": {},
     "output_type": "display_data"
    },
    {
     "data": {
      "text/html": [
       "<pre><span style=\"color:black;\">#</span><span style=\"color:lightgrey;\">•</span><span style=\"color:black;\">c</span><span style=\"color:black;\">o</span><span style=\"color:black;\">d</span><span style=\"color:black;\">i</span><span style=\"color:black;\">n</span><span style=\"color:black;\">g</span><span style=\"color:black;\">:</span><span style=\"color:lightgrey;\">•</span><span style=\"color:black;\">U</span><span style=\"color:black;\">T</span><span style=\"color:black;\">F</span><span style=\"color:black;\">-</span><span style=\"color:black;\">8</span><span style=\"color:lightgrey;\">↵\n",
       "</span><span style=\"color:black;\">i</span><span style=\"color:black;\">n</span><span style=\"color:black;\">p</span><span style=\"color:black;\">u</span><span style=\"color:black;\">t</span><span style=\"color:black;\">s</span><span style=\"color:black;\">=</span><span style=\"color:black;\">[</span><span style=\"color:black;\">]</span><span style=\"color:lightgrey;\">↵\n",
       "</span><span style=\"color:black;\">f</span><span style=\"color:black;\">o</span><span style=\"color:black;\">r</span><span style=\"color:lightgrey;\">•</span><span style=\"color:black;\">i</span><span style=\"color:lightgrey;\">•</span><span style=\"color:black;\">i</span><span style=\"color:black;\">n</span><span style=\"color:lightgrey;\">•</span><span style=\"color:black;\">r</span><span style=\"color:black;\">a</span><span style=\"color:black;\">n</span><span style=\"color:black;\">g</span><span style=\"color:black;\">e</span><span style=\"color:black;\">(</span><span style=\"color:blue;\">0</span><span style=\"color:black;\">,</span><span style=\"color:black;\">1</span><span style=\"color:black;\">0</span><span style=\"color:black;\">)</span><span style=\"color:black;\">:</span><span style=\"color:lightgrey;\">↵\n",
       "</span><span style=\"color:lightgrey;\">•</span><span style=\"color:lightgrey;\">•</span><span style=\"color:lightgrey;\">•</span><span style=\"color:lightgrey;\">•</span><span style=\"color:black;\">i</span><span style=\"color:black;\">n</span><span style=\"color:black;\">p</span><span style=\"color:black;\">u</span><span style=\"color:black;\">t</span><span style=\"color:black;\">s</span><span style=\"color:black;\">.</span><span style=\"color:black;\">a</span><span style=\"color:black;\">p</span><span style=\"color:black;\">p</span><span style=\"color:black;\">e</span><span style=\"color:black;\">n</span><span style=\"color:black;\">d</span><span style=\"color:black;\">(</span><span style=\"color:black;\">i</span><span style=\"color:black;\">n</span><span style=\"color:black;\">p</span><span style=\"color:black;\">u</span><span style=\"color:black;\">t</span><span style=\"color:black;\">(</span><span style=\"color:black;\">)</span><span style=\"color:black;\">)</span><span style=\"color:lightgrey;\">↵\n",
       "</span><span style=\"color:black;\">i</span><span style=\"color:black;\">n</span><span style=\"color:black;\">p</span><span style=\"color:black;\">u</span><span style=\"color:black;\">t</span><span style=\"color:black;\">s</span><span style=\"color:black;\">.</span><span style=\"color:black;\">s</span><span style=\"color:black;\">o</span><span style=\"color:black;\">r</span><span style=\"color:black;\">t</span><span style=\"color:black;\">(</span><span style=\"color:black;\">r</span><span style=\"color:black;\">e</span><span style=\"color:black;\">v</span><span style=\"color:black;\">e</span><span style=\"color:black;\">r</span><span style=\"color:black;\">s</span><span style=\"color:black;\">e</span><span style=\"color:black;\">=</span><span style=\"color:black;\">T</span><span style=\"color:black;\">r</span><span style=\"color:black;\">u</span><span style=\"color:black;\">e</span><span style=\"color:black;\">)</span><span style=\"color:lightgrey;\">↵\n",
       "</span><span style=\"color:blue;\">#</span><span style=\"color:blue;\">p</span><span style=\"color:blue;\">r</span><span style=\"color:blue;\">i</span><span style=\"color:blue;\">n</span><span style=\"color:blue;\">t</span><span style=\"color:blue;\">•</span><span style=\"color:blue;\">\"</span><span style=\"color:blue;\">\\</span><span style=\"color:blue;\">n</span><span style=\"color:blue;\">\"</span><span style=\"color:blue;\">↵\n",
       "</span><span style=\"color:blue;\">f</span><span style=\"color:black;\">o</span><span style=\"color:black;\">r</span><span style=\"color:lightgrey;\">•</span><span style=\"color:black;\">i</span><span style=\"color:lightgrey;\">•</span><span style=\"color:black;\">i</span><span style=\"color:black;\">n</span><span style=\"color:lightgrey;\">•</span><span style=\"color:black;\">r</span><span style=\"color:black;\">a</span><span style=\"color:black;\">n</span><span style=\"color:black;\">g</span><span style=\"color:black;\">e</span><span style=\"color:black;\">(</span><span style=\"color:black;\">0</span><span style=\"color:black;\">,</span><span style=\"color:black;\">3</span><span style=\"color:black;\">)</span><span style=\"color:black;\">:</span><span style=\"color:lightgrey;\">↵\n",
       "</span><span style=\"color:lightgrey;\">•</span><span style=\"color:lightgrey;\">•</span><span style=\"color:lightgrey;\">•</span><span style=\"color:lightgrey;\">•</span><span style=\"color:black;\">p</span><span style=\"color:black;\">r</span><span style=\"color:black;\">i</span><span style=\"color:black;\">n</span><span style=\"color:black;\">t</span><span style=\"color:lightgrey;\">•</span><span style=\"color:blue;\">i</span><span style=\"color:blue;\">n</span><span style=\"color:blue;\">p</span><span style=\"color:blue;\">u</span><span style=\"color:blue;\">t</span><span style=\"color:blue;\">s</span><span style=\"color:black;\">[</span><span style=\"color:black;\">i</span><span style=\"color:black;\">]</span></pre>"
      ],
      "text/plain": [
       "<IPython.core.display.HTML object>"
      ]
     },
     "metadata": {},
     "output_type": "display_data"
    },
    {
     "data": {
      "text/html": [
       "<h2>The bug that should be assigned to the original_src:\n",
       "</h2>"
      ],
      "text/plain": [
       "<IPython.core.display.HTML object>"
      ]
     },
     "metadata": {},
     "output_type": "display_data"
    },
    {
     "data": {
      "text/html": [
       "<pre>SyntaxError: Missing parentheses in call to 'print'. Did you mean print(x[i])?</pre>"
      ],
      "text/plain": [
       "<IPython.core.display.HTML object>"
      ]
     },
     "metadata": {},
     "output_type": "display_data"
    },
    {
     "data": {
      "text/html": [
       "<h1>Example 19</h1>"
      ],
      "text/plain": [
       "<IPython.core.display.HTML object>"
      ]
     },
     "metadata": {},
     "output_type": "display_data"
    },
    {
     "data": {
      "text/html": [
       "<h2>The source code that is buggy:\n",
       "</h2>"
      ],
      "text/plain": [
       "<IPython.core.display.HTML object>"
      ]
     },
     "metadata": {},
     "output_type": "display_data"
    },
    {
     "data": {
      "text/html": [
       "<pre><span style=\"color:black;\">N</span><span style=\"color:black;\">=</span><span style=\"color:black;\">1</span><span style=\"color:black;\">0</span><span style=\"color:lightgrey;\">↵\n",
       "</span><span style=\"color:black;\">A</span><span style=\"color:black;\">=</span><span style=\"color:black;\">[</span><span style=\"color:red;\">]</span><span style=\"color:red;\">↵\n",
       "</span><span style=\"color:black;\">f</span><span style=\"color:black;\">o</span><span style=\"color:black;\">r</span><span style=\"color:lightgrey;\">•</span><span style=\"color:black;\">i</span><span style=\"color:lightgrey;\">•</span><span style=\"color:black;\">i</span><span style=\"color:black;\">n</span><span style=\"color:lightgrey;\">•</span><span style=\"color:black;\">r</span><span style=\"color:black;\">a</span><span style=\"color:black;\">n</span><span style=\"color:black;\">g</span><span style=\"color:black;\">e</span><span style=\"color:black;\">(</span><span style=\"color:black;\">N</span><span style=\"color:black;\">)</span><span style=\"color:red;\">:</span><span style=\"color:lightgrey;\">↵\n",
       "</span><span style=\"color:red;\">•</span><span style=\"color:red;\">•</span><span style=\"color:red;\">•</span><span style=\"color:red;\">•</span><span style=\"color:black;\">A</span><span style=\"color:black;\">.</span><span style=\"color:red;\">a</span><span style=\"color:red;\">p</span><span style=\"color:red;\">p</span><span style=\"color:red;\">e</span><span style=\"color:red;\">n</span><span style=\"color:red;\">d</span><span style=\"color:red;\">(</span><span style=\"color:red;\">i</span><span style=\"color:red;\">n</span><span style=\"color:red;\">t</span><span style=\"color:red;\">(</span><span style=\"color:red;\">i</span><span style=\"color:red;\">n</span><span style=\"color:red;\">p</span><span style=\"color:red;\">u</span><span style=\"color:red;\">t</span><span style=\"color:red;\">(</span><span style=\"color:red;\">)</span><span style=\"color:red;\">)</span><span style=\"color:red;\">)</span><span style=\"color:red;\">↵\n",
       "</span><span style=\"color:black;\">s</span><span style=\"color:black;\">o</span><span style=\"color:black;\">r</span><span style=\"color:black;\">t</span><span style=\"color:red;\">e</span><span style=\"color:red;\">d</span><span style=\"color:red;\">(</span><span style=\"color:red;\">A</span><span style=\"color:black;\">)</span><span style=\"color:lightgrey;\">↵\n",
       "</span><span style=\"color:black;\">f</span><span style=\"color:black;\">o</span><span style=\"color:black;\">r</span><span style=\"color:lightgrey;\">•</span><span style=\"color:black;\">i</span><span style=\"color:lightgrey;\">•</span><span style=\"color:black;\">i</span><span style=\"color:black;\">n</span><span style=\"color:lightgrey;\">•</span><span style=\"color:black;\">r</span><span style=\"color:black;\">a</span><span style=\"color:black;\">n</span><span style=\"color:black;\">g</span><span style=\"color:black;\">e</span><span style=\"color:black;\">(</span><span style=\"color:black;\">3</span><span style=\"color:black;\">)</span><span style=\"color:black;\">:</span><span style=\"color:lightgrey;\">↵\n",
       "</span><span style=\"color:lightgrey;\">•</span><span style=\"color:lightgrey;\">•</span><span style=\"color:lightgrey;\">•</span><span style=\"color:lightgrey;\">•</span><span style=\"color:black;\">p</span><span style=\"color:black;\">r</span><span style=\"color:black;\">i</span><span style=\"color:black;\">n</span><span style=\"color:black;\">t</span><span style=\"color:black;\">(</span><span style=\"color:red;\">a</span><span style=\"color:black;\">[</span><span style=\"color:black;\">i</span><span style=\"color:black;\">]</span><span style=\"color:black;\">)</span></pre>"
      ],
      "text/plain": [
       "<IPython.core.display.HTML object>"
      ]
     },
     "metadata": {},
     "output_type": "display_data"
    },
    {
     "data": {
      "text/html": [
       "<h2>The source code that is accepted:\n",
       "</h2>"
      ],
      "text/plain": [
       "<IPython.core.display.HTML object>"
      ]
     },
     "metadata": {},
     "output_type": "display_data"
    },
    {
     "data": {
      "text/html": [
       "<pre><span style=\"color:black;\">N</span><span style=\"color:black;\">=</span><span style=\"color:black;\">1</span><span style=\"color:black;\">0</span><span style=\"color:lightgrey;\">↵\n",
       "</span><span style=\"color:black;\">A</span><span style=\"color:black;\">=</span><span style=\"color:black;\">[</span><span style=\"color:blue;\">i</span><span style=\"color:blue;\">n</span><span style=\"color:blue;\">t</span><span style=\"color:blue;\">(</span><span style=\"color:blue;\">i</span><span style=\"color:blue;\">n</span><span style=\"color:blue;\">p</span><span style=\"color:blue;\">u</span><span style=\"color:blue;\">t</span><span style=\"color:blue;\">(</span><span style=\"color:blue;\">)</span><span style=\"color:blue;\">)</span><span style=\"color:blue;\">•</span><span style=\"color:black;\">f</span><span style=\"color:black;\">o</span><span style=\"color:black;\">r</span><span style=\"color:lightgrey;\">•</span><span style=\"color:black;\">i</span><span style=\"color:lightgrey;\">•</span><span style=\"color:black;\">i</span><span style=\"color:black;\">n</span><span style=\"color:lightgrey;\">•</span><span style=\"color:black;\">r</span><span style=\"color:black;\">a</span><span style=\"color:black;\">n</span><span style=\"color:black;\">g</span><span style=\"color:black;\">e</span><span style=\"color:black;\">(</span><span style=\"color:black;\">N</span><span style=\"color:black;\">)</span><span style=\"color:blue;\">]</span><span style=\"color:lightgrey;\">↵\n",
       "</span><span style=\"color:black;\">A</span><span style=\"color:black;\">.</span><span style=\"color:black;\">s</span><span style=\"color:black;\">o</span><span style=\"color:black;\">r</span><span style=\"color:black;\">t</span><span style=\"color:blue;\">(</span><span style=\"color:blue;\">r</span><span style=\"color:blue;\">e</span><span style=\"color:blue;\">v</span><span style=\"color:blue;\">e</span><span style=\"color:blue;\">r</span><span style=\"color:blue;\">s</span><span style=\"color:blue;\">e</span><span style=\"color:blue;\">=</span><span style=\"color:blue;\">T</span><span style=\"color:blue;\">r</span><span style=\"color:blue;\">u</span><span style=\"color:blue;\">e</span><span style=\"color:black;\">)</span><span style=\"color:lightgrey;\">↵\n",
       "</span><span style=\"color:black;\">f</span><span style=\"color:black;\">o</span><span style=\"color:black;\">r</span><span style=\"color:lightgrey;\">•</span><span style=\"color:black;\">i</span><span style=\"color:lightgrey;\">•</span><span style=\"color:black;\">i</span><span style=\"color:black;\">n</span><span style=\"color:lightgrey;\">•</span><span style=\"color:black;\">r</span><span style=\"color:black;\">a</span><span style=\"color:black;\">n</span><span style=\"color:black;\">g</span><span style=\"color:black;\">e</span><span style=\"color:black;\">(</span><span style=\"color:black;\">3</span><span style=\"color:black;\">)</span><span style=\"color:black;\">:</span><span style=\"color:lightgrey;\">↵\n",
       "</span><span style=\"color:lightgrey;\">•</span><span style=\"color:lightgrey;\">•</span><span style=\"color:lightgrey;\">•</span><span style=\"color:lightgrey;\">•</span><span style=\"color:black;\">p</span><span style=\"color:black;\">r</span><span style=\"color:black;\">i</span><span style=\"color:black;\">n</span><span style=\"color:black;\">t</span><span style=\"color:black;\">(</span><span style=\"color:blue;\">A</span><span style=\"color:black;\">[</span><span style=\"color:black;\">i</span><span style=\"color:black;\">]</span><span style=\"color:black;\">)</span></pre>"
      ],
      "text/plain": [
       "<IPython.core.display.HTML object>"
      ]
     },
     "metadata": {},
     "output_type": "display_data"
    },
    {
     "data": {
      "text/html": [
       "<h2>The bug that should be assigned to the original_src:\n",
       "</h2>"
      ],
      "text/plain": [
       "<IPython.core.display.HTML object>"
      ]
     },
     "metadata": {},
     "output_type": "display_data"
    },
    {
     "data": {
      "text/html": [
       "<pre>NameError: name 'a' is not defined</pre>"
      ],
      "text/plain": [
       "<IPython.core.display.HTML object>"
      ]
     },
     "metadata": {},
     "output_type": "display_data"
    },
    {
     "data": {
      "text/html": [
       "<h1>Example 20</h1>"
      ],
      "text/plain": [
       "<IPython.core.display.HTML object>"
      ]
     },
     "metadata": {},
     "output_type": "display_data"
    },
    {
     "data": {
      "text/html": [
       "<h2>The source code that is buggy:\n",
       "</h2>"
      ],
      "text/plain": [
       "<IPython.core.display.HTML object>"
      ]
     },
     "metadata": {},
     "output_type": "display_data"
    },
    {
     "data": {
      "text/html": [
       "<pre><span style=\"color:black;\">a</span><span style=\"color:lightgrey;\">•</span><span style=\"color:black;\">=</span><span style=\"color:lightgrey;\">•</span><span style=\"color:red;\">l</span><span style=\"color:black;\">i</span><span style=\"color:red;\">s</span><span style=\"color:red;\">t</span><span style=\"color:black;\">(</span><span style=\"color:red;\">m</span><span style=\"color:black;\">a</span><span style=\"color:black;\">p</span><span style=\"color:red;\">(</span><span style=\"color:black;\">i</span><span style=\"color:black;\">n</span><span style=\"color:black;\">t</span><span style=\"color:red;\">,</span><span style=\"color:black;\">i</span><span style=\"color:black;\">n</span><span style=\"color:black;\">p</span><span style=\"color:black;\">u</span><span style=\"color:red;\">t</span><span style=\"color:red;\">(</span><span style=\"color:red;\">)</span><span style=\"color:red;\">.</span><span style=\"color:red;\">s</span><span style=\"color:red;\">p</span><span style=\"color:red;\">l</span><span style=\"color:red;\">i</span><span style=\"color:black;\">t</span><span style=\"color:black;\">(</span><span style=\"color:black;\">)</span><span style=\"color:black;\">)</span><span style=\"color:black;\">)</span><span style=\"color:lightgrey;\">↵\n",
       "</span><span style=\"color:black;\">a</span><span style=\"color:black;\">.</span><span style=\"color:black;\">s</span><span style=\"color:black;\">o</span><span style=\"color:black;\">r</span><span style=\"color:black;\">t</span><span style=\"color:black;\">(</span><span style=\"color:black;\">)</span><span style=\"color:lightgrey;\">↵\n",
       "</span><span style=\"color:red;\">p</span><span style=\"color:black;\">r</span><span style=\"color:black;\">i</span><span style=\"color:black;\">n</span><span style=\"color:black;\">t</span><span style=\"color:black;\">(</span><span style=\"color:black;\">a</span><span style=\"color:black;\">[</span><span style=\"color:black;\">-</span><span style=\"color:red;\">1</span><span style=\"color:red;\">]</span><span style=\"color:black;\">)</span><span style=\"color:red;\">↵\n",
       "</span><span style=\"color:red;\">p</span><span style=\"color:red;\">r</span><span style=\"color:red;\">i</span><span style=\"color:red;\">n</span><span style=\"color:red;\">t</span><span style=\"color:red;\">(</span><span style=\"color:red;\">a</span><span style=\"color:red;\">[</span><span style=\"color:red;\">-</span><span style=\"color:red;\">2</span><span style=\"color:red;\">]</span><span style=\"color:red;\">)</span><span style=\"color:red;\">↵\n",
       "</span><span style=\"color:red;\">p</span><span style=\"color:red;\">r</span><span style=\"color:red;\">i</span><span style=\"color:red;\">n</span><span style=\"color:red;\">t</span><span style=\"color:red;\">(</span><span style=\"color:red;\">a</span><span style=\"color:red;\">[</span><span style=\"color:red;\">-</span><span style=\"color:red;\">3</span><span style=\"color:red;\">]</span><span style=\"color:red;\">)</span></pre>"
      ],
      "text/plain": [
       "<IPython.core.display.HTML object>"
      ]
     },
     "metadata": {},
     "output_type": "display_data"
    },
    {
     "data": {
      "text/html": [
       "<h2>The source code that is accepted:\n",
       "</h2>"
      ],
      "text/plain": [
       "<IPython.core.display.HTML object>"
      ]
     },
     "metadata": {},
     "output_type": "display_data"
    },
    {
     "data": {
      "text/html": [
       "<pre><span style=\"color:black;\">a</span><span style=\"color:lightgrey;\">•</span><span style=\"color:black;\">=</span><span style=\"color:lightgrey;\">•</span><span style=\"color:blue;\">[</span><span style=\"color:blue;\">]</span><span style=\"color:blue;\">↵\n",
       "</span><span style=\"color:blue;\">f</span><span style=\"color:blue;\">o</span><span style=\"color:blue;\">r</span><span style=\"color:blue;\">•</span><span style=\"color:black;\">i</span><span style=\"color:blue;\">•</span><span style=\"color:blue;\">i</span><span style=\"color:blue;\">n</span><span style=\"color:blue;\">•</span><span style=\"color:blue;\">r</span><span style=\"color:blue;\">a</span><span style=\"color:blue;\">n</span><span style=\"color:blue;\">g</span><span style=\"color:blue;\">e</span><span style=\"color:black;\">(</span><span style=\"color:blue;\">1</span><span style=\"color:blue;\">0</span><span style=\"color:blue;\">)</span><span style=\"color:blue;\">:</span><span style=\"color:blue;\">↵\n",
       "</span><span style=\"color:blue;\">•</span><span style=\"color:blue;\">•</span><span style=\"color:blue;\">•</span><span style=\"color:blue;\">•</span><span style=\"color:blue;\">a</span><span style=\"color:blue;\">.</span><span style=\"color:black;\">a</span><span style=\"color:black;\">p</span><span style=\"color:blue;\">p</span><span style=\"color:blue;\">e</span><span style=\"color:blue;\">n</span><span style=\"color:blue;\">d</span><span style=\"color:blue;\">(</span><span style=\"color:black;\">i</span><span style=\"color:black;\">n</span><span style=\"color:black;\">t</span><span style=\"color:blue;\">(</span><span style=\"color:black;\">i</span><span style=\"color:black;\">n</span><span style=\"color:black;\">p</span><span style=\"color:black;\">u</span><span style=\"color:black;\">t</span><span style=\"color:black;\">(</span><span style=\"color:black;\">)</span><span style=\"color:black;\">)</span><span style=\"color:black;\">)</span><span style=\"color:lightgrey;\">↵\n",
       "</span><span style=\"color:black;\">a</span><span style=\"color:black;\">.</span><span style=\"color:black;\">s</span><span style=\"color:black;\">o</span><span style=\"color:black;\">r</span><span style=\"color:black;\">t</span><span style=\"color:black;\">(</span><span style=\"color:black;\">)</span><span style=\"color:lightgrey;\">↵\n",
       "</span><span style=\"color:blue;\">f</span><span style=\"color:blue;\">o</span><span style=\"color:blue;\">r</span><span style=\"color:blue;\">•</span><span style=\"color:blue;\">j</span><span style=\"color:blue;\">•</span><span style=\"color:blue;\">i</span><span style=\"color:blue;\">n</span><span style=\"color:blue;\">•</span><span style=\"color:blue;\">r</span><span style=\"color:blue;\">a</span><span style=\"color:blue;\">n</span><span style=\"color:blue;\">g</span><span style=\"color:blue;\">e</span><span style=\"color:blue;\">(</span><span style=\"color:blue;\">3</span><span style=\"color:blue;\">)</span><span style=\"color:blue;\">:</span><span style=\"color:blue;\">↵\n",
       "</span><span style=\"color:blue;\">•</span><span style=\"color:blue;\">•</span><span style=\"color:blue;\">•</span><span style=\"color:blue;\">•</span><span style=\"color:blue;\">p</span><span style=\"color:black;\">r</span><span style=\"color:black;\">i</span><span style=\"color:black;\">n</span><span style=\"color:black;\">t</span><span style=\"color:black;\">(</span><span style=\"color:black;\">a</span><span style=\"color:black;\">[</span><span style=\"color:black;\">-</span><span style=\"color:blue;\">(</span><span style=\"color:blue;\">j</span><span style=\"color:blue;\">+</span><span style=\"color:blue;\">1</span><span style=\"color:blue;\">)</span><span style=\"color:blue;\">]</span><span style=\"color:black;\">)</span></pre>"
      ],
      "text/plain": [
       "<IPython.core.display.HTML object>"
      ]
     },
     "metadata": {},
     "output_type": "display_data"
    },
    {
     "data": {
      "text/html": [
       "<h2>The bug that should be assigned to the original_src:\n",
       "</h2>"
      ],
      "text/plain": [
       "<IPython.core.display.HTML object>"
      ]
     },
     "metadata": {},
     "output_type": "display_data"
    },
    {
     "data": {
      "text/html": [
       "<pre>IndexError: list index out of range</pre>"
      ],
      "text/plain": [
       "<IPython.core.display.HTML object>"
      ]
     },
     "metadata": {},
     "output_type": "display_data"
    },
    {
     "data": {
      "text/html": [
       "<h1>Example 21</h1>"
      ],
      "text/plain": [
       "<IPython.core.display.HTML object>"
      ]
     },
     "metadata": {},
     "output_type": "display_data"
    },
    {
     "data": {
      "text/html": [
       "<h2>The source code that is buggy:\n",
       "</h2>"
      ],
      "text/plain": [
       "<IPython.core.display.HTML object>"
      ]
     },
     "metadata": {},
     "output_type": "display_data"
    },
    {
     "data": {
      "text/html": [
       "<pre><span style=\"color:black;\">A</span><span style=\"color:lightgrey;\">•</span><span style=\"color:black;\">=</span><span style=\"color:lightgrey;\">•</span><span style=\"color:black;\">s</span><span style=\"color:black;\">o</span><span style=\"color:black;\">r</span><span style=\"color:black;\">t</span><span style=\"color:black;\">e</span><span style=\"color:black;\">d</span><span style=\"color:black;\">(</span><span style=\"color:black;\">[</span><span style=\"color:black;\">i</span><span style=\"color:black;\">n</span><span style=\"color:black;\">t</span><span style=\"color:black;\">(</span><span style=\"color:black;\">r</span><span style=\"color:black;\">a</span><span style=\"color:black;\">w</span><span style=\"color:black;\">_</span><span style=\"color:black;\">i</span><span style=\"color:black;\">n</span><span style=\"color:black;\">p</span><span style=\"color:black;\">u</span><span style=\"color:black;\">t</span><span style=\"color:black;\">(</span><span style=\"color:black;\">)</span><span style=\"color:black;\">)</span><span style=\"color:lightgrey;\">•</span><span style=\"color:black;\">f</span><span style=\"color:black;\">o</span><span style=\"color:black;\">r</span><span style=\"color:lightgrey;\">•</span><span style=\"color:black;\">_</span><span style=\"color:lightgrey;\">•</span><span style=\"color:black;\">i</span><span style=\"color:black;\">n</span><span style=\"color:lightgrey;\">•</span><span style=\"color:black;\">x</span><span style=\"color:black;\">r</span><span style=\"color:black;\">a</span><span style=\"color:black;\">n</span><span style=\"color:black;\">g</span><span style=\"color:black;\">e</span><span style=\"color:black;\">(</span><span style=\"color:black;\">1</span><span style=\"color:black;\">0</span><span style=\"color:black;\">)</span><span style=\"color:black;\">]</span><span style=\"color:black;\">)</span><span style=\"color:lightgrey;\">↵\n",
       "</span><span style=\"color:black;\">p</span><span style=\"color:black;\">r</span><span style=\"color:black;\">i</span><span style=\"color:black;\">n</span><span style=\"color:black;\">t</span><span style=\"color:lightgrey;\">•</span><span style=\"color:black;\">A</span><span style=\"color:black;\">[</span><span style=\"color:black;\">9</span><span style=\"color:black;\">]</span><span style=\"color:lightgrey;\">↵\n",
       "</span><span style=\"color:black;\">p</span><span style=\"color:black;\">r</span><span style=\"color:black;\">i</span><span style=\"color:black;\">n</span><span style=\"color:black;\">t</span><span style=\"color:lightgrey;\">•</span><span style=\"color:black;\">A</span><span style=\"color:black;\">[</span><span style=\"color:black;\">8</span><span style=\"color:black;\">]</span><span style=\"color:lightgrey;\">↵\n",
       "</span><span style=\"color:red;\">P</span><span style=\"color:black;\">r</span><span style=\"color:black;\">i</span><span style=\"color:black;\">n</span><span style=\"color:black;\">t</span><span style=\"color:lightgrey;\">•</span><span style=\"color:red;\">a</span><span style=\"color:black;\">[</span><span style=\"color:black;\">7</span><span style=\"color:black;\">]</span></pre>"
      ],
      "text/plain": [
       "<IPython.core.display.HTML object>"
      ]
     },
     "metadata": {},
     "output_type": "display_data"
    },
    {
     "data": {
      "text/html": [
       "<h2>The source code that is accepted:\n",
       "</h2>"
      ],
      "text/plain": [
       "<IPython.core.display.HTML object>"
      ]
     },
     "metadata": {},
     "output_type": "display_data"
    },
    {
     "data": {
      "text/html": [
       "<pre><span style=\"color:black;\">A</span><span style=\"color:lightgrey;\">•</span><span style=\"color:black;\">=</span><span style=\"color:lightgrey;\">•</span><span style=\"color:black;\">s</span><span style=\"color:black;\">o</span><span style=\"color:black;\">r</span><span style=\"color:black;\">t</span><span style=\"color:black;\">e</span><span style=\"color:black;\">d</span><span style=\"color:black;\">(</span><span style=\"color:black;\">[</span><span style=\"color:black;\">i</span><span style=\"color:black;\">n</span><span style=\"color:black;\">t</span><span style=\"color:black;\">(</span><span style=\"color:black;\">r</span><span style=\"color:black;\">a</span><span style=\"color:black;\">w</span><span style=\"color:black;\">_</span><span style=\"color:black;\">i</span><span style=\"color:black;\">n</span><span style=\"color:black;\">p</span><span style=\"color:black;\">u</span><span style=\"color:black;\">t</span><span style=\"color:black;\">(</span><span style=\"color:black;\">)</span><span style=\"color:black;\">)</span><span style=\"color:lightgrey;\">•</span><span style=\"color:black;\">f</span><span style=\"color:black;\">o</span><span style=\"color:black;\">r</span><span style=\"color:lightgrey;\">•</span><span style=\"color:black;\">_</span><span style=\"color:lightgrey;\">•</span><span style=\"color:black;\">i</span><span style=\"color:black;\">n</span><span style=\"color:lightgrey;\">•</span><span style=\"color:black;\">x</span><span style=\"color:black;\">r</span><span style=\"color:black;\">a</span><span style=\"color:black;\">n</span><span style=\"color:black;\">g</span><span style=\"color:black;\">e</span><span style=\"color:black;\">(</span><span style=\"color:black;\">1</span><span style=\"color:black;\">0</span><span style=\"color:black;\">)</span><span style=\"color:black;\">]</span><span style=\"color:black;\">)</span><span style=\"color:lightgrey;\">↵\n",
       "</span><span style=\"color:black;\">p</span><span style=\"color:black;\">r</span><span style=\"color:black;\">i</span><span style=\"color:black;\">n</span><span style=\"color:black;\">t</span><span style=\"color:lightgrey;\">•</span><span style=\"color:black;\">A</span><span style=\"color:black;\">[</span><span style=\"color:black;\">9</span><span style=\"color:black;\">]</span><span style=\"color:lightgrey;\">↵\n",
       "</span><span style=\"color:black;\">p</span><span style=\"color:black;\">r</span><span style=\"color:black;\">i</span><span style=\"color:black;\">n</span><span style=\"color:black;\">t</span><span style=\"color:lightgrey;\">•</span><span style=\"color:black;\">A</span><span style=\"color:black;\">[</span><span style=\"color:black;\">8</span><span style=\"color:black;\">]</span><span style=\"color:lightgrey;\">↵\n",
       "</span><span style=\"color:blue;\">p</span><span style=\"color:black;\">r</span><span style=\"color:black;\">i</span><span style=\"color:black;\">n</span><span style=\"color:black;\">t</span><span style=\"color:lightgrey;\">•</span><span style=\"color:blue;\">A</span><span style=\"color:black;\">[</span><span style=\"color:black;\">7</span><span style=\"color:black;\">]</span></pre>"
      ],
      "text/plain": [
       "<IPython.core.display.HTML object>"
      ]
     },
     "metadata": {},
     "output_type": "display_data"
    },
    {
     "data": {
      "text/html": [
       "<h2>The bug that should be assigned to the original_src:\n",
       "</h2>"
      ],
      "text/plain": [
       "<IPython.core.display.HTML object>"
      ]
     },
     "metadata": {},
     "output_type": "display_data"
    },
    {
     "data": {
      "text/html": [
       "<pre>SyntaxError: Missing parentheses in call to 'print'. Did you mean print(A[9])?</pre>"
      ],
      "text/plain": [
       "<IPython.core.display.HTML object>"
      ]
     },
     "metadata": {},
     "output_type": "display_data"
    },
    {
     "data": {
      "text/html": [
       "<h1>Example 22</h1>"
      ],
      "text/plain": [
       "<IPython.core.display.HTML object>"
      ]
     },
     "metadata": {},
     "output_type": "display_data"
    },
    {
     "data": {
      "text/html": [
       "<h2>The source code that is buggy:\n",
       "</h2>"
      ],
      "text/plain": [
       "<IPython.core.display.HTML object>"
      ]
     },
     "metadata": {},
     "output_type": "display_data"
    },
    {
     "data": {
      "text/html": [
       "<pre><span style=\"color:black;\">l</span><span style=\"color:lightgrey;\">•</span><span style=\"color:black;\">=</span><span style=\"color:lightgrey;\">•</span><span style=\"color:black;\">[</span><span style=\"color:black;\">i</span><span style=\"color:black;\">n</span><span style=\"color:red;\">p</span><span style=\"color:black;\">u</span><span style=\"color:black;\">t</span><span style=\"color:black;\">(</span><span style=\"color:black;\">)</span><span style=\"color:red;\">]</span><span style=\"color:red;\">*</span><span style=\"color:black;\">1</span><span style=\"color:black;\">0</span><span style=\"color:red;\">↵\n",
       "</span><span style=\"color:black;\">f</span><span style=\"color:black;\">o</span><span style=\"color:black;\">r</span><span style=\"color:lightgrey;\">•</span><span style=\"color:black;\">i</span><span style=\"color:lightgrey;\">•</span><span style=\"color:black;\">i</span><span style=\"color:black;\">n</span><span style=\"color:lightgrey;\">•</span><span style=\"color:red;\">l</span><span style=\"color:red;\">.</span><span style=\"color:black;\">s</span><span style=\"color:black;\">o</span><span style=\"color:black;\">r</span><span style=\"color:black;\">t</span><span style=\"color:red;\">(</span><span style=\"color:red;\">r</span><span style=\"color:black;\">e</span><span style=\"color:black;\">v</span><span style=\"color:black;\">e</span><span style=\"color:black;\">r</span><span style=\"color:black;\">s</span><span style=\"color:black;\">e</span><span style=\"color:black;\">=</span><span style=\"color:black;\">T</span><span style=\"color:black;\">r</span><span style=\"color:black;\">u</span><span style=\"color:black;\">e</span><span style=\"color:black;\">)</span><span style=\"color:black;\">[</span><span style=\"color:black;\">:</span><span style=\"color:black;\">3</span><span style=\"color:black;\">]</span><span style=\"color:black;\">:</span><span style=\"color:lightgrey;\">↵\n",
       "</span><span style=\"color:lightgrey;\">•</span><span style=\"color:lightgrey;\">•</span><span style=\"color:lightgrey;\">•</span><span style=\"color:lightgrey;\">•</span><span style=\"color:black;\">p</span><span style=\"color:black;\">r</span><span style=\"color:black;\">i</span><span style=\"color:black;\">n</span><span style=\"color:black;\">t</span><span style=\"color:black;\">(</span><span style=\"color:black;\">i</span><span style=\"color:black;\">)</span></pre>"
      ],
      "text/plain": [
       "<IPython.core.display.HTML object>"
      ]
     },
     "metadata": {},
     "output_type": "display_data"
    },
    {
     "data": {
      "text/html": [
       "<h2>The source code that is accepted:\n",
       "</h2>"
      ],
      "text/plain": [
       "<IPython.core.display.HTML object>"
      ]
     },
     "metadata": {},
     "output_type": "display_data"
    },
    {
     "data": {
      "text/html": [
       "<pre><span style=\"color:black;\">l</span><span style=\"color:lightgrey;\">•</span><span style=\"color:black;\">=</span><span style=\"color:lightgrey;\">•</span><span style=\"color:black;\">[</span><span style=\"color:black;\">i</span><span style=\"color:black;\">n</span><span style=\"color:blue;\">t</span><span style=\"color:blue;\">(</span><span style=\"color:blue;\">i</span><span style=\"color:blue;\">n</span><span style=\"color:blue;\">p</span><span style=\"color:black;\">u</span><span style=\"color:black;\">t</span><span style=\"color:black;\">(</span><span style=\"color:black;\">)</span><span style=\"color:blue;\">)</span><span style=\"color:blue;\">•</span><span style=\"color:blue;\">f</span><span style=\"color:blue;\">o</span><span style=\"color:blue;\">r</span><span style=\"color:blue;\">•</span><span style=\"color:blue;\">i</span><span style=\"color:blue;\">•</span><span style=\"color:blue;\">i</span><span style=\"color:blue;\">n</span><span style=\"color:blue;\">•</span><span style=\"color:blue;\">r</span><span style=\"color:blue;\">a</span><span style=\"color:blue;\">n</span><span style=\"color:blue;\">g</span><span style=\"color:blue;\">e</span><span style=\"color:blue;\">(</span><span style=\"color:black;\">1</span><span style=\"color:black;\">0</span><span style=\"color:blue;\">)</span><span style=\"color:blue;\">]</span><span style=\"color:blue;\">↵\n",
       "</span><span style=\"color:black;\">f</span><span style=\"color:black;\">o</span><span style=\"color:black;\">r</span><span style=\"color:lightgrey;\">•</span><span style=\"color:black;\">i</span><span style=\"color:lightgrey;\">•</span><span style=\"color:black;\">i</span><span style=\"color:black;\">n</span><span style=\"color:lightgrey;\">•</span><span style=\"color:black;\">s</span><span style=\"color:black;\">o</span><span style=\"color:black;\">r</span><span style=\"color:black;\">t</span><span style=\"color:blue;\">e</span><span style=\"color:blue;\">d</span><span style=\"color:blue;\">(</span><span style=\"color:blue;\">l</span><span style=\"color:blue;\">,</span><span style=\"color:blue;\">r</span><span style=\"color:black;\">e</span><span style=\"color:black;\">v</span><span style=\"color:black;\">e</span><span style=\"color:black;\">r</span><span style=\"color:black;\">s</span><span style=\"color:black;\">e</span><span style=\"color:black;\">=</span><span style=\"color:black;\">T</span><span style=\"color:black;\">r</span><span style=\"color:black;\">u</span><span style=\"color:black;\">e</span><span style=\"color:black;\">)</span><span style=\"color:black;\">[</span><span style=\"color:black;\">:</span><span style=\"color:black;\">3</span><span style=\"color:black;\">]</span><span style=\"color:black;\">:</span><span style=\"color:lightgrey;\">↵\n",
       "</span><span style=\"color:lightgrey;\">•</span><span style=\"color:lightgrey;\">•</span><span style=\"color:lightgrey;\">•</span><span style=\"color:lightgrey;\">•</span><span style=\"color:black;\">p</span><span style=\"color:black;\">r</span><span style=\"color:black;\">i</span><span style=\"color:black;\">n</span><span style=\"color:black;\">t</span><span style=\"color:black;\">(</span><span style=\"color:black;\">i</span><span style=\"color:black;\">)</span></pre>"
      ],
      "text/plain": [
       "<IPython.core.display.HTML object>"
      ]
     },
     "metadata": {},
     "output_type": "display_data"
    },
    {
     "data": {
      "text/html": [
       "<h2>The bug that should be assigned to the original_src:\n",
       "</h2>"
      ],
      "text/plain": [
       "<IPython.core.display.HTML object>"
      ]
     },
     "metadata": {},
     "output_type": "display_data"
    },
    {
     "data": {
      "text/html": [
       "<pre>TypeError: 'NoneType' object is not subscriptable</pre>"
      ],
      "text/plain": [
       "<IPython.core.display.HTML object>"
      ]
     },
     "metadata": {},
     "output_type": "display_data"
    },
    {
     "data": {
      "text/html": [
       "<h1>Example 23</h1>"
      ],
      "text/plain": [
       "<IPython.core.display.HTML object>"
      ]
     },
     "metadata": {},
     "output_type": "display_data"
    },
    {
     "data": {
      "text/html": [
       "<h2>The source code that is buggy:\n",
       "</h2>"
      ],
      "text/plain": [
       "<IPython.core.display.HTML object>"
      ]
     },
     "metadata": {},
     "output_type": "display_data"
    },
    {
     "data": {
      "text/html": [
       "<pre><span style=\"color:black;\">x</span><span style=\"color:lightgrey;\">•</span><span style=\"color:black;\">=</span><span style=\"color:lightgrey;\">•</span><span style=\"color:black;\">s</span><span style=\"color:black;\">o</span><span style=\"color:black;\">r</span><span style=\"color:black;\">t</span><span style=\"color:black;\">e</span><span style=\"color:black;\">d</span><span style=\"color:black;\">(</span><span style=\"color:red;\">m</span><span style=\"color:red;\">a</span><span style=\"color:red;\">p</span><span style=\"color:red;\">(</span><span style=\"color:black;\">i</span><span style=\"color:black;\">n</span><span style=\"color:black;\">t</span><span style=\"color:red;\">,</span><span style=\"color:red;\">•</span><span style=\"color:black;\">i</span><span style=\"color:black;\">n</span><span style=\"color:black;\">p</span><span style=\"color:black;\">u</span><span style=\"color:black;\">t</span><span style=\"color:black;\">(</span><span style=\"color:black;\">)</span><span style=\"color:red;\">.</span><span style=\"color:red;\">s</span><span style=\"color:red;\">p</span><span style=\"color:red;\">l</span><span style=\"color:black;\">i</span><span style=\"color:red;\">t</span><span style=\"color:black;\">(</span><span style=\"color:red;\">)</span><span style=\"color:red;\">)</span><span style=\"color:black;\">,</span><span style=\"color:lightgrey;\">•</span><span style=\"color:black;\">r</span><span style=\"color:black;\">e</span><span style=\"color:black;\">v</span><span style=\"color:black;\">e</span><span style=\"color:black;\">r</span><span style=\"color:black;\">s</span><span style=\"color:black;\">e</span><span style=\"color:black;\">=</span><span style=\"color:black;\">T</span><span style=\"color:black;\">r</span><span style=\"color:black;\">u</span><span style=\"color:black;\">e</span><span style=\"color:black;\">)</span><span style=\"color:lightgrey;\">↵\n",
       "</span><span style=\"color:black;\">f</span><span style=\"color:black;\">o</span><span style=\"color:black;\">r</span><span style=\"color:lightgrey;\">•</span><span style=\"color:black;\">i</span><span style=\"color:lightgrey;\">•</span><span style=\"color:black;\">i</span><span style=\"color:black;\">n</span><span style=\"color:lightgrey;\">•</span><span style=\"color:black;\">r</span><span style=\"color:black;\">a</span><span style=\"color:black;\">n</span><span style=\"color:black;\">g</span><span style=\"color:black;\">e</span><span style=\"color:black;\">(</span><span style=\"color:black;\">3</span><span style=\"color:black;\">)</span><span style=\"color:black;\">:</span><span style=\"color:lightgrey;\">↵\n",
       "</span><span style=\"color:lightgrey;\">•</span><span style=\"color:lightgrey;\">•</span><span style=\"color:lightgrey;\">•</span><span style=\"color:lightgrey;\">•</span><span style=\"color:black;\">p</span><span style=\"color:black;\">r</span><span style=\"color:black;\">i</span><span style=\"color:black;\">n</span><span style=\"color:black;\">t</span><span style=\"color:black;\">(</span><span style=\"color:black;\">x</span><span style=\"color:black;\">[</span><span style=\"color:black;\">i</span><span style=\"color:black;\">]</span><span style=\"color:black;\">)</span></pre>"
      ],
      "text/plain": [
       "<IPython.core.display.HTML object>"
      ]
     },
     "metadata": {},
     "output_type": "display_data"
    },
    {
     "data": {
      "text/html": [
       "<h2>The source code that is accepted:\n",
       "</h2>"
      ],
      "text/plain": [
       "<IPython.core.display.HTML object>"
      ]
     },
     "metadata": {},
     "output_type": "display_data"
    },
    {
     "data": {
      "text/html": [
       "<pre><span style=\"color:black;\">x</span><span style=\"color:lightgrey;\">•</span><span style=\"color:black;\">=</span><span style=\"color:lightgrey;\">•</span><span style=\"color:black;\">s</span><span style=\"color:black;\">o</span><span style=\"color:black;\">r</span><span style=\"color:black;\">t</span><span style=\"color:black;\">e</span><span style=\"color:black;\">d</span><span style=\"color:black;\">(</span><span style=\"color:blue;\">[</span><span style=\"color:black;\">i</span><span style=\"color:black;\">n</span><span style=\"color:black;\">t</span><span style=\"color:blue;\">(</span><span style=\"color:black;\">i</span><span style=\"color:black;\">n</span><span style=\"color:black;\">p</span><span style=\"color:black;\">u</span><span style=\"color:black;\">t</span><span style=\"color:black;\">(</span><span style=\"color:black;\">)</span><span style=\"color:blue;\">)</span><span style=\"color:blue;\">•</span><span style=\"color:blue;\">f</span><span style=\"color:blue;\">o</span><span style=\"color:blue;\">r</span><span style=\"color:blue;\">•</span><span style=\"color:black;\">i</span><span style=\"color:blue;\">•</span><span style=\"color:blue;\">i</span><span style=\"color:blue;\">n</span><span style=\"color:blue;\">•</span><span style=\"color:blue;\">r</span><span style=\"color:blue;\">a</span><span style=\"color:blue;\">n</span><span style=\"color:blue;\">g</span><span style=\"color:blue;\">e</span><span style=\"color:black;\">(</span><span style=\"color:blue;\">1</span><span style=\"color:blue;\">0</span><span style=\"color:blue;\">)</span><span style=\"color:blue;\">]</span><span style=\"color:black;\">,</span><span style=\"color:lightgrey;\">•</span><span style=\"color:black;\">r</span><span style=\"color:black;\">e</span><span style=\"color:black;\">v</span><span style=\"color:black;\">e</span><span style=\"color:black;\">r</span><span style=\"color:black;\">s</span><span style=\"color:black;\">e</span><span style=\"color:black;\">=</span><span style=\"color:black;\">T</span><span style=\"color:black;\">r</span><span style=\"color:black;\">u</span><span style=\"color:black;\">e</span><span style=\"color:black;\">)</span><span style=\"color:lightgrey;\">↵\n",
       "</span><span style=\"color:black;\">f</span><span style=\"color:black;\">o</span><span style=\"color:black;\">r</span><span style=\"color:lightgrey;\">•</span><span style=\"color:black;\">i</span><span style=\"color:lightgrey;\">•</span><span style=\"color:black;\">i</span><span style=\"color:black;\">n</span><span style=\"color:lightgrey;\">•</span><span style=\"color:black;\">r</span><span style=\"color:black;\">a</span><span style=\"color:black;\">n</span><span style=\"color:black;\">g</span><span style=\"color:black;\">e</span><span style=\"color:black;\">(</span><span style=\"color:black;\">3</span><span style=\"color:black;\">)</span><span style=\"color:black;\">:</span><span style=\"color:lightgrey;\">↵\n",
       "</span><span style=\"color:lightgrey;\">•</span><span style=\"color:lightgrey;\">•</span><span style=\"color:lightgrey;\">•</span><span style=\"color:lightgrey;\">•</span><span style=\"color:black;\">p</span><span style=\"color:black;\">r</span><span style=\"color:black;\">i</span><span style=\"color:black;\">n</span><span style=\"color:black;\">t</span><span style=\"color:black;\">(</span><span style=\"color:black;\">x</span><span style=\"color:black;\">[</span><span style=\"color:black;\">i</span><span style=\"color:black;\">]</span><span style=\"color:black;\">)</span></pre>"
      ],
      "text/plain": [
       "<IPython.core.display.HTML object>"
      ]
     },
     "metadata": {},
     "output_type": "display_data"
    },
    {
     "data": {
      "text/html": [
       "<h2>The bug that should be assigned to the original_src:\n",
       "</h2>"
      ],
      "text/plain": [
       "<IPython.core.display.HTML object>"
      ]
     },
     "metadata": {},
     "output_type": "display_data"
    },
    {
     "data": {
      "text/html": [
       "<pre>IndexError: list index out of range</pre>"
      ],
      "text/plain": [
       "<IPython.core.display.HTML object>"
      ]
     },
     "metadata": {},
     "output_type": "display_data"
    },
    {
     "data": {
      "text/html": [
       "<h1>Example 24</h1>"
      ],
      "text/plain": [
       "<IPython.core.display.HTML object>"
      ]
     },
     "metadata": {},
     "output_type": "display_data"
    },
    {
     "data": {
      "text/html": [
       "<h2>The source code that is buggy:\n",
       "</h2>"
      ],
      "text/plain": [
       "<IPython.core.display.HTML object>"
      ]
     },
     "metadata": {},
     "output_type": "display_data"
    },
    {
     "data": {
      "text/html": [
       "<pre><span style=\"color:black;\">a</span><span style=\"color:lightgrey;\">•</span><span style=\"color:black;\">=</span><span style=\"color:lightgrey;\">•</span><span style=\"color:red;\">s</span><span style=\"color:red;\">o</span><span style=\"color:red;\">r</span><span style=\"color:red;\">t</span><span style=\"color:red;\">e</span><span style=\"color:red;\">d</span><span style=\"color:red;\">(</span><span style=\"color:red;\">m</span><span style=\"color:red;\">a</span><span style=\"color:red;\">p</span><span style=\"color:red;\">(</span><span style=\"color:black;\">i</span><span style=\"color:black;\">n</span><span style=\"color:black;\">t</span><span style=\"color:red;\">,</span><span style=\"color:black;\">i</span><span style=\"color:black;\">n</span><span style=\"color:black;\">p</span><span style=\"color:black;\">u</span><span style=\"color:black;\">t</span><span style=\"color:black;\">(</span><span style=\"color:black;\">)</span><span style=\"color:red;\">.</span><span style=\"color:black;\">s</span><span style=\"color:red;\">p</span><span style=\"color:red;\">l</span><span style=\"color:red;\">i</span><span style=\"color:black;\">t</span><span style=\"color:black;\">(</span><span style=\"color:red;\">\"</span><span style=\"color:red;\">•</span><span style=\"color:red;\">\"</span><span style=\"color:red;\">)</span><span style=\"color:red;\">)</span><span style=\"color:red;\">,</span><span style=\"color:black;\">r</span><span style=\"color:black;\">e</span><span style=\"color:black;\">v</span><span style=\"color:black;\">e</span><span style=\"color:black;\">r</span><span style=\"color:black;\">s</span><span style=\"color:black;\">e</span><span style=\"color:black;\">=</span><span style=\"color:black;\">T</span><span style=\"color:black;\">r</span><span style=\"color:black;\">u</span><span style=\"color:black;\">e</span><span style=\"color:black;\">)</span><span style=\"color:lightgrey;\">↵\n",
       "</span><span style=\"color:black;\">f</span><span style=\"color:black;\">o</span><span style=\"color:black;\">r</span><span style=\"color:lightgrey;\">•</span><span style=\"color:black;\">i</span><span style=\"color:lightgrey;\">•</span><span style=\"color:black;\">i</span><span style=\"color:black;\">n</span><span style=\"color:lightgrey;\">•</span><span style=\"color:black;\">r</span><span style=\"color:black;\">a</span><span style=\"color:black;\">n</span><span style=\"color:black;\">g</span><span style=\"color:black;\">e</span><span style=\"color:black;\">(</span><span style=\"color:black;\">0</span><span style=\"color:black;\">,</span><span style=\"color:black;\">3</span><span style=\"color:black;\">)</span><span style=\"color:black;\">:</span><span style=\"color:lightgrey;\">↵\n",
       "</span><span style=\"color:black;\">\t</span><span style=\"color:black;\">p</span><span style=\"color:black;\">r</span><span style=\"color:black;\">i</span><span style=\"color:black;\">n</span><span style=\"color:black;\">t</span><span style=\"color:black;\">(</span><span style=\"color:black;\">a</span><span style=\"color:black;\">[</span><span style=\"color:black;\">i</span><span style=\"color:black;\">]</span><span style=\"color:black;\">)</span></pre>"
      ],
      "text/plain": [
       "<IPython.core.display.HTML object>"
      ]
     },
     "metadata": {},
     "output_type": "display_data"
    },
    {
     "data": {
      "text/html": [
       "<h2>The source code that is accepted:\n",
       "</h2>"
      ],
      "text/plain": [
       "<IPython.core.display.HTML object>"
      ]
     },
     "metadata": {},
     "output_type": "display_data"
    },
    {
     "data": {
      "text/html": [
       "<pre><span style=\"color:black;\">a</span><span style=\"color:lightgrey;\">•</span><span style=\"color:black;\">=</span><span style=\"color:lightgrey;\">•</span><span style=\"color:blue;\">[</span><span style=\"color:black;\">i</span><span style=\"color:black;\">n</span><span style=\"color:black;\">t</span><span style=\"color:blue;\">(</span><span style=\"color:black;\">i</span><span style=\"color:black;\">n</span><span style=\"color:black;\">p</span><span style=\"color:black;\">u</span><span style=\"color:black;\">t</span><span style=\"color:black;\">(</span><span style=\"color:black;\">)</span><span style=\"color:blue;\">)</span><span style=\"color:blue;\">•</span><span style=\"color:blue;\">f</span><span style=\"color:blue;\">o</span><span style=\"color:blue;\">r</span><span style=\"color:blue;\">•</span><span style=\"color:blue;\">i</span><span style=\"color:blue;\">•</span><span style=\"color:blue;\">i</span><span style=\"color:blue;\">n</span><span style=\"color:blue;\">•</span><span style=\"color:blue;\">r</span><span style=\"color:blue;\">a</span><span style=\"color:blue;\">n</span><span style=\"color:blue;\">g</span><span style=\"color:blue;\">e</span><span style=\"color:blue;\">(</span><span style=\"color:blue;\">0</span><span style=\"color:blue;\">,</span><span style=\"color:blue;\">1</span><span style=\"color:blue;\">0</span><span style=\"color:blue;\">)</span><span style=\"color:blue;\">]</span><span style=\"color:blue;\">↵\n",
       "</span><span style=\"color:blue;\">a</span><span style=\"color:blue;\">.</span><span style=\"color:black;\">s</span><span style=\"color:blue;\">o</span><span style=\"color:blue;\">r</span><span style=\"color:black;\">t</span><span style=\"color:black;\">(</span><span style=\"color:black;\">r</span><span style=\"color:black;\">e</span><span style=\"color:black;\">v</span><span style=\"color:black;\">e</span><span style=\"color:black;\">r</span><span style=\"color:black;\">s</span><span style=\"color:black;\">e</span><span style=\"color:black;\">=</span><span style=\"color:black;\">T</span><span style=\"color:black;\">r</span><span style=\"color:black;\">u</span><span style=\"color:black;\">e</span><span style=\"color:black;\">)</span><span style=\"color:lightgrey;\">↵\n",
       "</span><span style=\"color:black;\">f</span><span style=\"color:black;\">o</span><span style=\"color:black;\">r</span><span style=\"color:lightgrey;\">•</span><span style=\"color:black;\">i</span><span style=\"color:lightgrey;\">•</span><span style=\"color:black;\">i</span><span style=\"color:black;\">n</span><span style=\"color:lightgrey;\">•</span><span style=\"color:black;\">r</span><span style=\"color:black;\">a</span><span style=\"color:black;\">n</span><span style=\"color:black;\">g</span><span style=\"color:black;\">e</span><span style=\"color:black;\">(</span><span style=\"color:black;\">0</span><span style=\"color:black;\">,</span><span style=\"color:black;\">3</span><span style=\"color:black;\">)</span><span style=\"color:black;\">:</span><span style=\"color:lightgrey;\">↵\n",
       "</span><span style=\"color:black;\">\t</span><span style=\"color:black;\">p</span><span style=\"color:black;\">r</span><span style=\"color:black;\">i</span><span style=\"color:black;\">n</span><span style=\"color:black;\">t</span><span style=\"color:black;\">(</span><span style=\"color:black;\">a</span><span style=\"color:black;\">[</span><span style=\"color:black;\">i</span><span style=\"color:black;\">]</span><span style=\"color:black;\">)</span></pre>"
      ],
      "text/plain": [
       "<IPython.core.display.HTML object>"
      ]
     },
     "metadata": {},
     "output_type": "display_data"
    },
    {
     "data": {
      "text/html": [
       "<h2>The bug that should be assigned to the original_src:\n",
       "</h2>"
      ],
      "text/plain": [
       "<IPython.core.display.HTML object>"
      ]
     },
     "metadata": {},
     "output_type": "display_data"
    },
    {
     "data": {
      "text/html": [
       "<pre>IndexError: list index out of range</pre>"
      ],
      "text/plain": [
       "<IPython.core.display.HTML object>"
      ]
     },
     "metadata": {},
     "output_type": "display_data"
    },
    {
     "data": {
      "text/html": [
       "<h1>Example 25</h1>"
      ],
      "text/plain": [
       "<IPython.core.display.HTML object>"
      ]
     },
     "metadata": {},
     "output_type": "display_data"
    },
    {
     "data": {
      "text/html": [
       "<h2>The source code that is buggy:\n",
       "</h2>"
      ],
      "text/plain": [
       "<IPython.core.display.HTML object>"
      ]
     },
     "metadata": {},
     "output_type": "display_data"
    },
    {
     "data": {
      "text/html": [
       "<pre><span style=\"color:red;\">i</span><span style=\"color:red;\">m</span><span style=\"color:red;\">p</span><span style=\"color:red;\">o</span><span style=\"color:red;\">r</span><span style=\"color:red;\">t</span><span style=\"color:red;\">•</span><span style=\"color:red;\">s</span><span style=\"color:red;\">y</span><span style=\"color:red;\">s</span><span style=\"color:red;\">↵\n",
       "</span><span style=\"color:red;\">↵\n",
       "</span><span style=\"color:black;\">a</span><span style=\"color:black;\">r</span><span style=\"color:black;\">r</span><span style=\"color:black;\">a</span><span style=\"color:black;\">y</span><span style=\"color:black;\">=</span><span style=\"color:black;\">[</span><span style=\"color:red;\">]</span><span style=\"color:red;\">↵\n",
       "</span><span style=\"color:red;\">f</span><span style=\"color:red;\">o</span><span style=\"color:red;\">r</span><span style=\"color:red;\">•</span><span style=\"color:red;\">i</span><span style=\"color:red;\">•</span><span style=\"color:red;\">i</span><span style=\"color:red;\">n</span><span style=\"color:red;\">•</span><span style=\"color:red;\">s</span><span style=\"color:red;\">y</span><span style=\"color:red;\">s</span><span style=\"color:red;\">.</span><span style=\"color:red;\">s</span><span style=\"color:red;\">t</span><span style=\"color:red;\">d</span><span style=\"color:red;\">i</span><span style=\"color:red;\">n</span><span style=\"color:red;\">.</span><span style=\"color:red;\">r</span><span style=\"color:red;\">e</span><span style=\"color:red;\">a</span><span style=\"color:red;\">d</span><span style=\"color:red;\">l</span><span style=\"color:red;\">i</span><span style=\"color:red;\">n</span><span style=\"color:red;\">e</span><span style=\"color:red;\">s</span><span style=\"color:red;\">(</span><span style=\"color:red;\">)</span><span style=\"color:red;\">:</span><span style=\"color:red;\">↵\n",
       "</span><span style=\"color:red;\">•</span><span style=\"color:red;\">•</span><span style=\"color:red;\">•</span><span style=\"color:red;\">•</span><span style=\"color:red;\">a</span><span style=\"color:red;\">r</span><span style=\"color:red;\">r</span><span style=\"color:red;\">a</span><span style=\"color:red;\">y</span><span style=\"color:red;\">.</span><span style=\"color:red;\">a</span><span style=\"color:red;\">p</span><span style=\"color:red;\">p</span><span style=\"color:red;\">e</span><span style=\"color:red;\">n</span><span style=\"color:red;\">d</span><span style=\"color:red;\">(</span><span style=\"color:black;\">i</span><span style=\"color:black;\">n</span><span style=\"color:black;\">t</span><span style=\"color:black;\">(</span><span style=\"color:black;\">i</span><span style=\"color:black;\">n</span><span style=\"color:black;\">p</span><span style=\"color:black;\">u</span><span style=\"color:black;\">t</span><span style=\"color:black;\">(</span><span style=\"color:black;\">)</span><span style=\"color:black;\">)</span><span style=\"color:red;\">)</span><span style=\"color:red;\">↵\n",
       "</span><span style=\"color:black;\">a</span><span style=\"color:black;\">r</span><span style=\"color:black;\">r</span><span style=\"color:black;\">a</span><span style=\"color:black;\">y</span><span style=\"color:black;\">.</span><span style=\"color:black;\">s</span><span style=\"color:black;\">o</span><span style=\"color:black;\">r</span><span style=\"color:black;\">t</span><span style=\"color:black;\">(</span><span style=\"color:black;\">)</span><span style=\"color:lightgrey;\">↵\n",
       "</span><span style=\"color:black;\">n</span><span style=\"color:black;\">u</span><span style=\"color:black;\">m</span><span style=\"color:lightgrey;\">•</span><span style=\"color:black;\">=</span><span style=\"color:lightgrey;\">•</span><span style=\"color:black;\">l</span><span style=\"color:black;\">e</span><span style=\"color:black;\">n</span><span style=\"color:black;\">(</span><span style=\"color:black;\">a</span><span style=\"color:black;\">r</span><span style=\"color:black;\">r</span><span style=\"color:black;\">a</span><span style=\"color:black;\">y</span><span style=\"color:black;\">)</span><span style=\"color:lightgrey;\">↵\n",
       "</span><span style=\"color:black;\">f</span><span style=\"color:black;\">o</span><span style=\"color:black;\">r</span><span style=\"color:lightgrey;\">•</span><span style=\"color:black;\">i</span><span style=\"color:lightgrey;\">•</span><span style=\"color:black;\">i</span><span style=\"color:black;\">n</span><span style=\"color:lightgrey;\">•</span><span style=\"color:black;\">r</span><span style=\"color:black;\">a</span><span style=\"color:black;\">n</span><span style=\"color:black;\">g</span><span style=\"color:black;\">e</span><span style=\"color:black;\">(</span><span style=\"color:black;\">n</span><span style=\"color:black;\">u</span><span style=\"color:black;\">m</span><span style=\"color:black;\">-</span><span style=\"color:black;\">1</span><span style=\"color:black;\">,</span><span style=\"color:black;\">n</span><span style=\"color:black;\">u</span><span style=\"color:black;\">m</span><span style=\"color:black;\">-</span><span style=\"color:black;\">4</span><span style=\"color:black;\">,</span><span style=\"color:black;\">-</span><span style=\"color:black;\">1</span><span style=\"color:black;\">)</span><span style=\"color:black;\">:</span><span style=\"color:lightgrey;\">↵\n",
       "</span><span style=\"color:lightgrey;\">•</span><span style=\"color:lightgrey;\">•</span><span style=\"color:lightgrey;\">•</span><span style=\"color:lightgrey;\">•</span><span style=\"color:black;\">p</span><span style=\"color:black;\">r</span><span style=\"color:black;\">i</span><span style=\"color:black;\">n</span><span style=\"color:black;\">t</span><span style=\"color:black;\">(</span><span style=\"color:black;\">a</span><span style=\"color:black;\">r</span><span style=\"color:black;\">r</span><span style=\"color:black;\">a</span><span style=\"color:black;\">y</span><span style=\"color:black;\">[</span><span style=\"color:black;\">i</span><span style=\"color:black;\">]</span><span style=\"color:black;\">)</span><span style=\"color:lightgrey;\">•</span></pre>"
      ],
      "text/plain": [
       "<IPython.core.display.HTML object>"
      ]
     },
     "metadata": {},
     "output_type": "display_data"
    },
    {
     "data": {
      "text/html": [
       "<h2>The source code that is accepted:\n",
       "</h2>"
      ],
      "text/plain": [
       "<IPython.core.display.HTML object>"
      ]
     },
     "metadata": {},
     "output_type": "display_data"
    },
    {
     "data": {
      "text/html": [
       "<pre><span style=\"color:black;\">a</span><span style=\"color:black;\">r</span><span style=\"color:black;\">r</span><span style=\"color:black;\">a</span><span style=\"color:black;\">y</span><span style=\"color:black;\">=</span><span style=\"color:black;\">[</span><span style=\"color:black;\">i</span><span style=\"color:black;\">n</span><span style=\"color:black;\">t</span><span style=\"color:black;\">(</span><span style=\"color:black;\">i</span><span style=\"color:black;\">n</span><span style=\"color:black;\">p</span><span style=\"color:black;\">u</span><span style=\"color:black;\">t</span><span style=\"color:black;\">(</span><span style=\"color:black;\">)</span><span style=\"color:black;\">)</span><span style=\"color:blue;\">•</span><span style=\"color:blue;\">f</span><span style=\"color:blue;\">o</span><span style=\"color:blue;\">r</span><span style=\"color:blue;\">•</span><span style=\"color:blue;\">i</span><span style=\"color:blue;\">•</span><span style=\"color:blue;\">i</span><span style=\"color:blue;\">n</span><span style=\"color:blue;\">•</span><span style=\"color:blue;\">r</span><span style=\"color:blue;\">a</span><span style=\"color:blue;\">n</span><span style=\"color:blue;\">g</span><span style=\"color:blue;\">e</span><span style=\"color:blue;\">(</span><span style=\"color:blue;\">1</span><span style=\"color:blue;\">0</span><span style=\"color:blue;\">)</span><span style=\"color:blue;\">]</span><span style=\"color:blue;\">↵\n",
       "</span><span style=\"color:black;\">a</span><span style=\"color:black;\">r</span><span style=\"color:black;\">r</span><span style=\"color:black;\">a</span><span style=\"color:black;\">y</span><span style=\"color:black;\">.</span><span style=\"color:black;\">s</span><span style=\"color:black;\">o</span><span style=\"color:black;\">r</span><span style=\"color:black;\">t</span><span style=\"color:black;\">(</span><span style=\"color:black;\">)</span><span style=\"color:lightgrey;\">↵\n",
       "</span><span style=\"color:black;\">n</span><span style=\"color:black;\">u</span><span style=\"color:black;\">m</span><span style=\"color:lightgrey;\">•</span><span style=\"color:black;\">=</span><span style=\"color:lightgrey;\">•</span><span style=\"color:black;\">l</span><span style=\"color:black;\">e</span><span style=\"color:black;\">n</span><span style=\"color:black;\">(</span><span style=\"color:black;\">a</span><span style=\"color:black;\">r</span><span style=\"color:black;\">r</span><span style=\"color:black;\">a</span><span style=\"color:black;\">y</span><span style=\"color:black;\">)</span><span style=\"color:lightgrey;\">↵\n",
       "</span><span style=\"color:black;\">f</span><span style=\"color:black;\">o</span><span style=\"color:black;\">r</span><span style=\"color:lightgrey;\">•</span><span style=\"color:black;\">i</span><span style=\"color:lightgrey;\">•</span><span style=\"color:black;\">i</span><span style=\"color:black;\">n</span><span style=\"color:lightgrey;\">•</span><span style=\"color:black;\">r</span><span style=\"color:black;\">a</span><span style=\"color:black;\">n</span><span style=\"color:black;\">g</span><span style=\"color:black;\">e</span><span style=\"color:black;\">(</span><span style=\"color:black;\">n</span><span style=\"color:black;\">u</span><span style=\"color:black;\">m</span><span style=\"color:black;\">-</span><span style=\"color:black;\">1</span><span style=\"color:black;\">,</span><span style=\"color:black;\">n</span><span style=\"color:black;\">u</span><span style=\"color:black;\">m</span><span style=\"color:black;\">-</span><span style=\"color:black;\">4</span><span style=\"color:black;\">,</span><span style=\"color:black;\">-</span><span style=\"color:black;\">1</span><span style=\"color:black;\">)</span><span style=\"color:black;\">:</span><span style=\"color:lightgrey;\">↵\n",
       "</span><span style=\"color:lightgrey;\">•</span><span style=\"color:lightgrey;\">•</span><span style=\"color:lightgrey;\">•</span><span style=\"color:lightgrey;\">•</span><span style=\"color:black;\">p</span><span style=\"color:black;\">r</span><span style=\"color:black;\">i</span><span style=\"color:black;\">n</span><span style=\"color:black;\">t</span><span style=\"color:black;\">(</span><span style=\"color:black;\">a</span><span style=\"color:black;\">r</span><span style=\"color:black;\">r</span><span style=\"color:black;\">a</span><span style=\"color:black;\">y</span><span style=\"color:black;\">[</span><span style=\"color:black;\">i</span><span style=\"color:black;\">]</span><span style=\"color:black;\">)</span><span style=\"color:lightgrey;\">•</span></pre>"
      ],
      "text/plain": [
       "<IPython.core.display.HTML object>"
      ]
     },
     "metadata": {},
     "output_type": "display_data"
    },
    {
     "data": {
      "text/html": [
       "<h2>The bug that should be assigned to the original_src:\n",
       "</h2>"
      ],
      "text/plain": [
       "<IPython.core.display.HTML object>"
      ]
     },
     "metadata": {},
     "output_type": "display_data"
    },
    {
     "data": {
      "text/html": [
       "<pre>EOFError: EOF when reading a line</pre>"
      ],
      "text/plain": [
       "<IPython.core.display.HTML object>"
      ]
     },
     "metadata": {},
     "output_type": "display_data"
    },
    {
     "data": {
      "text/html": [
       "<h1>Example 26</h1>"
      ],
      "text/plain": [
       "<IPython.core.display.HTML object>"
      ]
     },
     "metadata": {},
     "output_type": "display_data"
    },
    {
     "data": {
      "text/html": [
       "<h2>The source code that is buggy:\n",
       "</h2>"
      ],
      "text/plain": [
       "<IPython.core.display.HTML object>"
      ]
     },
     "metadata": {},
     "output_type": "display_data"
    },
    {
     "data": {
      "text/html": [
       "<pre><span style=\"color:black;\">#</span><span style=\"color:black;\">c</span><span style=\"color:black;\">o</span><span style=\"color:black;\">d</span><span style=\"color:black;\">i</span><span style=\"color:black;\">n</span><span style=\"color:black;\">g</span><span style=\"color:black;\">:</span><span style=\"color:black;\">U</span><span style=\"color:black;\">T</span><span style=\"color:black;\">F</span><span style=\"color:black;\">-</span><span style=\"color:black;\">8</span><span style=\"color:lightgrey;\">↵\n",
       "</span><span style=\"color:black;\">d</span><span style=\"color:black;\">e</span><span style=\"color:black;\">f</span><span style=\"color:lightgrey;\">•</span><span style=\"color:black;\">L</span><span style=\"color:black;\">o</span><span style=\"color:black;\">T</span><span style=\"color:black;\">(</span><span style=\"color:black;\">L</span><span style=\"color:black;\">i</span><span style=\"color:black;\">s</span><span style=\"color:black;\">t</span><span style=\"color:black;\">)</span><span style=\"color:black;\">:</span><span style=\"color:lightgrey;\">↵\n",
       "</span><span style=\"color:lightgrey;\">•</span><span style=\"color:lightgrey;\">•</span><span style=\"color:lightgrey;\">•</span><span style=\"color:lightgrey;\">•</span><span style=\"color:red;\">T</span><span style=\"color:black;\">1</span><span style=\"color:red;\">=</span><span style=\"color:red;\">T</span><span style=\"color:red;\">2</span><span style=\"color:red;\">=</span><span style=\"color:red;\">T</span><span style=\"color:red;\">3</span><span style=\"color:red;\">=</span><span style=\"color:red;\">L</span><span style=\"color:red;\">i</span><span style=\"color:red;\">s</span><span style=\"color:red;\">t</span><span style=\"color:red;\">[</span><span style=\"color:red;\">0</span><span style=\"color:black;\">]</span><span style=\"color:red;\">↵\n",
       "</span><span style=\"color:red;\">•</span><span style=\"color:red;\">•</span><span style=\"color:red;\">•</span><span style=\"color:red;\">•</span><span style=\"color:red;\">B</span><span style=\"color:red;\">=</span><span style=\"color:red;\">0</span><span style=\"color:red;\">↵\n",
       "</span><span style=\"color:red;\">•</span><span style=\"color:red;\">•</span><span style=\"color:red;\">•</span><span style=\"color:red;\">•</span><span style=\"color:red;\">f</span><span style=\"color:red;\">o</span><span style=\"color:red;\">r</span><span style=\"color:red;\">•</span><span style=\"color:red;\">i</span><span style=\"color:red;\">•</span><span style=\"color:red;\">i</span><span style=\"color:red;\">n</span><span style=\"color:red;\">•</span><span style=\"color:red;\">r</span><span style=\"color:red;\">a</span><span style=\"color:red;\">n</span><span style=\"color:red;\">g</span><span style=\"color:red;\">e</span><span style=\"color:red;\">(</span><span style=\"color:red;\">1</span><span style=\"color:red;\">,</span><span style=\"color:red;\">l</span><span style=\"color:red;\">e</span><span style=\"color:red;\">n</span><span style=\"color:red;\">(</span><span style=\"color:red;\">L</span><span style=\"color:red;\">i</span><span style=\"color:red;\">s</span><span style=\"color:red;\">t</span><span style=\"color:red;\">)</span><span style=\"color:red;\">)</span><span style=\"color:red;\">:</span><span style=\"color:red;\">↵\n",
       "</span><span style=\"color:red;\">•</span><span style=\"color:red;\">•</span><span style=\"color:red;\">•</span><span style=\"color:red;\">•</span><span style=\"color:red;\">•</span><span style=\"color:red;\">•</span><span style=\"color:red;\">•</span><span style=\"color:red;\">•</span><span style=\"color:red;\">i</span><span style=\"color:red;\">f</span><span style=\"color:red;\">•</span><span style=\"color:red;\">L</span><span style=\"color:red;\">i</span><span style=\"color:red;\">s</span><span style=\"color:red;\">t</span><span style=\"color:red;\">[</span><span style=\"color:red;\">i</span><span style=\"color:red;\">]</span><span style=\"color:red;\">></span><span style=\"color:red;\">T</span><span style=\"color:red;\">1</span><span style=\"color:red;\">:</span><span style=\"color:red;\">↵\n",
       "</span><span style=\"color:red;\">•</span><span style=\"color:red;\">•</span><span style=\"color:red;\">•</span><span style=\"color:red;\">•</span><span style=\"color:red;\">•</span><span style=\"color:red;\">•</span><span style=\"color:red;\">•</span><span style=\"color:red;\">•</span><span style=\"color:red;\">•</span><span style=\"color:red;\">•</span><span style=\"color:red;\">•</span><span style=\"color:red;\">•</span><span style=\"color:red;\">T</span><span style=\"color:red;\">2</span><span style=\"color:red;\">=</span><span style=\"color:red;\">T</span><span style=\"color:red;\">1</span><span style=\"color:red;\">↵\n",
       "</span><span style=\"color:red;\">•</span><span style=\"color:red;\">•</span><span style=\"color:red;\">•</span><span style=\"color:red;\">•</span><span style=\"color:red;\">•</span><span style=\"color:red;\">•</span><span style=\"color:red;\">•</span><span style=\"color:red;\">•</span><span style=\"color:red;\">•</span><span style=\"color:red;\">•</span><span style=\"color:red;\">•</span><span style=\"color:red;\">•</span><span style=\"color:red;\">T</span><span style=\"color:red;\">1</span><span style=\"color:red;\">=</span><span style=\"color:red;\">L</span><span style=\"color:red;\">i</span><span style=\"color:red;\">s</span><span style=\"color:red;\">t</span><span style=\"color:red;\">[</span><span style=\"color:red;\">i</span><span style=\"color:red;\">]</span><span style=\"color:red;\">↵\n",
       "</span><span style=\"color:red;\">•</span><span style=\"color:red;\">•</span><span style=\"color:red;\">•</span><span style=\"color:red;\">•</span><span style=\"color:red;\">•</span><span style=\"color:red;\">•</span><span style=\"color:red;\">•</span><span style=\"color:red;\">•</span><span style=\"color:red;\">i</span><span style=\"color:red;\">f</span><span style=\"color:red;\">•</span><span style=\"color:red;\">L</span><span style=\"color:red;\">i</span><span style=\"color:red;\">s</span><span style=\"color:red;\">t</span><span style=\"color:red;\">[</span><span style=\"color:red;\">i</span><span style=\"color:red;\">]</span><span style=\"color:red;\"><</span><span style=\"color:red;\">T</span><span style=\"color:red;\">1</span><span style=\"color:red;\">•</span><span style=\"color:red;\">a</span><span style=\"color:red;\">n</span><span style=\"color:red;\">d</span><span style=\"color:red;\">•</span><span style=\"color:red;\">L</span><span style=\"color:red;\">i</span><span style=\"color:red;\">s</span><span style=\"color:red;\">t</span><span style=\"color:red;\">[</span><span style=\"color:red;\">i</span><span style=\"color:red;\">]</span><span style=\"color:red;\">></span><span style=\"color:red;\">T</span><span style=\"color:red;\">2</span><span style=\"color:red;\">:</span><span style=\"color:red;\">↵\n",
       "</span><span style=\"color:red;\">•</span><span style=\"color:red;\">•</span><span style=\"color:red;\">•</span><span style=\"color:red;\">•</span><span style=\"color:red;\">•</span><span style=\"color:red;\">•</span><span style=\"color:red;\">•</span><span style=\"color:red;\">•</span><span style=\"color:red;\">•</span><span style=\"color:red;\">•</span><span style=\"color:red;\">•</span><span style=\"color:red;\">•</span><span style=\"color:red;\">T</span><span style=\"color:red;\">3</span><span style=\"color:red;\">=</span><span style=\"color:red;\">T</span><span style=\"color:red;\">2</span><span style=\"color:red;\">↵\n",
       "</span><span style=\"color:red;\">•</span><span style=\"color:red;\">•</span><span style=\"color:red;\">•</span><span style=\"color:red;\">•</span><span style=\"color:red;\">•</span><span style=\"color:red;\">•</span><span style=\"color:red;\">•</span><span style=\"color:red;\">•</span><span style=\"color:red;\">•</span><span style=\"color:red;\">•</span><span style=\"color:red;\">•</span><span style=\"color:red;\">•</span><span style=\"color:red;\">T</span><span style=\"color:red;\">2</span><span style=\"color:red;\">=</span><span style=\"color:red;\">L</span><span style=\"color:red;\">i</span><span style=\"color:red;\">s</span><span style=\"color:red;\">t</span><span style=\"color:red;\">[</span><span style=\"color:red;\">i</span><span style=\"color:red;\">]</span><span style=\"color:red;\">↵\n",
       "</span><span style=\"color:red;\">•</span><span style=\"color:red;\">•</span><span style=\"color:red;\">•</span><span style=\"color:red;\">•</span><span style=\"color:red;\">•</span><span style=\"color:red;\">•</span><span style=\"color:red;\">•</span><span style=\"color:red;\">•</span><span style=\"color:red;\">i</span><span style=\"color:red;\">f</span><span style=\"color:red;\">•</span><span style=\"color:red;\">L</span><span style=\"color:red;\">i</span><span style=\"color:red;\">s</span><span style=\"color:red;\">t</span><span style=\"color:red;\">[</span><span style=\"color:red;\">i</span><span style=\"color:red;\">]</span><span style=\"color:red;\"><</span><span style=\"color:red;\">T</span><span style=\"color:red;\">2</span><span style=\"color:red;\">•</span><span style=\"color:red;\">a</span><span style=\"color:red;\">n</span><span style=\"color:red;\">d</span><span style=\"color:red;\">•</span><span style=\"color:red;\">L</span><span style=\"color:red;\">i</span><span style=\"color:red;\">s</span><span style=\"color:red;\">t</span><span style=\"color:red;\">[</span><span style=\"color:red;\">i</span><span style=\"color:red;\">]</span><span style=\"color:red;\">></span><span style=\"color:red;\">T</span><span style=\"color:red;\">3</span><span style=\"color:red;\">:</span><span style=\"color:red;\">↵\n",
       "</span><span style=\"color:red;\">•</span><span style=\"color:red;\">•</span><span style=\"color:red;\">•</span><span style=\"color:red;\">•</span><span style=\"color:red;\">•</span><span style=\"color:red;\">•</span><span style=\"color:red;\">•</span><span style=\"color:red;\">•</span><span style=\"color:red;\">•</span><span style=\"color:red;\">•</span><span style=\"color:red;\">•</span><span style=\"color:red;\">•</span><span style=\"color:red;\">T</span><span style=\"color:red;\">3</span><span style=\"color:red;\">=</span><span style=\"color:red;\">L</span><span style=\"color:red;\">i</span><span style=\"color:red;\">s</span><span style=\"color:red;\">t</span><span style=\"color:red;\">[</span><span style=\"color:red;\">i</span><span style=\"color:red;\">]</span><span style=\"color:red;\">↵\n",
       "</span><span style=\"color:red;\">•</span><span style=\"color:red;\">•</span><span style=\"color:red;\">•</span><span style=\"color:red;\">•</span><span style=\"color:red;\">p</span><span style=\"color:red;\">r</span><span style=\"color:red;\">i</span><span style=\"color:red;\">n</span><span style=\"color:red;\">t</span><span style=\"color:red;\">(</span><span style=\"color:red;\">s</span><span style=\"color:red;\">t</span><span style=\"color:red;\">r</span><span style=\"color:red;\">(</span><span style=\"color:red;\">T</span><span style=\"color:red;\">1</span><span style=\"color:red;\">)</span><span style=\"color:red;\">+</span><span style=\"color:red;\">\"</span><span style=\"color:red;\">\\</span><span style=\"color:red;\">n</span><span style=\"color:red;\">\"</span><span style=\"color:red;\">+</span><span style=\"color:red;\">s</span><span style=\"color:red;\">t</span><span style=\"color:red;\">r</span><span style=\"color:red;\">(</span><span style=\"color:red;\">T</span><span style=\"color:red;\">2</span><span style=\"color:red;\">)</span><span style=\"color:red;\">+</span><span style=\"color:red;\">\"</span><span style=\"color:red;\">\\</span><span style=\"color:red;\">n</span><span style=\"color:red;\">\"</span><span style=\"color:red;\">+</span><span style=\"color:red;\">s</span><span style=\"color:red;\">t</span><span style=\"color:red;\">r</span><span style=\"color:red;\">(</span><span style=\"color:red;\">T</span><span style=\"color:red;\">3</span><span style=\"color:red;\">)</span><span style=\"color:red;\">)</span><span style=\"color:red;\">↵\n",
       "</span><span style=\"color:red;\">•</span><span style=\"color:red;\">•</span><span style=\"color:red;\">•</span><span style=\"color:red;\">•</span><span style=\"color:red;\">•</span><span style=\"color:red;\">•</span><span style=\"color:red;\">•</span><span style=\"color:red;\">•</span><span style=\"color:lightgrey;\">↵\n",
       "</span><span style=\"color:black;\">i</span><span style=\"color:black;\">f</span><span style=\"color:lightgrey;\">•</span><span style=\"color:black;\">_</span><span style=\"color:black;\">_</span><span style=\"color:black;\">n</span><span style=\"color:black;\">a</span><span style=\"color:black;\">m</span><span style=\"color:black;\">e</span><span style=\"color:black;\">_</span><span style=\"color:black;\">_</span><span style=\"color:black;\">=</span><span style=\"color:black;\">=</span><span style=\"color:black;\">\"</span><span style=\"color:black;\">_</span><span style=\"color:black;\">_</span><span style=\"color:black;\">m</span><span style=\"color:black;\">a</span><span style=\"color:black;\">i</span><span style=\"color:black;\">n</span><span style=\"color:black;\">_</span><span style=\"color:black;\">_</span><span style=\"color:black;\">\"</span><span style=\"color:black;\">:</span><span style=\"color:lightgrey;\">↵\n",
       "</span><span style=\"color:lightgrey;\">•</span><span style=\"color:lightgrey;\">•</span><span style=\"color:lightgrey;\">•</span><span style=\"color:lightgrey;\">•</span><span style=\"color:black;\">L</span><span style=\"color:black;\">i</span><span style=\"color:black;\">s</span><span style=\"color:black;\">t</span><span style=\"color:black;\">=</span><span style=\"color:black;\">[</span><span style=\"color:black;\">]</span><span style=\"color:lightgrey;\">↵\n",
       "</span><span style=\"color:lightgrey;\">•</span><span style=\"color:lightgrey;\">•</span><span style=\"color:lightgrey;\">•</span><span style=\"color:lightgrey;\">•</span><span style=\"color:black;\">f</span><span style=\"color:black;\">o</span><span style=\"color:black;\">r</span><span style=\"color:lightgrey;\">•</span><span style=\"color:black;\">i</span><span style=\"color:lightgrey;\">•</span><span style=\"color:black;\">i</span><span style=\"color:black;\">n</span><span style=\"color:lightgrey;\">•</span><span style=\"color:black;\">r</span><span style=\"color:black;\">a</span><span style=\"color:black;\">n</span><span style=\"color:black;\">g</span><span style=\"color:black;\">e</span><span style=\"color:black;\">(</span><span style=\"color:black;\">1</span><span style=\"color:black;\">0</span><span style=\"color:black;\">)</span><span style=\"color:black;\">:</span><span style=\"color:lightgrey;\">↵\n",
       "</span><span style=\"color:lightgrey;\">•</span><span style=\"color:lightgrey;\">•</span><span style=\"color:lightgrey;\">•</span><span style=\"color:lightgrey;\">•</span><span style=\"color:lightgrey;\">•</span><span style=\"color:lightgrey;\">•</span><span style=\"color:lightgrey;\">•</span><span style=\"color:lightgrey;\">•</span><span style=\"color:black;\">L</span><span style=\"color:black;\">i</span><span style=\"color:black;\">s</span><span style=\"color:black;\">t</span><span style=\"color:black;\">.</span><span style=\"color:black;\">a</span><span style=\"color:black;\">p</span><span style=\"color:black;\">p</span><span style=\"color:black;\">e</span><span style=\"color:black;\">n</span><span style=\"color:black;\">d</span><span style=\"color:black;\">(</span><span style=\"color:black;\">i</span><span style=\"color:black;\">n</span><span style=\"color:black;\">t</span><span style=\"color:black;\">(</span><span style=\"color:black;\">i</span><span style=\"color:black;\">n</span><span style=\"color:black;\">p</span><span style=\"color:black;\">u</span><span style=\"color:black;\">t</span><span style=\"color:black;\">(</span><span style=\"color:black;\">)</span><span style=\"color:black;\">)</span><span style=\"color:black;\">)</span><span style=\"color:lightgrey;\">↵\n",
       "</span><span style=\"color:lightgrey;\">•</span><span style=\"color:lightgrey;\">•</span><span style=\"color:lightgrey;\">•</span><span style=\"color:lightgrey;\">•</span><span style=\"color:black;\">L</span><span style=\"color:black;\">o</span><span style=\"color:black;\">T</span><span style=\"color:black;\">(</span><span style=\"color:black;\">L</span><span style=\"color:black;\">i</span><span style=\"color:black;\">s</span><span style=\"color:black;\">t</span></pre>"
      ],
      "text/plain": [
       "<IPython.core.display.HTML object>"
      ]
     },
     "metadata": {},
     "output_type": "display_data"
    },
    {
     "data": {
      "text/html": [
       "<h2>The source code that is accepted:\n",
       "</h2>"
      ],
      "text/plain": [
       "<IPython.core.display.HTML object>"
      ]
     },
     "metadata": {},
     "output_type": "display_data"
    },
    {
     "data": {
      "text/html": [
       "<pre><span style=\"color:black;\">#</span><span style=\"color:black;\">c</span><span style=\"color:black;\">o</span><span style=\"color:black;\">d</span><span style=\"color:black;\">i</span><span style=\"color:black;\">n</span><span style=\"color:black;\">g</span><span style=\"color:black;\">:</span><span style=\"color:black;\">U</span><span style=\"color:black;\">T</span><span style=\"color:black;\">F</span><span style=\"color:black;\">-</span><span style=\"color:black;\">8</span><span style=\"color:lightgrey;\">↵\n",
       "</span><span style=\"color:black;\">d</span><span style=\"color:black;\">e</span><span style=\"color:black;\">f</span><span style=\"color:lightgrey;\">•</span><span style=\"color:black;\">L</span><span style=\"color:black;\">o</span><span style=\"color:black;\">T</span><span style=\"color:black;\">(</span><span style=\"color:black;\">L</span><span style=\"color:black;\">i</span><span style=\"color:black;\">s</span><span style=\"color:black;\">t</span><span style=\"color:black;\">)</span><span style=\"color:black;\">:</span><span style=\"color:lightgrey;\">↵\n",
       "</span><span style=\"color:lightgrey;\">•</span><span style=\"color:lightgrey;\">•</span><span style=\"color:lightgrey;\">•</span><span style=\"color:lightgrey;\">•</span><span style=\"color:blue;\">L</span><span style=\"color:blue;\">i</span><span style=\"color:blue;\">s</span><span style=\"color:blue;\">t</span><span style=\"color:blue;\">2</span><span style=\"color:blue;\">=</span><span style=\"color:blue;\">s</span><span style=\"color:blue;\">o</span><span style=\"color:blue;\">r</span><span style=\"color:blue;\">t</span><span style=\"color:blue;\">e</span><span style=\"color:blue;\">d</span><span style=\"color:blue;\">(</span><span style=\"color:blue;\">L</span><span style=\"color:blue;\">i</span><span style=\"color:blue;\">s</span><span style=\"color:blue;\">t</span><span style=\"color:blue;\">)</span><span style=\"color:blue;\">↵\n",
       "</span><span style=\"color:blue;\">•</span><span style=\"color:blue;\">•</span><span style=\"color:blue;\">•</span><span style=\"color:blue;\">•</span><span style=\"color:blue;\">f</span><span style=\"color:blue;\">o</span><span style=\"color:blue;\">r</span><span style=\"color:blue;\">•</span><span style=\"color:blue;\">i</span><span style=\"color:blue;\">•</span><span style=\"color:blue;\">i</span><span style=\"color:blue;\">n</span><span style=\"color:blue;\">•</span><span style=\"color:blue;\">r</span><span style=\"color:blue;\">a</span><span style=\"color:blue;\">n</span><span style=\"color:blue;\">g</span><span style=\"color:blue;\">e</span><span style=\"color:blue;\">(</span><span style=\"color:blue;\">3</span><span style=\"color:blue;\">)</span><span style=\"color:blue;\">:</span><span style=\"color:blue;\">↵\n",
       "</span><span style=\"color:blue;\">•</span><span style=\"color:blue;\">•</span><span style=\"color:blue;\">•</span><span style=\"color:blue;\">•</span><span style=\"color:blue;\">•</span><span style=\"color:blue;\">•</span><span style=\"color:blue;\">•</span><span style=\"color:blue;\">•</span><span style=\"color:blue;\">p</span><span style=\"color:blue;\">r</span><span style=\"color:blue;\">i</span><span style=\"color:blue;\">n</span><span style=\"color:blue;\">t</span><span style=\"color:blue;\">(</span><span style=\"color:blue;\">L</span><span style=\"color:blue;\">i</span><span style=\"color:blue;\">s</span><span style=\"color:blue;\">t</span><span style=\"color:blue;\">2</span><span style=\"color:blue;\">[</span><span style=\"color:blue;\">l</span><span style=\"color:blue;\">e</span><span style=\"color:blue;\">n</span><span style=\"color:blue;\">(</span><span style=\"color:blue;\">L</span><span style=\"color:blue;\">i</span><span style=\"color:blue;\">s</span><span style=\"color:blue;\">t</span><span style=\"color:blue;\">)</span><span style=\"color:blue;\">-</span><span style=\"color:black;\">1</span><span style=\"color:blue;\">-</span><span style=\"color:blue;\">i</span><span style=\"color:black;\">]</span><span style=\"color:blue;\">)</span><span style=\"color:lightgrey;\">↵\n",
       "</span><span style=\"color:black;\">i</span><span style=\"color:black;\">f</span><span style=\"color:lightgrey;\">•</span><span style=\"color:black;\">_</span><span style=\"color:black;\">_</span><span style=\"color:black;\">n</span><span style=\"color:black;\">a</span><span style=\"color:black;\">m</span><span style=\"color:black;\">e</span><span style=\"color:black;\">_</span><span style=\"color:black;\">_</span><span style=\"color:black;\">=</span><span style=\"color:black;\">=</span><span style=\"color:black;\">\"</span><span style=\"color:black;\">_</span><span style=\"color:black;\">_</span><span style=\"color:black;\">m</span><span style=\"color:black;\">a</span><span style=\"color:black;\">i</span><span style=\"color:black;\">n</span><span style=\"color:black;\">_</span><span style=\"color:black;\">_</span><span style=\"color:black;\">\"</span><span style=\"color:black;\">:</span><span style=\"color:lightgrey;\">↵\n",
       "</span><span style=\"color:lightgrey;\">•</span><span style=\"color:lightgrey;\">•</span><span style=\"color:lightgrey;\">•</span><span style=\"color:lightgrey;\">•</span><span style=\"color:black;\">L</span><span style=\"color:black;\">i</span><span style=\"color:black;\">s</span><span style=\"color:black;\">t</span><span style=\"color:black;\">=</span><span style=\"color:black;\">[</span><span style=\"color:black;\">]</span><span style=\"color:lightgrey;\">↵\n",
       "</span><span style=\"color:lightgrey;\">•</span><span style=\"color:lightgrey;\">•</span><span style=\"color:lightgrey;\">•</span><span style=\"color:lightgrey;\">•</span><span style=\"color:black;\">f</span><span style=\"color:black;\">o</span><span style=\"color:black;\">r</span><span style=\"color:lightgrey;\">•</span><span style=\"color:black;\">i</span><span style=\"color:lightgrey;\">•</span><span style=\"color:black;\">i</span><span style=\"color:black;\">n</span><span style=\"color:lightgrey;\">•</span><span style=\"color:black;\">r</span><span style=\"color:black;\">a</span><span style=\"color:black;\">n</span><span style=\"color:black;\">g</span><span style=\"color:black;\">e</span><span style=\"color:black;\">(</span><span style=\"color:black;\">1</span><span style=\"color:black;\">0</span><span style=\"color:black;\">)</span><span style=\"color:black;\">:</span><span style=\"color:lightgrey;\">↵\n",
       "</span><span style=\"color:lightgrey;\">•</span><span style=\"color:lightgrey;\">•</span><span style=\"color:lightgrey;\">•</span><span style=\"color:lightgrey;\">•</span><span style=\"color:lightgrey;\">•</span><span style=\"color:lightgrey;\">•</span><span style=\"color:lightgrey;\">•</span><span style=\"color:lightgrey;\">•</span><span style=\"color:black;\">L</span><span style=\"color:black;\">i</span><span style=\"color:black;\">s</span><span style=\"color:black;\">t</span><span style=\"color:black;\">.</span><span style=\"color:black;\">a</span><span style=\"color:black;\">p</span><span style=\"color:black;\">p</span><span style=\"color:black;\">e</span><span style=\"color:black;\">n</span><span style=\"color:black;\">d</span><span style=\"color:black;\">(</span><span style=\"color:black;\">i</span><span style=\"color:black;\">n</span><span style=\"color:black;\">t</span><span style=\"color:black;\">(</span><span style=\"color:black;\">i</span><span style=\"color:black;\">n</span><span style=\"color:black;\">p</span><span style=\"color:black;\">u</span><span style=\"color:black;\">t</span><span style=\"color:black;\">(</span><span style=\"color:black;\">)</span><span style=\"color:black;\">)</span><span style=\"color:black;\">)</span><span style=\"color:lightgrey;\">↵\n",
       "</span><span style=\"color:lightgrey;\">•</span><span style=\"color:lightgrey;\">•</span><span style=\"color:lightgrey;\">•</span><span style=\"color:lightgrey;\">•</span><span style=\"color:black;\">L</span><span style=\"color:black;\">o</span><span style=\"color:black;\">T</span><span style=\"color:black;\">(</span><span style=\"color:black;\">L</span><span style=\"color:black;\">i</span><span style=\"color:black;\">s</span><span style=\"color:black;\">t</span><span style=\"color:blue;\">)</span></pre>"
      ],
      "text/plain": [
       "<IPython.core.display.HTML object>"
      ]
     },
     "metadata": {},
     "output_type": "display_data"
    },
    {
     "data": {
      "text/html": [
       "<h2>The bug that should be assigned to the original_src:\n",
       "</h2>"
      ],
      "text/plain": [
       "<IPython.core.display.HTML object>"
      ]
     },
     "metadata": {},
     "output_type": "display_data"
    },
    {
     "data": {
      "text/html": [
       "<pre>SyntaxError: unexpected EOF while parsing</pre>"
      ],
      "text/plain": [
       "<IPython.core.display.HTML object>"
      ]
     },
     "metadata": {},
     "output_type": "display_data"
    },
    {
     "data": {
      "text/html": [
       "<h1>Example 27</h1>"
      ],
      "text/plain": [
       "<IPython.core.display.HTML object>"
      ]
     },
     "metadata": {},
     "output_type": "display_data"
    },
    {
     "data": {
      "text/html": [
       "<h2>The source code that is buggy:\n",
       "</h2>"
      ],
      "text/plain": [
       "<IPython.core.display.HTML object>"
      ]
     },
     "metadata": {},
     "output_type": "display_data"
    },
    {
     "data": {
      "text/html": [
       "<pre><span style=\"color:red;\">i</span><span style=\"color:red;\">m</span><span style=\"color:red;\">p</span><span style=\"color:red;\">o</span><span style=\"color:red;\">r</span><span style=\"color:red;\">t</span><span style=\"color:red;\">•</span><span style=\"color:red;\">s</span><span style=\"color:red;\">y</span><span style=\"color:red;\">s</span><span style=\"color:red;\">•</span><span style=\"color:red;\">↵\n",
       "</span><span style=\"color:black;\">[</span><span style=\"color:black;\">p</span><span style=\"color:black;\">r</span><span style=\"color:black;\">i</span><span style=\"color:black;\">n</span><span style=\"color:black;\">t</span><span style=\"color:black;\">(</span><span style=\"color:red;\">d</span><span style=\"color:black;\">)</span><span style=\"color:red;\">•</span><span style=\"color:red;\">f</span><span style=\"color:red;\">o</span><span style=\"color:red;\">r</span><span style=\"color:red;\">•</span><span style=\"color:red;\">i</span><span style=\"color:red;\">,</span><span style=\"color:red;\">•</span><span style=\"color:red;\">d</span><span style=\"color:red;\">•</span><span style=\"color:red;\">i</span><span style=\"color:red;\">n</span><span style=\"color:red;\">•</span><span style=\"color:red;\">e</span><span style=\"color:red;\">n</span><span style=\"color:red;\">u</span><span style=\"color:red;\">m</span><span style=\"color:red;\">e</span><span style=\"color:red;\">r</span><span style=\"color:red;\">a</span><span style=\"color:red;\">t</span><span style=\"color:red;\">e</span><span style=\"color:red;\">(</span><span style=\"color:red;\">[</span><span style=\"color:red;\">i</span><span style=\"color:lightgrey;\">•</span><span style=\"color:black;\">f</span><span style=\"color:black;\">o</span><span style=\"color:black;\">r</span><span style=\"color:lightgrey;\">•</span><span style=\"color:black;\">i</span><span style=\"color:lightgrey;\">•</span><span style=\"color:black;\">i</span><span style=\"color:black;\">n</span><span style=\"color:lightgrey;\">•</span><span style=\"color:black;\">s</span><span style=\"color:red;\">y</span><span style=\"color:red;\">s</span><span style=\"color:red;\">.</span><span style=\"color:red;\">s</span><span style=\"color:black;\">t</span><span style=\"color:red;\">d</span><span style=\"color:red;\">i</span><span style=\"color:black;\">n</span><span style=\"color:red;\">]</span><span style=\"color:red;\">.</span><span style=\"color:black;\">r</span><span style=\"color:black;\">e</span><span style=\"color:black;\">v</span><span style=\"color:black;\">e</span><span style=\"color:black;\">r</span><span style=\"color:black;\">s</span><span style=\"color:black;\">e</span><span style=\"color:red;\">(</span><span style=\"color:black;\">)</span><span style=\"color:red;\">)</span><span style=\"color:red;\">•</span><span style=\"color:red;\">i</span><span style=\"color:red;\">f</span><span style=\"color:red;\">•</span><span style=\"color:red;\">i</span><span style=\"color:red;\">•</span><span style=\"color:red;\"><</span><span style=\"color:red;\">•</span><span style=\"color:black;\">3</span><span style=\"color:black;\">]</span></pre>"
      ],
      "text/plain": [
       "<IPython.core.display.HTML object>"
      ]
     },
     "metadata": {},
     "output_type": "display_data"
    },
    {
     "data": {
      "text/html": [
       "<h2>The source code that is accepted:\n",
       "</h2>"
      ],
      "text/plain": [
       "<IPython.core.display.HTML object>"
      ]
     },
     "metadata": {},
     "output_type": "display_data"
    },
    {
     "data": {
      "text/html": [
       "<pre><span style=\"color:black;\">[</span><span style=\"color:black;\">p</span><span style=\"color:black;\">r</span><span style=\"color:black;\">i</span><span style=\"color:black;\">n</span><span style=\"color:black;\">t</span><span style=\"color:black;\">(</span><span style=\"color:blue;\">i</span><span style=\"color:black;\">)</span><span style=\"color:lightgrey;\">•</span><span style=\"color:black;\">f</span><span style=\"color:black;\">o</span><span style=\"color:black;\">r</span><span style=\"color:lightgrey;\">•</span><span style=\"color:black;\">i</span><span style=\"color:lightgrey;\">•</span><span style=\"color:black;\">i</span><span style=\"color:black;\">n</span><span style=\"color:lightgrey;\">•</span><span style=\"color:black;\">s</span><span style=\"color:blue;\">o</span><span style=\"color:blue;\">r</span><span style=\"color:black;\">t</span><span style=\"color:blue;\">e</span><span style=\"color:blue;\">d</span><span style=\"color:blue;\">(</span><span style=\"color:blue;\">[</span><span style=\"color:blue;\">i</span><span style=\"color:black;\">n</span><span style=\"color:blue;\">t</span><span style=\"color:blue;\">(</span><span style=\"color:blue;\">i</span><span style=\"color:blue;\">n</span><span style=\"color:blue;\">p</span><span style=\"color:blue;\">u</span><span style=\"color:blue;\">t</span><span style=\"color:blue;\">(</span><span style=\"color:blue;\">)</span><span style=\"color:blue;\">)</span><span style=\"color:blue;\">•</span><span style=\"color:blue;\">f</span><span style=\"color:blue;\">o</span><span style=\"color:blue;\">r</span><span style=\"color:blue;\">•</span><span style=\"color:blue;\">_</span><span style=\"color:blue;\">•</span><span style=\"color:blue;\">i</span><span style=\"color:blue;\">n</span><span style=\"color:blue;\">•</span><span style=\"color:blue;\">r</span><span style=\"color:blue;\">a</span><span style=\"color:blue;\">n</span><span style=\"color:blue;\">g</span><span style=\"color:blue;\">e</span><span style=\"color:blue;\">(</span><span style=\"color:blue;\">1</span><span style=\"color:blue;\">0</span><span style=\"color:blue;\">)</span><span style=\"color:blue;\">]</span><span style=\"color:blue;\">,</span><span style=\"color:blue;\">•</span><span style=\"color:black;\">r</span><span style=\"color:black;\">e</span><span style=\"color:black;\">v</span><span style=\"color:black;\">e</span><span style=\"color:black;\">r</span><span style=\"color:black;\">s</span><span style=\"color:black;\">e</span><span style=\"color:blue;\">=</span><span style=\"color:blue;\">T</span><span style=\"color:blue;\">r</span><span style=\"color:blue;\">u</span><span style=\"color:blue;\">e</span><span style=\"color:black;\">)</span><span style=\"color:blue;\">[</span><span style=\"color:blue;\">0</span><span style=\"color:blue;\">:</span><span style=\"color:black;\">3</span><span style=\"color:black;\">]</span><span style=\"color:blue;\">]</span></pre>"
      ],
      "text/plain": [
       "<IPython.core.display.HTML object>"
      ]
     },
     "metadata": {},
     "output_type": "display_data"
    },
    {
     "data": {
      "text/html": [
       "<h2>The bug that should be assigned to the original_src:\n",
       "</h2>"
      ],
      "text/plain": [
       "<IPython.core.display.HTML object>"
      ]
     },
     "metadata": {},
     "output_type": "display_data"
    },
    {
     "data": {
      "text/html": [
       "<pre>TypeError: 'NoneType' object is not iterable</pre>"
      ],
      "text/plain": [
       "<IPython.core.display.HTML object>"
      ]
     },
     "metadata": {},
     "output_type": "display_data"
    },
    {
     "data": {
      "text/html": [
       "<h1>Example 28</h1>"
      ],
      "text/plain": [
       "<IPython.core.display.HTML object>"
      ]
     },
     "metadata": {},
     "output_type": "display_data"
    },
    {
     "data": {
      "text/html": [
       "<h2>The source code that is buggy:\n",
       "</h2>"
      ],
      "text/plain": [
       "<IPython.core.display.HTML object>"
      ]
     },
     "metadata": {},
     "output_type": "display_data"
    },
    {
     "data": {
      "text/html": [
       "<pre><span style=\"color:black;\">l</span><span style=\"color:black;\">s</span><span style=\"color:black;\">t</span><span style=\"color:black;\">=</span><span style=\"color:black;\">[</span><span style=\"color:black;\">]</span><span style=\"color:lightgrey;\">↵\n",
       "</span><span style=\"color:black;\">f</span><span style=\"color:black;\">o</span><span style=\"color:black;\">r</span><span style=\"color:lightgrey;\">•</span><span style=\"color:black;\">n</span><span style=\"color:lightgrey;\">•</span><span style=\"color:black;\">i</span><span style=\"color:black;\">n</span><span style=\"color:lightgrey;\">•</span><span style=\"color:black;\">r</span><span style=\"color:black;\">a</span><span style=\"color:black;\">n</span><span style=\"color:black;\">g</span><span style=\"color:black;\">e</span><span style=\"color:black;\">(</span><span style=\"color:black;\">1</span><span style=\"color:black;\">0</span><span style=\"color:black;\">)</span><span style=\"color:black;\">:</span><span style=\"color:lightgrey;\">↵\n",
       "</span><span style=\"color:lightgrey;\">•</span><span style=\"color:lightgrey;\">•</span><span style=\"color:lightgrey;\">•</span><span style=\"color:lightgrey;\">•</span><span style=\"color:black;\">l</span><span style=\"color:black;\">s</span><span style=\"color:black;\">t</span><span style=\"color:black;\">.</span><span style=\"color:black;\">a</span><span style=\"color:black;\">p</span><span style=\"color:black;\">p</span><span style=\"color:black;\">e</span><span style=\"color:black;\">n</span><span style=\"color:black;\">d</span><span style=\"color:black;\">(</span><span style=\"color:black;\">i</span><span style=\"color:black;\">n</span><span style=\"color:black;\">t</span><span style=\"color:black;\">(</span><span style=\"color:black;\">i</span><span style=\"color:black;\">n</span><span style=\"color:black;\">p</span><span style=\"color:black;\">u</span><span style=\"color:black;\">t</span><span style=\"color:black;\">(</span><span style=\"color:red;\">)</span><span style=\"color:black;\">)</span><span style=\"color:lightgrey;\">↵\n",
       "</span><span style=\"color:black;\">r</span><span style=\"color:black;\">e</span><span style=\"color:black;\">s</span><span style=\"color:black;\">=</span><span style=\"color:black;\">s</span><span style=\"color:black;\">o</span><span style=\"color:black;\">r</span><span style=\"color:black;\">t</span><span style=\"color:black;\">e</span><span style=\"color:black;\">d</span><span style=\"color:black;\">(</span><span style=\"color:black;\">l</span><span style=\"color:black;\">s</span><span style=\"color:black;\">t</span><span style=\"color:black;\">,</span><span style=\"color:lightgrey;\">•</span><span style=\"color:black;\">r</span><span style=\"color:black;\">e</span><span style=\"color:black;\">v</span><span style=\"color:black;\">e</span><span style=\"color:black;\">r</span><span style=\"color:black;\">s</span><span style=\"color:black;\">e</span><span style=\"color:black;\">=</span><span style=\"color:black;\">T</span><span style=\"color:black;\">r</span><span style=\"color:black;\">u</span><span style=\"color:black;\">e</span><span style=\"color:black;\">)</span><span style=\"color:lightgrey;\">↵\n",
       "</span><span style=\"color:black;\">f</span><span style=\"color:black;\">o</span><span style=\"color:black;\">r</span><span style=\"color:lightgrey;\">•</span><span style=\"color:black;\">i</span><span style=\"color:lightgrey;\">•</span><span style=\"color:black;\">i</span><span style=\"color:black;\">n</span><span style=\"color:lightgrey;\">•</span><span style=\"color:black;\">r</span><span style=\"color:black;\">a</span><span style=\"color:black;\">n</span><span style=\"color:black;\">g</span><span style=\"color:black;\">e</span><span style=\"color:black;\">(</span><span style=\"color:black;\">3</span><span style=\"color:black;\">)</span><span style=\"color:black;\">:</span><span style=\"color:lightgrey;\">↵\n",
       "</span><span style=\"color:lightgrey;\">•</span><span style=\"color:lightgrey;\">•</span><span style=\"color:lightgrey;\">•</span><span style=\"color:lightgrey;\">•</span><span style=\"color:black;\">p</span><span style=\"color:black;\">r</span><span style=\"color:black;\">i</span><span style=\"color:black;\">n</span><span style=\"color:black;\">t</span><span style=\"color:black;\">(</span><span style=\"color:black;\">r</span><span style=\"color:black;\">e</span><span style=\"color:black;\">s</span><span style=\"color:black;\">[</span><span style=\"color:black;\">i</span><span style=\"color:black;\">]</span><span style=\"color:black;\">)</span></pre>"
      ],
      "text/plain": [
       "<IPython.core.display.HTML object>"
      ]
     },
     "metadata": {},
     "output_type": "display_data"
    },
    {
     "data": {
      "text/html": [
       "<h2>The source code that is accepted:\n",
       "</h2>"
      ],
      "text/plain": [
       "<IPython.core.display.HTML object>"
      ]
     },
     "metadata": {},
     "output_type": "display_data"
    },
    {
     "data": {
      "text/html": [
       "<pre><span style=\"color:black;\">l</span><span style=\"color:black;\">s</span><span style=\"color:black;\">t</span><span style=\"color:black;\">=</span><span style=\"color:black;\">[</span><span style=\"color:black;\">]</span><span style=\"color:lightgrey;\">↵\n",
       "</span><span style=\"color:black;\">f</span><span style=\"color:black;\">o</span><span style=\"color:black;\">r</span><span style=\"color:lightgrey;\">•</span><span style=\"color:black;\">n</span><span style=\"color:lightgrey;\">•</span><span style=\"color:black;\">i</span><span style=\"color:black;\">n</span><span style=\"color:lightgrey;\">•</span><span style=\"color:black;\">r</span><span style=\"color:black;\">a</span><span style=\"color:black;\">n</span><span style=\"color:black;\">g</span><span style=\"color:black;\">e</span><span style=\"color:black;\">(</span><span style=\"color:black;\">1</span><span style=\"color:black;\">0</span><span style=\"color:black;\">)</span><span style=\"color:black;\">:</span><span style=\"color:lightgrey;\">↵\n",
       "</span><span style=\"color:lightgrey;\">•</span><span style=\"color:lightgrey;\">•</span><span style=\"color:lightgrey;\">•</span><span style=\"color:lightgrey;\">•</span><span style=\"color:black;\">l</span><span style=\"color:black;\">s</span><span style=\"color:black;\">t</span><span style=\"color:black;\">.</span><span style=\"color:black;\">a</span><span style=\"color:black;\">p</span><span style=\"color:black;\">p</span><span style=\"color:black;\">e</span><span style=\"color:black;\">n</span><span style=\"color:black;\">d</span><span style=\"color:black;\">(</span><span style=\"color:black;\">i</span><span style=\"color:black;\">n</span><span style=\"color:black;\">t</span><span style=\"color:black;\">(</span><span style=\"color:black;\">i</span><span style=\"color:black;\">n</span><span style=\"color:black;\">p</span><span style=\"color:black;\">u</span><span style=\"color:black;\">t</span><span style=\"color:black;\">(</span><span style=\"color:blue;\">)</span><span style=\"color:blue;\">)</span><span style=\"color:black;\">)</span><span style=\"color:lightgrey;\">↵\n",
       "</span><span style=\"color:black;\">r</span><span style=\"color:black;\">e</span><span style=\"color:black;\">s</span><span style=\"color:black;\">=</span><span style=\"color:black;\">s</span><span style=\"color:black;\">o</span><span style=\"color:black;\">r</span><span style=\"color:black;\">t</span><span style=\"color:black;\">e</span><span style=\"color:black;\">d</span><span style=\"color:black;\">(</span><span style=\"color:black;\">l</span><span style=\"color:black;\">s</span><span style=\"color:black;\">t</span><span style=\"color:black;\">,</span><span style=\"color:lightgrey;\">•</span><span style=\"color:black;\">r</span><span style=\"color:black;\">e</span><span style=\"color:black;\">v</span><span style=\"color:black;\">e</span><span style=\"color:black;\">r</span><span style=\"color:black;\">s</span><span style=\"color:black;\">e</span><span style=\"color:black;\">=</span><span style=\"color:black;\">T</span><span style=\"color:black;\">r</span><span style=\"color:black;\">u</span><span style=\"color:black;\">e</span><span style=\"color:black;\">)</span><span style=\"color:lightgrey;\">↵\n",
       "</span><span style=\"color:black;\">f</span><span style=\"color:black;\">o</span><span style=\"color:black;\">r</span><span style=\"color:lightgrey;\">•</span><span style=\"color:black;\">i</span><span style=\"color:lightgrey;\">•</span><span style=\"color:black;\">i</span><span style=\"color:black;\">n</span><span style=\"color:lightgrey;\">•</span><span style=\"color:black;\">r</span><span style=\"color:black;\">a</span><span style=\"color:black;\">n</span><span style=\"color:black;\">g</span><span style=\"color:black;\">e</span><span style=\"color:black;\">(</span><span style=\"color:black;\">3</span><span style=\"color:black;\">)</span><span style=\"color:black;\">:</span><span style=\"color:lightgrey;\">↵\n",
       "</span><span style=\"color:lightgrey;\">•</span><span style=\"color:lightgrey;\">•</span><span style=\"color:lightgrey;\">•</span><span style=\"color:lightgrey;\">•</span><span style=\"color:black;\">p</span><span style=\"color:black;\">r</span><span style=\"color:black;\">i</span><span style=\"color:black;\">n</span><span style=\"color:black;\">t</span><span style=\"color:black;\">(</span><span style=\"color:black;\">r</span><span style=\"color:black;\">e</span><span style=\"color:black;\">s</span><span style=\"color:black;\">[</span><span style=\"color:black;\">i</span><span style=\"color:black;\">]</span><span style=\"color:black;\">)</span></pre>"
      ],
      "text/plain": [
       "<IPython.core.display.HTML object>"
      ]
     },
     "metadata": {},
     "output_type": "display_data"
    },
    {
     "data": {
      "text/html": [
       "<h2>The bug that should be assigned to the original_src:\n",
       "</h2>"
      ],
      "text/plain": [
       "<IPython.core.display.HTML object>"
      ]
     },
     "metadata": {},
     "output_type": "display_data"
    },
    {
     "data": {
      "text/html": [
       "<pre>SyntaxError: invalid syntax</pre>"
      ],
      "text/plain": [
       "<IPython.core.display.HTML object>"
      ]
     },
     "metadata": {},
     "output_type": "display_data"
    },
    {
     "data": {
      "text/html": [
       "<h1>Example 29</h1>"
      ],
      "text/plain": [
       "<IPython.core.display.HTML object>"
      ]
     },
     "metadata": {},
     "output_type": "display_data"
    },
    {
     "data": {
      "text/html": [
       "<h2>The source code that is buggy:\n",
       "</h2>"
      ],
      "text/plain": [
       "<IPython.core.display.HTML object>"
      ]
     },
     "metadata": {},
     "output_type": "display_data"
    },
    {
     "data": {
      "text/html": [
       "<pre><span style=\"color:red;\">h</span><span style=\"color:red;\">e</span><span style=\"color:red;\">i</span><span style=\"color:red;\">g</span><span style=\"color:red;\">h</span><span style=\"color:red;\">t</span><span style=\"color:lightgrey;\">•</span><span style=\"color:black;\">=</span><span style=\"color:lightgrey;\">•</span><span style=\"color:red;\">m</span><span style=\"color:black;\">a</span><span style=\"color:black;\">p</span><span style=\"color:red;\">(</span><span style=\"color:black;\">i</span><span style=\"color:black;\">n</span><span style=\"color:black;\">t</span><span style=\"color:red;\">,</span><span style=\"color:red;\">•</span><span style=\"color:black;\">r</span><span style=\"color:black;\">a</span><span style=\"color:black;\">w</span><span style=\"color:black;\">_</span><span style=\"color:black;\">i</span><span style=\"color:black;\">n</span><span style=\"color:black;\">p</span><span style=\"color:black;\">u</span><span style=\"color:black;\">t</span><span style=\"color:black;\">(</span><span style=\"color:black;\">)</span><span style=\"color:red;\">.</span><span style=\"color:red;\">s</span><span style=\"color:red;\">p</span><span style=\"color:red;\">l</span><span style=\"color:red;\">i</span><span style=\"color:red;\">t</span><span style=\"color:red;\">(</span><span style=\"color:black;\">)</span><span style=\"color:black;\">)</span><span style=\"color:lightgrey;\">↵\n",
       "</span><span style=\"color:lightgrey;\">↵\n",
       "</span><span style=\"color:red;\">h</span><span style=\"color:red;\">e</span><span style=\"color:red;\">i</span><span style=\"color:red;\">g</span><span style=\"color:red;\">h</span><span style=\"color:red;\">t</span><span style=\"color:black;\">.</span><span style=\"color:black;\">s</span><span style=\"color:black;\">o</span><span style=\"color:black;\">r</span><span style=\"color:black;\">t</span><span style=\"color:black;\">(</span><span style=\"color:black;\">)</span><span style=\"color:lightgrey;\">↵\n",
       "</span><span style=\"color:lightgrey;\">↵\n",
       "</span><span style=\"color:black;\">f</span><span style=\"color:black;\">o</span><span style=\"color:black;\">r</span><span style=\"color:lightgrey;\">•</span><span style=\"color:black;\">i</span><span style=\"color:lightgrey;\">•</span><span style=\"color:black;\">i</span><span style=\"color:black;\">n</span><span style=\"color:lightgrey;\">•</span><span style=\"color:black;\">r</span><span style=\"color:black;\">a</span><span style=\"color:black;\">n</span><span style=\"color:black;\">g</span><span style=\"color:black;\">e</span><span style=\"color:black;\">(</span><span style=\"color:black;\">3</span><span style=\"color:black;\">)</span><span style=\"color:black;\">:</span><span style=\"color:lightgrey;\">↵\n",
       "</span><span style=\"color:lightgrey;\">•</span><span style=\"color:lightgrey;\">•</span><span style=\"color:black;\">p</span><span style=\"color:black;\">r</span><span style=\"color:black;\">i</span><span style=\"color:black;\">n</span><span style=\"color:black;\">t</span><span style=\"color:lightgrey;\">•</span><span style=\"color:red;\">h</span><span style=\"color:red;\">e</span><span style=\"color:red;\">i</span><span style=\"color:red;\">g</span><span style=\"color:red;\">h</span><span style=\"color:red;\">t</span><span style=\"color:black;\">[</span><span style=\"color:black;\">9</span><span style=\"color:black;\">-</span><span style=\"color:black;\">i</span><span style=\"color:black;\">]</span></pre>"
      ],
      "text/plain": [
       "<IPython.core.display.HTML object>"
      ]
     },
     "metadata": {},
     "output_type": "display_data"
    },
    {
     "data": {
      "text/html": [
       "<h2>The source code that is accepted:\n",
       "</h2>"
      ],
      "text/plain": [
       "<IPython.core.display.HTML object>"
      ]
     },
     "metadata": {},
     "output_type": "display_data"
    },
    {
     "data": {
      "text/html": [
       "<pre><span style=\"color:blue;\">s</span><span style=\"color:lightgrey;\">•</span><span style=\"color:black;\">=</span><span style=\"color:lightgrey;\">•</span><span style=\"color:blue;\">[</span><span style=\"color:blue;\">]</span><span style=\"color:blue;\">↵\n",
       "</span><span style=\"color:blue;\">↵\n",
       "</span><span style=\"color:blue;\">f</span><span style=\"color:blue;\">o</span><span style=\"color:blue;\">r</span><span style=\"color:blue;\">•</span><span style=\"color:blue;\">i</span><span style=\"color:blue;\">•</span><span style=\"color:blue;\">i</span><span style=\"color:blue;\">n</span><span style=\"color:blue;\">•</span><span style=\"color:blue;\">r</span><span style=\"color:blue;\">a</span><span style=\"color:blue;\">n</span><span style=\"color:blue;\">g</span><span style=\"color:blue;\">e</span><span style=\"color:blue;\">(</span><span style=\"color:blue;\">1</span><span style=\"color:blue;\">0</span><span style=\"color:blue;\">)</span><span style=\"color:blue;\">:</span><span style=\"color:blue;\">↵\n",
       "</span><span style=\"color:blue;\">•</span><span style=\"color:blue;\">•</span><span style=\"color:blue;\">s</span><span style=\"color:blue;\">.</span><span style=\"color:black;\">a</span><span style=\"color:black;\">p</span><span style=\"color:blue;\">p</span><span style=\"color:blue;\">e</span><span style=\"color:blue;\">n</span><span style=\"color:blue;\">d</span><span style=\"color:blue;\">(</span><span style=\"color:black;\">i</span><span style=\"color:black;\">n</span><span style=\"color:black;\">t</span><span style=\"color:blue;\">(</span><span style=\"color:black;\">r</span><span style=\"color:black;\">a</span><span style=\"color:black;\">w</span><span style=\"color:black;\">_</span><span style=\"color:black;\">i</span><span style=\"color:black;\">n</span><span style=\"color:black;\">p</span><span style=\"color:black;\">u</span><span style=\"color:black;\">t</span><span style=\"color:black;\">(</span><span style=\"color:black;\">)</span><span style=\"color:black;\">)</span><span style=\"color:black;\">)</span><span style=\"color:lightgrey;\">↵\n",
       "</span><span style=\"color:lightgrey;\">↵\n",
       "</span><span style=\"color:blue;\">s</span><span style=\"color:black;\">.</span><span style=\"color:black;\">s</span><span style=\"color:black;\">o</span><span style=\"color:black;\">r</span><span style=\"color:black;\">t</span><span style=\"color:black;\">(</span><span style=\"color:black;\">)</span><span style=\"color:lightgrey;\">↵\n",
       "</span><span style=\"color:lightgrey;\">↵\n",
       "</span><span style=\"color:black;\">f</span><span style=\"color:black;\">o</span><span style=\"color:black;\">r</span><span style=\"color:lightgrey;\">•</span><span style=\"color:black;\">i</span><span style=\"color:lightgrey;\">•</span><span style=\"color:black;\">i</span><span style=\"color:black;\">n</span><span style=\"color:lightgrey;\">•</span><span style=\"color:black;\">r</span><span style=\"color:black;\">a</span><span style=\"color:black;\">n</span><span style=\"color:black;\">g</span><span style=\"color:black;\">e</span><span style=\"color:black;\">(</span><span style=\"color:black;\">3</span><span style=\"color:black;\">)</span><span style=\"color:black;\">:</span><span style=\"color:lightgrey;\">↵\n",
       "</span><span style=\"color:lightgrey;\">•</span><span style=\"color:lightgrey;\">•</span><span style=\"color:black;\">p</span><span style=\"color:black;\">r</span><span style=\"color:black;\">i</span><span style=\"color:black;\">n</span><span style=\"color:black;\">t</span><span style=\"color:lightgrey;\">•</span><span style=\"color:blue;\">s</span><span style=\"color:black;\">[</span><span style=\"color:black;\">9</span><span style=\"color:black;\">-</span><span style=\"color:black;\">i</span><span style=\"color:black;\">]</span></pre>"
      ],
      "text/plain": [
       "<IPython.core.display.HTML object>"
      ]
     },
     "metadata": {},
     "output_type": "display_data"
    },
    {
     "data": {
      "text/html": [
       "<h2>The bug that should be assigned to the original_src:\n",
       "</h2>"
      ],
      "text/plain": [
       "<IPython.core.display.HTML object>"
      ]
     },
     "metadata": {},
     "output_type": "display_data"
    },
    {
     "data": {
      "text/html": [
       "<pre>SyntaxError: Missing parentheses in call to 'print'. Did you mean print(height[9-i])?</pre>"
      ],
      "text/plain": [
       "<IPython.core.display.HTML object>"
      ]
     },
     "metadata": {},
     "output_type": "display_data"
    },
    {
     "data": {
      "text/html": [
       "<h1>Example 30</h1>"
      ],
      "text/plain": [
       "<IPython.core.display.HTML object>"
      ]
     },
     "metadata": {},
     "output_type": "display_data"
    },
    {
     "data": {
      "text/html": [
       "<h2>The source code that is buggy:\n",
       "</h2>"
      ],
      "text/plain": [
       "<IPython.core.display.HTML object>"
      ]
     },
     "metadata": {},
     "output_type": "display_data"
    },
    {
     "data": {
      "text/html": [
       "<pre><span style=\"color:black;\">i</span><span style=\"color:black;\">m</span><span style=\"color:black;\">p</span><span style=\"color:black;\">o</span><span style=\"color:black;\">r</span><span style=\"color:black;\">t</span><span style=\"color:lightgrey;\">•</span><span style=\"color:black;\">s</span><span style=\"color:black;\">y</span><span style=\"color:black;\">s</span><span style=\"color:lightgrey;\">↵\n",
       "</span><span style=\"color:lightgrey;\">↵\n",
       "</span><span style=\"color:black;\">f</span><span style=\"color:black;\">i</span><span style=\"color:black;\">l</span><span style=\"color:black;\">e</span><span style=\"color:lightgrey;\">•</span><span style=\"color:black;\">=</span><span style=\"color:lightgrey;\">•</span><span style=\"color:black;\">s</span><span style=\"color:black;\">y</span><span style=\"color:black;\">s</span><span style=\"color:black;\">.</span><span style=\"color:red;\">a</span><span style=\"color:red;\">r</span><span style=\"color:red;\">g</span><span style=\"color:red;\">v</span><span style=\"color:red;\">[</span><span style=\"color:red;\">1</span><span style=\"color:red;\">]</span><span style=\"color:lightgrey;\">↵\n",
       "</span><span style=\"color:black;\">l</span><span style=\"color:black;\">i</span><span style=\"color:black;\">s</span><span style=\"color:lightgrey;\">•</span><span style=\"color:black;\">=</span><span style=\"color:lightgrey;\">•</span><span style=\"color:red;\">o</span><span style=\"color:red;\">p</span><span style=\"color:red;\">e</span><span style=\"color:red;\">n</span><span style=\"color:red;\">(</span><span style=\"color:black;\">f</span><span style=\"color:black;\">i</span><span style=\"color:black;\">l</span><span style=\"color:black;\">e</span><span style=\"color:red;\">,</span><span style=\"color:red;\">•</span><span style=\"color:red;\">\"</span><span style=\"color:red;\">r</span><span style=\"color:red;\">\"</span><span style=\"color:red;\">)</span><span style=\"color:black;\">.</span><span style=\"color:black;\">r</span><span style=\"color:black;\">e</span><span style=\"color:black;\">a</span><span style=\"color:black;\">d</span><span style=\"color:black;\">l</span><span style=\"color:black;\">i</span><span style=\"color:black;\">n</span><span style=\"color:black;\">e</span><span style=\"color:black;\">s</span><span style=\"color:black;\">(</span><span style=\"color:black;\">)</span><span style=\"color:lightgrey;\">↵\n",
       "</span><span style=\"color:black;\">l</span><span style=\"color:black;\">i</span><span style=\"color:black;\">s</span><span style=\"color:lightgrey;\">•</span><span style=\"color:black;\">=</span><span style=\"color:lightgrey;\">•</span><span style=\"color:black;\">m</span><span style=\"color:black;\">a</span><span style=\"color:black;\">p</span><span style=\"color:black;\">(</span><span style=\"color:black;\">i</span><span style=\"color:black;\">n</span><span style=\"color:black;\">t</span><span style=\"color:black;\">,</span><span style=\"color:lightgrey;\">•</span><span style=\"color:black;\">l</span><span style=\"color:black;\">i</span><span style=\"color:black;\">s</span><span style=\"color:black;\">)</span><span style=\"color:lightgrey;\">↵\n",
       "</span><span style=\"color:black;\">l</span><span style=\"color:black;\">i</span><span style=\"color:black;\">s</span><span style=\"color:black;\">.</span><span style=\"color:black;\">s</span><span style=\"color:black;\">o</span><span style=\"color:black;\">r</span><span style=\"color:black;\">t</span><span style=\"color:black;\">(</span><span style=\"color:black;\">)</span><span style=\"color:lightgrey;\">↵\n",
       "</span><span style=\"color:black;\">l</span><span style=\"color:black;\">i</span><span style=\"color:black;\">s</span><span style=\"color:black;\">.</span><span style=\"color:black;\">r</span><span style=\"color:black;\">e</span><span style=\"color:black;\">v</span><span style=\"color:black;\">e</span><span style=\"color:black;\">r</span><span style=\"color:black;\">s</span><span style=\"color:black;\">e</span><span style=\"color:black;\">(</span><span style=\"color:black;\">)</span><span style=\"color:lightgrey;\">↵\n",
       "</span><span style=\"color:lightgrey;\">↵\n",
       "</span><span style=\"color:black;\">f</span><span style=\"color:black;\">o</span><span style=\"color:black;\">r</span><span style=\"color:lightgrey;\">•</span><span style=\"color:black;\">h</span><span style=\"color:black;\">e</span><span style=\"color:black;\">i</span><span style=\"color:black;\">g</span><span style=\"color:black;\">h</span><span style=\"color:black;\">t</span><span style=\"color:lightgrey;\">•</span><span style=\"color:black;\">i</span><span style=\"color:black;\">n</span><span style=\"color:lightgrey;\">•</span><span style=\"color:black;\">l</span><span style=\"color:black;\">i</span><span style=\"color:black;\">s</span><span style=\"color:black;\">[</span><span style=\"color:black;\">0</span><span style=\"color:black;\">:</span><span style=\"color:black;\">3</span><span style=\"color:black;\">]</span><span style=\"color:black;\">:</span><span style=\"color:lightgrey;\">↵\n",
       "</span><span style=\"color:lightgrey;\">•</span><span style=\"color:lightgrey;\">•</span><span style=\"color:lightgrey;\">•</span><span style=\"color:lightgrey;\">•</span><span style=\"color:black;\">p</span><span style=\"color:black;\">r</span><span style=\"color:black;\">i</span><span style=\"color:black;\">n</span><span style=\"color:black;\">t</span><span style=\"color:lightgrey;\">•</span><span style=\"color:black;\">h</span><span style=\"color:black;\">e</span><span style=\"color:black;\">i</span><span style=\"color:black;\">g</span><span style=\"color:black;\">h</span><span style=\"color:black;\">t</span></pre>"
      ],
      "text/plain": [
       "<IPython.core.display.HTML object>"
      ]
     },
     "metadata": {},
     "output_type": "display_data"
    },
    {
     "data": {
      "text/html": [
       "<h2>The source code that is accepted:\n",
       "</h2>"
      ],
      "text/plain": [
       "<IPython.core.display.HTML object>"
      ]
     },
     "metadata": {},
     "output_type": "display_data"
    },
    {
     "data": {
      "text/html": [
       "<pre><span style=\"color:black;\">i</span><span style=\"color:black;\">m</span><span style=\"color:black;\">p</span><span style=\"color:black;\">o</span><span style=\"color:black;\">r</span><span style=\"color:black;\">t</span><span style=\"color:lightgrey;\">•</span><span style=\"color:black;\">s</span><span style=\"color:black;\">y</span><span style=\"color:black;\">s</span><span style=\"color:lightgrey;\">↵\n",
       "</span><span style=\"color:lightgrey;\">↵\n",
       "</span><span style=\"color:black;\">f</span><span style=\"color:black;\">i</span><span style=\"color:black;\">l</span><span style=\"color:black;\">e</span><span style=\"color:lightgrey;\">•</span><span style=\"color:black;\">=</span><span style=\"color:lightgrey;\">•</span><span style=\"color:black;\">s</span><span style=\"color:black;\">y</span><span style=\"color:black;\">s</span><span style=\"color:black;\">.</span><span style=\"color:blue;\">s</span><span style=\"color:blue;\">t</span><span style=\"color:blue;\">d</span><span style=\"color:blue;\">i</span><span style=\"color:blue;\">n</span><span style=\"color:lightgrey;\">↵\n",
       "</span><span style=\"color:black;\">l</span><span style=\"color:black;\">i</span><span style=\"color:black;\">s</span><span style=\"color:lightgrey;\">•</span><span style=\"color:black;\">=</span><span style=\"color:lightgrey;\">•</span><span style=\"color:black;\">f</span><span style=\"color:black;\">i</span><span style=\"color:black;\">l</span><span style=\"color:black;\">e</span><span style=\"color:black;\">.</span><span style=\"color:black;\">r</span><span style=\"color:black;\">e</span><span style=\"color:black;\">a</span><span style=\"color:black;\">d</span><span style=\"color:black;\">l</span><span style=\"color:black;\">i</span><span style=\"color:black;\">n</span><span style=\"color:black;\">e</span><span style=\"color:black;\">s</span><span style=\"color:black;\">(</span><span style=\"color:black;\">)</span><span style=\"color:lightgrey;\">↵\n",
       "</span><span style=\"color:black;\">l</span><span style=\"color:black;\">i</span><span style=\"color:black;\">s</span><span style=\"color:lightgrey;\">•</span><span style=\"color:black;\">=</span><span style=\"color:lightgrey;\">•</span><span style=\"color:black;\">m</span><span style=\"color:black;\">a</span><span style=\"color:black;\">p</span><span style=\"color:black;\">(</span><span style=\"color:black;\">i</span><span style=\"color:black;\">n</span><span style=\"color:black;\">t</span><span style=\"color:black;\">,</span><span style=\"color:lightgrey;\">•</span><span style=\"color:black;\">l</span><span style=\"color:black;\">i</span><span style=\"color:black;\">s</span><span style=\"color:black;\">)</span><span style=\"color:lightgrey;\">↵\n",
       "</span><span style=\"color:black;\">l</span><span style=\"color:black;\">i</span><span style=\"color:black;\">s</span><span style=\"color:black;\">.</span><span style=\"color:black;\">s</span><span style=\"color:black;\">o</span><span style=\"color:black;\">r</span><span style=\"color:black;\">t</span><span style=\"color:black;\">(</span><span style=\"color:black;\">)</span><span style=\"color:lightgrey;\">↵\n",
       "</span><span style=\"color:black;\">l</span><span style=\"color:black;\">i</span><span style=\"color:black;\">s</span><span style=\"color:black;\">.</span><span style=\"color:black;\">r</span><span style=\"color:black;\">e</span><span style=\"color:black;\">v</span><span style=\"color:black;\">e</span><span style=\"color:black;\">r</span><span style=\"color:black;\">s</span><span style=\"color:black;\">e</span><span style=\"color:black;\">(</span><span style=\"color:black;\">)</span><span style=\"color:lightgrey;\">↵\n",
       "</span><span style=\"color:lightgrey;\">↵\n",
       "</span><span style=\"color:black;\">f</span><span style=\"color:black;\">o</span><span style=\"color:black;\">r</span><span style=\"color:lightgrey;\">•</span><span style=\"color:black;\">h</span><span style=\"color:black;\">e</span><span style=\"color:black;\">i</span><span style=\"color:black;\">g</span><span style=\"color:black;\">h</span><span style=\"color:black;\">t</span><span style=\"color:lightgrey;\">•</span><span style=\"color:black;\">i</span><span style=\"color:black;\">n</span><span style=\"color:lightgrey;\">•</span><span style=\"color:black;\">l</span><span style=\"color:black;\">i</span><span style=\"color:black;\">s</span><span style=\"color:black;\">[</span><span style=\"color:black;\">0</span><span style=\"color:black;\">:</span><span style=\"color:black;\">3</span><span style=\"color:black;\">]</span><span style=\"color:black;\">:</span><span style=\"color:lightgrey;\">↵\n",
       "</span><span style=\"color:lightgrey;\">•</span><span style=\"color:lightgrey;\">•</span><span style=\"color:lightgrey;\">•</span><span style=\"color:lightgrey;\">•</span><span style=\"color:black;\">p</span><span style=\"color:black;\">r</span><span style=\"color:black;\">i</span><span style=\"color:black;\">n</span><span style=\"color:black;\">t</span><span style=\"color:lightgrey;\">•</span><span style=\"color:black;\">h</span><span style=\"color:black;\">e</span><span style=\"color:black;\">i</span><span style=\"color:black;\">g</span><span style=\"color:black;\">h</span><span style=\"color:black;\">t</span></pre>"
      ],
      "text/plain": [
       "<IPython.core.display.HTML object>"
      ]
     },
     "metadata": {},
     "output_type": "display_data"
    },
    {
     "data": {
      "text/html": [
       "<h2>The bug that should be assigned to the original_src:\n",
       "</h2>"
      ],
      "text/plain": [
       "<IPython.core.display.HTML object>"
      ]
     },
     "metadata": {},
     "output_type": "display_data"
    },
    {
     "data": {
      "text/html": [
       "<pre>SyntaxError: Missing parentheses in call to 'print'. Did you mean print(height)?</pre>"
      ],
      "text/plain": [
       "<IPython.core.display.HTML object>"
      ]
     },
     "metadata": {},
     "output_type": "display_data"
    },
    {
     "data": {
      "text/html": [
       "<h1>Example 31</h1>"
      ],
      "text/plain": [
       "<IPython.core.display.HTML object>"
      ]
     },
     "metadata": {},
     "output_type": "display_data"
    },
    {
     "data": {
      "text/html": [
       "<h2>The source code that is buggy:\n",
       "</h2>"
      ],
      "text/plain": [
       "<IPython.core.display.HTML object>"
      ]
     },
     "metadata": {},
     "output_type": "display_data"
    },
    {
     "data": {
      "text/html": [
       "<pre><span style=\"color:black;\">m</span><span style=\"color:black;\">o</span><span style=\"color:black;\">u</span><span style=\"color:black;\">t</span><span style=\"color:black;\">a</span><span style=\"color:black;\">i</span><span style=\"color:black;\">n</span><span style=\"color:lightgrey;\">•</span><span style=\"color:black;\">=</span><span style=\"color:lightgrey;\">•</span><span style=\"color:black;\">[</span><span style=\"color:black;\">0</span><span style=\"color:lightgrey;\">•</span><span style=\"color:black;\">f</span><span style=\"color:black;\">o</span><span style=\"color:black;\">r</span><span style=\"color:lightgrey;\">•</span><span style=\"color:black;\">i</span><span style=\"color:lightgrey;\">•</span><span style=\"color:black;\">i</span><span style=\"color:black;\">n</span><span style=\"color:lightgrey;\">•</span><span style=\"color:black;\">r</span><span style=\"color:black;\">a</span><span style=\"color:black;\">n</span><span style=\"color:black;\">g</span><span style=\"color:black;\">e</span><span style=\"color:black;\">(</span><span style=\"color:black;\">1</span><span style=\"color:black;\">0</span><span style=\"color:black;\">)</span><span style=\"color:black;\">]</span><span style=\"color:lightgrey;\">↵\n",
       "</span><span style=\"color:black;\">f</span><span style=\"color:black;\">o</span><span style=\"color:black;\">r</span><span style=\"color:lightgrey;\">•</span><span style=\"color:black;\">i</span><span style=\"color:lightgrey;\">•</span><span style=\"color:black;\">i</span><span style=\"color:black;\">n</span><span style=\"color:lightgrey;\">•</span><span style=\"color:black;\">r</span><span style=\"color:black;\">a</span><span style=\"color:black;\">n</span><span style=\"color:black;\">g</span><span style=\"color:black;\">e</span><span style=\"color:black;\">(</span><span style=\"color:black;\">1</span><span style=\"color:black;\">0</span><span style=\"color:black;\">)</span><span style=\"color:black;\">:</span><span style=\"color:lightgrey;\">↵\n",
       "</span><span style=\"color:lightgrey;\">•</span><span style=\"color:lightgrey;\">•</span><span style=\"color:lightgrey;\">•</span><span style=\"color:lightgrey;\">•</span><span style=\"color:black;\">m</span><span style=\"color:black;\">o</span><span style=\"color:black;\">u</span><span style=\"color:black;\">t</span><span style=\"color:black;\">a</span><span style=\"color:black;\">i</span><span style=\"color:black;\">n</span><span style=\"color:black;\">[</span><span style=\"color:black;\">i</span><span style=\"color:black;\">]</span><span style=\"color:lightgrey;\">•</span><span style=\"color:black;\">=</span><span style=\"color:lightgrey;\">•</span><span style=\"color:black;\">i</span><span style=\"color:black;\">n</span><span style=\"color:black;\">t</span><span style=\"color:black;\">(</span><span style=\"color:black;\">r</span><span style=\"color:black;\">a</span><span style=\"color:black;\">w</span><span style=\"color:black;\">_</span><span style=\"color:black;\">i</span><span style=\"color:black;\">n</span><span style=\"color:black;\">p</span><span style=\"color:black;\">u</span><span style=\"color:black;\">t</span><span style=\"color:black;\">(</span><span style=\"color:black;\">)</span><span style=\"color:black;\">)</span><span style=\"color:lightgrey;\">↵\n",
       "</span><span style=\"color:black;\">m</span><span style=\"color:black;\">o</span><span style=\"color:black;\">u</span><span style=\"color:black;\">t</span><span style=\"color:black;\">a</span><span style=\"color:black;\">i</span><span style=\"color:black;\">n</span><span style=\"color:black;\">.</span><span style=\"color:black;\">s</span><span style=\"color:black;\">o</span><span style=\"color:black;\">r</span><span style=\"color:black;\">t</span><span style=\"color:black;\">(</span><span style=\"color:red;\">)</span><span style=\"color:red;\">.</span><span style=\"color:black;\">r</span><span style=\"color:black;\">e</span><span style=\"color:black;\">v</span><span style=\"color:black;\">e</span><span style=\"color:black;\">r</span><span style=\"color:black;\">s</span><span style=\"color:black;\">e</span><span style=\"color:red;\">(</span><span style=\"color:black;\">)</span><span style=\"color:lightgrey;\">↵\n",
       "</span><span style=\"color:black;\">f</span><span style=\"color:black;\">o</span><span style=\"color:black;\">r</span><span style=\"color:lightgrey;\">•</span><span style=\"color:black;\">i</span><span style=\"color:lightgrey;\">•</span><span style=\"color:black;\">i</span><span style=\"color:black;\">n</span><span style=\"color:lightgrey;\">•</span><span style=\"color:black;\">r</span><span style=\"color:black;\">a</span><span style=\"color:black;\">n</span><span style=\"color:black;\">g</span><span style=\"color:black;\">e</span><span style=\"color:black;\">(</span><span style=\"color:black;\">3</span><span style=\"color:black;\">)</span><span style=\"color:black;\">:</span><span style=\"color:lightgrey;\">↵\n",
       "</span><span style=\"color:lightgrey;\">•</span><span style=\"color:lightgrey;\">•</span><span style=\"color:lightgrey;\">•</span><span style=\"color:lightgrey;\">•</span><span style=\"color:red;\">m</span><span style=\"color:black;\">o</span><span style=\"color:black;\">u</span><span style=\"color:black;\">t</span><span style=\"color:black;\">a</span><span style=\"color:black;\">i</span><span style=\"color:black;\">n</span><span style=\"color:black;\">[</span><span style=\"color:black;\">i</span><span style=\"color:black;\">]</span><span style=\"color:lightgrey;\">↵\n",
       "</span></pre>"
      ],
      "text/plain": [
       "<IPython.core.display.HTML object>"
      ]
     },
     "metadata": {},
     "output_type": "display_data"
    },
    {
     "data": {
      "text/html": [
       "<h2>The source code that is accepted:\n",
       "</h2>"
      ],
      "text/plain": [
       "<IPython.core.display.HTML object>"
      ]
     },
     "metadata": {},
     "output_type": "display_data"
    },
    {
     "data": {
      "text/html": [
       "<pre><span style=\"color:black;\">m</span><span style=\"color:black;\">o</span><span style=\"color:black;\">u</span><span style=\"color:black;\">t</span><span style=\"color:black;\">a</span><span style=\"color:black;\">i</span><span style=\"color:black;\">n</span><span style=\"color:lightgrey;\">•</span><span style=\"color:black;\">=</span><span style=\"color:lightgrey;\">•</span><span style=\"color:black;\">[</span><span style=\"color:black;\">0</span><span style=\"color:lightgrey;\">•</span><span style=\"color:black;\">f</span><span style=\"color:black;\">o</span><span style=\"color:black;\">r</span><span style=\"color:lightgrey;\">•</span><span style=\"color:black;\">i</span><span style=\"color:lightgrey;\">•</span><span style=\"color:black;\">i</span><span style=\"color:black;\">n</span><span style=\"color:lightgrey;\">•</span><span style=\"color:black;\">r</span><span style=\"color:black;\">a</span><span style=\"color:black;\">n</span><span style=\"color:black;\">g</span><span style=\"color:black;\">e</span><span style=\"color:black;\">(</span><span style=\"color:black;\">1</span><span style=\"color:black;\">0</span><span style=\"color:black;\">)</span><span style=\"color:black;\">]</span><span style=\"color:lightgrey;\">↵\n",
       "</span><span style=\"color:black;\">f</span><span style=\"color:black;\">o</span><span style=\"color:black;\">r</span><span style=\"color:lightgrey;\">•</span><span style=\"color:black;\">i</span><span style=\"color:lightgrey;\">•</span><span style=\"color:black;\">i</span><span style=\"color:black;\">n</span><span style=\"color:lightgrey;\">•</span><span style=\"color:black;\">r</span><span style=\"color:black;\">a</span><span style=\"color:black;\">n</span><span style=\"color:black;\">g</span><span style=\"color:black;\">e</span><span style=\"color:black;\">(</span><span style=\"color:black;\">1</span><span style=\"color:black;\">0</span><span style=\"color:black;\">)</span><span style=\"color:black;\">:</span><span style=\"color:lightgrey;\">↵\n",
       "</span><span style=\"color:lightgrey;\">•</span><span style=\"color:lightgrey;\">•</span><span style=\"color:lightgrey;\">•</span><span style=\"color:lightgrey;\">•</span><span style=\"color:black;\">m</span><span style=\"color:black;\">o</span><span style=\"color:black;\">u</span><span style=\"color:black;\">t</span><span style=\"color:black;\">a</span><span style=\"color:black;\">i</span><span style=\"color:black;\">n</span><span style=\"color:black;\">[</span><span style=\"color:black;\">i</span><span style=\"color:black;\">]</span><span style=\"color:lightgrey;\">•</span><span style=\"color:black;\">=</span><span style=\"color:lightgrey;\">•</span><span style=\"color:black;\">i</span><span style=\"color:black;\">n</span><span style=\"color:black;\">t</span><span style=\"color:black;\">(</span><span style=\"color:black;\">r</span><span style=\"color:black;\">a</span><span style=\"color:black;\">w</span><span style=\"color:black;\">_</span><span style=\"color:black;\">i</span><span style=\"color:black;\">n</span><span style=\"color:black;\">p</span><span style=\"color:black;\">u</span><span style=\"color:black;\">t</span><span style=\"color:black;\">(</span><span style=\"color:black;\">)</span><span style=\"color:black;\">)</span><span style=\"color:lightgrey;\">↵\n",
       "</span><span style=\"color:black;\">m</span><span style=\"color:black;\">o</span><span style=\"color:black;\">u</span><span style=\"color:black;\">t</span><span style=\"color:black;\">a</span><span style=\"color:black;\">i</span><span style=\"color:black;\">n</span><span style=\"color:black;\">.</span><span style=\"color:black;\">s</span><span style=\"color:black;\">o</span><span style=\"color:black;\">r</span><span style=\"color:black;\">t</span><span style=\"color:black;\">(</span><span style=\"color:black;\">r</span><span style=\"color:black;\">e</span><span style=\"color:black;\">v</span><span style=\"color:black;\">e</span><span style=\"color:black;\">r</span><span style=\"color:black;\">s</span><span style=\"color:black;\">e</span><span style=\"color:blue;\">=</span><span style=\"color:blue;\">T</span><span style=\"color:blue;\">r</span><span style=\"color:blue;\">u</span><span style=\"color:blue;\">e</span><span style=\"color:black;\">)</span><span style=\"color:lightgrey;\">↵\n",
       "</span><span style=\"color:black;\">f</span><span style=\"color:black;\">o</span><span style=\"color:black;\">r</span><span style=\"color:lightgrey;\">•</span><span style=\"color:black;\">i</span><span style=\"color:lightgrey;\">•</span><span style=\"color:black;\">i</span><span style=\"color:black;\">n</span><span style=\"color:lightgrey;\">•</span><span style=\"color:black;\">r</span><span style=\"color:black;\">a</span><span style=\"color:black;\">n</span><span style=\"color:black;\">g</span><span style=\"color:black;\">e</span><span style=\"color:black;\">(</span><span style=\"color:black;\">3</span><span style=\"color:black;\">)</span><span style=\"color:black;\">:</span><span style=\"color:lightgrey;\">↵\n",
       "</span><span style=\"color:lightgrey;\">•</span><span style=\"color:lightgrey;\">•</span><span style=\"color:lightgrey;\">•</span><span style=\"color:lightgrey;\">•</span><span style=\"color:blue;\">p</span><span style=\"color:blue;\">r</span><span style=\"color:blue;\">i</span><span style=\"color:blue;\">n</span><span style=\"color:blue;\">t</span><span style=\"color:blue;\">•</span><span style=\"color:blue;\">m</span><span style=\"color:black;\">o</span><span style=\"color:black;\">u</span><span style=\"color:black;\">t</span><span style=\"color:black;\">a</span><span style=\"color:black;\">i</span><span style=\"color:black;\">n</span><span style=\"color:black;\">[</span><span style=\"color:black;\">i</span><span style=\"color:black;\">]</span><span style=\"color:lightgrey;\">↵\n",
       "</span></pre>"
      ],
      "text/plain": [
       "<IPython.core.display.HTML object>"
      ]
     },
     "metadata": {},
     "output_type": "display_data"
    },
    {
     "data": {
      "text/html": [
       "<h2>The bug that should be assigned to the original_src:\n",
       "</h2>"
      ],
      "text/plain": [
       "<IPython.core.display.HTML object>"
      ]
     },
     "metadata": {},
     "output_type": "display_data"
    },
    {
     "data": {
      "text/html": [
       "<pre>NameError: name 'raw_input' is not defined</pre>"
      ],
      "text/plain": [
       "<IPython.core.display.HTML object>"
      ]
     },
     "metadata": {},
     "output_type": "display_data"
    },
    {
     "data": {
      "text/html": [
       "<h1>Example 32</h1>"
      ],
      "text/plain": [
       "<IPython.core.display.HTML object>"
      ]
     },
     "metadata": {},
     "output_type": "display_data"
    },
    {
     "data": {
      "text/html": [
       "<h2>The source code that is buggy:\n",
       "</h2>"
      ],
      "text/plain": [
       "<IPython.core.display.HTML object>"
      ]
     },
     "metadata": {},
     "output_type": "display_data"
    },
    {
     "data": {
      "text/html": [
       "<pre><span style=\"color:black;\">l</span><span style=\"color:lightgrey;\">•</span><span style=\"color:black;\">=</span><span style=\"color:lightgrey;\">•</span><span style=\"color:black;\">[</span><span style=\"color:black;\">]</span><span style=\"color:lightgrey;\">↵\n",
       "</span><span style=\"color:lightgrey;\">↵\n",
       "</span><span style=\"color:black;\">f</span><span style=\"color:black;\">o</span><span style=\"color:black;\">r</span><span style=\"color:lightgrey;\">•</span><span style=\"color:black;\">i</span><span style=\"color:lightgrey;\">•</span><span style=\"color:black;\">i</span><span style=\"color:black;\">n</span><span style=\"color:lightgrey;\">•</span><span style=\"color:black;\">r</span><span style=\"color:black;\">a</span><span style=\"color:black;\">n</span><span style=\"color:black;\">g</span><span style=\"color:black;\">e</span><span style=\"color:black;\">(</span><span style=\"color:black;\">1</span><span style=\"color:black;\">0</span><span style=\"color:black;\">)</span><span style=\"color:black;\">:</span><span style=\"color:lightgrey;\">↵\n",
       "</span><span style=\"color:lightgrey;\">•</span><span style=\"color:lightgrey;\">•</span><span style=\"color:lightgrey;\">•</span><span style=\"color:lightgrey;\">•</span><span style=\"color:black;\">l</span><span style=\"color:black;\">.</span><span style=\"color:black;\">a</span><span style=\"color:black;\">p</span><span style=\"color:black;\">p</span><span style=\"color:black;\">e</span><span style=\"color:black;\">n</span><span style=\"color:black;\">d</span><span style=\"color:black;\">(</span><span style=\"color:black;\">i</span><span style=\"color:black;\">n</span><span style=\"color:black;\">t</span><span style=\"color:black;\">(</span><span style=\"color:black;\">i</span><span style=\"color:black;\">n</span><span style=\"color:black;\">p</span><span style=\"color:black;\">u</span><span style=\"color:black;\">t</span><span style=\"color:black;\">(</span><span style=\"color:black;\">)</span><span style=\"color:black;\">)</span><span style=\"color:black;\">)</span><span style=\"color:lightgrey;\">↵\n",
       "</span><span style=\"color:lightgrey;\">↵\n",
       "</span><span style=\"color:black;\">l</span><span style=\"color:black;\">.</span><span style=\"color:black;\">s</span><span style=\"color:black;\">o</span><span style=\"color:black;\">r</span><span style=\"color:black;\">t</span><span style=\"color:black;\">(</span><span style=\"color:black;\">)</span><span style=\"color:lightgrey;\">↵\n",
       "</span><span style=\"color:lightgrey;\">↵\n",
       "</span><span style=\"color:black;\">f</span><span style=\"color:black;\">o</span><span style=\"color:black;\">r</span><span style=\"color:lightgrey;\">•</span><span style=\"color:black;\">i</span><span style=\"color:lightgrey;\">•</span><span style=\"color:black;\">i</span><span style=\"color:black;\">n</span><span style=\"color:lightgrey;\">•</span><span style=\"color:black;\">r</span><span style=\"color:black;\">a</span><span style=\"color:black;\">n</span><span style=\"color:black;\">g</span><span style=\"color:black;\">e</span><span style=\"color:black;\">(</span><span style=\"color:black;\">3</span><span style=\"color:black;\">)</span><span style=\"color:black;\">:</span><span style=\"color:lightgrey;\">↵\n",
       "</span><span style=\"color:lightgrey;\">•</span><span style=\"color:lightgrey;\">•</span><span style=\"color:lightgrey;\">•</span><span style=\"color:lightgrey;\">•</span><span style=\"color:black;\">p</span><span style=\"color:black;\">r</span><span style=\"color:black;\">i</span><span style=\"color:black;\">n</span><span style=\"color:black;\">t</span><span style=\"color:black;\">(</span><span style=\"color:black;\">l</span><span style=\"color:black;\">[</span><span style=\"color:black;\">-</span><span style=\"color:black;\">1</span><span style=\"color:lightgrey;\">•</span><span style=\"color:black;\">*</span><span style=\"color:lightgrey;\">•</span><span style=\"color:red;\">[</span><span style=\"color:black;\">i</span><span style=\"color:black;\">+</span><span style=\"color:black;\">1</span><span style=\"color:red;\">]</span><span style=\"color:black;\">]</span><span style=\"color:black;\">)</span></pre>"
      ],
      "text/plain": [
       "<IPython.core.display.HTML object>"
      ]
     },
     "metadata": {},
     "output_type": "display_data"
    },
    {
     "data": {
      "text/html": [
       "<h2>The source code that is accepted:\n",
       "</h2>"
      ],
      "text/plain": [
       "<IPython.core.display.HTML object>"
      ]
     },
     "metadata": {},
     "output_type": "display_data"
    },
    {
     "data": {
      "text/html": [
       "<pre><span style=\"color:black;\">l</span><span style=\"color:lightgrey;\">•</span><span style=\"color:black;\">=</span><span style=\"color:lightgrey;\">•</span><span style=\"color:black;\">[</span><span style=\"color:black;\">]</span><span style=\"color:lightgrey;\">↵\n",
       "</span><span style=\"color:lightgrey;\">↵\n",
       "</span><span style=\"color:black;\">f</span><span style=\"color:black;\">o</span><span style=\"color:black;\">r</span><span style=\"color:lightgrey;\">•</span><span style=\"color:black;\">i</span><span style=\"color:lightgrey;\">•</span><span style=\"color:black;\">i</span><span style=\"color:black;\">n</span><span style=\"color:lightgrey;\">•</span><span style=\"color:black;\">r</span><span style=\"color:black;\">a</span><span style=\"color:black;\">n</span><span style=\"color:black;\">g</span><span style=\"color:black;\">e</span><span style=\"color:black;\">(</span><span style=\"color:black;\">1</span><span style=\"color:black;\">0</span><span style=\"color:black;\">)</span><span style=\"color:black;\">:</span><span style=\"color:lightgrey;\">↵\n",
       "</span><span style=\"color:lightgrey;\">•</span><span style=\"color:lightgrey;\">•</span><span style=\"color:lightgrey;\">•</span><span style=\"color:lightgrey;\">•</span><span style=\"color:black;\">l</span><span style=\"color:black;\">.</span><span style=\"color:black;\">a</span><span style=\"color:black;\">p</span><span style=\"color:black;\">p</span><span style=\"color:black;\">e</span><span style=\"color:black;\">n</span><span style=\"color:black;\">d</span><span style=\"color:black;\">(</span><span style=\"color:black;\">i</span><span style=\"color:black;\">n</span><span style=\"color:black;\">t</span><span style=\"color:black;\">(</span><span style=\"color:black;\">i</span><span style=\"color:black;\">n</span><span style=\"color:black;\">p</span><span style=\"color:black;\">u</span><span style=\"color:black;\">t</span><span style=\"color:black;\">(</span><span style=\"color:black;\">)</span><span style=\"color:black;\">)</span><span style=\"color:black;\">)</span><span style=\"color:lightgrey;\">↵\n",
       "</span><span style=\"color:lightgrey;\">↵\n",
       "</span><span style=\"color:black;\">l</span><span style=\"color:black;\">.</span><span style=\"color:black;\">s</span><span style=\"color:black;\">o</span><span style=\"color:black;\">r</span><span style=\"color:black;\">t</span><span style=\"color:black;\">(</span><span style=\"color:black;\">)</span><span style=\"color:lightgrey;\">↵\n",
       "</span><span style=\"color:lightgrey;\">↵\n",
       "</span><span style=\"color:black;\">f</span><span style=\"color:black;\">o</span><span style=\"color:black;\">r</span><span style=\"color:lightgrey;\">•</span><span style=\"color:black;\">i</span><span style=\"color:lightgrey;\">•</span><span style=\"color:black;\">i</span><span style=\"color:black;\">n</span><span style=\"color:lightgrey;\">•</span><span style=\"color:black;\">r</span><span style=\"color:black;\">a</span><span style=\"color:black;\">n</span><span style=\"color:black;\">g</span><span style=\"color:black;\">e</span><span style=\"color:black;\">(</span><span style=\"color:black;\">3</span><span style=\"color:black;\">)</span><span style=\"color:black;\">:</span><span style=\"color:lightgrey;\">↵\n",
       "</span><span style=\"color:lightgrey;\">•</span><span style=\"color:lightgrey;\">•</span><span style=\"color:lightgrey;\">•</span><span style=\"color:lightgrey;\">•</span><span style=\"color:black;\">p</span><span style=\"color:black;\">r</span><span style=\"color:black;\">i</span><span style=\"color:black;\">n</span><span style=\"color:black;\">t</span><span style=\"color:black;\">(</span><span style=\"color:black;\">l</span><span style=\"color:black;\">[</span><span style=\"color:black;\">-</span><span style=\"color:black;\">1</span><span style=\"color:lightgrey;\">•</span><span style=\"color:black;\">*</span><span style=\"color:lightgrey;\">•</span><span style=\"color:blue;\">(</span><span style=\"color:black;\">i</span><span style=\"color:black;\">+</span><span style=\"color:black;\">1</span><span style=\"color:blue;\">)</span><span style=\"color:black;\">]</span><span style=\"color:black;\">)</span></pre>"
      ],
      "text/plain": [
       "<IPython.core.display.HTML object>"
      ]
     },
     "metadata": {},
     "output_type": "display_data"
    },
    {
     "data": {
      "text/html": [
       "<h2>The bug that should be assigned to the original_src:\n",
       "</h2>"
      ],
      "text/plain": [
       "<IPython.core.display.HTML object>"
      ]
     },
     "metadata": {},
     "output_type": "display_data"
    },
    {
     "data": {
      "text/html": [
       "<pre>TypeError: list indices must be integers or slices, not list</pre>"
      ],
      "text/plain": [
       "<IPython.core.display.HTML object>"
      ]
     },
     "metadata": {},
     "output_type": "display_data"
    },
    {
     "data": {
      "text/html": [
       "<h1>Example 33</h1>"
      ],
      "text/plain": [
       "<IPython.core.display.HTML object>"
      ]
     },
     "metadata": {},
     "output_type": "display_data"
    },
    {
     "data": {
      "text/html": [
       "<h2>The source code that is buggy:\n",
       "</h2>"
      ],
      "text/plain": [
       "<IPython.core.display.HTML object>"
      ]
     },
     "metadata": {},
     "output_type": "display_data"
    },
    {
     "data": {
      "text/html": [
       "<pre><span style=\"color:red;\">N</span><span style=\"color:red;\">•</span><span style=\"color:red;\">=</span><span style=\"color:red;\">•</span><span style=\"color:red;\">i</span><span style=\"color:red;\">n</span><span style=\"color:red;\">p</span><span style=\"color:red;\">u</span><span style=\"color:red;\">t</span><span style=\"color:red;\">(</span><span style=\"color:red;\">)</span><span style=\"color:red;\">↵\n",
       "</span><span style=\"color:black;\">a</span><span style=\"color:lightgrey;\">•</span><span style=\"color:black;\">=</span><span style=\"color:lightgrey;\">•</span><span style=\"color:black;\">[</span><span style=\"color:black;\">i</span><span style=\"color:black;\">n</span><span style=\"color:black;\">p</span><span style=\"color:black;\">u</span><span style=\"color:black;\">t</span><span style=\"color:black;\">(</span><span style=\"color:black;\">)</span><span style=\"color:lightgrey;\">•</span><span style=\"color:black;\">f</span><span style=\"color:black;\">o</span><span style=\"color:black;\">r</span><span style=\"color:lightgrey;\">•</span><span style=\"color:black;\">i</span><span style=\"color:lightgrey;\">•</span><span style=\"color:black;\">i</span><span style=\"color:black;\">n</span><span style=\"color:lightgrey;\">•</span><span style=\"color:black;\">r</span><span style=\"color:black;\">a</span><span style=\"color:black;\">n</span><span style=\"color:black;\">g</span><span style=\"color:black;\">e</span><span style=\"color:black;\">(</span><span style=\"color:red;\">N</span><span style=\"color:black;\">)</span><span style=\"color:black;\">]</span><span style=\"color:lightgrey;\">↵\n",
       "</span><span style=\"color:black;\">a</span><span style=\"color:black;\">.</span><span style=\"color:black;\">s</span><span style=\"color:black;\">o</span><span style=\"color:black;\">r</span><span style=\"color:black;\">t</span><span style=\"color:black;\">(</span><span style=\"color:red;\">)</span><span style=\"color:lightgrey;\">↵\n",
       "</span><span style=\"color:black;\">p</span><span style=\"color:black;\">r</span><span style=\"color:black;\">i</span><span style=\"color:black;\">n</span><span style=\"color:black;\">t</span><span style=\"color:lightgrey;\">•</span><span style=\"color:black;\">a</span><span style=\"color:black;\">[</span><span style=\"color:black;\">0</span><span style=\"color:black;\">]</span><span style=\"color:red;\">,</span><span style=\"color:black;\">a</span><span style=\"color:black;\">[</span><span style=\"color:black;\">1</span><span style=\"color:black;\">]</span><span style=\"color:red;\">,</span><span style=\"color:black;\">a</span><span style=\"color:black;\">[</span><span style=\"color:red;\">3</span><span style=\"color:black;\">]</span></pre>"
      ],
      "text/plain": [
       "<IPython.core.display.HTML object>"
      ]
     },
     "metadata": {},
     "output_type": "display_data"
    },
    {
     "data": {
      "text/html": [
       "<h2>The source code that is accepted:\n",
       "</h2>"
      ],
      "text/plain": [
       "<IPython.core.display.HTML object>"
      ]
     },
     "metadata": {},
     "output_type": "display_data"
    },
    {
     "data": {
      "text/html": [
       "<pre><span style=\"color:black;\">a</span><span style=\"color:lightgrey;\">•</span><span style=\"color:black;\">=</span><span style=\"color:lightgrey;\">•</span><span style=\"color:black;\">[</span><span style=\"color:black;\">i</span><span style=\"color:black;\">n</span><span style=\"color:black;\">p</span><span style=\"color:black;\">u</span><span style=\"color:black;\">t</span><span style=\"color:black;\">(</span><span style=\"color:black;\">)</span><span style=\"color:lightgrey;\">•</span><span style=\"color:black;\">f</span><span style=\"color:black;\">o</span><span style=\"color:black;\">r</span><span style=\"color:lightgrey;\">•</span><span style=\"color:black;\">i</span><span style=\"color:lightgrey;\">•</span><span style=\"color:black;\">i</span><span style=\"color:black;\">n</span><span style=\"color:lightgrey;\">•</span><span style=\"color:black;\">r</span><span style=\"color:black;\">a</span><span style=\"color:black;\">n</span><span style=\"color:black;\">g</span><span style=\"color:black;\">e</span><span style=\"color:black;\">(</span><span style=\"color:blue;\">1</span><span style=\"color:blue;\">0</span><span style=\"color:black;\">)</span><span style=\"color:black;\">]</span><span style=\"color:lightgrey;\">↵\n",
       "</span><span style=\"color:black;\">a</span><span style=\"color:black;\">.</span><span style=\"color:black;\">s</span><span style=\"color:black;\">o</span><span style=\"color:black;\">r</span><span style=\"color:black;\">t</span><span style=\"color:black;\">(</span><span style=\"color:blue;\">r</span><span style=\"color:blue;\">e</span><span style=\"color:blue;\">v</span><span style=\"color:blue;\">e</span><span style=\"color:blue;\">r</span><span style=\"color:blue;\">s</span><span style=\"color:blue;\">e</span><span style=\"color:blue;\">=</span><span style=\"color:blue;\">T</span><span style=\"color:blue;\">r</span><span style=\"color:blue;\">u</span><span style=\"color:blue;\">e</span><span style=\"color:blue;\">)</span><span style=\"color:lightgrey;\">↵\n",
       "</span><span style=\"color:black;\">p</span><span style=\"color:black;\">r</span><span style=\"color:black;\">i</span><span style=\"color:black;\">n</span><span style=\"color:black;\">t</span><span style=\"color:lightgrey;\">•</span><span style=\"color:black;\">a</span><span style=\"color:black;\">[</span><span style=\"color:black;\">0</span><span style=\"color:black;\">]</span><span style=\"color:blue;\">↵\n",
       "</span><span style=\"color:blue;\">p</span><span style=\"color:blue;\">r</span><span style=\"color:blue;\">i</span><span style=\"color:blue;\">n</span><span style=\"color:blue;\">t</span><span style=\"color:blue;\">•</span><span style=\"color:black;\">a</span><span style=\"color:black;\">[</span><span style=\"color:black;\">1</span><span style=\"color:black;\">]</span><span style=\"color:blue;\">↵\n",
       "</span><span style=\"color:blue;\">p</span><span style=\"color:blue;\">r</span><span style=\"color:blue;\">i</span><span style=\"color:blue;\">n</span><span style=\"color:blue;\">t</span><span style=\"color:blue;\">•</span><span style=\"color:black;\">a</span><span style=\"color:black;\">[</span><span style=\"color:blue;\">2</span><span style=\"color:black;\">]</span></pre>"
      ],
      "text/plain": [
       "<IPython.core.display.HTML object>"
      ]
     },
     "metadata": {},
     "output_type": "display_data"
    },
    {
     "data": {
      "text/html": [
       "<h2>The bug that should be assigned to the original_src:\n",
       "</h2>"
      ],
      "text/plain": [
       "<IPython.core.display.HTML object>"
      ]
     },
     "metadata": {},
     "output_type": "display_data"
    },
    {
     "data": {
      "text/html": [
       "<pre>SyntaxError: Missing parentheses in call to 'print'. Did you mean print(a[0],a[1],a[3])?</pre>"
      ],
      "text/plain": [
       "<IPython.core.display.HTML object>"
      ]
     },
     "metadata": {},
     "output_type": "display_data"
    },
    {
     "data": {
      "text/html": [
       "<h1>Example 34</h1>"
      ],
      "text/plain": [
       "<IPython.core.display.HTML object>"
      ]
     },
     "metadata": {},
     "output_type": "display_data"
    },
    {
     "data": {
      "text/html": [
       "<h2>The source code that is buggy:\n",
       "</h2>"
      ],
      "text/plain": [
       "<IPython.core.display.HTML object>"
      ]
     },
     "metadata": {},
     "output_type": "display_data"
    },
    {
     "data": {
      "text/html": [
       "<pre><span style=\"color:red;\">n</span><span style=\"color:lightgrey;\">•</span><span style=\"color:red;\">=</span><span style=\"color:lightgrey;\">•</span><span style=\"color:red;\">m</span><span style=\"color:black;\">a</span><span style=\"color:black;\">p</span><span style=\"color:red;\">(</span><span style=\"color:black;\">i</span><span style=\"color:black;\">n</span><span style=\"color:black;\">t</span><span style=\"color:red;\">,</span><span style=\"color:red;\">•</span><span style=\"color:black;\">r</span><span style=\"color:black;\">a</span><span style=\"color:black;\">w</span><span style=\"color:black;\">_</span><span style=\"color:black;\">i</span><span style=\"color:black;\">n</span><span style=\"color:black;\">p</span><span style=\"color:black;\">u</span><span style=\"color:black;\">t</span><span style=\"color:black;\">(</span><span style=\"color:black;\">)</span><span style=\"color:red;\">.</span><span style=\"color:red;\">s</span><span style=\"color:red;\">p</span><span style=\"color:red;\">l</span><span style=\"color:red;\">i</span><span style=\"color:red;\">t</span><span style=\"color:red;\">(</span><span style=\"color:black;\">)</span><span style=\"color:black;\">)</span><span style=\"color:lightgrey;\">↵\n",
       "</span><span style=\"color:red;\">s</span><span style=\"color:black;\">o</span><span style=\"color:black;\">r</span><span style=\"color:black;\">t</span><span style=\"color:black;\">e</span><span style=\"color:black;\">d</span><span style=\"color:black;\">(</span><span style=\"color:black;\">n</span><span style=\"color:red;\">)</span><span style=\"color:black;\">,</span><span style=\"color:black;\">r</span><span style=\"color:black;\">e</span><span style=\"color:black;\">v</span><span style=\"color:black;\">e</span><span style=\"color:black;\">r</span><span style=\"color:black;\">s</span><span style=\"color:black;\">e</span><span style=\"color:black;\">=</span><span style=\"color:black;\">T</span><span style=\"color:black;\">r</span><span style=\"color:black;\">u</span><span style=\"color:black;\">e</span><span style=\"color:black;\">)</span><span style=\"color:black;\">[</span><span style=\"color:black;\">:</span><span style=\"color:black;\">3</span><span style=\"color:black;\">]</span></pre>"
      ],
      "text/plain": [
       "<IPython.core.display.HTML object>"
      ]
     },
     "metadata": {},
     "output_type": "display_data"
    },
    {
     "data": {
      "text/html": [
       "<h2>The source code that is accepted:\n",
       "</h2>"
      ],
      "text/plain": [
       "<IPython.core.display.HTML object>"
      ]
     },
     "metadata": {},
     "output_type": "display_data"
    },
    {
     "data": {
      "text/html": [
       "<pre><span style=\"color:blue;\">n</span><span style=\"color:blue;\">=</span><span style=\"color:blue;\">[</span><span style=\"color:blue;\">]</span><span style=\"color:blue;\">↵\n",
       "</span><span style=\"color:blue;\">f</span><span style=\"color:blue;\">o</span><span style=\"color:blue;\">r</span><span style=\"color:blue;\">•</span><span style=\"color:blue;\">i</span><span style=\"color:blue;\">•</span><span style=\"color:blue;\">i</span><span style=\"color:blue;\">n</span><span style=\"color:lightgrey;\">•</span><span style=\"color:blue;\">r</span><span style=\"color:blue;\">a</span><span style=\"color:blue;\">n</span><span style=\"color:blue;\">g</span><span style=\"color:blue;\">e</span><span style=\"color:blue;\">(</span><span style=\"color:blue;\">0</span><span style=\"color:blue;\">,</span><span style=\"color:lightgrey;\">•</span><span style=\"color:blue;\">1</span><span style=\"color:blue;\">0</span><span style=\"color:blue;\">)</span><span style=\"color:blue;\">:</span><span style=\"color:blue;\">↵\n",
       "</span><span style=\"color:blue;\">•</span><span style=\"color:blue;\">•</span><span style=\"color:blue;\">•</span><span style=\"color:blue;\">•</span><span style=\"color:blue;\">n</span><span style=\"color:blue;\">.</span><span style=\"color:black;\">a</span><span style=\"color:black;\">p</span><span style=\"color:blue;\">p</span><span style=\"color:blue;\">e</span><span style=\"color:blue;\">n</span><span style=\"color:blue;\">d</span><span style=\"color:blue;\">(</span><span style=\"color:black;\">i</span><span style=\"color:black;\">n</span><span style=\"color:black;\">t</span><span style=\"color:blue;\">(</span><span style=\"color:black;\">r</span><span style=\"color:black;\">a</span><span style=\"color:black;\">w</span><span style=\"color:black;\">_</span><span style=\"color:black;\">i</span><span style=\"color:black;\">n</span><span style=\"color:black;\">p</span><span style=\"color:black;\">u</span><span style=\"color:black;\">t</span><span style=\"color:black;\">(</span><span style=\"color:black;\">)</span><span style=\"color:black;\">)</span><span style=\"color:black;\">)</span><span style=\"color:lightgrey;\">↵\n",
       "</span><span style=\"color:blue;\">f</span><span style=\"color:blue;\">o</span><span style=\"color:blue;\">r</span><span style=\"color:blue;\">•</span><span style=\"color:blue;\">i</span><span style=\"color:blue;\">•</span><span style=\"color:blue;\">i</span><span style=\"color:blue;\">n</span><span style=\"color:blue;\">•</span><span style=\"color:blue;\">s</span><span style=\"color:black;\">o</span><span style=\"color:black;\">r</span><span style=\"color:black;\">t</span><span style=\"color:black;\">e</span><span style=\"color:black;\">d</span><span style=\"color:black;\">(</span><span style=\"color:black;\">n</span><span style=\"color:black;\">,</span><span style=\"color:black;\">r</span><span style=\"color:black;\">e</span><span style=\"color:black;\">v</span><span style=\"color:black;\">e</span><span style=\"color:black;\">r</span><span style=\"color:black;\">s</span><span style=\"color:black;\">e</span><span style=\"color:black;\">=</span><span style=\"color:black;\">T</span><span style=\"color:black;\">r</span><span style=\"color:black;\">u</span><span style=\"color:black;\">e</span><span style=\"color:black;\">)</span><span style=\"color:black;\">[</span><span style=\"color:black;\">:</span><span style=\"color:black;\">3</span><span style=\"color:black;\">]</span><span style=\"color:blue;\">:</span><span style=\"color:blue;\">↵\n",
       "</span><span style=\"color:blue;\">•</span><span style=\"color:blue;\">•</span><span style=\"color:blue;\">•</span><span style=\"color:blue;\">•</span><span style=\"color:blue;\">p</span><span style=\"color:blue;\">r</span><span style=\"color:blue;\">i</span><span style=\"color:blue;\">n</span><span style=\"color:blue;\">t</span><span style=\"color:blue;\">•</span><span style=\"color:blue;\">i</span></pre>"
      ],
      "text/plain": [
       "<IPython.core.display.HTML object>"
      ]
     },
     "metadata": {},
     "output_type": "display_data"
    },
    {
     "data": {
      "text/html": [
       "<h2>The bug that should be assigned to the original_src:\n",
       "</h2>"
      ],
      "text/plain": [
       "<IPython.core.display.HTML object>"
      ]
     },
     "metadata": {},
     "output_type": "display_data"
    },
    {
     "data": {
      "text/html": [
       "<pre>SyntaxError: cannot assign to function call</pre>"
      ],
      "text/plain": [
       "<IPython.core.display.HTML object>"
      ]
     },
     "metadata": {},
     "output_type": "display_data"
    },
    {
     "data": {
      "text/html": [
       "<h1>Example 35</h1>"
      ],
      "text/plain": [
       "<IPython.core.display.HTML object>"
      ]
     },
     "metadata": {},
     "output_type": "display_data"
    },
    {
     "data": {
      "text/html": [
       "<h2>The source code that is buggy:\n",
       "</h2>"
      ],
      "text/plain": [
       "<IPython.core.display.HTML object>"
      ]
     },
     "metadata": {},
     "output_type": "display_data"
    },
    {
     "data": {
      "text/html": [
       "<pre><span style=\"color:black;\">m</span><span style=\"color:black;\">t</span><span style=\"color:lightgrey;\">•</span><span style=\"color:black;\">=</span><span style=\"color:lightgrey;\">•</span><span style=\"color:black;\">[</span><span style=\"color:black;\">]</span><span style=\"color:lightgrey;\">↵\n",
       "</span><span style=\"color:lightgrey;\">↵\n",
       "</span><span style=\"color:black;\">f</span><span style=\"color:black;\">o</span><span style=\"color:black;\">r</span><span style=\"color:lightgrey;\">•</span><span style=\"color:black;\">i</span><span style=\"color:lightgrey;\">•</span><span style=\"color:black;\">i</span><span style=\"color:black;\">n</span><span style=\"color:lightgrey;\">•</span><span style=\"color:black;\">r</span><span style=\"color:black;\">a</span><span style=\"color:black;\">n</span><span style=\"color:black;\">g</span><span style=\"color:black;\">e</span><span style=\"color:black;\">(</span><span style=\"color:black;\">1</span><span style=\"color:black;\">0</span><span style=\"color:black;\">)</span><span style=\"color:black;\">:</span><span style=\"color:lightgrey;\">↵\n",
       "</span><span style=\"color:lightgrey;\">•</span><span style=\"color:lightgrey;\">•</span><span style=\"color:lightgrey;\">•</span><span style=\"color:lightgrey;\">•</span><span style=\"color:lightgrey;\">•</span><span style=\"color:lightgrey;\">•</span><span style=\"color:lightgrey;\">•</span><span style=\"color:lightgrey;\">•</span><span style=\"color:black;\">m</span><span style=\"color:black;\">t</span><span style=\"color:black;\">.</span><span style=\"color:black;\">a</span><span style=\"color:black;\">p</span><span style=\"color:black;\">p</span><span style=\"color:black;\">e</span><span style=\"color:black;\">n</span><span style=\"color:black;\">d</span><span style=\"color:black;\">(</span><span style=\"color:black;\">i</span><span style=\"color:black;\">n</span><span style=\"color:black;\">t</span><span style=\"color:black;\">(</span><span style=\"color:black;\">i</span><span style=\"color:black;\">n</span><span style=\"color:black;\">p</span><span style=\"color:black;\">u</span><span style=\"color:black;\">t</span><span style=\"color:black;\">(</span><span style=\"color:black;\">)</span><span style=\"color:red;\">.</span><span style=\"color:red;\">s</span><span style=\"color:red;\">t</span><span style=\"color:red;\">r</span><span style=\"color:red;\">i</span><span style=\"color:red;\">p</span><span style=\"color:red;\">(</span><span style=\"color:red;\">)</span><span style=\"color:black;\">)</span><span style=\"color:black;\">)</span><span style=\"color:lightgrey;\">↵\n",
       "</span><span style=\"color:lightgrey;\">↵\n",
       "</span><span style=\"color:black;\">m</span><span style=\"color:black;\">t</span><span style=\"color:black;\">.</span><span style=\"color:black;\">s</span><span style=\"color:black;\">o</span><span style=\"color:black;\">r</span><span style=\"color:black;\">t</span><span style=\"color:black;\">(</span><span style=\"color:black;\">)</span><span style=\"color:red;\">.</span><span style=\"color:red;\">r</span><span style=\"color:red;\">e</span><span style=\"color:red;\">v</span><span style=\"color:red;\">e</span><span style=\"color:red;\">r</span><span style=\"color:red;\">s</span><span style=\"color:red;\">e</span><span style=\"color:red;\">(</span><span style=\"color:red;\">)</span><span style=\"color:red;\">↵\n",
       "</span><span style=\"color:lightgrey;\">↵\n",
       "</span><span style=\"color:black;\">p</span><span style=\"color:black;\">r</span><span style=\"color:black;\">i</span><span style=\"color:black;\">n</span><span style=\"color:black;\">t</span><span style=\"color:black;\">(</span><span style=\"color:lightgrey;\">•</span><span style=\"color:black;\">m</span><span style=\"color:black;\">t</span><span style=\"color:black;\">[</span><span style=\"color:red;\">0</span><span style=\"color:black;\">]</span><span style=\"color:lightgrey;\">•</span><span style=\"color:black;\">)</span><span style=\"color:lightgrey;\">↵\n",
       "</span><span style=\"color:black;\">p</span><span style=\"color:black;\">r</span><span style=\"color:black;\">i</span><span style=\"color:black;\">n</span><span style=\"color:black;\">t</span><span style=\"color:black;\">(</span><span style=\"color:lightgrey;\">•</span><span style=\"color:black;\">m</span><span style=\"color:black;\">t</span><span style=\"color:black;\">[</span><span style=\"color:red;\">1</span><span style=\"color:black;\">]</span><span style=\"color:lightgrey;\">•</span><span style=\"color:black;\">)</span><span style=\"color:lightgrey;\">↵\n",
       "</span><span style=\"color:black;\">p</span><span style=\"color:black;\">r</span><span style=\"color:black;\">i</span><span style=\"color:black;\">n</span><span style=\"color:black;\">t</span><span style=\"color:black;\">(</span><span style=\"color:lightgrey;\">•</span><span style=\"color:black;\">m</span><span style=\"color:black;\">t</span><span style=\"color:black;\">[</span><span style=\"color:red;\">2</span><span style=\"color:black;\">]</span><span style=\"color:lightgrey;\">•</span><span style=\"color:black;\">)</span></pre>"
      ],
      "text/plain": [
       "<IPython.core.display.HTML object>"
      ]
     },
     "metadata": {},
     "output_type": "display_data"
    },
    {
     "data": {
      "text/html": [
       "<h2>The source code that is accepted:\n",
       "</h2>"
      ],
      "text/plain": [
       "<IPython.core.display.HTML object>"
      ]
     },
     "metadata": {},
     "output_type": "display_data"
    },
    {
     "data": {
      "text/html": [
       "<pre><span style=\"color:black;\">m</span><span style=\"color:black;\">t</span><span style=\"color:lightgrey;\">•</span><span style=\"color:black;\">=</span><span style=\"color:lightgrey;\">•</span><span style=\"color:black;\">[</span><span style=\"color:black;\">]</span><span style=\"color:lightgrey;\">↵\n",
       "</span><span style=\"color:lightgrey;\">↵\n",
       "</span><span style=\"color:black;\">f</span><span style=\"color:black;\">o</span><span style=\"color:black;\">r</span><span style=\"color:lightgrey;\">•</span><span style=\"color:black;\">i</span><span style=\"color:lightgrey;\">•</span><span style=\"color:black;\">i</span><span style=\"color:black;\">n</span><span style=\"color:lightgrey;\">•</span><span style=\"color:black;\">r</span><span style=\"color:black;\">a</span><span style=\"color:black;\">n</span><span style=\"color:black;\">g</span><span style=\"color:black;\">e</span><span style=\"color:black;\">(</span><span style=\"color:black;\">1</span><span style=\"color:black;\">0</span><span style=\"color:black;\">)</span><span style=\"color:black;\">:</span><span style=\"color:lightgrey;\">↵\n",
       "</span><span style=\"color:lightgrey;\">•</span><span style=\"color:lightgrey;\">•</span><span style=\"color:lightgrey;\">•</span><span style=\"color:lightgrey;\">•</span><span style=\"color:lightgrey;\">•</span><span style=\"color:lightgrey;\">•</span><span style=\"color:lightgrey;\">•</span><span style=\"color:lightgrey;\">•</span><span style=\"color:black;\">m</span><span style=\"color:black;\">t</span><span style=\"color:black;\">.</span><span style=\"color:black;\">a</span><span style=\"color:black;\">p</span><span style=\"color:black;\">p</span><span style=\"color:black;\">e</span><span style=\"color:black;\">n</span><span style=\"color:black;\">d</span><span style=\"color:black;\">(</span><span style=\"color:black;\">i</span><span style=\"color:black;\">n</span><span style=\"color:black;\">t</span><span style=\"color:black;\">(</span><span style=\"color:black;\">i</span><span style=\"color:black;\">n</span><span style=\"color:black;\">p</span><span style=\"color:black;\">u</span><span style=\"color:black;\">t</span><span style=\"color:black;\">(</span><span style=\"color:black;\">)</span><span style=\"color:black;\">)</span><span style=\"color:black;\">)</span><span style=\"color:lightgrey;\">↵\n",
       "</span><span style=\"color:lightgrey;\">↵\n",
       "</span><span style=\"color:black;\">m</span><span style=\"color:black;\">t</span><span style=\"color:black;\">.</span><span style=\"color:black;\">s</span><span style=\"color:black;\">o</span><span style=\"color:black;\">r</span><span style=\"color:black;\">t</span><span style=\"color:black;\">(</span><span style=\"color:black;\">)</span><span style=\"color:lightgrey;\">↵\n",
       "</span><span style=\"color:black;\">p</span><span style=\"color:black;\">r</span><span style=\"color:black;\">i</span><span style=\"color:black;\">n</span><span style=\"color:black;\">t</span><span style=\"color:black;\">(</span><span style=\"color:lightgrey;\">•</span><span style=\"color:black;\">m</span><span style=\"color:black;\">t</span><span style=\"color:black;\">[</span><span style=\"color:blue;\">9</span><span style=\"color:black;\">]</span><span style=\"color:lightgrey;\">•</span><span style=\"color:black;\">)</span><span style=\"color:lightgrey;\">↵\n",
       "</span><span style=\"color:black;\">p</span><span style=\"color:black;\">r</span><span style=\"color:black;\">i</span><span style=\"color:black;\">n</span><span style=\"color:black;\">t</span><span style=\"color:black;\">(</span><span style=\"color:lightgrey;\">•</span><span style=\"color:black;\">m</span><span style=\"color:black;\">t</span><span style=\"color:black;\">[</span><span style=\"color:blue;\">8</span><span style=\"color:black;\">]</span><span style=\"color:lightgrey;\">•</span><span style=\"color:black;\">)</span><span style=\"color:lightgrey;\">↵\n",
       "</span><span style=\"color:black;\">p</span><span style=\"color:black;\">r</span><span style=\"color:black;\">i</span><span style=\"color:black;\">n</span><span style=\"color:black;\">t</span><span style=\"color:black;\">(</span><span style=\"color:lightgrey;\">•</span><span style=\"color:black;\">m</span><span style=\"color:black;\">t</span><span style=\"color:black;\">[</span><span style=\"color:blue;\">7</span><span style=\"color:black;\">]</span><span style=\"color:lightgrey;\">•</span><span style=\"color:black;\">)</span></pre>"
      ],
      "text/plain": [
       "<IPython.core.display.HTML object>"
      ]
     },
     "metadata": {},
     "output_type": "display_data"
    },
    {
     "data": {
      "text/html": [
       "<h2>The bug that should be assigned to the original_src:\n",
       "</h2>"
      ],
      "text/plain": [
       "<IPython.core.display.HTML object>"
      ]
     },
     "metadata": {},
     "output_type": "display_data"
    },
    {
     "data": {
      "text/html": [
       "<pre>AttributeError: 'NoneType' object has no attribute 'reverse'</pre>"
      ],
      "text/plain": [
       "<IPython.core.display.HTML object>"
      ]
     },
     "metadata": {},
     "output_type": "display_data"
    },
    {
     "data": {
      "text/html": [
       "<h1>Example 36</h1>"
      ],
      "text/plain": [
       "<IPython.core.display.HTML object>"
      ]
     },
     "metadata": {},
     "output_type": "display_data"
    },
    {
     "data": {
      "text/html": [
       "<h2>The source code that is buggy:\n",
       "</h2>"
      ],
      "text/plain": [
       "<IPython.core.display.HTML object>"
      ]
     },
     "metadata": {},
     "output_type": "display_data"
    },
    {
     "data": {
      "text/html": [
       "<pre><span style=\"color:black;\">i</span><span style=\"color:red;\">n</span><span style=\"color:black;\">p</span><span style=\"color:red;\">•</span><span style=\"color:red;\">=</span><span style=\"color:red;\">•</span><span style=\"color:red;\">i</span><span style=\"color:red;\">n</span><span style=\"color:red;\">p</span><span style=\"color:red;\">u</span><span style=\"color:red;\">t</span><span style=\"color:red;\">(</span><span style=\"color:red;\">)</span><span style=\"color:lightgrey;\">↵\n",
       "</span><span style=\"color:black;\">a</span><span style=\"color:lightgrey;\">•</span><span style=\"color:black;\">=</span><span style=\"color:lightgrey;\">•</span><span style=\"color:black;\">[</span><span style=\"color:red;\">i</span><span style=\"color:red;\">n</span><span style=\"color:red;\">p</span><span style=\"color:red;\">u</span><span style=\"color:red;\">t</span><span style=\"color:red;\">(</span><span style=\"color:red;\">)</span><span style=\"color:red;\">•</span><span style=\"color:black;\">f</span><span style=\"color:black;\">o</span><span style=\"color:black;\">r</span><span style=\"color:lightgrey;\">•</span><span style=\"color:red;\">i</span><span style=\"color:red;\">•</span><span style=\"color:black;\">i</span><span style=\"color:black;\">n</span><span style=\"color:lightgrey;\">•</span><span style=\"color:red;\">r</span><span style=\"color:black;\">a</span><span style=\"color:red;\">n</span><span style=\"color:red;\">g</span><span style=\"color:red;\">e</span><span style=\"color:black;\">(</span><span style=\"color:black;\">i</span><span style=\"color:black;\">n</span><span style=\"color:black;\">t</span><span style=\"color:black;\">(</span><span style=\"color:red;\">i</span><span style=\"color:black;\">n</span><span style=\"color:red;\">p</span><span style=\"color:black;\">)</span><span style=\"color:black;\">)</span><span style=\"color:red;\">]</span><span style=\"color:lightgrey;\">↵\n",
       "</span><span style=\"color:black;\">a</span><span style=\"color:black;\">.</span><span style=\"color:black;\">s</span><span style=\"color:black;\">o</span><span style=\"color:black;\">r</span><span style=\"color:black;\">t</span><span style=\"color:black;\">(</span><span style=\"color:black;\">)</span><span style=\"color:lightgrey;\">↵\n",
       "</span><span style=\"color:black;\">a</span><span style=\"color:black;\">.</span><span style=\"color:black;\">r</span><span style=\"color:black;\">e</span><span style=\"color:black;\">v</span><span style=\"color:black;\">e</span><span style=\"color:black;\">r</span><span style=\"color:black;\">s</span><span style=\"color:black;\">e</span><span style=\"color:black;\">(</span><span style=\"color:black;\">)</span><span style=\"color:lightgrey;\">↵\n",
       "</span><span style=\"color:black;\">p</span><span style=\"color:black;\">r</span><span style=\"color:black;\">i</span><span style=\"color:black;\">n</span><span style=\"color:black;\">t</span><span style=\"color:black;\">(</span><span style=\"color:black;\">a</span><span style=\"color:black;\">[</span><span style=\"color:black;\">0</span><span style=\"color:black;\">]</span><span style=\"color:black;\">)</span><span style=\"color:lightgrey;\">↵\n",
       "</span><span style=\"color:black;\">p</span><span style=\"color:black;\">r</span><span style=\"color:black;\">i</span><span style=\"color:black;\">n</span><span style=\"color:black;\">t</span><span style=\"color:black;\">(</span><span style=\"color:black;\">a</span><span style=\"color:black;\">[</span><span style=\"color:black;\">1</span><span style=\"color:black;\">]</span><span style=\"color:black;\">)</span><span style=\"color:lightgrey;\">↵\n",
       "</span><span style=\"color:black;\">p</span><span style=\"color:black;\">r</span><span style=\"color:black;\">i</span><span style=\"color:black;\">n</span><span style=\"color:black;\">t</span><span style=\"color:black;\">(</span><span style=\"color:black;\">a</span><span style=\"color:black;\">[</span><span style=\"color:black;\">2</span><span style=\"color:black;\">]</span><span style=\"color:black;\">)</span></pre>"
      ],
      "text/plain": [
       "<IPython.core.display.HTML object>"
      ]
     },
     "metadata": {},
     "output_type": "display_data"
    },
    {
     "data": {
      "text/html": [
       "<h2>The source code that is accepted:\n",
       "</h2>"
      ],
      "text/plain": [
       "<IPython.core.display.HTML object>"
      ]
     },
     "metadata": {},
     "output_type": "display_data"
    },
    {
     "data": {
      "text/html": [
       "<pre><span style=\"color:black;\">i</span><span style=\"color:blue;\">m</span><span style=\"color:black;\">p</span><span style=\"color:blue;\">o</span><span style=\"color:blue;\">r</span><span style=\"color:blue;\">t</span><span style=\"color:blue;\">•</span><span style=\"color:blue;\">s</span><span style=\"color:blue;\">y</span><span style=\"color:blue;\">s</span><span style=\"color:blue;\">↵\n",
       "</span><span style=\"color:lightgrey;\">↵\n",
       "</span><span style=\"color:black;\">a</span><span style=\"color:lightgrey;\">•</span><span style=\"color:black;\">=</span><span style=\"color:lightgrey;\">•</span><span style=\"color:black;\">[</span><span style=\"color:blue;\">]</span><span style=\"color:blue;\">↵\n",
       "</span><span style=\"color:black;\">f</span><span style=\"color:black;\">o</span><span style=\"color:black;\">r</span><span style=\"color:lightgrey;\">•</span><span style=\"color:blue;\">l</span><span style=\"color:blue;\">i</span><span style=\"color:blue;\">n</span><span style=\"color:blue;\">e</span><span style=\"color:blue;\">•</span><span style=\"color:black;\">i</span><span style=\"color:black;\">n</span><span style=\"color:lightgrey;\">•</span><span style=\"color:blue;\">s</span><span style=\"color:blue;\">y</span><span style=\"color:blue;\">s</span><span style=\"color:blue;\">.</span><span style=\"color:blue;\">s</span><span style=\"color:blue;\">t</span><span style=\"color:blue;\">d</span><span style=\"color:blue;\">i</span><span style=\"color:blue;\">n</span><span style=\"color:blue;\">:</span><span style=\"color:blue;\">↵\n",
       "</span><span style=\"color:blue;\">•</span><span style=\"color:blue;\">•</span><span style=\"color:blue;\">•</span><span style=\"color:blue;\">•</span><span style=\"color:black;\">a</span><span style=\"color:blue;\">.</span><span style=\"color:blue;\">a</span><span style=\"color:blue;\">p</span><span style=\"color:blue;\">p</span><span style=\"color:blue;\">e</span><span style=\"color:blue;\">n</span><span style=\"color:blue;\">d</span><span style=\"color:black;\">(</span><span style=\"color:black;\">i</span><span style=\"color:black;\">n</span><span style=\"color:black;\">t</span><span style=\"color:black;\">(</span><span style=\"color:blue;\">l</span><span style=\"color:blue;\">i</span><span style=\"color:black;\">n</span><span style=\"color:blue;\">e</span><span style=\"color:black;\">)</span><span style=\"color:black;\">)</span><span style=\"color:lightgrey;\">↵\n",
       "</span><span style=\"color:black;\">a</span><span style=\"color:black;\">.</span><span style=\"color:black;\">s</span><span style=\"color:black;\">o</span><span style=\"color:black;\">r</span><span style=\"color:black;\">t</span><span style=\"color:black;\">(</span><span style=\"color:black;\">)</span><span style=\"color:lightgrey;\">↵\n",
       "</span><span style=\"color:black;\">a</span><span style=\"color:black;\">.</span><span style=\"color:black;\">r</span><span style=\"color:black;\">e</span><span style=\"color:black;\">v</span><span style=\"color:black;\">e</span><span style=\"color:black;\">r</span><span style=\"color:black;\">s</span><span style=\"color:black;\">e</span><span style=\"color:black;\">(</span><span style=\"color:black;\">)</span><span style=\"color:lightgrey;\">↵\n",
       "</span><span style=\"color:black;\">p</span><span style=\"color:black;\">r</span><span style=\"color:black;\">i</span><span style=\"color:black;\">n</span><span style=\"color:black;\">t</span><span style=\"color:black;\">(</span><span style=\"color:black;\">a</span><span style=\"color:black;\">[</span><span style=\"color:black;\">0</span><span style=\"color:black;\">]</span><span style=\"color:black;\">)</span><span style=\"color:lightgrey;\">↵\n",
       "</span><span style=\"color:black;\">p</span><span style=\"color:black;\">r</span><span style=\"color:black;\">i</span><span style=\"color:black;\">n</span><span style=\"color:black;\">t</span><span style=\"color:black;\">(</span><span style=\"color:black;\">a</span><span style=\"color:black;\">[</span><span style=\"color:black;\">1</span><span style=\"color:black;\">]</span><span style=\"color:black;\">)</span><span style=\"color:lightgrey;\">↵\n",
       "</span><span style=\"color:black;\">p</span><span style=\"color:black;\">r</span><span style=\"color:black;\">i</span><span style=\"color:black;\">n</span><span style=\"color:black;\">t</span><span style=\"color:black;\">(</span><span style=\"color:black;\">a</span><span style=\"color:black;\">[</span><span style=\"color:black;\">2</span><span style=\"color:black;\">]</span><span style=\"color:black;\">)</span></pre>"
      ],
      "text/plain": [
       "<IPython.core.display.HTML object>"
      ]
     },
     "metadata": {},
     "output_type": "display_data"
    },
    {
     "data": {
      "text/html": [
       "<h2>The bug that should be assigned to the original_src:\n",
       "</h2>"
      ],
      "text/plain": [
       "<IPython.core.display.HTML object>"
      ]
     },
     "metadata": {},
     "output_type": "display_data"
    },
    {
     "data": {
      "text/html": [
       "<pre>EOFError: EOF when reading a line</pre>"
      ],
      "text/plain": [
       "<IPython.core.display.HTML object>"
      ]
     },
     "metadata": {},
     "output_type": "display_data"
    },
    {
     "data": {
      "text/html": [
       "<h1>Example 37</h1>"
      ],
      "text/plain": [
       "<IPython.core.display.HTML object>"
      ]
     },
     "metadata": {},
     "output_type": "display_data"
    },
    {
     "data": {
      "text/html": [
       "<h2>The source code that is buggy:\n",
       "</h2>"
      ],
      "text/plain": [
       "<IPython.core.display.HTML object>"
      ]
     },
     "metadata": {},
     "output_type": "display_data"
    },
    {
     "data": {
      "text/html": [
       "<pre><span style=\"color:black;\">m</span><span style=\"color:black;\">_</span><span style=\"color:black;\">h</span><span style=\"color:black;\">=</span><span style=\"color:black;\">[</span><span style=\"color:black;\">i</span><span style=\"color:black;\">n</span><span style=\"color:black;\">t</span><span style=\"color:black;\">(</span><span style=\"color:black;\">i</span><span style=\"color:black;\">n</span><span style=\"color:black;\">p</span><span style=\"color:black;\">u</span><span style=\"color:black;\">t</span><span style=\"color:black;\">(</span><span style=\"color:red;\">I</span><span style=\"color:black;\">)</span><span style=\"color:lightgrey;\">•</span><span style=\"color:black;\">f</span><span style=\"color:black;\">o</span><span style=\"color:black;\">r</span><span style=\"color:lightgrey;\">•</span><span style=\"color:black;\">i</span><span style=\"color:lightgrey;\">•</span><span style=\"color:black;\">i</span><span style=\"color:black;\">n</span><span style=\"color:lightgrey;\">•</span><span style=\"color:black;\">r</span><span style=\"color:black;\">a</span><span style=\"color:black;\">n</span><span style=\"color:black;\">g</span><span style=\"color:black;\">e</span><span style=\"color:black;\">(</span><span style=\"color:black;\">1</span><span style=\"color:black;\">0</span><span style=\"color:black;\">)</span><span style=\"color:black;\">]</span><span style=\"color:lightgrey;\">↵\n",
       "</span><span style=\"color:lightgrey;\">↵\n",
       "</span><span style=\"color:black;\">m</span><span style=\"color:black;\">_</span><span style=\"color:black;\">h</span><span style=\"color:black;\">.</span><span style=\"color:black;\">s</span><span style=\"color:black;\">o</span><span style=\"color:black;\">r</span><span style=\"color:black;\">t</span><span style=\"color:black;\">(</span><span style=\"color:black;\">r</span><span style=\"color:black;\">e</span><span style=\"color:black;\">v</span><span style=\"color:black;\">e</span><span style=\"color:black;\">r</span><span style=\"color:black;\">s</span><span style=\"color:black;\">e</span><span style=\"color:black;\">=</span><span style=\"color:black;\">T</span><span style=\"color:black;\">r</span><span style=\"color:black;\">u</span><span style=\"color:black;\">e</span><span style=\"color:black;\">)</span><span style=\"color:lightgrey;\">↵\n",
       "</span><span style=\"color:lightgrey;\">↵\n",
       "</span><span style=\"color:black;\">p</span><span style=\"color:black;\">r</span><span style=\"color:black;\">i</span><span style=\"color:black;\">n</span><span style=\"color:black;\">t</span><span style=\"color:black;\">(</span><span style=\"color:black;\">m</span><span style=\"color:black;\">_</span><span style=\"color:black;\">h</span><span style=\"color:black;\">[</span><span style=\"color:black;\">0</span><span style=\"color:black;\">]</span><span style=\"color:black;\">)</span><span style=\"color:lightgrey;\">↵\n",
       "</span><span style=\"color:black;\">p</span><span style=\"color:black;\">r</span><span style=\"color:black;\">i</span><span style=\"color:black;\">n</span><span style=\"color:black;\">t</span><span style=\"color:black;\">(</span><span style=\"color:black;\">m</span><span style=\"color:black;\">_</span><span style=\"color:black;\">h</span><span style=\"color:black;\">[</span><span style=\"color:black;\">1</span><span style=\"color:black;\">]</span><span style=\"color:black;\">)</span><span style=\"color:lightgrey;\">↵\n",
       "</span><span style=\"color:black;\">p</span><span style=\"color:black;\">r</span><span style=\"color:black;\">i</span><span style=\"color:black;\">n</span><span style=\"color:black;\">t</span><span style=\"color:black;\">(</span><span style=\"color:black;\">m</span><span style=\"color:black;\">_</span><span style=\"color:black;\">h</span><span style=\"color:black;\">[</span><span style=\"color:black;\">2</span><span style=\"color:black;\">]</span><span style=\"color:black;\">)</span></pre>"
      ],
      "text/plain": [
       "<IPython.core.display.HTML object>"
      ]
     },
     "metadata": {},
     "output_type": "display_data"
    },
    {
     "data": {
      "text/html": [
       "<h2>The source code that is accepted:\n",
       "</h2>"
      ],
      "text/plain": [
       "<IPython.core.display.HTML object>"
      ]
     },
     "metadata": {},
     "output_type": "display_data"
    },
    {
     "data": {
      "text/html": [
       "<pre><span style=\"color:black;\">m</span><span style=\"color:black;\">_</span><span style=\"color:black;\">h</span><span style=\"color:black;\">=</span><span style=\"color:black;\">[</span><span style=\"color:black;\">i</span><span style=\"color:black;\">n</span><span style=\"color:black;\">t</span><span style=\"color:black;\">(</span><span style=\"color:black;\">i</span><span style=\"color:black;\">n</span><span style=\"color:black;\">p</span><span style=\"color:black;\">u</span><span style=\"color:black;\">t</span><span style=\"color:black;\">(</span><span style=\"color:blue;\">)</span><span style=\"color:black;\">)</span><span style=\"color:lightgrey;\">•</span><span style=\"color:black;\">f</span><span style=\"color:black;\">o</span><span style=\"color:black;\">r</span><span style=\"color:lightgrey;\">•</span><span style=\"color:black;\">i</span><span style=\"color:lightgrey;\">•</span><span style=\"color:black;\">i</span><span style=\"color:black;\">n</span><span style=\"color:lightgrey;\">•</span><span style=\"color:black;\">r</span><span style=\"color:black;\">a</span><span style=\"color:black;\">n</span><span style=\"color:black;\">g</span><span style=\"color:black;\">e</span><span style=\"color:black;\">(</span><span style=\"color:black;\">1</span><span style=\"color:black;\">0</span><span style=\"color:black;\">)</span><span style=\"color:black;\">]</span><span style=\"color:lightgrey;\">↵\n",
       "</span><span style=\"color:lightgrey;\">↵\n",
       "</span><span style=\"color:black;\">m</span><span style=\"color:black;\">_</span><span style=\"color:black;\">h</span><span style=\"color:black;\">.</span><span style=\"color:black;\">s</span><span style=\"color:black;\">o</span><span style=\"color:black;\">r</span><span style=\"color:black;\">t</span><span style=\"color:black;\">(</span><span style=\"color:black;\">r</span><span style=\"color:black;\">e</span><span style=\"color:black;\">v</span><span style=\"color:black;\">e</span><span style=\"color:black;\">r</span><span style=\"color:black;\">s</span><span style=\"color:black;\">e</span><span style=\"color:black;\">=</span><span style=\"color:black;\">T</span><span style=\"color:black;\">r</span><span style=\"color:black;\">u</span><span style=\"color:black;\">e</span><span style=\"color:black;\">)</span><span style=\"color:lightgrey;\">↵\n",
       "</span><span style=\"color:lightgrey;\">↵\n",
       "</span><span style=\"color:black;\">p</span><span style=\"color:black;\">r</span><span style=\"color:black;\">i</span><span style=\"color:black;\">n</span><span style=\"color:black;\">t</span><span style=\"color:black;\">(</span><span style=\"color:black;\">m</span><span style=\"color:black;\">_</span><span style=\"color:black;\">h</span><span style=\"color:black;\">[</span><span style=\"color:black;\">0</span><span style=\"color:black;\">]</span><span style=\"color:black;\">)</span><span style=\"color:lightgrey;\">↵\n",
       "</span><span style=\"color:black;\">p</span><span style=\"color:black;\">r</span><span style=\"color:black;\">i</span><span style=\"color:black;\">n</span><span style=\"color:black;\">t</span><span style=\"color:black;\">(</span><span style=\"color:black;\">m</span><span style=\"color:black;\">_</span><span style=\"color:black;\">h</span><span style=\"color:black;\">[</span><span style=\"color:black;\">1</span><span style=\"color:black;\">]</span><span style=\"color:black;\">)</span><span style=\"color:lightgrey;\">↵\n",
       "</span><span style=\"color:black;\">p</span><span style=\"color:black;\">r</span><span style=\"color:black;\">i</span><span style=\"color:black;\">n</span><span style=\"color:black;\">t</span><span style=\"color:black;\">(</span><span style=\"color:black;\">m</span><span style=\"color:black;\">_</span><span style=\"color:black;\">h</span><span style=\"color:black;\">[</span><span style=\"color:black;\">2</span><span style=\"color:black;\">]</span><span style=\"color:black;\">)</span></pre>"
      ],
      "text/plain": [
       "<IPython.core.display.HTML object>"
      ]
     },
     "metadata": {},
     "output_type": "display_data"
    },
    {
     "data": {
      "text/html": [
       "<h2>The bug that should be assigned to the original_src:\n",
       "</h2>"
      ],
      "text/plain": [
       "<IPython.core.display.HTML object>"
      ]
     },
     "metadata": {},
     "output_type": "display_data"
    },
    {
     "data": {
      "text/html": [
       "<pre>SyntaxError: closing parenthesis ']' does not match opening parenthesis '('</pre>"
      ],
      "text/plain": [
       "<IPython.core.display.HTML object>"
      ]
     },
     "metadata": {},
     "output_type": "display_data"
    },
    {
     "data": {
      "text/html": [
       "<h1>Example 38</h1>"
      ],
      "text/plain": [
       "<IPython.core.display.HTML object>"
      ]
     },
     "metadata": {},
     "output_type": "display_data"
    },
    {
     "data": {
      "text/html": [
       "<h2>The source code that is buggy:\n",
       "</h2>"
      ],
      "text/plain": [
       "<IPython.core.display.HTML object>"
      ]
     },
     "metadata": {},
     "output_type": "display_data"
    },
    {
     "data": {
      "text/html": [
       "<pre><span style=\"color:black;\">i</span><span style=\"color:black;\">m</span><span style=\"color:black;\">p</span><span style=\"color:black;\">o</span><span style=\"color:black;\">r</span><span style=\"color:black;\">t</span><span style=\"color:lightgrey;\">•</span><span style=\"color:black;\">s</span><span style=\"color:black;\">y</span><span style=\"color:black;\">s</span><span style=\"color:lightgrey;\">↵\n",
       "</span><span style=\"color:black;\">h</span><span style=\"color:black;\">e</span><span style=\"color:black;\">i</span><span style=\"color:black;\">g</span><span style=\"color:black;\">h</span><span style=\"color:black;\">t</span><span style=\"color:black;\">s</span><span style=\"color:lightgrey;\">•</span><span style=\"color:black;\">=</span><span style=\"color:lightgrey;\">•</span><span style=\"color:black;\">s</span><span style=\"color:black;\">o</span><span style=\"color:black;\">r</span><span style=\"color:black;\">t</span><span style=\"color:black;\">e</span><span style=\"color:black;\">d</span><span style=\"color:black;\">(</span><span style=\"color:black;\">[</span><span style=\"color:lightgrey;\">•</span><span style=\"color:black;\">i</span><span style=\"color:black;\">n</span><span style=\"color:black;\">t</span><span style=\"color:black;\">(</span><span style=\"color:black;\">h</span><span style=\"color:black;\">)</span><span style=\"color:lightgrey;\">•</span><span style=\"color:black;\">f</span><span style=\"color:black;\">o</span><span style=\"color:black;\">r</span><span style=\"color:lightgrey;\">•</span><span style=\"color:black;\">h</span><span style=\"color:lightgrey;\">•</span><span style=\"color:black;\">i</span><span style=\"color:black;\">n</span><span style=\"color:lightgrey;\">•</span><span style=\"color:black;\">s</span><span style=\"color:black;\">y</span><span style=\"color:black;\">s</span><span style=\"color:black;\">.</span><span style=\"color:black;\">s</span><span style=\"color:black;\">t</span><span style=\"color:black;\">d</span><span style=\"color:black;\">i</span><span style=\"color:black;\">n</span><span style=\"color:red;\">]</span><span style=\"color:black;\">,</span><span style=\"color:red;\">r</span><span style=\"color:black;\">e</span><span style=\"color:black;\">v</span><span style=\"color:black;\">e</span><span style=\"color:black;\">r</span><span style=\"color:red;\">c</span><span style=\"color:black;\">e</span><span style=\"color:black;\">)</span><span style=\"color:lightgrey;\">↵\n",
       "</span><span style=\"color:red;\">h</span><span style=\"color:black;\">e</span><span style=\"color:black;\">i</span><span style=\"color:black;\">g</span><span style=\"color:black;\">h</span><span style=\"color:black;\">t</span><span style=\"color:black;\">s</span><span style=\"color:black;\">[</span><span style=\"color:black;\">0</span><span style=\"color:black;\">]</span><span style=\"color:red;\">↵\n",
       "</span><span style=\"color:red;\">h</span><span style=\"color:black;\">e</span><span style=\"color:black;\">i</span><span style=\"color:black;\">g</span><span style=\"color:black;\">h</span><span style=\"color:black;\">t</span><span style=\"color:black;\">s</span><span style=\"color:black;\">[</span><span style=\"color:black;\">1</span><span style=\"color:black;\">]</span><span style=\"color:red;\">↵\n",
       "</span><span style=\"color:red;\">h</span><span style=\"color:black;\">e</span><span style=\"color:black;\">i</span><span style=\"color:black;\">g</span><span style=\"color:black;\">h</span><span style=\"color:black;\">t</span><span style=\"color:black;\">s</span><span style=\"color:black;\">[</span><span style=\"color:black;\">2</span><span style=\"color:black;\">]</span></pre>"
      ],
      "text/plain": [
       "<IPython.core.display.HTML object>"
      ]
     },
     "metadata": {},
     "output_type": "display_data"
    },
    {
     "data": {
      "text/html": [
       "<h2>The source code that is accepted:\n",
       "</h2>"
      ],
      "text/plain": [
       "<IPython.core.display.HTML object>"
      ]
     },
     "metadata": {},
     "output_type": "display_data"
    },
    {
     "data": {
      "text/html": [
       "<pre><span style=\"color:black;\">i</span><span style=\"color:black;\">m</span><span style=\"color:black;\">p</span><span style=\"color:black;\">o</span><span style=\"color:black;\">r</span><span style=\"color:black;\">t</span><span style=\"color:lightgrey;\">•</span><span style=\"color:black;\">s</span><span style=\"color:black;\">y</span><span style=\"color:black;\">s</span><span style=\"color:lightgrey;\">↵\n",
       "</span><span style=\"color:black;\">h</span><span style=\"color:black;\">e</span><span style=\"color:black;\">i</span><span style=\"color:black;\">g</span><span style=\"color:black;\">h</span><span style=\"color:black;\">t</span><span style=\"color:black;\">s</span><span style=\"color:lightgrey;\">•</span><span style=\"color:black;\">=</span><span style=\"color:lightgrey;\">•</span><span style=\"color:black;\">s</span><span style=\"color:black;\">o</span><span style=\"color:black;\">r</span><span style=\"color:black;\">t</span><span style=\"color:black;\">e</span><span style=\"color:black;\">d</span><span style=\"color:black;\">(</span><span style=\"color:black;\">[</span><span style=\"color:lightgrey;\">•</span><span style=\"color:black;\">i</span><span style=\"color:black;\">n</span><span style=\"color:black;\">t</span><span style=\"color:black;\">(</span><span style=\"color:black;\">h</span><span style=\"color:black;\">)</span><span style=\"color:lightgrey;\">•</span><span style=\"color:black;\">f</span><span style=\"color:black;\">o</span><span style=\"color:black;\">r</span><span style=\"color:lightgrey;\">•</span><span style=\"color:black;\">h</span><span style=\"color:lightgrey;\">•</span><span style=\"color:black;\">i</span><span style=\"color:black;\">n</span><span style=\"color:lightgrey;\">•</span><span style=\"color:black;\">s</span><span style=\"color:black;\">y</span><span style=\"color:black;\">s</span><span style=\"color:black;\">.</span><span style=\"color:black;\">s</span><span style=\"color:black;\">t</span><span style=\"color:black;\">d</span><span style=\"color:black;\">i</span><span style=\"color:black;\">n</span><span style=\"color:blue;\">•</span><span style=\"color:blue;\">]</span><span style=\"color:black;\">,</span><span style=\"color:blue;\">•</span><span style=\"color:blue;\">r</span><span style=\"color:black;\">e</span><span style=\"color:black;\">v</span><span style=\"color:black;\">e</span><span style=\"color:black;\">r</span><span style=\"color:blue;\">s</span><span style=\"color:blue;\">e</span><span style=\"color:blue;\">=</span><span style=\"color:blue;\">T</span><span style=\"color:blue;\">r</span><span style=\"color:blue;\">u</span><span style=\"color:black;\">e</span><span style=\"color:black;\">)</span><span style=\"color:lightgrey;\">↵\n",
       "</span><span style=\"color:blue;\">p</span><span style=\"color:blue;\">r</span><span style=\"color:blue;\">i</span><span style=\"color:blue;\">n</span><span style=\"color:blue;\">t</span><span style=\"color:blue;\">(</span><span style=\"color:blue;\">•</span><span style=\"color:blue;\">h</span><span style=\"color:black;\">e</span><span style=\"color:black;\">i</span><span style=\"color:black;\">g</span><span style=\"color:black;\">h</span><span style=\"color:black;\">t</span><span style=\"color:black;\">s</span><span style=\"color:black;\">[</span><span style=\"color:black;\">0</span><span style=\"color:black;\">]</span><span style=\"color:blue;\">•</span><span style=\"color:blue;\">)</span><span style=\"color:blue;\">↵\n",
       "</span><span style=\"color:blue;\">p</span><span style=\"color:blue;\">r</span><span style=\"color:blue;\">i</span><span style=\"color:blue;\">n</span><span style=\"color:blue;\">t</span><span style=\"color:blue;\">(</span><span style=\"color:blue;\">•</span><span style=\"color:blue;\">h</span><span style=\"color:black;\">e</span><span style=\"color:black;\">i</span><span style=\"color:black;\">g</span><span style=\"color:black;\">h</span><span style=\"color:black;\">t</span><span style=\"color:black;\">s</span><span style=\"color:black;\">[</span><span style=\"color:black;\">1</span><span style=\"color:black;\">]</span><span style=\"color:blue;\">•</span><span style=\"color:blue;\">)</span><span style=\"color:blue;\">↵\n",
       "</span><span style=\"color:blue;\">p</span><span style=\"color:blue;\">r</span><span style=\"color:blue;\">i</span><span style=\"color:blue;\">n</span><span style=\"color:blue;\">t</span><span style=\"color:blue;\">(</span><span style=\"color:blue;\">•</span><span style=\"color:blue;\">h</span><span style=\"color:black;\">e</span><span style=\"color:black;\">i</span><span style=\"color:black;\">g</span><span style=\"color:black;\">h</span><span style=\"color:black;\">t</span><span style=\"color:black;\">s</span><span style=\"color:black;\">[</span><span style=\"color:black;\">2</span><span style=\"color:black;\">]</span><span style=\"color:blue;\">•</span><span style=\"color:blue;\">)</span></pre>"
      ],
      "text/plain": [
       "<IPython.core.display.HTML object>"
      ]
     },
     "metadata": {},
     "output_type": "display_data"
    },
    {
     "data": {
      "text/html": [
       "<h2>The bug that should be assigned to the original_src:\n",
       "</h2>"
      ],
      "text/plain": [
       "<IPython.core.display.HTML object>"
      ]
     },
     "metadata": {},
     "output_type": "display_data"
    },
    {
     "data": {
      "text/html": [
       "<pre>NameError: name 'reverce' is not defined</pre>"
      ],
      "text/plain": [
       "<IPython.core.display.HTML object>"
      ]
     },
     "metadata": {},
     "output_type": "display_data"
    },
    {
     "data": {
      "text/html": [
       "<h1>Example 39</h1>"
      ],
      "text/plain": [
       "<IPython.core.display.HTML object>"
      ]
     },
     "metadata": {},
     "output_type": "display_data"
    },
    {
     "data": {
      "text/html": [
       "<h2>The source code that is buggy:\n",
       "</h2>"
      ],
      "text/plain": [
       "<IPython.core.display.HTML object>"
      ]
     },
     "metadata": {},
     "output_type": "display_data"
    },
    {
     "data": {
      "text/html": [
       "<pre><span style=\"color:red;\">i</span><span style=\"color:red;\">m</span><span style=\"color:red;\">p</span><span style=\"color:red;\">o</span><span style=\"color:red;\">r</span><span style=\"color:red;\">t</span><span style=\"color:red;\">•</span><span style=\"color:red;\">s</span><span style=\"color:red;\">y</span><span style=\"color:red;\">s</span><span style=\"color:red;\">↵\n",
       "</span><span style=\"color:black;\">m</span><span style=\"color:black;\">o</span><span style=\"color:black;\">u</span><span style=\"color:black;\">n</span><span style=\"color:black;\">t</span><span style=\"color:black;\">a</span><span style=\"color:black;\">i</span><span style=\"color:black;\">n</span><span style=\"color:black;\">s</span><span style=\"color:lightgrey;\">•</span><span style=\"color:black;\">=</span><span style=\"color:lightgrey;\">•</span><span style=\"color:black;\">[</span><span style=\"color:black;\">i</span><span style=\"color:black;\">n</span><span style=\"color:black;\">t</span><span style=\"color:black;\">(</span><span style=\"color:red;\">l</span><span style=\"color:black;\">i</span><span style=\"color:black;\">n</span><span style=\"color:red;\">e</span><span style=\"color:red;\">.</span><span style=\"color:red;\">r</span><span style=\"color:red;\">e</span><span style=\"color:red;\">a</span><span style=\"color:red;\">d</span><span style=\"color:red;\">l</span><span style=\"color:red;\">i</span><span style=\"color:red;\">n</span><span style=\"color:red;\">e</span><span style=\"color:black;\">(</span><span style=\"color:black;\">)</span><span style=\"color:black;\">)</span><span style=\"color:lightgrey;\">•</span><span style=\"color:black;\">f</span><span style=\"color:black;\">o</span><span style=\"color:black;\">r</span><span style=\"color:lightgrey;\">•</span><span style=\"color:red;\">l</span><span style=\"color:red;\">i</span><span style=\"color:red;\">n</span><span style=\"color:red;\">e</span><span style=\"color:lightgrey;\">•</span><span style=\"color:black;\">i</span><span style=\"color:black;\">n</span><span style=\"color:lightgrey;\">•</span><span style=\"color:red;\">s</span><span style=\"color:red;\">y</span><span style=\"color:red;\">s</span><span style=\"color:red;\">.</span><span style=\"color:red;\">s</span><span style=\"color:red;\">t</span><span style=\"color:red;\">d</span><span style=\"color:red;\">i</span><span style=\"color:black;\">n</span><span style=\"color:red;\">]</span><span style=\"color:lightgrey;\">↵\n",
       "</span><span style=\"color:lightgrey;\">↵\n",
       "</span><span style=\"color:black;\">f</span><span style=\"color:black;\">o</span><span style=\"color:black;\">r</span><span style=\"color:lightgrey;\">•</span><span style=\"color:black;\">h</span><span style=\"color:black;\">e</span><span style=\"color:black;\">i</span><span style=\"color:black;\">g</span><span style=\"color:black;\">h</span><span style=\"color:black;\">t</span><span style=\"color:lightgrey;\">•</span><span style=\"color:black;\">i</span><span style=\"color:black;\">n</span><span style=\"color:lightgrey;\">•</span><span style=\"color:black;\">s</span><span style=\"color:black;\">o</span><span style=\"color:black;\">r</span><span style=\"color:black;\">t</span><span style=\"color:black;\">e</span><span style=\"color:black;\">d</span><span style=\"color:black;\">(</span><span style=\"color:black;\">m</span><span style=\"color:black;\">o</span><span style=\"color:black;\">u</span><span style=\"color:black;\">n</span><span style=\"color:black;\">t</span><span style=\"color:black;\">a</span><span style=\"color:black;\">i</span><span style=\"color:black;\">n</span><span style=\"color:black;\">s</span><span style=\"color:black;\">)</span><span style=\"color:black;\">[</span><span style=\"color:black;\">-</span><span style=\"color:black;\">3</span><span style=\"color:black;\">:</span><span style=\"color:black;\">]</span><span style=\"color:black;\">[</span><span style=\"color:black;\">:</span><span style=\"color:black;\">:</span><span style=\"color:black;\">-</span><span style=\"color:black;\">1</span><span style=\"color:black;\">]</span><span style=\"color:black;\">:</span><span style=\"color:lightgrey;\">↵\n",
       "</span><span style=\"color:lightgrey;\">•</span><span style=\"color:lightgrey;\">•</span><span style=\"color:lightgrey;\">•</span><span style=\"color:lightgrey;\">•</span><span style=\"color:black;\">p</span><span style=\"color:black;\">r</span><span style=\"color:black;\">i</span><span style=\"color:black;\">n</span><span style=\"color:black;\">t</span><span style=\"color:black;\">(</span><span style=\"color:black;\">h</span><span style=\"color:black;\">e</span><span style=\"color:black;\">i</span><span style=\"color:black;\">g</span><span style=\"color:black;\">h</span><span style=\"color:black;\">t</span><span style=\"color:black;\">)</span></pre>"
      ],
      "text/plain": [
       "<IPython.core.display.HTML object>"
      ]
     },
     "metadata": {},
     "output_type": "display_data"
    },
    {
     "data": {
      "text/html": [
       "<h2>The source code that is accepted:\n",
       "</h2>"
      ],
      "text/plain": [
       "<IPython.core.display.HTML object>"
      ]
     },
     "metadata": {},
     "output_type": "display_data"
    },
    {
     "data": {
      "text/html": [
       "<pre><span style=\"color:black;\">m</span><span style=\"color:black;\">o</span><span style=\"color:black;\">u</span><span style=\"color:black;\">n</span><span style=\"color:black;\">t</span><span style=\"color:black;\">a</span><span style=\"color:black;\">i</span><span style=\"color:black;\">n</span><span style=\"color:black;\">s</span><span style=\"color:lightgrey;\">•</span><span style=\"color:black;\">=</span><span style=\"color:lightgrey;\">•</span><span style=\"color:black;\">[</span><span style=\"color:black;\">i</span><span style=\"color:black;\">n</span><span style=\"color:black;\">t</span><span style=\"color:black;\">(</span><span style=\"color:black;\">i</span><span style=\"color:black;\">n</span><span style=\"color:blue;\">p</span><span style=\"color:blue;\">u</span><span style=\"color:blue;\">t</span><span style=\"color:black;\">(</span><span style=\"color:black;\">)</span><span style=\"color:black;\">)</span><span style=\"color:lightgrey;\">•</span><span style=\"color:black;\">f</span><span style=\"color:black;\">o</span><span style=\"color:black;\">r</span><span style=\"color:lightgrey;\">•</span><span style=\"color:blue;\">_</span><span style=\"color:lightgrey;\">•</span><span style=\"color:black;\">i</span><span style=\"color:black;\">n</span><span style=\"color:lightgrey;\">•</span><span style=\"color:blue;\">r</span><span style=\"color:blue;\">a</span><span style=\"color:black;\">n</span><span style=\"color:blue;\">g</span><span style=\"color:blue;\">e</span><span style=\"color:blue;\">(</span><span style=\"color:blue;\">1</span><span style=\"color:blue;\">0</span><span style=\"color:blue;\">)</span><span style=\"color:blue;\">]</span><span style=\"color:lightgrey;\">↵\n",
       "</span><span style=\"color:lightgrey;\">↵\n",
       "</span><span style=\"color:black;\">f</span><span style=\"color:black;\">o</span><span style=\"color:black;\">r</span><span style=\"color:lightgrey;\">•</span><span style=\"color:black;\">h</span><span style=\"color:black;\">e</span><span style=\"color:black;\">i</span><span style=\"color:black;\">g</span><span style=\"color:black;\">h</span><span style=\"color:black;\">t</span><span style=\"color:lightgrey;\">•</span><span style=\"color:black;\">i</span><span style=\"color:black;\">n</span><span style=\"color:lightgrey;\">•</span><span style=\"color:black;\">s</span><span style=\"color:black;\">o</span><span style=\"color:black;\">r</span><span style=\"color:black;\">t</span><span style=\"color:black;\">e</span><span style=\"color:black;\">d</span><span style=\"color:black;\">(</span><span style=\"color:black;\">m</span><span style=\"color:black;\">o</span><span style=\"color:black;\">u</span><span style=\"color:black;\">n</span><span style=\"color:black;\">t</span><span style=\"color:black;\">a</span><span style=\"color:black;\">i</span><span style=\"color:black;\">n</span><span style=\"color:black;\">s</span><span style=\"color:black;\">)</span><span style=\"color:black;\">[</span><span style=\"color:black;\">-</span><span style=\"color:black;\">3</span><span style=\"color:black;\">:</span><span style=\"color:black;\">]</span><span style=\"color:black;\">[</span><span style=\"color:black;\">:</span><span style=\"color:black;\">:</span><span style=\"color:black;\">-</span><span style=\"color:black;\">1</span><span style=\"color:black;\">]</span><span style=\"color:black;\">:</span><span style=\"color:lightgrey;\">↵\n",
       "</span><span style=\"color:lightgrey;\">•</span><span style=\"color:lightgrey;\">•</span><span style=\"color:lightgrey;\">•</span><span style=\"color:lightgrey;\">•</span><span style=\"color:black;\">p</span><span style=\"color:black;\">r</span><span style=\"color:black;\">i</span><span style=\"color:black;\">n</span><span style=\"color:black;\">t</span><span style=\"color:black;\">(</span><span style=\"color:black;\">h</span><span style=\"color:black;\">e</span><span style=\"color:black;\">i</span><span style=\"color:black;\">g</span><span style=\"color:black;\">h</span><span style=\"color:black;\">t</span><span style=\"color:black;\">)</span></pre>"
      ],
      "text/plain": [
       "<IPython.core.display.HTML object>"
      ]
     },
     "metadata": {},
     "output_type": "display_data"
    },
    {
     "data": {
      "text/html": [
       "<h2>The bug that should be assigned to the original_src:\n",
       "</h2>"
      ],
      "text/plain": [
       "<IPython.core.display.HTML object>"
      ]
     },
     "metadata": {},
     "output_type": "display_data"
    },
    {
     "data": {
      "text/html": [
       "<pre>AttributeError: 'str' object has no attribute 'readline'</pre>"
      ],
      "text/plain": [
       "<IPython.core.display.HTML object>"
      ]
     },
     "metadata": {},
     "output_type": "display_data"
    },
    {
     "data": {
      "text/html": [
       "<h1>Example 40</h1>"
      ],
      "text/plain": [
       "<IPython.core.display.HTML object>"
      ]
     },
     "metadata": {},
     "output_type": "display_data"
    },
    {
     "data": {
      "text/html": [
       "<h2>The source code that is buggy:\n",
       "</h2>"
      ],
      "text/plain": [
       "<IPython.core.display.HTML object>"
      ]
     },
     "metadata": {},
     "output_type": "display_data"
    },
    {
     "data": {
      "text/html": [
       "<pre><span style=\"color:black;\">p</span><span style=\"color:black;\">r</span><span style=\"color:black;\">i</span><span style=\"color:black;\">n</span><span style=\"color:black;\">t</span><span style=\"color:lightgrey;\">•</span><span style=\"color:black;\">\"</span><span style=\"color:black;\">\\</span><span style=\"color:black;\">n</span><span style=\"color:black;\">\"</span><span style=\"color:black;\">.</span><span style=\"color:black;\">j</span><span style=\"color:black;\">o</span><span style=\"color:black;\">i</span><span style=\"color:black;\">n</span><span style=\"color:black;\">(</span><span style=\"color:red;\">s</span><span style=\"color:black;\">o</span><span style=\"color:black;\">r</span><span style=\"color:black;\">t</span><span style=\"color:black;\">e</span><span style=\"color:black;\">d</span><span style=\"color:black;\">(</span><span style=\"color:black;\">[</span><span style=\"color:black;\">i</span><span style=\"color:black;\">n</span><span style=\"color:black;\">p</span><span style=\"color:black;\">u</span><span style=\"color:black;\">t</span><span style=\"color:black;\">(</span><span style=\"color:black;\">)</span><span style=\"color:lightgrey;\">•</span><span style=\"color:black;\">f</span><span style=\"color:black;\">o</span><span style=\"color:black;\">r</span><span style=\"color:lightgrey;\">•</span><span style=\"color:red;\">x</span><span style=\"color:lightgrey;\">•</span><span style=\"color:black;\">i</span><span style=\"color:black;\">n</span><span style=\"color:lightgrey;\">•</span><span style=\"color:black;\">x</span><span style=\"color:black;\">r</span><span style=\"color:black;\">a</span><span style=\"color:black;\">n</span><span style=\"color:black;\">g</span><span style=\"color:black;\">e</span><span style=\"color:black;\">(</span><span style=\"color:black;\">1</span><span style=\"color:black;\">0</span><span style=\"color:black;\">)</span><span style=\"color:black;\">]</span><span style=\"color:red;\">)</span><span style=\"color:black;\">[</span><span style=\"color:black;\">:</span><span style=\"color:black;\">3</span><span style=\"color:black;\">]</span><span style=\"color:black;\">)</span></pre>"
      ],
      "text/plain": [
       "<IPython.core.display.HTML object>"
      ]
     },
     "metadata": {},
     "output_type": "display_data"
    },
    {
     "data": {
      "text/html": [
       "<h2>The source code that is accepted:\n",
       "</h2>"
      ],
      "text/plain": [
       "<IPython.core.display.HTML object>"
      ]
     },
     "metadata": {},
     "output_type": "display_data"
    },
    {
     "data": {
      "text/html": [
       "<pre><span style=\"color:black;\">p</span><span style=\"color:black;\">r</span><span style=\"color:black;\">i</span><span style=\"color:black;\">n</span><span style=\"color:black;\">t</span><span style=\"color:lightgrey;\">•</span><span style=\"color:black;\">\"</span><span style=\"color:black;\">\\</span><span style=\"color:black;\">n</span><span style=\"color:black;\">\"</span><span style=\"color:black;\">.</span><span style=\"color:black;\">j</span><span style=\"color:black;\">o</span><span style=\"color:black;\">i</span><span style=\"color:black;\">n</span><span style=\"color:black;\">(</span><span style=\"color:blue;\">m</span><span style=\"color:blue;\">a</span><span style=\"color:blue;\">p</span><span style=\"color:blue;\">(</span><span style=\"color:blue;\">s</span><span style=\"color:blue;\">t</span><span style=\"color:blue;\">r</span><span style=\"color:blue;\">,</span><span style=\"color:blue;\">s</span><span style=\"color:black;\">o</span><span style=\"color:black;\">r</span><span style=\"color:black;\">t</span><span style=\"color:black;\">e</span><span style=\"color:black;\">d</span><span style=\"color:black;\">(</span><span style=\"color:black;\">[</span><span style=\"color:black;\">i</span><span style=\"color:black;\">n</span><span style=\"color:black;\">p</span><span style=\"color:black;\">u</span><span style=\"color:black;\">t</span><span style=\"color:black;\">(</span><span style=\"color:black;\">)</span><span style=\"color:lightgrey;\">•</span><span style=\"color:black;\">f</span><span style=\"color:black;\">o</span><span style=\"color:black;\">r</span><span style=\"color:lightgrey;\">•</span><span style=\"color:blue;\">_</span><span style=\"color:lightgrey;\">•</span><span style=\"color:black;\">i</span><span style=\"color:black;\">n</span><span style=\"color:lightgrey;\">•</span><span style=\"color:black;\">x</span><span style=\"color:black;\">r</span><span style=\"color:black;\">a</span><span style=\"color:black;\">n</span><span style=\"color:black;\">g</span><span style=\"color:black;\">e</span><span style=\"color:black;\">(</span><span style=\"color:black;\">1</span><span style=\"color:black;\">0</span><span style=\"color:black;\">)</span><span style=\"color:black;\">]</span><span style=\"color:blue;\">,</span><span style=\"color:blue;\">•</span><span style=\"color:blue;\">r</span><span style=\"color:blue;\">e</span><span style=\"color:blue;\">v</span><span style=\"color:blue;\">e</span><span style=\"color:blue;\">r</span><span style=\"color:blue;\">s</span><span style=\"color:blue;\">e</span><span style=\"color:blue;\">•</span><span style=\"color:blue;\">=</span><span style=\"color:blue;\">•</span><span style=\"color:blue;\">T</span><span style=\"color:blue;\">r</span><span style=\"color:blue;\">u</span><span style=\"color:blue;\">e</span><span style=\"color:blue;\">)</span><span style=\"color:black;\">[</span><span style=\"color:black;\">:</span><span style=\"color:black;\">3</span><span style=\"color:black;\">]</span><span style=\"color:black;\">)</span><span style=\"color:blue;\">)</span></pre>"
      ],
      "text/plain": [
       "<IPython.core.display.HTML object>"
      ]
     },
     "metadata": {},
     "output_type": "display_data"
    },
    {
     "data": {
      "text/html": [
       "<h2>The bug that should be assigned to the original_src:\n",
       "</h2>"
      ],
      "text/plain": [
       "<IPython.core.display.HTML object>"
      ]
     },
     "metadata": {},
     "output_type": "display_data"
    },
    {
     "data": {
      "text/html": [
       "<pre>SyntaxError: invalid syntax</pre>"
      ],
      "text/plain": [
       "<IPython.core.display.HTML object>"
      ]
     },
     "metadata": {},
     "output_type": "display_data"
    },
    {
     "data": {
      "text/html": [
       "<h1>Example 41</h1>"
      ],
      "text/plain": [
       "<IPython.core.display.HTML object>"
      ]
     },
     "metadata": {},
     "output_type": "display_data"
    },
    {
     "data": {
      "text/html": [
       "<h2>The source code that is buggy:\n",
       "</h2>"
      ],
      "text/plain": [
       "<IPython.core.display.HTML object>"
      ]
     },
     "metadata": {},
     "output_type": "display_data"
    },
    {
     "data": {
      "text/html": [
       "<pre><span style=\"color:black;\">i</span><span style=\"color:black;\">m</span><span style=\"color:black;\">p</span><span style=\"color:black;\">o</span><span style=\"color:black;\">r</span><span style=\"color:black;\">t</span><span style=\"color:lightgrey;\">•</span><span style=\"color:black;\">s</span><span style=\"color:black;\">t</span><span style=\"color:black;\">r</span><span style=\"color:black;\">i</span><span style=\"color:black;\">n</span><span style=\"color:black;\">g</span><span style=\"color:lightgrey;\">↵\n",
       "</span><span style=\"color:red;\">↵\n",
       "</span><span style=\"color:red;\">c</span><span style=\"color:red;\">o</span><span style=\"color:red;\">u</span><span style=\"color:red;\">n</span><span style=\"color:red;\">t</span><span style=\"color:red;\">•</span><span style=\"color:red;\">=</span><span style=\"color:red;\">•</span><span style=\"color:black;\">0</span><span style=\"color:red;\">↵\n",
       "</span><span style=\"color:red;\">t</span><span style=\"color:red;\">r</span><span style=\"color:red;\">y</span><span style=\"color:red;\">:</span><span style=\"color:red;\">↵\n",
       "</span><span style=\"color:red;\">•</span><span style=\"color:red;\">•</span><span style=\"color:red;\">•</span><span style=\"color:red;\">•</span><span style=\"color:red;\">c</span><span style=\"color:red;\">o</span><span style=\"color:red;\">u</span><span style=\"color:red;\">n</span><span style=\"color:red;\">t</span><span style=\"color:red;\">•</span><span style=\"color:red;\">+</span><span style=\"color:red;\">=</span><span style=\"color:red;\">•</span><span style=\"color:red;\">1</span><span style=\"color:red;\">↵\n",
       "</span><span style=\"color:red;\">•</span><span style=\"color:red;\">•</span><span style=\"color:red;\">•</span><span style=\"color:lightgrey;\">•</span><span style=\"color:black;\">h</span><span style=\"color:red;\">[</span><span style=\"color:red;\">c</span><span style=\"color:red;\">o</span><span style=\"color:red;\">u</span><span style=\"color:red;\">n</span><span style=\"color:red;\">t</span><span style=\"color:red;\">]</span><span style=\"color:red;\">•</span><span style=\"color:red;\">=</span><span style=\"color:red;\">•</span><span style=\"color:red;\">i</span><span style=\"color:red;\">n</span><span style=\"color:red;\">t</span><span style=\"color:red;\">(</span><span style=\"color:red;\">i</span><span style=\"color:red;\">n</span><span style=\"color:red;\">p</span><span style=\"color:red;\">u</span><span style=\"color:red;\">t</span><span style=\"color:red;\">(</span><span style=\"color:red;\">)</span><span style=\"color:red;\">)</span><span style=\"color:red;\">↵\n",
       "</span><span style=\"color:red;\">e</span><span style=\"color:red;\">x</span><span style=\"color:red;\">c</span><span style=\"color:red;\">e</span><span style=\"color:red;\">p</span><span style=\"color:red;\">t</span><span style=\"color:red;\">:</span><span style=\"color:red;\">↵\n",
       "</span><span style=\"color:red;\">•</span><span style=\"color:red;\">•</span><span style=\"color:red;\">•</span><span style=\"color:red;\">•</span><span style=\"color:red;\">p</span><span style=\"color:red;\">r</span><span style=\"color:red;\">i</span><span style=\"color:red;\">n</span><span style=\"color:red;\">t</span><span style=\"color:red;\">(</span><span style=\"color:red;\">\"</span><span style=\"color:red;\">?</span><span style=\"color:red;\">?</span><span style=\"color:red;\">?</span><span style=\"color:red;\">?</span><span style=\"color:red;\">?</span><span style=\"color:red;\">?</span><span style=\"color:red;\">\"</span><span style=\"color:red;\">)</span><span style=\"color:red;\">↵\n",
       "</span><span style=\"color:red;\">↵\n",
       "</span><span style=\"color:red;\">f</span><span style=\"color:red;\">o</span><span style=\"color:red;\">r</span><span style=\"color:red;\">•</span><span style=\"color:red;\">i</span><span style=\"color:red;\">•</span><span style=\"color:red;\">i</span><span style=\"color:red;\">n</span><span style=\"color:red;\">•</span><span style=\"color:red;\">r</span><span style=\"color:red;\">a</span><span style=\"color:red;\">n</span><span style=\"color:red;\">g</span><span style=\"color:red;\">e</span><span style=\"color:red;\">(</span><span style=\"color:red;\">l</span><span style=\"color:red;\">e</span><span style=\"color:red;\">n</span><span style=\"color:red;\">(</span><span style=\"color:red;\">h</span><span style=\"color:red;\">)</span><span style=\"color:red;\">)</span><span style=\"color:red;\">:</span><span style=\"color:red;\">↵\n",
       "</span><span style=\"color:red;\">•</span><span style=\"color:red;\">•</span><span style=\"color:red;\">•</span><span style=\"color:red;\">•</span><span style=\"color:red;\">f</span><span style=\"color:red;\">o</span><span style=\"color:red;\">r</span><span style=\"color:red;\">•</span><span style=\"color:red;\">j</span><span style=\"color:red;\">•</span><span style=\"color:red;\">i</span><span style=\"color:red;\">n</span><span style=\"color:red;\">•</span><span style=\"color:red;\">r</span><span style=\"color:red;\">a</span><span style=\"color:red;\">n</span><span style=\"color:red;\">g</span><span style=\"color:red;\">e</span><span style=\"color:red;\">(</span><span style=\"color:red;\">l</span><span style=\"color:red;\">e</span><span style=\"color:red;\">n</span><span style=\"color:red;\">(</span><span style=\"color:red;\">h</span><span style=\"color:red;\">)</span><span style=\"color:red;\">-</span><span style=\"color:red;\">1</span><span style=\"color:red;\">)</span><span style=\"color:red;\">:</span><span style=\"color:red;\">↵\n",
       "</span><span style=\"color:red;\">•</span><span style=\"color:red;\">•</span><span style=\"color:red;\">•</span><span style=\"color:red;\">•</span><span style=\"color:red;\">•</span><span style=\"color:red;\">•</span><span style=\"color:red;\">•</span><span style=\"color:red;\">•</span><span style=\"color:red;\">i</span><span style=\"color:red;\">f</span><span style=\"color:red;\">•</span><span style=\"color:red;\">i</span><span style=\"color:red;\">n</span><span style=\"color:red;\">t</span><span style=\"color:red;\">(</span><span style=\"color:red;\">h</span><span style=\"color:red;\">[</span><span style=\"color:red;\">i</span><span style=\"color:red;\">]</span><span style=\"color:red;\">)</span><span style=\"color:red;\">•</span><span style=\"color:red;\">></span><span style=\"color:red;\">•</span><span style=\"color:red;\">i</span><span style=\"color:red;\">n</span><span style=\"color:red;\">t</span><span style=\"color:red;\">(</span><span style=\"color:red;\">h</span><span style=\"color:red;\">[</span><span style=\"color:red;\">j</span><span style=\"color:red;\">]</span><span style=\"color:red;\">)</span><span style=\"color:red;\">:</span><span style=\"color:red;\">↵\n",
       "</span><span style=\"color:red;\">•</span><span style=\"color:red;\">•</span><span style=\"color:red;\">•</span><span style=\"color:red;\">•</span><span style=\"color:red;\">•</span><span style=\"color:red;\">•</span><span style=\"color:red;\">•</span><span style=\"color:red;\">•</span><span style=\"color:red;\">•</span><span style=\"color:red;\">•</span><span style=\"color:red;\">•</span><span style=\"color:red;\">•</span><span style=\"color:red;\">t</span><span style=\"color:red;\">m</span><span style=\"color:red;\">p</span><span style=\"color:red;\">•</span><span style=\"color:red;\">=</span><span style=\"color:red;\">•</span><span style=\"color:red;\">h</span><span style=\"color:red;\">[</span><span style=\"color:red;\">i</span><span style=\"color:red;\">]</span><span style=\"color:red;\">↵\n",
       "</span><span style=\"color:red;\">•</span><span style=\"color:red;\">•</span><span style=\"color:red;\">•</span><span style=\"color:red;\">•</span><span style=\"color:red;\">•</span><span style=\"color:red;\">•</span><span style=\"color:red;\">•</span><span style=\"color:red;\">•</span><span style=\"color:red;\">•</span><span style=\"color:red;\">•</span><span style=\"color:red;\">•</span><span style=\"color:red;\">•</span><span style=\"color:red;\">h</span><span style=\"color:red;\">[</span><span style=\"color:red;\">i</span><span style=\"color:red;\">]</span><span style=\"color:red;\">•</span><span style=\"color:red;\">=</span><span style=\"color:red;\">•</span><span style=\"color:red;\">h</span><span style=\"color:red;\">[</span><span style=\"color:red;\">j</span><span style=\"color:red;\">]</span><span style=\"color:red;\">•</span><span style=\"color:red;\">↵\n",
       "</span><span style=\"color:red;\">•</span><span style=\"color:red;\">•</span><span style=\"color:red;\">•</span><span style=\"color:red;\">•</span><span style=\"color:red;\">•</span><span style=\"color:red;\">•</span><span style=\"color:red;\">•</span><span style=\"color:red;\">•</span><span style=\"color:red;\">•</span><span style=\"color:red;\">•</span><span style=\"color:red;\">•</span><span style=\"color:red;\">•</span><span style=\"color:red;\">h</span><span style=\"color:red;\">[</span><span style=\"color:red;\">j</span><span style=\"color:red;\">]</span><span style=\"color:red;\">•</span><span style=\"color:red;\">=</span><span style=\"color:red;\">•</span><span style=\"color:red;\">t</span><span style=\"color:red;\">m</span><span style=\"color:red;\">p</span><span style=\"color:red;\">•</span><span style=\"color:red;\">•</span><span style=\"color:red;\">•</span><span style=\"color:red;\">•</span><span style=\"color:red;\">•</span><span style=\"color:red;\">•</span><span style=\"color:red;\">•</span><span style=\"color:red;\">•</span><span style=\"color:red;\">•</span><span style=\"color:red;\">•</span><span style=\"color:red;\">•</span><span style=\"color:red;\">•</span><span style=\"color:red;\">↵\n",
       "</span><span style=\"color:red;\">p</span><span style=\"color:red;\">r</span><span style=\"color:red;\">i</span><span style=\"color:red;\">n</span><span style=\"color:red;\">t</span><span style=\"color:red;\">(</span><span style=\"color:red;\">h</span><span style=\"color:red;\">[</span><span style=\"color:black;\">0</span><span style=\"color:red;\">]</span><span style=\"color:red;\">)</span><span style=\"color:red;\">↵\n",
       "</span><span style=\"color:red;\">p</span><span style=\"color:red;\">r</span><span style=\"color:red;\">i</span><span style=\"color:red;\">n</span><span style=\"color:red;\">t</span><span style=\"color:red;\">(</span><span style=\"color:red;\">h</span><span style=\"color:red;\">[</span><span style=\"color:red;\">1</span><span style=\"color:red;\">]</span><span style=\"color:red;\">)</span><span style=\"color:red;\">↵\n",
       "</span><span style=\"color:red;\">p</span><span style=\"color:red;\">r</span><span style=\"color:red;\">i</span><span style=\"color:red;\">n</span><span style=\"color:red;\">t</span><span style=\"color:red;\">(</span><span style=\"color:red;\">h</span><span style=\"color:red;\">[</span><span style=\"color:red;\">2</span><span style=\"color:red;\">]</span><span style=\"color:red;\">)</span></pre>"
      ],
      "text/plain": [
       "<IPython.core.display.HTML object>"
      ]
     },
     "metadata": {},
     "output_type": "display_data"
    },
    {
     "data": {
      "text/html": [
       "<h2>The source code that is accepted:\n",
       "</h2>"
      ],
      "text/plain": [
       "<IPython.core.display.HTML object>"
      ]
     },
     "metadata": {},
     "output_type": "display_data"
    },
    {
     "data": {
      "text/html": [
       "<pre><span style=\"color:black;\">i</span><span style=\"color:black;\">m</span><span style=\"color:black;\">p</span><span style=\"color:black;\">o</span><span style=\"color:black;\">r</span><span style=\"color:black;\">t</span><span style=\"color:lightgrey;\">•</span><span style=\"color:black;\">s</span><span style=\"color:black;\">t</span><span style=\"color:black;\">r</span><span style=\"color:black;\">i</span><span style=\"color:black;\">n</span><span style=\"color:black;\">g</span><span style=\"color:lightgrey;\">↵\n",
       "</span><span style=\"color:blue;\">i</span><span style=\"color:blue;\">m</span><span style=\"color:blue;\">p</span><span style=\"color:blue;\">o</span><span style=\"color:blue;\">r</span><span style=\"color:blue;\">t</span><span style=\"color:blue;\">•</span><span style=\"color:blue;\">s</span><span style=\"color:blue;\">y</span><span style=\"color:blue;\">s</span><span style=\"color:blue;\">↵\n",
       "</span><span style=\"color:blue;\">↵\n",
       "</span><span style=\"color:blue;\">#</span><span style=\"color:blue;\">?</span><span style=\"color:blue;\">?</span><span style=\"color:blue;\">?</span><span style=\"color:blue;\">?</span><span style=\"color:blue;\">?</span><span style=\"color:blue;\">?</span><span style=\"color:blue;\">?</span><span style=\"color:blue;\">?</span><span style=\"color:blue;\">?</span><span style=\"color:blue;\">?</span><span style=\"color:blue;\">?</span><span style=\"color:blue;\">?</span><span style=\"color:blue;\">?</span><span style=\"color:blue;\">?</span><span style=\"color:blue;\">\\</span><span style=\"color:blue;\">?</span><span style=\"color:blue;\">?</span><span style=\"color:blue;\">?</span><span style=\"color:blue;\">?</span><span style=\"color:blue;\">?</span><span style=\"color:blue;\">?</span><span style=\"color:blue;\">?</span><span style=\"color:blue;\">?</span><span style=\"color:blue;\">?</span><span style=\"color:blue;\">?</span><span style=\"color:blue;\">?</span><span style=\"color:blue;\">?</span><span style=\"color:blue;\">i</span><span style=\"color:blue;\">p</span><span style=\"color:blue;\">?</span><span style=\"color:blue;\">?</span><span style=\"color:blue;\">?</span><span style=\"color:blue;\">?</span><span style=\"color:blue;\">?</span><span style=\"color:blue;\">\\</span><span style=\"color:blue;\">?</span><span style=\"color:blue;\">?</span><span style=\"color:blue;\">?</span><span style=\"color:blue;\">?</span><span style=\"color:blue;\">?</span><span style=\"color:blue;\">?</span><span style=\"color:blue;\">↵\n",
       "</span><span style=\"color:blue;\">i</span><span style=\"color:blue;\">p</span><span style=\"color:blue;\">•</span><span style=\"color:blue;\">=</span><span style=\"color:blue;\">•</span><span style=\"color:blue;\">s</span><span style=\"color:blue;\">y</span><span style=\"color:blue;\">s</span><span style=\"color:blue;\">.</span><span style=\"color:blue;\">s</span><span style=\"color:blue;\">t</span><span style=\"color:blue;\">d</span><span style=\"color:blue;\">i</span><span style=\"color:blue;\">n</span><span style=\"color:blue;\">.</span><span style=\"color:blue;\">r</span><span style=\"color:blue;\">e</span><span style=\"color:blue;\">a</span><span style=\"color:blue;\">d</span><span style=\"color:blue;\">l</span><span style=\"color:blue;\">i</span><span style=\"color:blue;\">n</span><span style=\"color:blue;\">e</span><span style=\"color:blue;\">s</span><span style=\"color:blue;\">(</span><span style=\"color:blue;\">)</span><span style=\"color:blue;\">↵\n",
       "</span><span style=\"color:blue;\">f</span><span style=\"color:blue;\">o</span><span style=\"color:blue;\">r</span><span style=\"color:blue;\">•</span><span style=\"color:blue;\">i</span><span style=\"color:blue;\">•</span><span style=\"color:blue;\">i</span><span style=\"color:blue;\">n</span><span style=\"color:blue;\">•</span><span style=\"color:blue;\">r</span><span style=\"color:blue;\">a</span><span style=\"color:blue;\">n</span><span style=\"color:blue;\">g</span><span style=\"color:blue;\">e</span><span style=\"color:blue;\">(</span><span style=\"color:blue;\">l</span><span style=\"color:blue;\">e</span><span style=\"color:blue;\">n</span><span style=\"color:blue;\">(</span><span style=\"color:blue;\">i</span><span style=\"color:blue;\">p</span><span style=\"color:blue;\">)</span><span style=\"color:blue;\">)</span><span style=\"color:blue;\">:</span><span style=\"color:blue;\">↵\n",
       "</span><span style=\"color:blue;\">•</span><span style=\"color:blue;\">•</span><span style=\"color:blue;\">•</span><span style=\"color:blue;\">•</span><span style=\"color:blue;\">i</span><span style=\"color:blue;\">p</span><span style=\"color:blue;\">[</span><span style=\"color:blue;\">i</span><span style=\"color:blue;\">]</span><span style=\"color:blue;\">•</span><span style=\"color:blue;\">=</span><span style=\"color:blue;\">•</span><span style=\"color:blue;\">i</span><span style=\"color:blue;\">n</span><span style=\"color:blue;\">t</span><span style=\"color:blue;\">(</span><span style=\"color:blue;\">i</span><span style=\"color:blue;\">p</span><span style=\"color:blue;\">[</span><span style=\"color:blue;\">i</span><span style=\"color:blue;\">]</span><span style=\"color:blue;\">.</span><span style=\"color:blue;\">s</span><span style=\"color:blue;\">t</span><span style=\"color:blue;\">r</span><span style=\"color:blue;\">i</span><span style=\"color:blue;\">p</span><span style=\"color:blue;\">(</span><span style=\"color:blue;\">\"</span><span style=\"color:blue;\">\\</span><span style=\"color:blue;\">n</span><span style=\"color:blue;\">\"</span><span style=\"color:blue;\">)</span><span style=\"color:blue;\">)</span><span style=\"color:blue;\">↵\n",
       "</span><span style=\"color:blue;\">↵\n",
       "</span><span style=\"color:blue;\">#</span><span style=\"color:blue;\">?</span><span style=\"color:blue;\">?</span><span style=\"color:blue;\">?</span><span style=\"color:blue;\">?</span><span style=\"color:blue;\">?</span><span style=\"color:blue;\">?</span><span style=\"color:blue;\">3</span><span style=\"color:blue;\">?</span><span style=\"color:blue;\">?</span><span style=\"color:blue;\">?</span><span style=\"color:blue;\">?</span><span style=\"color:blue;\">?</span><span style=\"color:blue;\">?</span><span style=\"color:blue;\">?</span><span style=\"color:blue;\">?</span><span style=\"color:blue;\">?</span><span style=\"color:blue;\">?</span><span style=\"color:blue;\">?</span><span style=\"color:blue;\">?</span><span style=\"color:blue;\">?</span><span style=\"color:blue;\">?</span><span style=\"color:blue;\">?</span><span style=\"color:blue;\">?</span><span style=\"color:blue;\">?</span><span style=\"color:blue;\">?</span><span style=\"color:blue;\">↵\n",
       "</span><span style=\"color:blue;\">h</span><span style=\"color:blue;\">•</span><span style=\"color:blue;\">=</span><span style=\"color:blue;\">•</span><span style=\"color:blue;\">[</span><span style=\"color:black;\">0</span><span style=\"color:blue;\">]</span><span style=\"color:blue;\">*</span><span style=\"color:blue;\">3</span><span style=\"color:blue;\">↵\n",
       "</span><span style=\"color:blue;\">↵\n",
       "</span><span style=\"color:blue;\">#</span><span style=\"color:blue;\">?</span><span style=\"color:blue;\">?</span><span style=\"color:blue;\">?</span><span style=\"color:blue;\">?</span><span style=\"color:blue;\">?</span><span style=\"color:blue;\">?</span><span style=\"color:blue;\">?</span><span style=\"color:blue;\">?</span><span style=\"color:blue;\">?</span><span style=\"color:blue;\">?</span><span style=\"color:blue;\">?</span><span style=\"color:blue;\">?</span><span style=\"color:blue;\">?</span><span style=\"color:blue;\">?</span><span style=\"color:blue;\">?</span><span style=\"color:blue;\">?</span><span style=\"color:blue;\">?</span><span style=\"color:blue;\">?</span><span style=\"color:blue;\">?</span><span style=\"color:blue;\">?</span><span style=\"color:blue;\">?</span><span style=\"color:blue;\">↵\n",
       "</span><span style=\"color:blue;\">f</span><span style=\"color:blue;\">o</span><span style=\"color:blue;\">r</span><span style=\"color:blue;\">•</span><span style=\"color:blue;\">i</span><span style=\"color:blue;\">•</span><span style=\"color:blue;\">i</span><span style=\"color:blue;\">n</span><span style=\"color:blue;\">•</span><span style=\"color:blue;\">r</span><span style=\"color:blue;\">a</span><span style=\"color:blue;\">n</span><span style=\"color:blue;\">g</span><span style=\"color:blue;\">e</span><span style=\"color:blue;\">(</span><span style=\"color:blue;\">l</span><span style=\"color:blue;\">e</span><span style=\"color:blue;\">n</span><span style=\"color:blue;\">(</span><span style=\"color:blue;\">i</span><span style=\"color:blue;\">p</span><span style=\"color:blue;\">)</span><span style=\"color:blue;\">)</span><span style=\"color:blue;\">:</span><span style=\"color:blue;\">↵\n",
       "</span><span style=\"color:blue;\">•</span><span style=\"color:blue;\">•</span><span style=\"color:blue;\">•</span><span style=\"color:blue;\">•</span><span style=\"color:blue;\">f</span><span style=\"color:blue;\">o</span><span style=\"color:blue;\">r</span><span style=\"color:blue;\">•</span><span style=\"color:blue;\">j</span><span style=\"color:blue;\">•</span><span style=\"color:blue;\">i</span><span style=\"color:blue;\">n</span><span style=\"color:blue;\">•</span><span style=\"color:blue;\">r</span><span style=\"color:blue;\">a</span><span style=\"color:blue;\">n</span><span style=\"color:blue;\">g</span><span style=\"color:blue;\">e</span><span style=\"color:blue;\">(</span><span style=\"color:blue;\">l</span><span style=\"color:blue;\">e</span><span style=\"color:blue;\">n</span><span style=\"color:blue;\">(</span><span style=\"color:blue;\">i</span><span style=\"color:blue;\">p</span><span style=\"color:blue;\">)</span><span style=\"color:blue;\">)</span><span style=\"color:blue;\">:</span><span style=\"color:blue;\">↵\n",
       "</span><span style=\"color:blue;\">•</span><span style=\"color:blue;\">•</span><span style=\"color:blue;\">•</span><span style=\"color:blue;\">•</span><span style=\"color:blue;\">•</span><span style=\"color:blue;\">•</span><span style=\"color:blue;\">•</span><span style=\"color:blue;\">•</span><span style=\"color:blue;\">i</span><span style=\"color:blue;\">f</span><span style=\"color:blue;\">•</span><span style=\"color:blue;\">i</span><span style=\"color:blue;\">p</span><span style=\"color:blue;\">[</span><span style=\"color:blue;\">i</span><span style=\"color:blue;\">]</span><span style=\"color:blue;\">•</span><span style=\"color:blue;\">></span><span style=\"color:blue;\">•</span><span style=\"color:blue;\">i</span><span style=\"color:blue;\">p</span><span style=\"color:blue;\">[</span><span style=\"color:blue;\">j</span><span style=\"color:blue;\">]</span><span style=\"color:blue;\">:</span><span style=\"color:blue;\">↵\n",
       "</span><span style=\"color:blue;\">•</span><span style=\"color:blue;\">•</span><span style=\"color:blue;\">•</span><span style=\"color:blue;\">•</span><span style=\"color:blue;\">•</span><span style=\"color:blue;\">•</span><span style=\"color:blue;\">•</span><span style=\"color:blue;\">•</span><span style=\"color:blue;\">•</span><span style=\"color:blue;\">•</span><span style=\"color:blue;\">•</span><span style=\"color:blue;\">•</span><span style=\"color:blue;\">t</span><span style=\"color:blue;\">m</span><span style=\"color:blue;\">p</span><span style=\"color:blue;\">•</span><span style=\"color:blue;\">=</span><span style=\"color:blue;\">•</span><span style=\"color:blue;\">i</span><span style=\"color:blue;\">p</span><span style=\"color:blue;\">[</span><span style=\"color:blue;\">i</span><span style=\"color:blue;\">]</span><span style=\"color:blue;\">↵\n",
       "</span><span style=\"color:blue;\">•</span><span style=\"color:blue;\">•</span><span style=\"color:blue;\">•</span><span style=\"color:blue;\">•</span><span style=\"color:blue;\">•</span><span style=\"color:blue;\">•</span><span style=\"color:blue;\">•</span><span style=\"color:blue;\">•</span><span style=\"color:blue;\">•</span><span style=\"color:blue;\">•</span><span style=\"color:blue;\">•</span><span style=\"color:blue;\">•</span><span style=\"color:blue;\">i</span><span style=\"color:blue;\">p</span><span style=\"color:blue;\">[</span><span style=\"color:blue;\">i</span><span style=\"color:blue;\">]</span><span style=\"color:blue;\">•</span><span style=\"color:blue;\">=</span><span style=\"color:blue;\">•</span><span style=\"color:blue;\">i</span><span style=\"color:blue;\">p</span><span style=\"color:blue;\">[</span><span style=\"color:blue;\">j</span><span style=\"color:blue;\">]</span><span style=\"color:blue;\">•</span><span style=\"color:blue;\">↵\n",
       "</span><span style=\"color:blue;\">•</span><span style=\"color:blue;\">•</span><span style=\"color:blue;\">•</span><span style=\"color:blue;\">•</span><span style=\"color:blue;\">•</span><span style=\"color:blue;\">•</span><span style=\"color:blue;\">•</span><span style=\"color:blue;\">•</span><span style=\"color:blue;\">•</span><span style=\"color:blue;\">•</span><span style=\"color:blue;\">•</span><span style=\"color:blue;\">•</span><span style=\"color:blue;\">i</span><span style=\"color:blue;\">p</span><span style=\"color:blue;\">[</span><span style=\"color:blue;\">j</span><span style=\"color:blue;\">]</span><span style=\"color:blue;\">•</span><span style=\"color:blue;\">=</span><span style=\"color:blue;\">•</span><span style=\"color:blue;\">t</span><span style=\"color:blue;\">m</span><span style=\"color:blue;\">p</span><span style=\"color:blue;\">•</span><span style=\"color:blue;\">•</span><span style=\"color:blue;\">•</span><span style=\"color:blue;\">•</span><span style=\"color:blue;\">•</span><span style=\"color:blue;\">•</span><span style=\"color:blue;\">•</span><span style=\"color:blue;\">•</span><span style=\"color:blue;\">•</span><span style=\"color:blue;\">•</span><span style=\"color:blue;\">•</span><span style=\"color:blue;\">•</span><span style=\"color:blue;\">↵\n",
       "</span><span style=\"color:blue;\">↵\n",
       "</span><span style=\"color:blue;\">f</span><span style=\"color:blue;\">o</span><span style=\"color:blue;\">r</span><span style=\"color:blue;\">•</span><span style=\"color:blue;\">i</span><span style=\"color:blue;\">•</span><span style=\"color:blue;\">i</span><span style=\"color:blue;\">n</span><span style=\"color:blue;\">•</span><span style=\"color:blue;\">r</span><span style=\"color:blue;\">a</span><span style=\"color:blue;\">n</span><span style=\"color:blue;\">g</span><span style=\"color:blue;\">e</span><span style=\"color:blue;\">(</span><span style=\"color:blue;\">3</span><span style=\"color:blue;\">)</span><span style=\"color:blue;\">:</span><span style=\"color:blue;\">↵\n",
       "</span><span style=\"color:blue;\">•</span><span style=\"color:blue;\">•</span><span style=\"color:blue;\">•</span><span style=\"color:blue;\">•</span><span style=\"color:blue;\">i</span><span style=\"color:blue;\">f</span><span style=\"color:lightgrey;\">•</span><span style=\"color:black;\">h</span><span style=\"color:blue;\">•</span><span style=\"color:blue;\">!</span><span style=\"color:blue;\">=</span><span style=\"color:blue;\">•</span><span style=\"color:black;\">0</span><span style=\"color:blue;\">:</span><span style=\"color:blue;\">↵\n",
       "</span><span style=\"color:blue;\">•</span><span style=\"color:blue;\">•</span><span style=\"color:blue;\">•</span><span style=\"color:blue;\">•</span><span style=\"color:blue;\">•</span><span style=\"color:blue;\">•</span><span style=\"color:blue;\">•</span><span style=\"color:blue;\">•</span><span style=\"color:blue;\">p</span><span style=\"color:blue;\">r</span><span style=\"color:blue;\">i</span><span style=\"color:blue;\">n</span><span style=\"color:blue;\">t</span><span style=\"color:blue;\">(</span><span style=\"color:blue;\">i</span><span style=\"color:blue;\">p</span><span style=\"color:blue;\">[</span><span style=\"color:blue;\">i</span><span style=\"color:blue;\">]</span><span style=\"color:blue;\">)</span></pre>"
      ],
      "text/plain": [
       "<IPython.core.display.HTML object>"
      ]
     },
     "metadata": {},
     "output_type": "display_data"
    },
    {
     "data": {
      "text/html": [
       "<h2>The bug that should be assigned to the original_src:\n",
       "</h2>"
      ],
      "text/plain": [
       "<IPython.core.display.HTML object>"
      ]
     },
     "metadata": {},
     "output_type": "display_data"
    },
    {
     "data": {
      "text/html": [
       "<pre>NameError: name 'h' is not defined</pre>"
      ],
      "text/plain": [
       "<IPython.core.display.HTML object>"
      ]
     },
     "metadata": {},
     "output_type": "display_data"
    },
    {
     "data": {
      "text/html": [
       "<h1>Example 42</h1>"
      ],
      "text/plain": [
       "<IPython.core.display.HTML object>"
      ]
     },
     "metadata": {},
     "output_type": "display_data"
    },
    {
     "data": {
      "text/html": [
       "<h2>The source code that is buggy:\n",
       "</h2>"
      ],
      "text/plain": [
       "<IPython.core.display.HTML object>"
      ]
     },
     "metadata": {},
     "output_type": "display_data"
    },
    {
     "data": {
      "text/html": [
       "<pre><span style=\"color:red;\">a</span><span style=\"color:lightgrey;\">•</span><span style=\"color:black;\">=</span><span style=\"color:lightgrey;\">•</span><span style=\"color:red;\">0</span><span style=\"color:lightgrey;\">↵\n",
       "</span><span style=\"color:red;\">b</span><span style=\"color:red;\">•</span><span style=\"color:red;\">=</span><span style=\"color:red;\">•</span><span style=\"color:red;\">0</span><span style=\"color:red;\">↵\n",
       "</span><span style=\"color:red;\">c</span><span style=\"color:red;\">•</span><span style=\"color:red;\">=</span><span style=\"color:red;\">•</span><span style=\"color:red;\">0</span><span style=\"color:lightgrey;\">↵\n",
       "</span><span style=\"color:black;\">f</span><span style=\"color:black;\">o</span><span style=\"color:black;\">r</span><span style=\"color:lightgrey;\">•</span><span style=\"color:black;\">i</span><span style=\"color:lightgrey;\">•</span><span style=\"color:black;\">i</span><span style=\"color:black;\">n</span><span style=\"color:lightgrey;\">•</span><span style=\"color:black;\">r</span><span style=\"color:black;\">a</span><span style=\"color:black;\">n</span><span style=\"color:black;\">g</span><span style=\"color:black;\">e</span><span style=\"color:black;\">(</span><span style=\"color:black;\">0</span><span style=\"color:black;\">,</span><span style=\"color:lightgrey;\">•</span><span style=\"color:black;\">1</span><span style=\"color:black;\">0</span><span style=\"color:black;\">)</span><span style=\"color:black;\">:</span><span style=\"color:lightgrey;\">↵\n",
       "</span><span style=\"color:lightgrey;\">•</span><span style=\"color:lightgrey;\">•</span><span style=\"color:black;\">i</span><span style=\"color:black;\">n</span><span style=\"color:black;\">p</span><span style=\"color:black;\">u</span><span style=\"color:black;\">t</span><span style=\"color:black;\">N</span><span style=\"color:black;\">u</span><span style=\"color:black;\">m</span><span style=\"color:red;\">•</span><span style=\"color:red;\">=</span><span style=\"color:red;\">•</span><span style=\"color:black;\">i</span><span style=\"color:black;\">n</span><span style=\"color:black;\">t</span><span style=\"color:black;\">(</span><span style=\"color:black;\">r</span><span style=\"color:black;\">a</span><span style=\"color:black;\">w</span><span style=\"color:black;\">_</span><span style=\"color:black;\">i</span><span style=\"color:black;\">n</span><span style=\"color:black;\">p</span><span style=\"color:black;\">u</span><span style=\"color:black;\">t</span><span style=\"color:black;\">(</span><span style=\"color:black;\">)</span><span style=\"color:black;\">)</span><span style=\"color:red;\">↵\n",
       "</span><span style=\"color:red;\">↵\n",
       "</span><span style=\"color:lightgrey;\">•</span><span style=\"color:lightgrey;\">•</span><span style=\"color:red;\">i</span><span style=\"color:red;\">f</span><span style=\"color:red;\">•</span><span style=\"color:red;\">a</span><span style=\"color:red;\">•</span><span style=\"color:red;\"><</span><span style=\"color:lightgrey;\">•</span><span style=\"color:black;\">i</span><span style=\"color:black;\">n</span><span style=\"color:black;\">p</span><span style=\"color:black;\">u</span><span style=\"color:black;\">t</span><span style=\"color:black;\">N</span><span style=\"color:black;\">u</span><span style=\"color:black;\">m</span><span style=\"color:red;\">:</span><span style=\"color:red;\">↵\n",
       "</span><span style=\"color:red;\">•</span><span style=\"color:red;\">•</span><span style=\"color:red;\">•</span><span style=\"color:red;\">•</span><span style=\"color:red;\">a</span><span style=\"color:red;\">•</span><span style=\"color:red;\">=</span><span style=\"color:red;\">•</span><span style=\"color:black;\">i</span><span style=\"color:red;\">n</span><span style=\"color:red;\">p</span><span style=\"color:red;\">u</span><span style=\"color:red;\">t</span><span style=\"color:red;\">N</span><span style=\"color:red;\">u</span><span style=\"color:red;\">m</span><span style=\"color:red;\">↵\n",
       "</span><span style=\"color:red;\">•</span><span style=\"color:red;\">•</span><span style=\"color:red;\">•</span><span style=\"color:red;\">•</span><span style=\"color:red;\">c</span><span style=\"color:red;\">o</span><span style=\"color:red;\">n</span><span style=\"color:red;\">t</span><span style=\"color:red;\">i</span><span style=\"color:red;\">n</span><span style=\"color:red;\">u</span><span style=\"color:red;\">e</span><span style=\"color:red;\">↵\n",
       "</span><span style=\"color:red;\">•</span><span style=\"color:red;\">•</span><span style=\"color:red;\">e</span><span style=\"color:red;\">l</span><span style=\"color:red;\">i</span><span style=\"color:red;\">f</span><span style=\"color:red;\">•</span><span style=\"color:red;\">b</span><span style=\"color:red;\">•</span><span style=\"color:red;\"><</span><span style=\"color:red;\">•</span><span style=\"color:red;\">i</span><span style=\"color:red;\">n</span><span style=\"color:red;\">p</span><span style=\"color:red;\">u</span><span style=\"color:red;\">t</span><span style=\"color:red;\">N</span><span style=\"color:red;\">u</span><span style=\"color:red;\">m</span><span style=\"color:red;\">:</span><span style=\"color:red;\">↵\n",
       "</span><span style=\"color:red;\">•</span><span style=\"color:red;\">•</span><span style=\"color:red;\">•</span><span style=\"color:red;\">•</span><span style=\"color:red;\">b</span><span style=\"color:red;\">•</span><span style=\"color:red;\">=</span><span style=\"color:red;\">•</span><span style=\"color:red;\">i</span><span style=\"color:red;\">n</span><span style=\"color:red;\">p</span><span style=\"color:red;\">u</span><span style=\"color:red;\">t</span><span style=\"color:red;\">N</span><span style=\"color:red;\">u</span><span style=\"color:red;\">m</span><span style=\"color:red;\">↵\n",
       "</span><span style=\"color:red;\">•</span><span style=\"color:red;\">•</span><span style=\"color:red;\">•</span><span style=\"color:red;\">•</span><span style=\"color:red;\">c</span><span style=\"color:red;\">o</span><span style=\"color:red;\">n</span><span style=\"color:red;\">t</span><span style=\"color:red;\">i</span><span style=\"color:red;\">n</span><span style=\"color:red;\">u</span><span style=\"color:red;\">e</span><span style=\"color:red;\">↵\n",
       "</span><span style=\"color:red;\">•</span><span style=\"color:red;\">•</span><span style=\"color:red;\">e</span><span style=\"color:red;\">l</span><span style=\"color:red;\">i</span><span style=\"color:red;\">f</span><span style=\"color:red;\">•</span><span style=\"color:red;\">c</span><span style=\"color:red;\">•</span><span style=\"color:red;\"><</span><span style=\"color:red;\">•</span><span style=\"color:red;\">i</span><span style=\"color:red;\">n</span><span style=\"color:red;\">p</span><span style=\"color:red;\">u</span><span style=\"color:red;\">t</span><span style=\"color:red;\">N</span><span style=\"color:red;\">u</span><span style=\"color:red;\">m</span><span style=\"color:red;\">:</span><span style=\"color:red;\">↵\n",
       "</span><span style=\"color:red;\">•</span><span style=\"color:red;\">•</span><span style=\"color:red;\">•</span><span style=\"color:red;\">•</span><span style=\"color:red;\">c</span><span style=\"color:red;\">•</span><span style=\"color:red;\">=</span><span style=\"color:red;\">•</span><span style=\"color:red;\">i</span><span style=\"color:red;\">n</span><span style=\"color:red;\">p</span><span style=\"color:red;\">u</span><span style=\"color:red;\">t</span><span style=\"color:red;\">N</span><span style=\"color:red;\">u</span><span style=\"color:red;\">m</span><span style=\"color:red;\">↵\n",
       "</span><span style=\"color:red;\">↵\n",
       "</span><span style=\"color:red;\">p</span><span style=\"color:red;\">r</span><span style=\"color:red;\">i</span><span style=\"color:red;\">n</span><span style=\"color:red;\">t</span><span style=\"color:red;\">•</span><span style=\"color:red;\">a</span><span style=\"color:red;\">↵\n",
       "</span><span style=\"color:red;\">p</span><span style=\"color:red;\">r</span><span style=\"color:red;\">i</span><span style=\"color:red;\">n</span><span style=\"color:red;\">t</span><span style=\"color:red;\">•</span><span style=\"color:red;\">b</span><span style=\"color:red;\">↵\n",
       "</span><span style=\"color:red;\">p</span><span style=\"color:red;\">r</span><span style=\"color:red;\">i</span><span style=\"color:red;\">n</span><span style=\"color:red;\">t</span><span style=\"color:red;\">•</span><span style=\"color:red;\">c</span></pre>"
      ],
      "text/plain": [
       "<IPython.core.display.HTML object>"
      ]
     },
     "metadata": {},
     "output_type": "display_data"
    },
    {
     "data": {
      "text/html": [
       "<h2>The source code that is accepted:\n",
       "</h2>"
      ],
      "text/plain": [
       "<IPython.core.display.HTML object>"
      ]
     },
     "metadata": {},
     "output_type": "display_data"
    },
    {
     "data": {
      "text/html": [
       "<pre><span style=\"color:blue;\">i</span><span style=\"color:blue;\">n</span><span style=\"color:blue;\">p</span><span style=\"color:blue;\">u</span><span style=\"color:blue;\">t</span><span style=\"color:blue;\">N</span><span style=\"color:blue;\">u</span><span style=\"color:blue;\">m</span><span style=\"color:lightgrey;\">•</span><span style=\"color:black;\">=</span><span style=\"color:lightgrey;\">•</span><span style=\"color:blue;\">[</span><span style=\"color:blue;\">]</span><span style=\"color:lightgrey;\">↵\n",
       "</span><span style=\"color:lightgrey;\">↵\n",
       "</span><span style=\"color:black;\">f</span><span style=\"color:black;\">o</span><span style=\"color:black;\">r</span><span style=\"color:lightgrey;\">•</span><span style=\"color:black;\">i</span><span style=\"color:lightgrey;\">•</span><span style=\"color:black;\">i</span><span style=\"color:black;\">n</span><span style=\"color:lightgrey;\">•</span><span style=\"color:black;\">r</span><span style=\"color:black;\">a</span><span style=\"color:black;\">n</span><span style=\"color:black;\">g</span><span style=\"color:black;\">e</span><span style=\"color:black;\">(</span><span style=\"color:black;\">0</span><span style=\"color:black;\">,</span><span style=\"color:lightgrey;\">•</span><span style=\"color:black;\">1</span><span style=\"color:black;\">0</span><span style=\"color:black;\">)</span><span style=\"color:black;\">:</span><span style=\"color:lightgrey;\">↵\n",
       "</span><span style=\"color:lightgrey;\">•</span><span style=\"color:lightgrey;\">•</span><span style=\"color:black;\">i</span><span style=\"color:black;\">n</span><span style=\"color:black;\">p</span><span style=\"color:black;\">u</span><span style=\"color:black;\">t</span><span style=\"color:black;\">N</span><span style=\"color:black;\">u</span><span style=\"color:black;\">m</span><span style=\"color:blue;\">.</span><span style=\"color:blue;\">a</span><span style=\"color:blue;\">p</span><span style=\"color:blue;\">p</span><span style=\"color:blue;\">e</span><span style=\"color:blue;\">n</span><span style=\"color:blue;\">d</span><span style=\"color:blue;\">(</span><span style=\"color:black;\">i</span><span style=\"color:black;\">n</span><span style=\"color:black;\">t</span><span style=\"color:black;\">(</span><span style=\"color:black;\">r</span><span style=\"color:black;\">a</span><span style=\"color:black;\">w</span><span style=\"color:black;\">_</span><span style=\"color:black;\">i</span><span style=\"color:black;\">n</span><span style=\"color:black;\">p</span><span style=\"color:black;\">u</span><span style=\"color:black;\">t</span><span style=\"color:black;\">(</span><span style=\"color:black;\">)</span><span style=\"color:black;\">)</span><span style=\"color:blue;\">)</span><span style=\"color:blue;\">↵\n",
       "</span><span style=\"color:blue;\">↵\n",
       "</span><span style=\"color:blue;\">i</span><span style=\"color:blue;\">n</span><span style=\"color:blue;\">p</span><span style=\"color:blue;\">u</span><span style=\"color:blue;\">t</span><span style=\"color:blue;\">N</span><span style=\"color:blue;\">u</span><span style=\"color:blue;\">m</span><span style=\"color:blue;\">.</span><span style=\"color:blue;\">s</span><span style=\"color:blue;\">o</span><span style=\"color:blue;\">r</span><span style=\"color:blue;\">t</span><span style=\"color:blue;\">(</span><span style=\"color:blue;\">r</span><span style=\"color:blue;\">e</span><span style=\"color:blue;\">v</span><span style=\"color:blue;\">e</span><span style=\"color:blue;\">r</span><span style=\"color:blue;\">s</span><span style=\"color:blue;\">e</span><span style=\"color:blue;\">=</span><span style=\"color:blue;\">T</span><span style=\"color:blue;\">r</span><span style=\"color:blue;\">u</span><span style=\"color:blue;\">e</span><span style=\"color:blue;\">)</span><span style=\"color:blue;\">↵\n",
       "</span><span style=\"color:blue;\">↵\n",
       "</span><span style=\"color:blue;\">f</span><span style=\"color:blue;\">o</span><span style=\"color:blue;\">r</span><span style=\"color:blue;\">•</span><span style=\"color:blue;\">i</span><span style=\"color:blue;\">•</span><span style=\"color:blue;\">i</span><span style=\"color:blue;\">n</span><span style=\"color:blue;\">•</span><span style=\"color:blue;\">r</span><span style=\"color:blue;\">a</span><span style=\"color:blue;\">n</span><span style=\"color:blue;\">g</span><span style=\"color:blue;\">e</span><span style=\"color:blue;\">(</span><span style=\"color:blue;\">0</span><span style=\"color:blue;\">,</span><span style=\"color:blue;\">•</span><span style=\"color:blue;\">3</span><span style=\"color:blue;\">)</span><span style=\"color:blue;\">:</span><span style=\"color:blue;\">↵\n",
       "</span><span style=\"color:lightgrey;\">•</span><span style=\"color:lightgrey;\">•</span><span style=\"color:blue;\">p</span><span style=\"color:blue;\">r</span><span style=\"color:blue;\">i</span><span style=\"color:blue;\">n</span><span style=\"color:blue;\">t</span><span style=\"color:lightgrey;\">•</span><span style=\"color:black;\">i</span><span style=\"color:black;\">n</span><span style=\"color:black;\">p</span><span style=\"color:black;\">u</span><span style=\"color:black;\">t</span><span style=\"color:black;\">N</span><span style=\"color:black;\">u</span><span style=\"color:black;\">m</span><span style=\"color:blue;\">[</span><span style=\"color:black;\">i</span><span style=\"color:blue;\">]</span></pre>"
      ],
      "text/plain": [
       "<IPython.core.display.HTML object>"
      ]
     },
     "metadata": {},
     "output_type": "display_data"
    },
    {
     "data": {
      "text/html": [
       "<h2>The bug that should be assigned to the original_src:\n",
       "</h2>"
      ],
      "text/plain": [
       "<IPython.core.display.HTML object>"
      ]
     },
     "metadata": {},
     "output_type": "display_data"
    },
    {
     "data": {
      "text/html": [
       "<pre>SyntaxError: Missing parentheses in call to 'print'. Did you mean print(a)?</pre>"
      ],
      "text/plain": [
       "<IPython.core.display.HTML object>"
      ]
     },
     "metadata": {},
     "output_type": "display_data"
    },
    {
     "data": {
      "text/html": [
       "<h1>Example 43</h1>"
      ],
      "text/plain": [
       "<IPython.core.display.HTML object>"
      ]
     },
     "metadata": {},
     "output_type": "display_data"
    },
    {
     "data": {
      "text/html": [
       "<h2>The source code that is buggy:\n",
       "</h2>"
      ],
      "text/plain": [
       "<IPython.core.display.HTML object>"
      ]
     },
     "metadata": {},
     "output_type": "display_data"
    },
    {
     "data": {
      "text/html": [
       "<pre><span style=\"color:black;\">l</span><span style=\"color:black;\">i</span><span style=\"color:black;\">s</span><span style=\"color:lightgrey;\">•</span><span style=\"color:black;\">=</span><span style=\"color:lightgrey;\">•</span><span style=\"color:black;\">[</span><span style=\"color:black;\">]</span><span style=\"color:lightgrey;\">↵\n",
       "</span><span style=\"color:black;\">f</span><span style=\"color:black;\">o</span><span style=\"color:black;\">r</span><span style=\"color:lightgrey;\">•</span><span style=\"color:black;\">i</span><span style=\"color:lightgrey;\">•</span><span style=\"color:black;\">i</span><span style=\"color:black;\">n</span><span style=\"color:lightgrey;\">•</span><span style=\"color:black;\">x</span><span style=\"color:black;\">r</span><span style=\"color:black;\">a</span><span style=\"color:black;\">n</span><span style=\"color:black;\">g</span><span style=\"color:black;\">e</span><span style=\"color:black;\">(</span><span style=\"color:black;\">1</span><span style=\"color:black;\">0</span><span style=\"color:black;\">)</span><span style=\"color:black;\">:</span><span style=\"color:lightgrey;\">↵\n",
       "</span><span style=\"color:lightgrey;\">•</span><span style=\"color:black;\">l</span><span style=\"color:black;\">i</span><span style=\"color:black;\">s</span><span style=\"color:black;\">.</span><span style=\"color:black;\">a</span><span style=\"color:black;\">p</span><span style=\"color:black;\">p</span><span style=\"color:black;\">e</span><span style=\"color:black;\">n</span><span style=\"color:black;\">d</span><span style=\"color:black;\">(</span><span style=\"color:black;\">i</span><span style=\"color:black;\">n</span><span style=\"color:black;\">p</span><span style=\"color:black;\">u</span><span style=\"color:black;\">t</span><span style=\"color:black;\">(</span><span style=\"color:black;\">)</span><span style=\"color:black;\">)</span><span style=\"color:lightgrey;\">↵\n",
       "</span><span style=\"color:black;\">f</span><span style=\"color:black;\">o</span><span style=\"color:black;\">r</span><span style=\"color:lightgrey;\">•</span><span style=\"color:black;\">a</span><span style=\"color:lightgrey;\">•</span><span style=\"color:black;\">i</span><span style=\"color:black;\">n</span><span style=\"color:lightgrey;\">•</span><span style=\"color:black;\">s</span><span style=\"color:black;\">o</span><span style=\"color:black;\">r</span><span style=\"color:black;\">t</span><span style=\"color:black;\">e</span><span style=\"color:black;\">d</span><span style=\"color:black;\">(</span><span style=\"color:black;\">l</span><span style=\"color:black;\">i</span><span style=\"color:black;\">s</span><span style=\"color:black;\">,</span><span style=\"color:black;\">r</span><span style=\"color:black;\">e</span><span style=\"color:black;\">v</span><span style=\"color:black;\">e</span><span style=\"color:black;\">r</span><span style=\"color:black;\">s</span><span style=\"color:black;\">e</span><span style=\"color:red;\">d</span><span style=\"color:black;\">=</span><span style=\"color:black;\">T</span><span style=\"color:black;\">r</span><span style=\"color:black;\">u</span><span style=\"color:black;\">e</span><span style=\"color:black;\">)</span><span style=\"color:black;\">[</span><span style=\"color:black;\">:</span><span style=\"color:black;\">3</span><span style=\"color:black;\">]</span><span style=\"color:black;\">:</span><span style=\"color:lightgrey;\">↵\n",
       "</span><span style=\"color:lightgrey;\">•</span><span style=\"color:black;\">p</span><span style=\"color:black;\">r</span><span style=\"color:black;\">i</span><span style=\"color:black;\">n</span><span style=\"color:black;\">t</span><span style=\"color:lightgrey;\">•</span><span style=\"color:black;\">a</span></pre>"
      ],
      "text/plain": [
       "<IPython.core.display.HTML object>"
      ]
     },
     "metadata": {},
     "output_type": "display_data"
    },
    {
     "data": {
      "text/html": [
       "<h2>The source code that is accepted:\n",
       "</h2>"
      ],
      "text/plain": [
       "<IPython.core.display.HTML object>"
      ]
     },
     "metadata": {},
     "output_type": "display_data"
    },
    {
     "data": {
      "text/html": [
       "<pre><span style=\"color:black;\">l</span><span style=\"color:black;\">i</span><span style=\"color:black;\">s</span><span style=\"color:lightgrey;\">•</span><span style=\"color:black;\">=</span><span style=\"color:lightgrey;\">•</span><span style=\"color:black;\">[</span><span style=\"color:black;\">]</span><span style=\"color:lightgrey;\">↵\n",
       "</span><span style=\"color:black;\">f</span><span style=\"color:black;\">o</span><span style=\"color:black;\">r</span><span style=\"color:lightgrey;\">•</span><span style=\"color:black;\">i</span><span style=\"color:lightgrey;\">•</span><span style=\"color:black;\">i</span><span style=\"color:black;\">n</span><span style=\"color:lightgrey;\">•</span><span style=\"color:black;\">x</span><span style=\"color:black;\">r</span><span style=\"color:black;\">a</span><span style=\"color:black;\">n</span><span style=\"color:black;\">g</span><span style=\"color:black;\">e</span><span style=\"color:black;\">(</span><span style=\"color:black;\">1</span><span style=\"color:black;\">0</span><span style=\"color:black;\">)</span><span style=\"color:black;\">:</span><span style=\"color:lightgrey;\">↵\n",
       "</span><span style=\"color:lightgrey;\">•</span><span style=\"color:black;\">l</span><span style=\"color:black;\">i</span><span style=\"color:black;\">s</span><span style=\"color:black;\">.</span><span style=\"color:black;\">a</span><span style=\"color:black;\">p</span><span style=\"color:black;\">p</span><span style=\"color:black;\">e</span><span style=\"color:black;\">n</span><span style=\"color:black;\">d</span><span style=\"color:black;\">(</span><span style=\"color:black;\">i</span><span style=\"color:black;\">n</span><span style=\"color:black;\">p</span><span style=\"color:black;\">u</span><span style=\"color:black;\">t</span><span style=\"color:black;\">(</span><span style=\"color:black;\">)</span><span style=\"color:black;\">)</span><span style=\"color:lightgrey;\">↵\n",
       "</span><span style=\"color:black;\">f</span><span style=\"color:black;\">o</span><span style=\"color:black;\">r</span><span style=\"color:lightgrey;\">•</span><span style=\"color:black;\">a</span><span style=\"color:lightgrey;\">•</span><span style=\"color:black;\">i</span><span style=\"color:black;\">n</span><span style=\"color:lightgrey;\">•</span><span style=\"color:black;\">s</span><span style=\"color:black;\">o</span><span style=\"color:black;\">r</span><span style=\"color:black;\">t</span><span style=\"color:black;\">e</span><span style=\"color:black;\">d</span><span style=\"color:black;\">(</span><span style=\"color:black;\">l</span><span style=\"color:black;\">i</span><span style=\"color:black;\">s</span><span style=\"color:black;\">,</span><span style=\"color:black;\">r</span><span style=\"color:black;\">e</span><span style=\"color:black;\">v</span><span style=\"color:black;\">e</span><span style=\"color:black;\">r</span><span style=\"color:black;\">s</span><span style=\"color:black;\">e</span><span style=\"color:black;\">=</span><span style=\"color:black;\">T</span><span style=\"color:black;\">r</span><span style=\"color:black;\">u</span><span style=\"color:black;\">e</span><span style=\"color:black;\">)</span><span style=\"color:black;\">[</span><span style=\"color:black;\">:</span><span style=\"color:black;\">3</span><span style=\"color:black;\">]</span><span style=\"color:black;\">:</span><span style=\"color:lightgrey;\">↵\n",
       "</span><span style=\"color:lightgrey;\">•</span><span style=\"color:black;\">p</span><span style=\"color:black;\">r</span><span style=\"color:black;\">i</span><span style=\"color:black;\">n</span><span style=\"color:black;\">t</span><span style=\"color:lightgrey;\">•</span><span style=\"color:black;\">a</span></pre>"
      ],
      "text/plain": [
       "<IPython.core.display.HTML object>"
      ]
     },
     "metadata": {},
     "output_type": "display_data"
    },
    {
     "data": {
      "text/html": [
       "<h2>The bug that should be assigned to the original_src:\n",
       "</h2>"
      ],
      "text/plain": [
       "<IPython.core.display.HTML object>"
      ]
     },
     "metadata": {},
     "output_type": "display_data"
    },
    {
     "data": {
      "text/html": [
       "<pre>SyntaxError: Missing parentheses in call to 'print'. Did you mean print(a)?</pre>"
      ],
      "text/plain": [
       "<IPython.core.display.HTML object>"
      ]
     },
     "metadata": {},
     "output_type": "display_data"
    },
    {
     "data": {
      "text/html": [
       "<h1>Example 44</h1>"
      ],
      "text/plain": [
       "<IPython.core.display.HTML object>"
      ]
     },
     "metadata": {},
     "output_type": "display_data"
    },
    {
     "data": {
      "text/html": [
       "<h2>The source code that is buggy:\n",
       "</h2>"
      ],
      "text/plain": [
       "<IPython.core.display.HTML object>"
      ]
     },
     "metadata": {},
     "output_type": "display_data"
    },
    {
     "data": {
      "text/html": [
       "<pre><span style=\"color:black;\">x</span><span style=\"color:lightgrey;\">•</span><span style=\"color:black;\">=</span><span style=\"color:lightgrey;\">•</span><span style=\"color:black;\">[</span><span style=\"color:black;\">]</span><span style=\"color:lightgrey;\">↵\n",
       "</span><span style=\"color:black;\">a</span><span style=\"color:lightgrey;\">•</span><span style=\"color:black;\">=</span><span style=\"color:lightgrey;\">•</span><span style=\"color:black;\">1</span><span style=\"color:lightgrey;\">↵\n",
       "</span><span style=\"color:black;\">w</span><span style=\"color:black;\">h</span><span style=\"color:black;\">i</span><span style=\"color:black;\">l</span><span style=\"color:black;\">e</span><span style=\"color:lightgrey;\">•</span><span style=\"color:black;\">T</span><span style=\"color:black;\">r</span><span style=\"color:black;\">u</span><span style=\"color:black;\">e</span><span style=\"color:black;\">:</span><span style=\"color:lightgrey;\">↵\n",
       "</span><span style=\"color:black;\">\t</span><span style=\"color:black;\">i</span><span style=\"color:black;\">f</span><span style=\"color:lightgrey;\">•</span><span style=\"color:black;\">a</span><span style=\"color:lightgrey;\">•</span><span style=\"color:black;\">!</span><span style=\"color:black;\">=</span><span style=\"color:lightgrey;\">•</span><span style=\"color:black;\">1</span><span style=\"color:red;\">0</span><span style=\"color:black;\">:</span><span style=\"color:lightgrey;\">↵\n",
       "</span><span style=\"color:black;\">\t</span><span style=\"color:black;\">\t</span><span style=\"color:black;\">x</span><span style=\"color:black;\">.</span><span style=\"color:black;\">a</span><span style=\"color:black;\">p</span><span style=\"color:black;\">p</span><span style=\"color:black;\">e</span><span style=\"color:black;\">n</span><span style=\"color:black;\">d</span><span style=\"color:black;\">(</span><span style=\"color:black;\">i</span><span style=\"color:black;\">n</span><span style=\"color:black;\">t</span><span style=\"color:black;\">(</span><span style=\"color:black;\">r</span><span style=\"color:black;\">a</span><span style=\"color:black;\">w</span><span style=\"color:black;\">_</span><span style=\"color:black;\">i</span><span style=\"color:black;\">n</span><span style=\"color:black;\">p</span><span style=\"color:black;\">u</span><span style=\"color:black;\">t</span><span style=\"color:black;\">(</span><span style=\"color:black;\">)</span><span style=\"color:black;\">)</span><span style=\"color:black;\">)</span><span style=\"color:lightgrey;\">↵\n",
       "</span><span style=\"color:black;\">\t</span><span style=\"color:black;\">\t</span><span style=\"color:black;\">a</span><span style=\"color:lightgrey;\">•</span><span style=\"color:black;\">+</span><span style=\"color:black;\">=</span><span style=\"color:lightgrey;\">•</span><span style=\"color:black;\">1</span><span style=\"color:lightgrey;\">↵\n",
       "</span><span style=\"color:black;\">\t</span><span style=\"color:black;\">\t</span><span style=\"color:black;\">c</span><span style=\"color:black;\">o</span><span style=\"color:black;\">n</span><span style=\"color:black;\">t</span><span style=\"color:black;\">i</span><span style=\"color:black;\">n</span><span style=\"color:black;\">u</span><span style=\"color:black;\">e</span><span style=\"color:lightgrey;\">↵\n",
       "</span><span style=\"color:black;\">\t</span><span style=\"color:black;\">e</span><span style=\"color:black;\">l</span><span style=\"color:black;\">s</span><span style=\"color:black;\">e</span><span style=\"color:black;\">:</span><span style=\"color:lightgrey;\">↵\n",
       "</span><span style=\"color:black;\">\t</span><span style=\"color:black;\">\t</span><span style=\"color:black;\">b</span><span style=\"color:black;\">r</span><span style=\"color:black;\">e</span><span style=\"color:black;\">a</span><span style=\"color:black;\">k</span><span style=\"color:lightgrey;\">↵\n",
       "</span><span style=\"color:black;\">x</span><span style=\"color:black;\">.</span><span style=\"color:black;\">s</span><span style=\"color:black;\">o</span><span style=\"color:black;\">r</span><span style=\"color:black;\">t</span><span style=\"color:black;\">(</span><span style=\"color:black;\">)</span><span style=\"color:lightgrey;\">↵\n",
       "</span><span style=\"color:black;\">p</span><span style=\"color:black;\">r</span><span style=\"color:black;\">i</span><span style=\"color:black;\">n</span><span style=\"color:black;\">t</span><span style=\"color:lightgrey;\">•</span><span style=\"color:black;\">x</span><span style=\"color:black;\">[</span><span style=\"color:black;\">9</span><span style=\"color:black;\">]</span><span style=\"color:lightgrey;\">↵\n",
       "</span><span style=\"color:black;\">p</span><span style=\"color:black;\">r</span><span style=\"color:black;\">i</span><span style=\"color:black;\">n</span><span style=\"color:black;\">t</span><span style=\"color:lightgrey;\">•</span><span style=\"color:black;\">x</span><span style=\"color:black;\">[</span><span style=\"color:black;\">8</span><span style=\"color:black;\">]</span><span style=\"color:lightgrey;\">↵\n",
       "</span><span style=\"color:black;\">p</span><span style=\"color:black;\">r</span><span style=\"color:black;\">i</span><span style=\"color:black;\">n</span><span style=\"color:black;\">t</span><span style=\"color:lightgrey;\">•</span><span style=\"color:black;\">x</span><span style=\"color:black;\">[</span><span style=\"color:black;\">7</span><span style=\"color:black;\">]</span></pre>"
      ],
      "text/plain": [
       "<IPython.core.display.HTML object>"
      ]
     },
     "metadata": {},
     "output_type": "display_data"
    },
    {
     "data": {
      "text/html": [
       "<h2>The source code that is accepted:\n",
       "</h2>"
      ],
      "text/plain": [
       "<IPython.core.display.HTML object>"
      ]
     },
     "metadata": {},
     "output_type": "display_data"
    },
    {
     "data": {
      "text/html": [
       "<pre><span style=\"color:black;\">x</span><span style=\"color:lightgrey;\">•</span><span style=\"color:black;\">=</span><span style=\"color:lightgrey;\">•</span><span style=\"color:black;\">[</span><span style=\"color:black;\">]</span><span style=\"color:lightgrey;\">↵\n",
       "</span><span style=\"color:black;\">a</span><span style=\"color:lightgrey;\">•</span><span style=\"color:black;\">=</span><span style=\"color:lightgrey;\">•</span><span style=\"color:black;\">1</span><span style=\"color:lightgrey;\">↵\n",
       "</span><span style=\"color:black;\">w</span><span style=\"color:black;\">h</span><span style=\"color:black;\">i</span><span style=\"color:black;\">l</span><span style=\"color:black;\">e</span><span style=\"color:lightgrey;\">•</span><span style=\"color:black;\">T</span><span style=\"color:black;\">r</span><span style=\"color:black;\">u</span><span style=\"color:black;\">e</span><span style=\"color:black;\">:</span><span style=\"color:lightgrey;\">↵\n",
       "</span><span style=\"color:black;\">\t</span><span style=\"color:black;\">i</span><span style=\"color:black;\">f</span><span style=\"color:lightgrey;\">•</span><span style=\"color:black;\">a</span><span style=\"color:lightgrey;\">•</span><span style=\"color:black;\">!</span><span style=\"color:black;\">=</span><span style=\"color:lightgrey;\">•</span><span style=\"color:black;\">1</span><span style=\"color:blue;\">1</span><span style=\"color:black;\">:</span><span style=\"color:lightgrey;\">↵\n",
       "</span><span style=\"color:black;\">\t</span><span style=\"color:black;\">\t</span><span style=\"color:black;\">x</span><span style=\"color:black;\">.</span><span style=\"color:black;\">a</span><span style=\"color:black;\">p</span><span style=\"color:black;\">p</span><span style=\"color:black;\">e</span><span style=\"color:black;\">n</span><span style=\"color:black;\">d</span><span style=\"color:black;\">(</span><span style=\"color:black;\">i</span><span style=\"color:black;\">n</span><span style=\"color:black;\">t</span><span style=\"color:black;\">(</span><span style=\"color:black;\">r</span><span style=\"color:black;\">a</span><span style=\"color:black;\">w</span><span style=\"color:black;\">_</span><span style=\"color:black;\">i</span><span style=\"color:black;\">n</span><span style=\"color:black;\">p</span><span style=\"color:black;\">u</span><span style=\"color:black;\">t</span><span style=\"color:black;\">(</span><span style=\"color:black;\">)</span><span style=\"color:black;\">)</span><span style=\"color:black;\">)</span><span style=\"color:lightgrey;\">↵\n",
       "</span><span style=\"color:black;\">\t</span><span style=\"color:black;\">\t</span><span style=\"color:black;\">a</span><span style=\"color:lightgrey;\">•</span><span style=\"color:black;\">+</span><span style=\"color:black;\">=</span><span style=\"color:lightgrey;\">•</span><span style=\"color:black;\">1</span><span style=\"color:lightgrey;\">↵\n",
       "</span><span style=\"color:black;\">\t</span><span style=\"color:black;\">\t</span><span style=\"color:black;\">c</span><span style=\"color:black;\">o</span><span style=\"color:black;\">n</span><span style=\"color:black;\">t</span><span style=\"color:black;\">i</span><span style=\"color:black;\">n</span><span style=\"color:black;\">u</span><span style=\"color:black;\">e</span><span style=\"color:lightgrey;\">↵\n",
       "</span><span style=\"color:black;\">\t</span><span style=\"color:black;\">e</span><span style=\"color:black;\">l</span><span style=\"color:black;\">s</span><span style=\"color:black;\">e</span><span style=\"color:black;\">:</span><span style=\"color:lightgrey;\">↵\n",
       "</span><span style=\"color:black;\">\t</span><span style=\"color:black;\">\t</span><span style=\"color:black;\">b</span><span style=\"color:black;\">r</span><span style=\"color:black;\">e</span><span style=\"color:black;\">a</span><span style=\"color:black;\">k</span><span style=\"color:lightgrey;\">↵\n",
       "</span><span style=\"color:black;\">x</span><span style=\"color:black;\">.</span><span style=\"color:black;\">s</span><span style=\"color:black;\">o</span><span style=\"color:black;\">r</span><span style=\"color:black;\">t</span><span style=\"color:black;\">(</span><span style=\"color:black;\">)</span><span style=\"color:lightgrey;\">↵\n",
       "</span><span style=\"color:black;\">p</span><span style=\"color:black;\">r</span><span style=\"color:black;\">i</span><span style=\"color:black;\">n</span><span style=\"color:black;\">t</span><span style=\"color:lightgrey;\">•</span><span style=\"color:black;\">x</span><span style=\"color:black;\">[</span><span style=\"color:black;\">9</span><span style=\"color:black;\">]</span><span style=\"color:lightgrey;\">↵\n",
       "</span><span style=\"color:black;\">p</span><span style=\"color:black;\">r</span><span style=\"color:black;\">i</span><span style=\"color:black;\">n</span><span style=\"color:black;\">t</span><span style=\"color:lightgrey;\">•</span><span style=\"color:black;\">x</span><span style=\"color:black;\">[</span><span style=\"color:black;\">8</span><span style=\"color:black;\">]</span><span style=\"color:lightgrey;\">↵\n",
       "</span><span style=\"color:black;\">p</span><span style=\"color:black;\">r</span><span style=\"color:black;\">i</span><span style=\"color:black;\">n</span><span style=\"color:black;\">t</span><span style=\"color:lightgrey;\">•</span><span style=\"color:black;\">x</span><span style=\"color:black;\">[</span><span style=\"color:black;\">7</span><span style=\"color:black;\">]</span></pre>"
      ],
      "text/plain": [
       "<IPython.core.display.HTML object>"
      ]
     },
     "metadata": {},
     "output_type": "display_data"
    },
    {
     "data": {
      "text/html": [
       "<h2>The bug that should be assigned to the original_src:\n",
       "</h2>"
      ],
      "text/plain": [
       "<IPython.core.display.HTML object>"
      ]
     },
     "metadata": {},
     "output_type": "display_data"
    },
    {
     "data": {
      "text/html": [
       "<pre>SyntaxError: Missing parentheses in call to 'print'. Did you mean print(x[9])?</pre>"
      ],
      "text/plain": [
       "<IPython.core.display.HTML object>"
      ]
     },
     "metadata": {},
     "output_type": "display_data"
    },
    {
     "data": {
      "text/html": [
       "<h1>Example 45</h1>"
      ],
      "text/plain": [
       "<IPython.core.display.HTML object>"
      ]
     },
     "metadata": {},
     "output_type": "display_data"
    },
    {
     "data": {
      "text/html": [
       "<h2>The source code that is buggy:\n",
       "</h2>"
      ],
      "text/plain": [
       "<IPython.core.display.HTML object>"
      ]
     },
     "metadata": {},
     "output_type": "display_data"
    },
    {
     "data": {
      "text/html": [
       "<pre><span style=\"color:red;\">#</span><span style=\"color:red;\">!</span><span style=\"color:red;\">/</span><span style=\"color:red;\">u</span><span style=\"color:red;\">s</span><span style=\"color:red;\">r</span><span style=\"color:red;\">/</span><span style=\"color:red;\">b</span><span style=\"color:red;\">i</span><span style=\"color:red;\">n</span><span style=\"color:red;\">/</span><span style=\"color:red;\">p</span><span style=\"color:red;\">y</span><span style=\"color:red;\">t</span><span style=\"color:red;\">h</span><span style=\"color:red;\">o</span><span style=\"color:red;\">n</span><span style=\"color:red;\">↵\n",
       "</span><span style=\"color:red;\">↵\n",
       "</span><span style=\"color:black;\">i</span><span style=\"color:black;\">m</span><span style=\"color:black;\">p</span><span style=\"color:black;\">o</span><span style=\"color:black;\">r</span><span style=\"color:black;\">t</span><span style=\"color:lightgrey;\">•</span><span style=\"color:black;\">s</span><span style=\"color:black;\">y</span><span style=\"color:black;\">s</span><span style=\"color:lightgrey;\">↵\n",
       "</span><span style=\"color:lightgrey;\">↵\n",
       "</span><span style=\"color:black;\">a</span><span style=\"color:black;\">r</span><span style=\"color:black;\">r</span><span style=\"color:black;\">a</span><span style=\"color:black;\">y</span><span style=\"color:lightgrey;\">•</span><span style=\"color:black;\">=</span><span style=\"color:lightgrey;\">•</span><span style=\"color:black;\">[</span><span style=\"color:red;\">]</span><span style=\"color:lightgrey;\">↵\n",
       "</span><span style=\"color:lightgrey;\">↵\n",
       "</span><span style=\"color:black;\">f</span><span style=\"color:black;\">o</span><span style=\"color:black;\">r</span><span style=\"color:lightgrey;\">•</span><span style=\"color:black;\">i</span><span style=\"color:lightgrey;\">•</span><span style=\"color:black;\">i</span><span style=\"color:black;\">n</span><span style=\"color:lightgrey;\">•</span><span style=\"color:black;\">r</span><span style=\"color:black;\">a</span><span style=\"color:black;\">n</span><span style=\"color:black;\">g</span><span style=\"color:black;\">e</span><span style=\"color:black;\">(</span><span style=\"color:black;\">1</span><span style=\"color:black;\">0</span><span style=\"color:black;\">)</span><span style=\"color:black;\">:</span><span style=\"color:lightgrey;\">↵\n",
       "</span><span style=\"color:lightgrey;\">•</span><span style=\"color:lightgrey;\">•</span><span style=\"color:black;\">a</span><span style=\"color:black;\">r</span><span style=\"color:black;\">r</span><span style=\"color:black;\">a</span><span style=\"color:black;\">y</span><span style=\"color:black;\">[</span><span style=\"color:black;\">i</span><span style=\"color:black;\">]</span><span style=\"color:lightgrey;\">•</span><span style=\"color:black;\">=</span><span style=\"color:lightgrey;\">•</span><span style=\"color:red;\">r</span><span style=\"color:black;\">a</span><span style=\"color:black;\">w</span><span style=\"color:black;\">_</span><span style=\"color:black;\">i</span><span style=\"color:black;\">n</span><span style=\"color:black;\">p</span><span style=\"color:black;\">u</span><span style=\"color:black;\">t</span><span style=\"color:red;\">(</span><span style=\"color:black;\">)</span><span style=\"color:lightgrey;\">↵\n",
       "</span><span style=\"color:lightgrey;\">↵\n",
       "</span><span style=\"color:black;\">f</span><span style=\"color:black;\">o</span><span style=\"color:black;\">r</span><span style=\"color:lightgrey;\">•</span><span style=\"color:black;\">j</span><span style=\"color:lightgrey;\">•</span><span style=\"color:black;\">i</span><span style=\"color:black;\">n</span><span style=\"color:lightgrey;\">•</span><span style=\"color:black;\">r</span><span style=\"color:black;\">a</span><span style=\"color:black;\">n</span><span style=\"color:black;\">g</span><span style=\"color:black;\">e</span><span style=\"color:black;\">(</span><span style=\"color:black;\">3</span><span style=\"color:black;\">)</span><span style=\"color:black;\">:</span><span style=\"color:lightgrey;\">↵\n",
       "</span><span style=\"color:lightgrey;\">•</span><span style=\"color:lightgrey;\">•</span><span style=\"color:black;\">p</span><span style=\"color:black;\">r</span><span style=\"color:black;\">i</span><span style=\"color:black;\">n</span><span style=\"color:black;\">t</span><span style=\"color:lightgrey;\">•</span><span style=\"color:red;\">m</span><span style=\"color:red;\">a</span><span style=\"color:red;\">x</span><span style=\"color:black;\">(</span><span style=\"color:black;\">a</span><span style=\"color:black;\">r</span><span style=\"color:black;\">r</span><span style=\"color:black;\">a</span><span style=\"color:black;\">y</span><span style=\"color:red;\">)</span><span style=\"color:red;\">•</span><span style=\"color:red;\">+</span><span style=\"color:red;\">•</span><span style=\"color:red;\">\"</span><span style=\"color:red;\">\\</span><span style=\"color:red;\">n</span><span style=\"color:red;\">\"</span><span style=\"color:red;\">↵\n",
       "</span><span style=\"color:red;\">•</span><span style=\"color:red;\">•</span><span style=\"color:red;\">a</span><span style=\"color:red;\">r</span><span style=\"color:red;\">r</span><span style=\"color:red;\">a</span><span style=\"color:red;\">y</span><span style=\"color:red;\">.</span><span style=\"color:red;\">r</span><span style=\"color:red;\">e</span><span style=\"color:red;\">m</span><span style=\"color:red;\">o</span><span style=\"color:red;\">v</span><span style=\"color:red;\">e</span><span style=\"color:red;\">(</span><span style=\"color:red;\">m</span><span style=\"color:red;\">a</span><span style=\"color:red;\">x</span><span style=\"color:red;\">(</span><span style=\"color:red;\">a</span><span style=\"color:red;\">r</span><span style=\"color:red;\">r</span><span style=\"color:red;\">a</span><span style=\"color:red;\">y</span><span style=\"color:red;\">)</span><span style=\"color:black;\">)</span><span style=\"color:lightgrey;\">↵\n",
       "</span><span style=\"color:lightgrey;\">↵\n",
       "</span><span style=\"color:black;\">s</span><span style=\"color:black;\">y</span><span style=\"color:black;\">s</span><span style=\"color:black;\">.</span><span style=\"color:black;\">e</span><span style=\"color:black;\">x</span><span style=\"color:black;\">i</span><span style=\"color:black;\">t</span><span style=\"color:black;\">(</span><span style=\"color:black;\">)</span></pre>"
      ],
      "text/plain": [
       "<IPython.core.display.HTML object>"
      ]
     },
     "metadata": {},
     "output_type": "display_data"
    },
    {
     "data": {
      "text/html": [
       "<h2>The source code that is accepted:\n",
       "</h2>"
      ],
      "text/plain": [
       "<IPython.core.display.HTML object>"
      ]
     },
     "metadata": {},
     "output_type": "display_data"
    },
    {
     "data": {
      "text/html": [
       "<pre><span style=\"color:black;\">i</span><span style=\"color:black;\">m</span><span style=\"color:black;\">p</span><span style=\"color:black;\">o</span><span style=\"color:black;\">r</span><span style=\"color:black;\">t</span><span style=\"color:lightgrey;\">•</span><span style=\"color:black;\">s</span><span style=\"color:black;\">y</span><span style=\"color:black;\">s</span><span style=\"color:lightgrey;\">↵\n",
       "</span><span style=\"color:lightgrey;\">↵\n",
       "</span><span style=\"color:black;\">a</span><span style=\"color:black;\">r</span><span style=\"color:black;\">r</span><span style=\"color:black;\">a</span><span style=\"color:black;\">y</span><span style=\"color:lightgrey;\">•</span><span style=\"color:black;\">=</span><span style=\"color:lightgrey;\">•</span><span style=\"color:black;\">[</span><span style=\"color:blue;\">0</span><span style=\"color:blue;\">•</span><span style=\"color:blue;\">f</span><span style=\"color:blue;\">o</span><span style=\"color:blue;\">r</span><span style=\"color:blue;\">•</span><span style=\"color:blue;\">i</span><span style=\"color:blue;\">•</span><span style=\"color:blue;\">i</span><span style=\"color:blue;\">n</span><span style=\"color:blue;\">•</span><span style=\"color:blue;\">r</span><span style=\"color:blue;\">a</span><span style=\"color:blue;\">n</span><span style=\"color:blue;\">g</span><span style=\"color:blue;\">e</span><span style=\"color:blue;\">(</span><span style=\"color:blue;\">1</span><span style=\"color:blue;\">0</span><span style=\"color:blue;\">)</span><span style=\"color:blue;\">]</span><span style=\"color:lightgrey;\">↵\n",
       "</span><span style=\"color:lightgrey;\">↵\n",
       "</span><span style=\"color:black;\">f</span><span style=\"color:black;\">o</span><span style=\"color:black;\">r</span><span style=\"color:lightgrey;\">•</span><span style=\"color:black;\">i</span><span style=\"color:lightgrey;\">•</span><span style=\"color:black;\">i</span><span style=\"color:black;\">n</span><span style=\"color:lightgrey;\">•</span><span style=\"color:black;\">r</span><span style=\"color:black;\">a</span><span style=\"color:black;\">n</span><span style=\"color:black;\">g</span><span style=\"color:black;\">e</span><span style=\"color:black;\">(</span><span style=\"color:black;\">1</span><span style=\"color:black;\">0</span><span style=\"color:black;\">)</span><span style=\"color:black;\">:</span><span style=\"color:lightgrey;\">↵\n",
       "</span><span style=\"color:lightgrey;\">•</span><span style=\"color:lightgrey;\">•</span><span style=\"color:black;\">a</span><span style=\"color:black;\">r</span><span style=\"color:black;\">r</span><span style=\"color:black;\">a</span><span style=\"color:black;\">y</span><span style=\"color:black;\">[</span><span style=\"color:black;\">i</span><span style=\"color:black;\">]</span><span style=\"color:lightgrey;\">•</span><span style=\"color:black;\">=</span><span style=\"color:lightgrey;\">•</span><span style=\"color:blue;\">i</span><span style=\"color:blue;\">n</span><span style=\"color:blue;\">t</span><span style=\"color:blue;\">(</span><span style=\"color:blue;\">r</span><span style=\"color:black;\">a</span><span style=\"color:black;\">w</span><span style=\"color:black;\">_</span><span style=\"color:black;\">i</span><span style=\"color:black;\">n</span><span style=\"color:black;\">p</span><span style=\"color:black;\">u</span><span style=\"color:black;\">t</span><span style=\"color:blue;\">(</span><span style=\"color:blue;\">)</span><span style=\"color:blue;\">)</span><span style=\"color:blue;\">↵\n",
       "</span><span style=\"color:blue;\">↵\n",
       "</span><span style=\"color:blue;\">a</span><span style=\"color:blue;\">r</span><span style=\"color:blue;\">r</span><span style=\"color:blue;\">a</span><span style=\"color:blue;\">y</span><span style=\"color:blue;\">.</span><span style=\"color:blue;\">s</span><span style=\"color:blue;\">o</span><span style=\"color:blue;\">r</span><span style=\"color:blue;\">t</span><span style=\"color:blue;\">(</span><span style=\"color:blue;\">)</span><span style=\"color:blue;\">↵\n",
       "</span><span style=\"color:blue;\">a</span><span style=\"color:blue;\">r</span><span style=\"color:blue;\">r</span><span style=\"color:blue;\">a</span><span style=\"color:blue;\">y</span><span style=\"color:blue;\">.</span><span style=\"color:blue;\">r</span><span style=\"color:blue;\">e</span><span style=\"color:blue;\">v</span><span style=\"color:blue;\">e</span><span style=\"color:blue;\">r</span><span style=\"color:blue;\">s</span><span style=\"color:blue;\">e</span><span style=\"color:blue;\">(</span><span style=\"color:black;\">)</span><span style=\"color:lightgrey;\">↵\n",
       "</span><span style=\"color:lightgrey;\">↵\n",
       "</span><span style=\"color:black;\">f</span><span style=\"color:black;\">o</span><span style=\"color:black;\">r</span><span style=\"color:lightgrey;\">•</span><span style=\"color:black;\">j</span><span style=\"color:lightgrey;\">•</span><span style=\"color:black;\">i</span><span style=\"color:black;\">n</span><span style=\"color:lightgrey;\">•</span><span style=\"color:black;\">r</span><span style=\"color:black;\">a</span><span style=\"color:black;\">n</span><span style=\"color:black;\">g</span><span style=\"color:black;\">e</span><span style=\"color:black;\">(</span><span style=\"color:black;\">3</span><span style=\"color:black;\">)</span><span style=\"color:black;\">:</span><span style=\"color:lightgrey;\">↵\n",
       "</span><span style=\"color:lightgrey;\">•</span><span style=\"color:lightgrey;\">•</span><span style=\"color:black;\">p</span><span style=\"color:black;\">r</span><span style=\"color:black;\">i</span><span style=\"color:black;\">n</span><span style=\"color:black;\">t</span><span style=\"color:lightgrey;\">•</span><span style=\"color:blue;\">s</span><span style=\"color:blue;\">t</span><span style=\"color:blue;\">r</span><span style=\"color:black;\">(</span><span style=\"color:black;\">a</span><span style=\"color:black;\">r</span><span style=\"color:black;\">r</span><span style=\"color:black;\">a</span><span style=\"color:black;\">y</span><span style=\"color:blue;\">[</span><span style=\"color:blue;\">j</span><span style=\"color:blue;\">]</span><span style=\"color:black;\">)</span><span style=\"color:lightgrey;\">↵\n",
       "</span><span style=\"color:lightgrey;\">↵\n",
       "</span><span style=\"color:black;\">s</span><span style=\"color:black;\">y</span><span style=\"color:black;\">s</span><span style=\"color:black;\">.</span><span style=\"color:black;\">e</span><span style=\"color:black;\">x</span><span style=\"color:black;\">i</span><span style=\"color:black;\">t</span><span style=\"color:black;\">(</span><span style=\"color:black;\">)</span></pre>"
      ],
      "text/plain": [
       "<IPython.core.display.HTML object>"
      ]
     },
     "metadata": {},
     "output_type": "display_data"
    },
    {
     "data": {
      "text/html": [
       "<h2>The bug that should be assigned to the original_src:\n",
       "</h2>"
      ],
      "text/plain": [
       "<IPython.core.display.HTML object>"
      ]
     },
     "metadata": {},
     "output_type": "display_data"
    },
    {
     "data": {
      "text/html": [
       "<pre>SyntaxError: invalid syntax</pre>"
      ],
      "text/plain": [
       "<IPython.core.display.HTML object>"
      ]
     },
     "metadata": {},
     "output_type": "display_data"
    },
    {
     "data": {
      "text/html": [
       "<h1>Example 46</h1>"
      ],
      "text/plain": [
       "<IPython.core.display.HTML object>"
      ]
     },
     "metadata": {},
     "output_type": "display_data"
    },
    {
     "data": {
      "text/html": [
       "<h2>The source code that is buggy:\n",
       "</h2>"
      ],
      "text/plain": [
       "<IPython.core.display.HTML object>"
      ]
     },
     "metadata": {},
     "output_type": "display_data"
    },
    {
     "data": {
      "text/html": [
       "<pre><span style=\"color:black;\">m</span><span style=\"color:black;\">o</span><span style=\"color:black;\">u</span><span style=\"color:black;\">n</span><span style=\"color:black;\">t</span><span style=\"color:black;\">a</span><span style=\"color:black;\">i</span><span style=\"color:black;\">n</span><span style=\"color:black;\">s</span><span style=\"color:black;\">_</span><span style=\"color:black;\">h</span><span style=\"color:black;\">i</span><span style=\"color:black;\">g</span><span style=\"color:black;\">h</span><span style=\"color:black;\">=</span><span style=\"color:black;\">[</span><span style=\"color:black;\">]</span><span style=\"color:lightgrey;\">↵\n",
       "</span><span style=\"color:black;\">f</span><span style=\"color:black;\">o</span><span style=\"color:black;\">r</span><span style=\"color:lightgrey;\">•</span><span style=\"color:black;\">i</span><span style=\"color:lightgrey;\">•</span><span style=\"color:black;\">i</span><span style=\"color:black;\">n</span><span style=\"color:lightgrey;\">•</span><span style=\"color:black;\">r</span><span style=\"color:black;\">a</span><span style=\"color:black;\">n</span><span style=\"color:black;\">g</span><span style=\"color:black;\">e</span><span style=\"color:black;\">(</span><span style=\"color:black;\">1</span><span style=\"color:black;\">0</span><span style=\"color:black;\">)</span><span style=\"color:black;\">:</span><span style=\"color:lightgrey;\">↵\n",
       "</span><span style=\"color:lightgrey;\">•</span><span style=\"color:lightgrey;\">•</span><span style=\"color:lightgrey;\">•</span><span style=\"color:lightgrey;\">•</span><span style=\"color:black;\">m</span><span style=\"color:black;\">o</span><span style=\"color:black;\">u</span><span style=\"color:black;\">n</span><span style=\"color:black;\">t</span><span style=\"color:black;\">a</span><span style=\"color:black;\">i</span><span style=\"color:black;\">n</span><span style=\"color:black;\">s</span><span style=\"color:black;\">_</span><span style=\"color:black;\">h</span><span style=\"color:black;\">i</span><span style=\"color:black;\">g</span><span style=\"color:black;\">h</span><span style=\"color:black;\">.</span><span style=\"color:black;\">a</span><span style=\"color:black;\">p</span><span style=\"color:black;\">p</span><span style=\"color:black;\">e</span><span style=\"color:black;\">n</span><span style=\"color:black;\">d</span><span style=\"color:black;\">(</span><span style=\"color:black;\">i</span><span style=\"color:black;\">n</span><span style=\"color:black;\">t</span><span style=\"color:black;\">(</span><span style=\"color:black;\">i</span><span style=\"color:black;\">n</span><span style=\"color:black;\">p</span><span style=\"color:black;\">u</span><span style=\"color:black;\">t</span><span style=\"color:black;\">(</span><span style=\"color:black;\">)</span><span style=\"color:black;\">)</span><span style=\"color:black;\">)</span><span style=\"color:lightgrey;\">↵\n",
       "</span><span style=\"color:lightgrey;\">↵\n",
       "</span><span style=\"color:black;\">m</span><span style=\"color:black;\">o</span><span style=\"color:black;\">u</span><span style=\"color:black;\">n</span><span style=\"color:black;\">t</span><span style=\"color:black;\">a</span><span style=\"color:black;\">i</span><span style=\"color:black;\">n</span><span style=\"color:black;\">s</span><span style=\"color:black;\">_</span><span style=\"color:black;\">h</span><span style=\"color:black;\">i</span><span style=\"color:black;\">g</span><span style=\"color:black;\">h</span><span style=\"color:black;\">_</span><span style=\"color:black;\">c</span><span style=\"color:black;\">o</span><span style=\"color:black;\">p</span><span style=\"color:black;\">y</span><span style=\"color:black;\">=</span><span style=\"color:black;\">m</span><span style=\"color:black;\">o</span><span style=\"color:black;\">u</span><span style=\"color:black;\">n</span><span style=\"color:black;\">t</span><span style=\"color:black;\">a</span><span style=\"color:black;\">i</span><span style=\"color:black;\">n</span><span style=\"color:black;\">s</span><span style=\"color:black;\">_</span><span style=\"color:black;\">h</span><span style=\"color:black;\">i</span><span style=\"color:black;\">g</span><span style=\"color:black;\">h</span><span style=\"color:black;\">.</span><span style=\"color:black;\">c</span><span style=\"color:black;\">o</span><span style=\"color:black;\">p</span><span style=\"color:black;\">y</span><span style=\"color:black;\">(</span><span style=\"color:black;\">)</span><span style=\"color:lightgrey;\">↵\n",
       "</span><span style=\"color:black;\">f</span><span style=\"color:black;\">o</span><span style=\"color:black;\">r</span><span style=\"color:lightgrey;\">•</span><span style=\"color:black;\">i</span><span style=\"color:lightgrey;\">•</span><span style=\"color:black;\">i</span><span style=\"color:black;\">n</span><span style=\"color:lightgrey;\">•</span><span style=\"color:black;\">r</span><span style=\"color:black;\">a</span><span style=\"color:black;\">n</span><span style=\"color:black;\">g</span><span style=\"color:black;\">e</span><span style=\"color:black;\">(</span><span style=\"color:black;\">9</span><span style=\"color:black;\">)</span><span style=\"color:black;\">:</span><span style=\"color:lightgrey;\">↵\n",
       "</span><span style=\"color:lightgrey;\">•</span><span style=\"color:lightgrey;\">•</span><span style=\"color:lightgrey;\">•</span><span style=\"color:lightgrey;\">•</span><span style=\"color:black;\">f</span><span style=\"color:black;\">o</span><span style=\"color:black;\">r</span><span style=\"color:lightgrey;\">•</span><span style=\"color:black;\">j</span><span style=\"color:lightgrey;\">•</span><span style=\"color:black;\">i</span><span style=\"color:black;\">n</span><span style=\"color:lightgrey;\">•</span><span style=\"color:black;\">r</span><span style=\"color:black;\">a</span><span style=\"color:black;\">n</span><span style=\"color:black;\">g</span><span style=\"color:black;\">e</span><span style=\"color:black;\">(</span><span style=\"color:black;\">9</span><span style=\"color:black;\">)</span><span style=\"color:black;\">:</span><span style=\"color:lightgrey;\">↵\n",
       "</span><span style=\"color:lightgrey;\">•</span><span style=\"color:lightgrey;\">•</span><span style=\"color:lightgrey;\">•</span><span style=\"color:lightgrey;\">•</span><span style=\"color:lightgrey;\">•</span><span style=\"color:lightgrey;\">•</span><span style=\"color:lightgrey;\">•</span><span style=\"color:lightgrey;\">•</span><span style=\"color:black;\">i</span><span style=\"color:black;\">f</span><span style=\"color:lightgrey;\">•</span><span style=\"color:black;\">m</span><span style=\"color:black;\">o</span><span style=\"color:black;\">u</span><span style=\"color:black;\">n</span><span style=\"color:black;\">t</span><span style=\"color:black;\">a</span><span style=\"color:black;\">i</span><span style=\"color:black;\">n</span><span style=\"color:black;\">s</span><span style=\"color:black;\">_</span><span style=\"color:black;\">h</span><span style=\"color:black;\">i</span><span style=\"color:black;\">g</span><span style=\"color:black;\">h</span><span style=\"color:black;\">_</span><span style=\"color:black;\">c</span><span style=\"color:black;\">o</span><span style=\"color:black;\">p</span><span style=\"color:black;\">y</span><span style=\"color:black;\">[</span><span style=\"color:black;\">j</span><span style=\"color:black;\">]</span><span style=\"color:black;\">></span><span style=\"color:black;\">m</span><span style=\"color:black;\">o</span><span style=\"color:black;\">u</span><span style=\"color:black;\">n</span><span style=\"color:black;\">t</span><span style=\"color:black;\">a</span><span style=\"color:black;\">i</span><span style=\"color:black;\">n</span><span style=\"color:black;\">s</span><span style=\"color:black;\">_</span><span style=\"color:black;\">h</span><span style=\"color:black;\">i</span><span style=\"color:black;\">g</span><span style=\"color:black;\">h</span><span style=\"color:black;\">_</span><span style=\"color:black;\">c</span><span style=\"color:black;\">o</span><span style=\"color:black;\">p</span><span style=\"color:black;\">y</span><span style=\"color:black;\">[</span><span style=\"color:black;\">j</span><span style=\"color:black;\">+</span><span style=\"color:black;\">1</span><span style=\"color:black;\">]</span><span style=\"color:black;\">:</span><span style=\"color:lightgrey;\">↵\n",
       "</span><span style=\"color:lightgrey;\">•</span><span style=\"color:lightgrey;\">•</span><span style=\"color:lightgrey;\">•</span><span style=\"color:lightgrey;\">•</span><span style=\"color:lightgrey;\">•</span><span style=\"color:lightgrey;\">•</span><span style=\"color:lightgrey;\">•</span><span style=\"color:lightgrey;\">•</span><span style=\"color:lightgrey;\">•</span><span style=\"color:lightgrey;\">•</span><span style=\"color:lightgrey;\">•</span><span style=\"color:lightgrey;\">•</span><span style=\"color:black;\">n</span><span style=\"color:black;\">u</span><span style=\"color:black;\">m</span><span style=\"color:black;\">=</span><span style=\"color:black;\">m</span><span style=\"color:black;\">o</span><span style=\"color:black;\">u</span><span style=\"color:black;\">n</span><span style=\"color:black;\">t</span><span style=\"color:black;\">a</span><span style=\"color:black;\">i</span><span style=\"color:black;\">n</span><span style=\"color:black;\">s</span><span style=\"color:black;\">_</span><span style=\"color:black;\">h</span><span style=\"color:black;\">i</span><span style=\"color:black;\">g</span><span style=\"color:black;\">h</span><span style=\"color:black;\">_</span><span style=\"color:black;\">c</span><span style=\"color:black;\">o</span><span style=\"color:black;\">p</span><span style=\"color:black;\">y</span><span style=\"color:black;\">[</span><span style=\"color:black;\">j</span><span style=\"color:black;\">]</span><span style=\"color:lightgrey;\">↵\n",
       "</span><span style=\"color:lightgrey;\">•</span><span style=\"color:lightgrey;\">•</span><span style=\"color:lightgrey;\">•</span><span style=\"color:lightgrey;\">•</span><span style=\"color:lightgrey;\">•</span><span style=\"color:lightgrey;\">•</span><span style=\"color:lightgrey;\">•</span><span style=\"color:lightgrey;\">•</span><span style=\"color:lightgrey;\">•</span><span style=\"color:lightgrey;\">•</span><span style=\"color:lightgrey;\">•</span><span style=\"color:lightgrey;\">•</span><span style=\"color:black;\">m</span><span style=\"color:black;\">o</span><span style=\"color:black;\">u</span><span style=\"color:black;\">n</span><span style=\"color:black;\">t</span><span style=\"color:black;\">a</span><span style=\"color:black;\">i</span><span style=\"color:black;\">n</span><span style=\"color:black;\">s</span><span style=\"color:black;\">_</span><span style=\"color:black;\">h</span><span style=\"color:black;\">i</span><span style=\"color:black;\">g</span><span style=\"color:black;\">h</span><span style=\"color:black;\">_</span><span style=\"color:black;\">c</span><span style=\"color:black;\">o</span><span style=\"color:black;\">p</span><span style=\"color:black;\">y</span><span style=\"color:black;\">[</span><span style=\"color:black;\">j</span><span style=\"color:black;\">]</span><span style=\"color:black;\">=</span><span style=\"color:black;\">m</span><span style=\"color:black;\">o</span><span style=\"color:black;\">u</span><span style=\"color:black;\">n</span><span style=\"color:black;\">t</span><span style=\"color:black;\">a</span><span style=\"color:black;\">i</span><span style=\"color:black;\">n</span><span style=\"color:black;\">s</span><span style=\"color:black;\">_</span><span style=\"color:black;\">h</span><span style=\"color:black;\">i</span><span style=\"color:black;\">g</span><span style=\"color:black;\">h</span><span style=\"color:black;\">_</span><span style=\"color:black;\">c</span><span style=\"color:black;\">o</span><span style=\"color:black;\">p</span><span style=\"color:black;\">y</span><span style=\"color:black;\">[</span><span style=\"color:black;\">j</span><span style=\"color:black;\">+</span><span style=\"color:black;\">1</span><span style=\"color:black;\">]</span><span style=\"color:lightgrey;\">↵\n",
       "</span><span style=\"color:lightgrey;\">•</span><span style=\"color:lightgrey;\">•</span><span style=\"color:lightgrey;\">•</span><span style=\"color:lightgrey;\">•</span><span style=\"color:lightgrey;\">•</span><span style=\"color:lightgrey;\">•</span><span style=\"color:lightgrey;\">•</span><span style=\"color:lightgrey;\">•</span><span style=\"color:lightgrey;\">•</span><span style=\"color:lightgrey;\">•</span><span style=\"color:lightgrey;\">•</span><span style=\"color:lightgrey;\">•</span><span style=\"color:black;\">m</span><span style=\"color:black;\">o</span><span style=\"color:black;\">u</span><span style=\"color:black;\">n</span><span style=\"color:black;\">t</span><span style=\"color:black;\">a</span><span style=\"color:black;\">i</span><span style=\"color:black;\">n</span><span style=\"color:black;\">s</span><span style=\"color:black;\">_</span><span style=\"color:black;\">h</span><span style=\"color:black;\">i</span><span style=\"color:black;\">g</span><span style=\"color:black;\">h</span><span style=\"color:black;\">_</span><span style=\"color:black;\">c</span><span style=\"color:black;\">o</span><span style=\"color:black;\">p</span><span style=\"color:black;\">y</span><span style=\"color:black;\">[</span><span style=\"color:black;\">j</span><span style=\"color:black;\">+</span><span style=\"color:black;\">1</span><span style=\"color:black;\">]</span><span style=\"color:black;\">=</span><span style=\"color:black;\">n</span><span style=\"color:black;\">u</span><span style=\"color:black;\">m</span><span style=\"color:lightgrey;\">↵\n",
       "</span><span style=\"color:lightgrey;\">↵\n",
       "</span><span style=\"color:black;\">f</span><span style=\"color:black;\">o</span><span style=\"color:black;\">r</span><span style=\"color:lightgrey;\">•</span><span style=\"color:black;\">i</span><span style=\"color:lightgrey;\">•</span><span style=\"color:black;\">i</span><span style=\"color:black;\">n</span><span style=\"color:lightgrey;\">•</span><span style=\"color:black;\">r</span><span style=\"color:black;\">a</span><span style=\"color:black;\">n</span><span style=\"color:black;\">g</span><span style=\"color:black;\">e</span><span style=\"color:black;\">(</span><span style=\"color:black;\">3</span><span style=\"color:black;\">)</span><span style=\"color:black;\">:</span><span style=\"color:lightgrey;\">↵\n",
       "</span><span style=\"color:lightgrey;\">•</span><span style=\"color:lightgrey;\">•</span><span style=\"color:lightgrey;\">•</span><span style=\"color:lightgrey;\">•</span><span style=\"color:black;\">p</span><span style=\"color:black;\">r</span><span style=\"color:black;\">i</span><span style=\"color:black;\">n</span><span style=\"color:black;\">t</span><span style=\"color:black;\">(</span><span style=\"color:black;\">m</span><span style=\"color:black;\">o</span><span style=\"color:black;\">u</span><span style=\"color:black;\">n</span><span style=\"color:black;\">t</span><span style=\"color:black;\">a</span><span style=\"color:black;\">i</span><span style=\"color:black;\">n</span><span style=\"color:black;\">s</span><span style=\"color:black;\">_</span><span style=\"color:black;\">h</span><span style=\"color:black;\">i</span><span style=\"color:black;\">g</span><span style=\"color:black;\">h</span><span style=\"color:black;\">_</span><span style=\"color:black;\">c</span><span style=\"color:black;\">o</span><span style=\"color:black;\">p</span><span style=\"color:black;\">y</span><span style=\"color:black;\">[</span><span style=\"color:black;\">9</span><span style=\"color:black;\">-</span><span style=\"color:black;\">i</span></pre>"
      ],
      "text/plain": [
       "<IPython.core.display.HTML object>"
      ]
     },
     "metadata": {},
     "output_type": "display_data"
    },
    {
     "data": {
      "text/html": [
       "<h2>The source code that is accepted:\n",
       "</h2>"
      ],
      "text/plain": [
       "<IPython.core.display.HTML object>"
      ]
     },
     "metadata": {},
     "output_type": "display_data"
    },
    {
     "data": {
      "text/html": [
       "<pre><span style=\"color:black;\">m</span><span style=\"color:black;\">o</span><span style=\"color:black;\">u</span><span style=\"color:black;\">n</span><span style=\"color:black;\">t</span><span style=\"color:black;\">a</span><span style=\"color:black;\">i</span><span style=\"color:black;\">n</span><span style=\"color:black;\">s</span><span style=\"color:black;\">_</span><span style=\"color:black;\">h</span><span style=\"color:black;\">i</span><span style=\"color:black;\">g</span><span style=\"color:black;\">h</span><span style=\"color:black;\">=</span><span style=\"color:black;\">[</span><span style=\"color:black;\">]</span><span style=\"color:lightgrey;\">↵\n",
       "</span><span style=\"color:black;\">f</span><span style=\"color:black;\">o</span><span style=\"color:black;\">r</span><span style=\"color:lightgrey;\">•</span><span style=\"color:black;\">i</span><span style=\"color:lightgrey;\">•</span><span style=\"color:black;\">i</span><span style=\"color:black;\">n</span><span style=\"color:lightgrey;\">•</span><span style=\"color:black;\">r</span><span style=\"color:black;\">a</span><span style=\"color:black;\">n</span><span style=\"color:black;\">g</span><span style=\"color:black;\">e</span><span style=\"color:black;\">(</span><span style=\"color:black;\">1</span><span style=\"color:black;\">0</span><span style=\"color:black;\">)</span><span style=\"color:black;\">:</span><span style=\"color:lightgrey;\">↵\n",
       "</span><span style=\"color:lightgrey;\">•</span><span style=\"color:lightgrey;\">•</span><span style=\"color:lightgrey;\">•</span><span style=\"color:lightgrey;\">•</span><span style=\"color:black;\">m</span><span style=\"color:black;\">o</span><span style=\"color:black;\">u</span><span style=\"color:black;\">n</span><span style=\"color:black;\">t</span><span style=\"color:black;\">a</span><span style=\"color:black;\">i</span><span style=\"color:black;\">n</span><span style=\"color:black;\">s</span><span style=\"color:black;\">_</span><span style=\"color:black;\">h</span><span style=\"color:black;\">i</span><span style=\"color:black;\">g</span><span style=\"color:black;\">h</span><span style=\"color:black;\">.</span><span style=\"color:black;\">a</span><span style=\"color:black;\">p</span><span style=\"color:black;\">p</span><span style=\"color:black;\">e</span><span style=\"color:black;\">n</span><span style=\"color:black;\">d</span><span style=\"color:black;\">(</span><span style=\"color:black;\">i</span><span style=\"color:black;\">n</span><span style=\"color:black;\">t</span><span style=\"color:black;\">(</span><span style=\"color:black;\">i</span><span style=\"color:black;\">n</span><span style=\"color:black;\">p</span><span style=\"color:black;\">u</span><span style=\"color:black;\">t</span><span style=\"color:black;\">(</span><span style=\"color:black;\">)</span><span style=\"color:black;\">)</span><span style=\"color:black;\">)</span><span style=\"color:lightgrey;\">↵\n",
       "</span><span style=\"color:lightgrey;\">↵\n",
       "</span><span style=\"color:black;\">m</span><span style=\"color:black;\">o</span><span style=\"color:black;\">u</span><span style=\"color:black;\">n</span><span style=\"color:black;\">t</span><span style=\"color:black;\">a</span><span style=\"color:black;\">i</span><span style=\"color:black;\">n</span><span style=\"color:black;\">s</span><span style=\"color:black;\">_</span><span style=\"color:black;\">h</span><span style=\"color:black;\">i</span><span style=\"color:black;\">g</span><span style=\"color:black;\">h</span><span style=\"color:black;\">_</span><span style=\"color:black;\">c</span><span style=\"color:black;\">o</span><span style=\"color:black;\">p</span><span style=\"color:black;\">y</span><span style=\"color:black;\">=</span><span style=\"color:black;\">m</span><span style=\"color:black;\">o</span><span style=\"color:black;\">u</span><span style=\"color:black;\">n</span><span style=\"color:black;\">t</span><span style=\"color:black;\">a</span><span style=\"color:black;\">i</span><span style=\"color:black;\">n</span><span style=\"color:black;\">s</span><span style=\"color:black;\">_</span><span style=\"color:black;\">h</span><span style=\"color:black;\">i</span><span style=\"color:black;\">g</span><span style=\"color:black;\">h</span><span style=\"color:black;\">.</span><span style=\"color:black;\">c</span><span style=\"color:black;\">o</span><span style=\"color:black;\">p</span><span style=\"color:black;\">y</span><span style=\"color:black;\">(</span><span style=\"color:black;\">)</span><span style=\"color:lightgrey;\">↵\n",
       "</span><span style=\"color:black;\">f</span><span style=\"color:black;\">o</span><span style=\"color:black;\">r</span><span style=\"color:lightgrey;\">•</span><span style=\"color:black;\">i</span><span style=\"color:lightgrey;\">•</span><span style=\"color:black;\">i</span><span style=\"color:black;\">n</span><span style=\"color:lightgrey;\">•</span><span style=\"color:black;\">r</span><span style=\"color:black;\">a</span><span style=\"color:black;\">n</span><span style=\"color:black;\">g</span><span style=\"color:black;\">e</span><span style=\"color:black;\">(</span><span style=\"color:black;\">9</span><span style=\"color:black;\">)</span><span style=\"color:black;\">:</span><span style=\"color:lightgrey;\">↵\n",
       "</span><span style=\"color:lightgrey;\">•</span><span style=\"color:lightgrey;\">•</span><span style=\"color:lightgrey;\">•</span><span style=\"color:lightgrey;\">•</span><span style=\"color:black;\">f</span><span style=\"color:black;\">o</span><span style=\"color:black;\">r</span><span style=\"color:lightgrey;\">•</span><span style=\"color:black;\">j</span><span style=\"color:lightgrey;\">•</span><span style=\"color:black;\">i</span><span style=\"color:black;\">n</span><span style=\"color:lightgrey;\">•</span><span style=\"color:black;\">r</span><span style=\"color:black;\">a</span><span style=\"color:black;\">n</span><span style=\"color:black;\">g</span><span style=\"color:black;\">e</span><span style=\"color:black;\">(</span><span style=\"color:black;\">9</span><span style=\"color:black;\">)</span><span style=\"color:black;\">:</span><span style=\"color:lightgrey;\">↵\n",
       "</span><span style=\"color:lightgrey;\">•</span><span style=\"color:lightgrey;\">•</span><span style=\"color:lightgrey;\">•</span><span style=\"color:lightgrey;\">•</span><span style=\"color:lightgrey;\">•</span><span style=\"color:lightgrey;\">•</span><span style=\"color:lightgrey;\">•</span><span style=\"color:lightgrey;\">•</span><span style=\"color:black;\">i</span><span style=\"color:black;\">f</span><span style=\"color:lightgrey;\">•</span><span style=\"color:black;\">m</span><span style=\"color:black;\">o</span><span style=\"color:black;\">u</span><span style=\"color:black;\">n</span><span style=\"color:black;\">t</span><span style=\"color:black;\">a</span><span style=\"color:black;\">i</span><span style=\"color:black;\">n</span><span style=\"color:black;\">s</span><span style=\"color:black;\">_</span><span style=\"color:black;\">h</span><span style=\"color:black;\">i</span><span style=\"color:black;\">g</span><span style=\"color:black;\">h</span><span style=\"color:black;\">_</span><span style=\"color:black;\">c</span><span style=\"color:black;\">o</span><span style=\"color:black;\">p</span><span style=\"color:black;\">y</span><span style=\"color:black;\">[</span><span style=\"color:black;\">j</span><span style=\"color:black;\">]</span><span style=\"color:black;\">></span><span style=\"color:black;\">m</span><span style=\"color:black;\">o</span><span style=\"color:black;\">u</span><span style=\"color:black;\">n</span><span style=\"color:black;\">t</span><span style=\"color:black;\">a</span><span style=\"color:black;\">i</span><span style=\"color:black;\">n</span><span style=\"color:black;\">s</span><span style=\"color:black;\">_</span><span style=\"color:black;\">h</span><span style=\"color:black;\">i</span><span style=\"color:black;\">g</span><span style=\"color:black;\">h</span><span style=\"color:black;\">_</span><span style=\"color:black;\">c</span><span style=\"color:black;\">o</span><span style=\"color:black;\">p</span><span style=\"color:black;\">y</span><span style=\"color:black;\">[</span><span style=\"color:black;\">j</span><span style=\"color:black;\">+</span><span style=\"color:black;\">1</span><span style=\"color:black;\">]</span><span style=\"color:black;\">:</span><span style=\"color:lightgrey;\">↵\n",
       "</span><span style=\"color:lightgrey;\">•</span><span style=\"color:lightgrey;\">•</span><span style=\"color:lightgrey;\">•</span><span style=\"color:lightgrey;\">•</span><span style=\"color:lightgrey;\">•</span><span style=\"color:lightgrey;\">•</span><span style=\"color:lightgrey;\">•</span><span style=\"color:lightgrey;\">•</span><span style=\"color:lightgrey;\">•</span><span style=\"color:lightgrey;\">•</span><span style=\"color:lightgrey;\">•</span><span style=\"color:lightgrey;\">•</span><span style=\"color:black;\">n</span><span style=\"color:black;\">u</span><span style=\"color:black;\">m</span><span style=\"color:black;\">=</span><span style=\"color:black;\">m</span><span style=\"color:black;\">o</span><span style=\"color:black;\">u</span><span style=\"color:black;\">n</span><span style=\"color:black;\">t</span><span style=\"color:black;\">a</span><span style=\"color:black;\">i</span><span style=\"color:black;\">n</span><span style=\"color:black;\">s</span><span style=\"color:black;\">_</span><span style=\"color:black;\">h</span><span style=\"color:black;\">i</span><span style=\"color:black;\">g</span><span style=\"color:black;\">h</span><span style=\"color:black;\">_</span><span style=\"color:black;\">c</span><span style=\"color:black;\">o</span><span style=\"color:black;\">p</span><span style=\"color:black;\">y</span><span style=\"color:black;\">[</span><span style=\"color:black;\">j</span><span style=\"color:black;\">]</span><span style=\"color:lightgrey;\">↵\n",
       "</span><span style=\"color:lightgrey;\">•</span><span style=\"color:lightgrey;\">•</span><span style=\"color:lightgrey;\">•</span><span style=\"color:lightgrey;\">•</span><span style=\"color:lightgrey;\">•</span><span style=\"color:lightgrey;\">•</span><span style=\"color:lightgrey;\">•</span><span style=\"color:lightgrey;\">•</span><span style=\"color:lightgrey;\">•</span><span style=\"color:lightgrey;\">•</span><span style=\"color:lightgrey;\">•</span><span style=\"color:lightgrey;\">•</span><span style=\"color:black;\">m</span><span style=\"color:black;\">o</span><span style=\"color:black;\">u</span><span style=\"color:black;\">n</span><span style=\"color:black;\">t</span><span style=\"color:black;\">a</span><span style=\"color:black;\">i</span><span style=\"color:black;\">n</span><span style=\"color:black;\">s</span><span style=\"color:black;\">_</span><span style=\"color:black;\">h</span><span style=\"color:black;\">i</span><span style=\"color:black;\">g</span><span style=\"color:black;\">h</span><span style=\"color:black;\">_</span><span style=\"color:black;\">c</span><span style=\"color:black;\">o</span><span style=\"color:black;\">p</span><span style=\"color:black;\">y</span><span style=\"color:black;\">[</span><span style=\"color:black;\">j</span><span style=\"color:black;\">]</span><span style=\"color:black;\">=</span><span style=\"color:black;\">m</span><span style=\"color:black;\">o</span><span style=\"color:black;\">u</span><span style=\"color:black;\">n</span><span style=\"color:black;\">t</span><span style=\"color:black;\">a</span><span style=\"color:black;\">i</span><span style=\"color:black;\">n</span><span style=\"color:black;\">s</span><span style=\"color:black;\">_</span><span style=\"color:black;\">h</span><span style=\"color:black;\">i</span><span style=\"color:black;\">g</span><span style=\"color:black;\">h</span><span style=\"color:black;\">_</span><span style=\"color:black;\">c</span><span style=\"color:black;\">o</span><span style=\"color:black;\">p</span><span style=\"color:black;\">y</span><span style=\"color:black;\">[</span><span style=\"color:black;\">j</span><span style=\"color:black;\">+</span><span style=\"color:black;\">1</span><span style=\"color:black;\">]</span><span style=\"color:lightgrey;\">↵\n",
       "</span><span style=\"color:lightgrey;\">•</span><span style=\"color:lightgrey;\">•</span><span style=\"color:lightgrey;\">•</span><span style=\"color:lightgrey;\">•</span><span style=\"color:lightgrey;\">•</span><span style=\"color:lightgrey;\">•</span><span style=\"color:lightgrey;\">•</span><span style=\"color:lightgrey;\">•</span><span style=\"color:lightgrey;\">•</span><span style=\"color:lightgrey;\">•</span><span style=\"color:lightgrey;\">•</span><span style=\"color:lightgrey;\">•</span><span style=\"color:black;\">m</span><span style=\"color:black;\">o</span><span style=\"color:black;\">u</span><span style=\"color:black;\">n</span><span style=\"color:black;\">t</span><span style=\"color:black;\">a</span><span style=\"color:black;\">i</span><span style=\"color:black;\">n</span><span style=\"color:black;\">s</span><span style=\"color:black;\">_</span><span style=\"color:black;\">h</span><span style=\"color:black;\">i</span><span style=\"color:black;\">g</span><span style=\"color:black;\">h</span><span style=\"color:black;\">_</span><span style=\"color:black;\">c</span><span style=\"color:black;\">o</span><span style=\"color:black;\">p</span><span style=\"color:black;\">y</span><span style=\"color:black;\">[</span><span style=\"color:black;\">j</span><span style=\"color:black;\">+</span><span style=\"color:black;\">1</span><span style=\"color:black;\">]</span><span style=\"color:black;\">=</span><span style=\"color:black;\">n</span><span style=\"color:black;\">u</span><span style=\"color:black;\">m</span><span style=\"color:lightgrey;\">↵\n",
       "</span><span style=\"color:lightgrey;\">↵\n",
       "</span><span style=\"color:black;\">f</span><span style=\"color:black;\">o</span><span style=\"color:black;\">r</span><span style=\"color:lightgrey;\">•</span><span style=\"color:black;\">i</span><span style=\"color:lightgrey;\">•</span><span style=\"color:black;\">i</span><span style=\"color:black;\">n</span><span style=\"color:lightgrey;\">•</span><span style=\"color:black;\">r</span><span style=\"color:black;\">a</span><span style=\"color:black;\">n</span><span style=\"color:black;\">g</span><span style=\"color:black;\">e</span><span style=\"color:black;\">(</span><span style=\"color:black;\">3</span><span style=\"color:black;\">)</span><span style=\"color:black;\">:</span><span style=\"color:lightgrey;\">↵\n",
       "</span><span style=\"color:lightgrey;\">•</span><span style=\"color:lightgrey;\">•</span><span style=\"color:lightgrey;\">•</span><span style=\"color:lightgrey;\">•</span><span style=\"color:black;\">p</span><span style=\"color:black;\">r</span><span style=\"color:black;\">i</span><span style=\"color:black;\">n</span><span style=\"color:black;\">t</span><span style=\"color:black;\">(</span><span style=\"color:black;\">m</span><span style=\"color:black;\">o</span><span style=\"color:black;\">u</span><span style=\"color:black;\">n</span><span style=\"color:black;\">t</span><span style=\"color:black;\">a</span><span style=\"color:black;\">i</span><span style=\"color:black;\">n</span><span style=\"color:black;\">s</span><span style=\"color:black;\">_</span><span style=\"color:black;\">h</span><span style=\"color:black;\">i</span><span style=\"color:black;\">g</span><span style=\"color:black;\">h</span><span style=\"color:black;\">_</span><span style=\"color:black;\">c</span><span style=\"color:black;\">o</span><span style=\"color:black;\">p</span><span style=\"color:black;\">y</span><span style=\"color:black;\">[</span><span style=\"color:black;\">9</span><span style=\"color:black;\">-</span><span style=\"color:black;\">i</span><span style=\"color:blue;\">]</span><span style=\"color:blue;\">)</span></pre>"
      ],
      "text/plain": [
       "<IPython.core.display.HTML object>"
      ]
     },
     "metadata": {},
     "output_type": "display_data"
    },
    {
     "data": {
      "text/html": [
       "<h2>The bug that should be assigned to the original_src:\n",
       "</h2>"
      ],
      "text/plain": [
       "<IPython.core.display.HTML object>"
      ]
     },
     "metadata": {},
     "output_type": "display_data"
    },
    {
     "data": {
      "text/html": [
       "<pre>SyntaxError: unexpected EOF while parsing</pre>"
      ],
      "text/plain": [
       "<IPython.core.display.HTML object>"
      ]
     },
     "metadata": {},
     "output_type": "display_data"
    },
    {
     "data": {
      "text/html": [
       "<h1>Example 47</h1>"
      ],
      "text/plain": [
       "<IPython.core.display.HTML object>"
      ]
     },
     "metadata": {},
     "output_type": "display_data"
    },
    {
     "data": {
      "text/html": [
       "<h2>The source code that is buggy:\n",
       "</h2>"
      ],
      "text/plain": [
       "<IPython.core.display.HTML object>"
      ]
     },
     "metadata": {},
     "output_type": "display_data"
    },
    {
     "data": {
      "text/html": [
       "<pre><span style=\"color:black;\">l</span><span style=\"color:black;\">i</span><span style=\"color:black;\">s</span><span style=\"color:black;\">t</span><span style=\"color:black;\">=</span><span style=\"color:black;\">[</span><span style=\"color:black;\">]</span><span style=\"color:lightgrey;\">↵\n",
       "</span><span style=\"color:black;\">f</span><span style=\"color:black;\">o</span><span style=\"color:black;\">r</span><span style=\"color:lightgrey;\">•</span><span style=\"color:black;\">i</span><span style=\"color:lightgrey;\">•</span><span style=\"color:black;\">i</span><span style=\"color:black;\">n</span><span style=\"color:lightgrey;\">•</span><span style=\"color:black;\">r</span><span style=\"color:black;\">a</span><span style=\"color:black;\">n</span><span style=\"color:black;\">g</span><span style=\"color:black;\">e</span><span style=\"color:black;\">(</span><span style=\"color:black;\">1</span><span style=\"color:black;\">0</span><span style=\"color:black;\">)</span><span style=\"color:black;\">:</span><span style=\"color:lightgrey;\">↵\n",
       "</span><span style=\"color:lightgrey;\">•</span><span style=\"color:lightgrey;\">•</span><span style=\"color:lightgrey;\">•</span><span style=\"color:black;\">l</span><span style=\"color:black;\">i</span><span style=\"color:black;\">s</span><span style=\"color:black;\">t</span><span style=\"color:black;\">.</span><span style=\"color:black;\">a</span><span style=\"color:black;\">p</span><span style=\"color:black;\">p</span><span style=\"color:black;\">e</span><span style=\"color:black;\">n</span><span style=\"color:black;\">d</span><span style=\"color:black;\">(</span><span style=\"color:black;\">i</span><span style=\"color:black;\">n</span><span style=\"color:black;\">p</span><span style=\"color:black;\">u</span><span style=\"color:black;\">t</span><span style=\"color:black;\">(</span><span style=\"color:black;\">)</span><span style=\"color:black;\">)</span><span style=\"color:lightgrey;\">↵\n",
       "</span><span style=\"color:black;\">l</span><span style=\"color:black;\">i</span><span style=\"color:black;\">s</span><span style=\"color:black;\">t</span><span style=\"color:black;\">.</span><span style=\"color:black;\">s</span><span style=\"color:black;\">o</span><span style=\"color:black;\">r</span><span style=\"color:black;\">t</span><span style=\"color:black;\">(</span><span style=\"color:black;\">r</span><span style=\"color:black;\">e</span><span style=\"color:black;\">v</span><span style=\"color:black;\">e</span><span style=\"color:black;\">r</span><span style=\"color:black;\">s</span><span style=\"color:black;\">e</span><span style=\"color:black;\">=</span><span style=\"color:red;\">t</span><span style=\"color:black;\">r</span><span style=\"color:black;\">u</span><span style=\"color:black;\">e</span><span style=\"color:black;\">)</span><span style=\"color:lightgrey;\">↵\n",
       "</span><span style=\"color:black;\">f</span><span style=\"color:black;\">o</span><span style=\"color:black;\">r</span><span style=\"color:lightgrey;\">•</span><span style=\"color:black;\">i</span><span style=\"color:lightgrey;\">•</span><span style=\"color:black;\">i</span><span style=\"color:black;\">n</span><span style=\"color:lightgrey;\">•</span><span style=\"color:black;\">r</span><span style=\"color:black;\">a</span><span style=\"color:black;\">n</span><span style=\"color:black;\">g</span><span style=\"color:black;\">e</span><span style=\"color:black;\">(</span><span style=\"color:black;\">3</span><span style=\"color:black;\">)</span><span style=\"color:black;\">:</span><span style=\"color:lightgrey;\">↵\n",
       "</span><span style=\"color:lightgrey;\">•</span><span style=\"color:lightgrey;\">•</span><span style=\"color:lightgrey;\">•</span><span style=\"color:black;\">p</span><span style=\"color:black;\">r</span><span style=\"color:black;\">i</span><span style=\"color:black;\">n</span><span style=\"color:black;\">t</span><span style=\"color:lightgrey;\">•</span><span style=\"color:black;\">l</span><span style=\"color:black;\">i</span><span style=\"color:black;\">s</span><span style=\"color:black;\">t</span><span style=\"color:black;\">[</span><span style=\"color:black;\">i</span><span style=\"color:black;\">]</span><span style=\"color:red;\">•</span><span style=\"color:red;\">•</span><span style=\"color:red;\">•</span></pre>"
      ],
      "text/plain": [
       "<IPython.core.display.HTML object>"
      ]
     },
     "metadata": {},
     "output_type": "display_data"
    },
    {
     "data": {
      "text/html": [
       "<h2>The source code that is accepted:\n",
       "</h2>"
      ],
      "text/plain": [
       "<IPython.core.display.HTML object>"
      ]
     },
     "metadata": {},
     "output_type": "display_data"
    },
    {
     "data": {
      "text/html": [
       "<pre><span style=\"color:black;\">l</span><span style=\"color:black;\">i</span><span style=\"color:black;\">s</span><span style=\"color:black;\">t</span><span style=\"color:black;\">=</span><span style=\"color:black;\">[</span><span style=\"color:black;\">]</span><span style=\"color:lightgrey;\">↵\n",
       "</span><span style=\"color:black;\">f</span><span style=\"color:black;\">o</span><span style=\"color:black;\">r</span><span style=\"color:lightgrey;\">•</span><span style=\"color:black;\">i</span><span style=\"color:lightgrey;\">•</span><span style=\"color:black;\">i</span><span style=\"color:black;\">n</span><span style=\"color:lightgrey;\">•</span><span style=\"color:black;\">r</span><span style=\"color:black;\">a</span><span style=\"color:black;\">n</span><span style=\"color:black;\">g</span><span style=\"color:black;\">e</span><span style=\"color:black;\">(</span><span style=\"color:black;\">1</span><span style=\"color:black;\">0</span><span style=\"color:black;\">)</span><span style=\"color:black;\">:</span><span style=\"color:lightgrey;\">↵\n",
       "</span><span style=\"color:lightgrey;\">•</span><span style=\"color:lightgrey;\">•</span><span style=\"color:lightgrey;\">•</span><span style=\"color:black;\">l</span><span style=\"color:black;\">i</span><span style=\"color:black;\">s</span><span style=\"color:black;\">t</span><span style=\"color:black;\">.</span><span style=\"color:black;\">a</span><span style=\"color:black;\">p</span><span style=\"color:black;\">p</span><span style=\"color:black;\">e</span><span style=\"color:black;\">n</span><span style=\"color:black;\">d</span><span style=\"color:black;\">(</span><span style=\"color:black;\">i</span><span style=\"color:black;\">n</span><span style=\"color:black;\">p</span><span style=\"color:black;\">u</span><span style=\"color:black;\">t</span><span style=\"color:black;\">(</span><span style=\"color:black;\">)</span><span style=\"color:black;\">)</span><span style=\"color:lightgrey;\">↵\n",
       "</span><span style=\"color:black;\">l</span><span style=\"color:black;\">i</span><span style=\"color:black;\">s</span><span style=\"color:black;\">t</span><span style=\"color:black;\">.</span><span style=\"color:black;\">s</span><span style=\"color:black;\">o</span><span style=\"color:black;\">r</span><span style=\"color:black;\">t</span><span style=\"color:black;\">(</span><span style=\"color:black;\">r</span><span style=\"color:black;\">e</span><span style=\"color:black;\">v</span><span style=\"color:black;\">e</span><span style=\"color:black;\">r</span><span style=\"color:black;\">s</span><span style=\"color:black;\">e</span><span style=\"color:black;\">=</span><span style=\"color:blue;\">T</span><span style=\"color:black;\">r</span><span style=\"color:black;\">u</span><span style=\"color:black;\">e</span><span style=\"color:black;\">)</span><span style=\"color:lightgrey;\">↵\n",
       "</span><span style=\"color:black;\">f</span><span style=\"color:black;\">o</span><span style=\"color:black;\">r</span><span style=\"color:lightgrey;\">•</span><span style=\"color:black;\">i</span><span style=\"color:lightgrey;\">•</span><span style=\"color:black;\">i</span><span style=\"color:black;\">n</span><span style=\"color:lightgrey;\">•</span><span style=\"color:black;\">r</span><span style=\"color:black;\">a</span><span style=\"color:black;\">n</span><span style=\"color:black;\">g</span><span style=\"color:black;\">e</span><span style=\"color:black;\">(</span><span style=\"color:black;\">3</span><span style=\"color:black;\">)</span><span style=\"color:black;\">:</span><span style=\"color:lightgrey;\">↵\n",
       "</span><span style=\"color:lightgrey;\">•</span><span style=\"color:lightgrey;\">•</span><span style=\"color:lightgrey;\">•</span><span style=\"color:black;\">p</span><span style=\"color:black;\">r</span><span style=\"color:black;\">i</span><span style=\"color:black;\">n</span><span style=\"color:black;\">t</span><span style=\"color:lightgrey;\">•</span><span style=\"color:black;\">l</span><span style=\"color:black;\">i</span><span style=\"color:black;\">s</span><span style=\"color:black;\">t</span><span style=\"color:black;\">[</span><span style=\"color:black;\">i</span><span style=\"color:black;\">]</span></pre>"
      ],
      "text/plain": [
       "<IPython.core.display.HTML object>"
      ]
     },
     "metadata": {},
     "output_type": "display_data"
    },
    {
     "data": {
      "text/html": [
       "<h2>The bug that should be assigned to the original_src:\n",
       "</h2>"
      ],
      "text/plain": [
       "<IPython.core.display.HTML object>"
      ]
     },
     "metadata": {},
     "output_type": "display_data"
    },
    {
     "data": {
      "text/html": [
       "<pre>SyntaxError: Missing parentheses in call to 'print'. Did you mean print(list[i])?</pre>"
      ],
      "text/plain": [
       "<IPython.core.display.HTML object>"
      ]
     },
     "metadata": {},
     "output_type": "display_data"
    },
    {
     "data": {
      "text/html": [
       "<h1>Example 48</h1>"
      ],
      "text/plain": [
       "<IPython.core.display.HTML object>"
      ]
     },
     "metadata": {},
     "output_type": "display_data"
    },
    {
     "data": {
      "text/html": [
       "<h2>The source code that is buggy:\n",
       "</h2>"
      ],
      "text/plain": [
       "<IPython.core.display.HTML object>"
      ]
     },
     "metadata": {},
     "output_type": "display_data"
    },
    {
     "data": {
      "text/html": [
       "<pre><span style=\"color:red;\">m</span><span style=\"color:red;\">a</span><span style=\"color:black;\">p</span><span style=\"color:red;\">(</span><span style=\"color:red;\">p</span><span style=\"color:black;\">r</span><span style=\"color:red;\">i</span><span style=\"color:black;\">n</span><span style=\"color:red;\">t</span><span style=\"color:red;\">,</span><span style=\"color:black;\">[</span><span style=\"color:black;\">i</span><span style=\"color:black;\">n</span><span style=\"color:black;\">t</span><span style=\"color:black;\">(</span><span style=\"color:red;\">n</span><span style=\"color:black;\">)</span><span style=\"color:lightgrey;\">•</span><span style=\"color:black;\">f</span><span style=\"color:black;\">o</span><span style=\"color:black;\">r</span><span style=\"color:lightgrey;\">•</span><span style=\"color:red;\">n</span><span style=\"color:lightgrey;\">•</span><span style=\"color:black;\">i</span><span style=\"color:black;\">n</span><span style=\"color:lightgrey;\">•</span><span style=\"color:black;\">s</span><span style=\"color:black;\">t</span><span style=\"color:black;\">d</span><span style=\"color:black;\">i</span><span style=\"color:black;\">n</span><span style=\"color:black;\">]</span><span style=\"color:red;\">.</span><span style=\"color:red;\">s</span><span style=\"color:red;\">o</span><span style=\"color:red;\">r</span><span style=\"color:red;\">t</span><span style=\"color:red;\">(</span><span style=\"color:black;\">r</span><span style=\"color:black;\">e</span><span style=\"color:black;\">v</span><span style=\"color:black;\">e</span><span style=\"color:black;\">r</span><span style=\"color:black;\">s</span><span style=\"color:black;\">e</span><span style=\"color:black;\">=</span><span style=\"color:black;\">T</span><span style=\"color:black;\">r</span><span style=\"color:black;\">u</span><span style=\"color:black;\">e</span><span style=\"color:black;\">)</span><span style=\"color:black;\">[</span><span style=\"color:black;\">0</span><span style=\"color:black;\">:</span><span style=\"color:black;\">3</span><span style=\"color:black;\">]</span><span style=\"color:red;\">)</span></pre>"
      ],
      "text/plain": [
       "<IPython.core.display.HTML object>"
      ]
     },
     "metadata": {},
     "output_type": "display_data"
    },
    {
     "data": {
      "text/html": [
       "<h2>The source code that is accepted:\n",
       "</h2>"
      ],
      "text/plain": [
       "<IPython.core.display.HTML object>"
      ]
     },
     "metadata": {},
     "output_type": "display_data"
    },
    {
     "data": {
      "text/html": [
       "<pre><span style=\"color:blue;\">f</span><span style=\"color:blue;\">r</span><span style=\"color:blue;\">o</span><span style=\"color:blue;\">m</span><span style=\"color:blue;\">•</span><span style=\"color:blue;\">s</span><span style=\"color:blue;\">y</span><span style=\"color:blue;\">s</span><span style=\"color:blue;\">•</span><span style=\"color:blue;\">i</span><span style=\"color:blue;\">m</span><span style=\"color:black;\">p</span><span style=\"color:blue;\">o</span><span style=\"color:black;\">r</span><span style=\"color:blue;\">t</span><span style=\"color:blue;\">•</span><span style=\"color:blue;\">s</span><span style=\"color:blue;\">t</span><span style=\"color:blue;\">d</span><span style=\"color:blue;\">i</span><span style=\"color:black;\">n</span><span style=\"color:blue;\">↵\n",
       "</span><span style=\"color:blue;\">↵\n",
       "</span><span style=\"color:blue;\">f</span><span style=\"color:blue;\">o</span><span style=\"color:blue;\">r</span><span style=\"color:blue;\">•</span><span style=\"color:blue;\">x</span><span style=\"color:blue;\">•</span><span style=\"color:blue;\">i</span><span style=\"color:blue;\">n</span><span style=\"color:blue;\">•</span><span style=\"color:blue;\">s</span><span style=\"color:blue;\">o</span><span style=\"color:blue;\">r</span><span style=\"color:blue;\">t</span><span style=\"color:blue;\">e</span><span style=\"color:blue;\">d</span><span style=\"color:blue;\">(</span><span style=\"color:black;\">[</span><span style=\"color:black;\">i</span><span style=\"color:black;\">n</span><span style=\"color:black;\">t</span><span style=\"color:black;\">(</span><span style=\"color:blue;\">l</span><span style=\"color:black;\">)</span><span style=\"color:lightgrey;\">•</span><span style=\"color:black;\">f</span><span style=\"color:black;\">o</span><span style=\"color:black;\">r</span><span style=\"color:lightgrey;\">•</span><span style=\"color:blue;\">l</span><span style=\"color:lightgrey;\">•</span><span style=\"color:black;\">i</span><span style=\"color:black;\">n</span><span style=\"color:lightgrey;\">•</span><span style=\"color:black;\">s</span><span style=\"color:black;\">t</span><span style=\"color:black;\">d</span><span style=\"color:black;\">i</span><span style=\"color:black;\">n</span><span style=\"color:black;\">]</span><span style=\"color:blue;\">,</span><span style=\"color:black;\">r</span><span style=\"color:black;\">e</span><span style=\"color:black;\">v</span><span style=\"color:black;\">e</span><span style=\"color:black;\">r</span><span style=\"color:black;\">s</span><span style=\"color:black;\">e</span><span style=\"color:black;\">=</span><span style=\"color:black;\">T</span><span style=\"color:black;\">r</span><span style=\"color:black;\">u</span><span style=\"color:black;\">e</span><span style=\"color:black;\">)</span><span style=\"color:black;\">[</span><span style=\"color:black;\">0</span><span style=\"color:black;\">:</span><span style=\"color:black;\">3</span><span style=\"color:black;\">]</span><span style=\"color:blue;\">:</span><span style=\"color:blue;\">↵\n",
       "</span><span style=\"color:blue;\">•</span><span style=\"color:blue;\">•</span><span style=\"color:blue;\">p</span><span style=\"color:blue;\">r</span><span style=\"color:blue;\">i</span><span style=\"color:blue;\">n</span><span style=\"color:blue;\">t</span><span style=\"color:blue;\">(</span><span style=\"color:blue;\">x</span><span style=\"color:blue;\">)</span></pre>"
      ],
      "text/plain": [
       "<IPython.core.display.HTML object>"
      ]
     },
     "metadata": {},
     "output_type": "display_data"
    },
    {
     "data": {
      "text/html": [
       "<h2>The bug that should be assigned to the original_src:\n",
       "</h2>"
      ],
      "text/plain": [
       "<IPython.core.display.HTML object>"
      ]
     },
     "metadata": {},
     "output_type": "display_data"
    },
    {
     "data": {
      "text/html": [
       "<pre>NameError: name 'stdin' is not defined</pre>"
      ],
      "text/plain": [
       "<IPython.core.display.HTML object>"
      ]
     },
     "metadata": {},
     "output_type": "display_data"
    },
    {
     "data": {
      "text/html": [
       "<h1>Example 49</h1>"
      ],
      "text/plain": [
       "<IPython.core.display.HTML object>"
      ]
     },
     "metadata": {},
     "output_type": "display_data"
    },
    {
     "data": {
      "text/html": [
       "<h2>The source code that is buggy:\n",
       "</h2>"
      ],
      "text/plain": [
       "<IPython.core.display.HTML object>"
      ]
     },
     "metadata": {},
     "output_type": "display_data"
    },
    {
     "data": {
      "text/html": [
       "<pre><span style=\"color:black;\">n</span><span style=\"color:black;\">u</span><span style=\"color:black;\">m</span><span style=\"color:lightgrey;\">•</span><span style=\"color:black;\">=</span><span style=\"color:lightgrey;\">•</span><span style=\"color:black;\">[</span><span style=\"color:black;\">i</span><span style=\"color:black;\">n</span><span style=\"color:black;\">t</span><span style=\"color:black;\">(</span><span style=\"color:black;\">i</span><span style=\"color:black;\">n</span><span style=\"color:black;\">p</span><span style=\"color:black;\">u</span><span style=\"color:black;\">t</span><span style=\"color:black;\">(</span><span style=\"color:black;\">)</span><span style=\"color:black;\">)</span><span style=\"color:lightgrey;\">•</span><span style=\"color:black;\">f</span><span style=\"color:black;\">o</span><span style=\"color:black;\">r</span><span style=\"color:lightgrey;\">•</span><span style=\"color:black;\">i</span><span style=\"color:lightgrey;\">•</span><span style=\"color:black;\">i</span><span style=\"color:black;\">n</span><span style=\"color:lightgrey;\">•</span><span style=\"color:black;\">r</span><span style=\"color:black;\">a</span><span style=\"color:black;\">n</span><span style=\"color:black;\">g</span><span style=\"color:black;\">e</span><span style=\"color:black;\">(</span><span style=\"color:black;\">1</span><span style=\"color:black;\">0</span><span style=\"color:black;\">)</span><span style=\"color:black;\">]</span><span style=\"color:lightgrey;\">↵\n",
       "</span><span style=\"color:black;\">n</span><span style=\"color:black;\">u</span><span style=\"color:black;\">m</span><span style=\"color:black;\">.</span><span style=\"color:black;\">s</span><span style=\"color:black;\">o</span><span style=\"color:black;\">r</span><span style=\"color:black;\">t</span><span style=\"color:black;\">(</span><span style=\"color:black;\">r</span><span style=\"color:black;\">e</span><span style=\"color:black;\">v</span><span style=\"color:black;\">e</span><span style=\"color:black;\">r</span><span style=\"color:black;\">s</span><span style=\"color:black;\">e</span><span style=\"color:black;\">=</span><span style=\"color:black;\">T</span><span style=\"color:black;\">r</span><span style=\"color:black;\">u</span><span style=\"color:black;\">e</span><span style=\"color:black;\">)</span><span style=\"color:lightgrey;\">↵\n",
       "</span><span style=\"color:black;\">f</span><span style=\"color:black;\">o</span><span style=\"color:black;\">r</span><span style=\"color:lightgrey;\">•</span><span style=\"color:black;\">i</span><span style=\"color:lightgrey;\">•</span><span style=\"color:black;\">i</span><span style=\"color:black;\">n</span><span style=\"color:lightgrey;\">•</span><span style=\"color:black;\">r</span><span style=\"color:black;\">a</span><span style=\"color:black;\">n</span><span style=\"color:black;\">g</span><span style=\"color:black;\">e</span><span style=\"color:red;\">[</span><span style=\"color:red;\">0</span><span style=\"color:red;\">:</span><span style=\"color:black;\">3</span><span style=\"color:red;\">]</span><span style=\"color:black;\">:</span><span style=\"color:lightgrey;\">↵\n",
       "</span><span style=\"color:lightgrey;\">•</span><span style=\"color:lightgrey;\">•</span><span style=\"color:lightgrey;\">•</span><span style=\"color:lightgrey;\">•</span><span style=\"color:black;\">p</span><span style=\"color:black;\">r</span><span style=\"color:black;\">i</span><span style=\"color:black;\">n</span><span style=\"color:black;\">t</span><span style=\"color:black;\">(</span><span style=\"color:black;\">n</span><span style=\"color:black;\">u</span><span style=\"color:black;\">m</span><span style=\"color:black;\">[</span><span style=\"color:black;\">i</span><span style=\"color:black;\">]</span><span style=\"color:black;\">)</span><span style=\"color:lightgrey;\">↵\n",
       "</span></pre>"
      ],
      "text/plain": [
       "<IPython.core.display.HTML object>"
      ]
     },
     "metadata": {},
     "output_type": "display_data"
    },
    {
     "data": {
      "text/html": [
       "<h2>The source code that is accepted:\n",
       "</h2>"
      ],
      "text/plain": [
       "<IPython.core.display.HTML object>"
      ]
     },
     "metadata": {},
     "output_type": "display_data"
    },
    {
     "data": {
      "text/html": [
       "<pre><span style=\"color:black;\">n</span><span style=\"color:black;\">u</span><span style=\"color:black;\">m</span><span style=\"color:lightgrey;\">•</span><span style=\"color:black;\">=</span><span style=\"color:lightgrey;\">•</span><span style=\"color:black;\">[</span><span style=\"color:black;\">i</span><span style=\"color:black;\">n</span><span style=\"color:black;\">t</span><span style=\"color:black;\">(</span><span style=\"color:black;\">i</span><span style=\"color:black;\">n</span><span style=\"color:black;\">p</span><span style=\"color:black;\">u</span><span style=\"color:black;\">t</span><span style=\"color:black;\">(</span><span style=\"color:black;\">)</span><span style=\"color:black;\">)</span><span style=\"color:lightgrey;\">•</span><span style=\"color:black;\">f</span><span style=\"color:black;\">o</span><span style=\"color:black;\">r</span><span style=\"color:lightgrey;\">•</span><span style=\"color:black;\">i</span><span style=\"color:lightgrey;\">•</span><span style=\"color:black;\">i</span><span style=\"color:black;\">n</span><span style=\"color:lightgrey;\">•</span><span style=\"color:black;\">r</span><span style=\"color:black;\">a</span><span style=\"color:black;\">n</span><span style=\"color:black;\">g</span><span style=\"color:black;\">e</span><span style=\"color:black;\">(</span><span style=\"color:black;\">1</span><span style=\"color:black;\">0</span><span style=\"color:black;\">)</span><span style=\"color:black;\">]</span><span style=\"color:lightgrey;\">↵\n",
       "</span><span style=\"color:black;\">n</span><span style=\"color:black;\">u</span><span style=\"color:black;\">m</span><span style=\"color:black;\">.</span><span style=\"color:black;\">s</span><span style=\"color:black;\">o</span><span style=\"color:black;\">r</span><span style=\"color:black;\">t</span><span style=\"color:black;\">(</span><span style=\"color:black;\">r</span><span style=\"color:black;\">e</span><span style=\"color:black;\">v</span><span style=\"color:black;\">e</span><span style=\"color:black;\">r</span><span style=\"color:black;\">s</span><span style=\"color:black;\">e</span><span style=\"color:black;\">=</span><span style=\"color:black;\">T</span><span style=\"color:black;\">r</span><span style=\"color:black;\">u</span><span style=\"color:black;\">e</span><span style=\"color:black;\">)</span><span style=\"color:lightgrey;\">↵\n",
       "</span><span style=\"color:black;\">f</span><span style=\"color:black;\">o</span><span style=\"color:black;\">r</span><span style=\"color:lightgrey;\">•</span><span style=\"color:black;\">i</span><span style=\"color:lightgrey;\">•</span><span style=\"color:black;\">i</span><span style=\"color:black;\">n</span><span style=\"color:lightgrey;\">•</span><span style=\"color:black;\">r</span><span style=\"color:black;\">a</span><span style=\"color:black;\">n</span><span style=\"color:black;\">g</span><span style=\"color:black;\">e</span><span style=\"color:blue;\">(</span><span style=\"color:black;\">3</span><span style=\"color:blue;\">)</span><span style=\"color:black;\">:</span><span style=\"color:lightgrey;\">↵\n",
       "</span><span style=\"color:lightgrey;\">•</span><span style=\"color:lightgrey;\">•</span><span style=\"color:lightgrey;\">•</span><span style=\"color:lightgrey;\">•</span><span style=\"color:black;\">p</span><span style=\"color:black;\">r</span><span style=\"color:black;\">i</span><span style=\"color:black;\">n</span><span style=\"color:black;\">t</span><span style=\"color:black;\">(</span><span style=\"color:black;\">n</span><span style=\"color:black;\">u</span><span style=\"color:black;\">m</span><span style=\"color:black;\">[</span><span style=\"color:black;\">i</span><span style=\"color:black;\">]</span><span style=\"color:black;\">)</span><span style=\"color:lightgrey;\">↵\n",
       "</span></pre>"
      ],
      "text/plain": [
       "<IPython.core.display.HTML object>"
      ]
     },
     "metadata": {},
     "output_type": "display_data"
    },
    {
     "data": {
      "text/html": [
       "<h2>The bug that should be assigned to the original_src:\n",
       "</h2>"
      ],
      "text/plain": [
       "<IPython.core.display.HTML object>"
      ]
     },
     "metadata": {},
     "output_type": "display_data"
    },
    {
     "data": {
      "text/html": [
       "<pre>TypeError: 'type' object is not subscriptable</pre>"
      ],
      "text/plain": [
       "<IPython.core.display.HTML object>"
      ]
     },
     "metadata": {},
     "output_type": "display_data"
    }
   ],
   "source": [
    "# Idealy the model will take as input the original_src code and will identify both the error_description and the location of the bug\n",
    "# We can achieve this by comparing the original_src with the changed_src, which will give us the location of the bug (e.g. the modification)\n",
    "# Next we will want to create a new model that will take as input the original_src, and the found bug and will learn to make the modifications\n",
    "# on the original code such that it gets accepted\n",
    "\n",
    "buggy_df = codenetpy_df[codenetpy_df['returncode'] != 0]\n",
    "\n",
    "def color_source(source_code, mask, color):\n",
    "    text = \"\"\n",
    "    for i, char in enumerate(source_code):\n",
    "        norm_color = 'black'\n",
    "        if char == ' ':\n",
    "            char = \"•\"\n",
    "            norm_color = 'lightgrey'\n",
    "        if char == '\\n':\n",
    "            char = \"↵\\n\"\n",
    "            norm_color = 'lightgrey'\n",
    "        text += f'<span style=\"color:{color if mask[i] == 1 else norm_color};\">{char}</span>'\n",
    "    return \"<pre>\" + text + \"</pre>\"\n",
    "\n",
    "def display_example(i):\n",
    "    original_src, changed_src, error_class_extra = buggy_df.iloc[i][['original_src', 'changed_src', 'error_class_extra']]\n",
    "\n",
    "    s = SequenceMatcher(None, original_src, changed_src)\n",
    "    opcodes = [x for x in s.get_opcodes() if x[0] != \"equal\"]\n",
    "\n",
    "    original_labels = np.zeros_like(list(original_src), dtype=np.int32)\n",
    "    changed_labels = np.zeros_like(list(changed_src), dtype=np.int32)\n",
    "    for op, i1, i2, j1, j2 in opcodes:\n",
    "        if op == 'insert':\n",
    "            original_labels[i1: i1+1] = 1\n",
    "            changed_labels[j1: j2+1] = 1\n",
    "        else:\n",
    "            original_labels[i1:i2] = 1\n",
    "            changed_labels[j1:j2] = 1\n",
    "\n",
    "    original_labels = original_labels.tolist()\n",
    "    changed_labels = changed_labels.tolist()\n",
    "\n",
    "    display(HTML(f\"<h1>Example {i}</h1>\"))\n",
    "    \n",
    "    display(HTML(\"<h2>The source code that is buggy:\\n</h2>\"))\n",
    "    display(HTML(color_source(original_src, original_labels, color='red')))\n",
    "\n",
    "    display(HTML(\"<h2>The source code that is accepted:\\n</h2>\"))\n",
    "    display(HTML(color_source(changed_src, changed_labels, color='blue')))\n",
    "\n",
    "    display(HTML(\"<h2>The bug that should be assigned to the original_src:\\n</h2>\"))\n",
    "    display(HTML(f\"<pre>{error_class_extra}</pre>\"))\n",
    "\n",
    "for i in range(50):\n",
    "    display_example(i)"
   ]
  }
 ],
 "metadata": {
  "kernelspec": {
   "display_name": "Python 3.7.7 ('BIFI')",
   "language": "python",
   "name": "python3"
  },
  "language_info": {
   "codemirror_mode": {
    "name": "ipython",
    "version": 3
   },
   "file_extension": ".py",
   "mimetype": "text/x-python",
   "name": "python",
   "nbconvert_exporter": "python",
   "pygments_lexer": "ipython3",
   "version": "3.7.13"
  },
  "orig_nbformat": 4,
  "vscode": {
   "interpreter": {
    "hash": "699cf453642fef343da44b2a5c3e41a969001ead79b78845566b860f744f4227"
   }
  }
 },
 "nbformat": 4,
 "nbformat_minor": 2
}
